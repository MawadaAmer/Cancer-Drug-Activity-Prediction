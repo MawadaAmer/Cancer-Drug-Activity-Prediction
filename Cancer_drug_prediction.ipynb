{
  "cells": [
    {
      "cell_type": "markdown",
      "source": [
        "https://www.kaggle.com/competitions/cisc873-dm-f22-a6"
      ],
      "metadata": {
        "id": "1BjwR1CjYNZK"
      }
    },
    {
      "cell_type": "markdown",
      "metadata": {
        "id": "xtuxWrmAvyuK"
      },
      "source": [
        "# **Problem Formulation**"
      ]
    },
    {
      "cell_type": "markdown",
      "metadata": {
        "id": "KQBzJA9Uv-EJ"
      },
      "source": [
        "**Problem:** We want to predict if a chemical compound (positive or negative) is against non-small cell lung cancer or not, and it is a classification problem that produces 0 or 1.\n",
        "\n",
        "**Inputs:** nodes, and edges \n",
        "\n",
        "**Output:** Binary classify produce 1 or 0 according to a chemical compound (positive or negative) with cell lung cancer\n",
        "\n",
        "**Function required:** Classification & Prediction\n",
        "\n",
        "**Challenges:** \n",
        "1. Prepare nodes, labels, and links\n",
        "2. Tokenize and convert data into integer numbers\n",
        "3. Determine suitable model.\n",
        "4. Unbalanced data\n",
        "4. Use validation\n",
        "5. Select optimal hyperparameters.\n",
        "6. Find best accuracy.\n",
        "\n",
        "**What is the impact?**\n",
        "* If the model predicts the drug very well (it is affected by cancer or not)this means we will not wait to know how does the drug affect the cancer, as the model will tell you how does the drug affect the cancer before it is manufactured.\n",
        "\n",
        "**What is the ideal solution?**\n",
        "* The **Trial 3** is the best solution by using **GGNN**.\n",
        "* Accuracy **0.85670** (public) **0.86969** (private) in kaggle\n"
      ]
    },
    {
      "cell_type": "markdown",
      "metadata": {
        "id": "GXCqP67YXVls"
      },
      "source": [
        "# **Trials**"
      ]
    },
    {
      "cell_type": "markdown",
      "metadata": {
        "id": "7opYAnLnap5E"
      },
      "source": [
        "## **Common Commands** in all models"
      ]
    },
    {
      "cell_type": "markdown",
      "metadata": {
        "id": "mHYdmY69XkRt"
      },
      "source": [
        "**What is the experimental protocol used and how was it carried out?** \\\n",
        "1. Read Training and Testing Data \n",
        "2. Visualizing/Inspecting a Sample\n",
        "2. Preprocessing \n",
        "5. Node Tokenizer\n",
        "6. Tuning hyperparameters\n",
        "7. Built model\n",
        "8. Show plot\n",
        "* I used the validation dataset method.\n",
        "\n",
        "**How did we tune hyper-parameters in the template?**\n",
        "- I tried to change the number of epochs, batch_size,max len of vocabulary, and hidden layer size. \n",
        "- I tried to change the layer that is used.\n",
        "- Try and error\n",
        "\n",
        "**What is the search space?**\n",
        " - Search space is specified by the tuning hyper parameters for each parameter.(Try and Error)\n",
        "\n",
        "**what is the criteria to determine good/bad hyper-parameters?**\n",
        "\n",
        " - I define if hyper parameters are good or bad by loss function and performance metric, if the performance improves, that means the hyperparameters are good. If the performance is poor, it means the hyperparameters are bad.\n",
        "\n",
        "\n",
        "**What preprocessing steps are used?**\n",
        "1. Prepare nodes, labels, and links\n",
        "2. Tokenize and convert data into integer numbers\n",
        "3. Padding to tokenize\n",
        "4. Determine the number of nodes in each sample\n",
        "5. Generate multiple batches\n",
        "6. Embedding"
      ]
    },
    {
      "cell_type": "markdown",
      "metadata": {
        "id": "inwm5qPoGMGh"
      },
      "source": [
        "##### Import liberaries"
      ]
    },
    {
      "cell_type": "code",
      "source": [
        "!pip install --quiet networkx\n",
        "!pip install --quiet tf2_gnn"
      ],
      "metadata": {
        "colab": {
          "base_uri": "https://localhost:8080/"
        },
        "id": "vZRgtb2e4xnE",
        "outputId": "577fdcd3-e704-4557-8334-2218c378f696"
      },
      "execution_count": null,
      "outputs": [
        {
          "output_type": "stream",
          "name": "stdout",
          "text": [
            "\u001b[K     |████████████████████████████████| 54 kB 2.7 MB/s \n",
            "\u001b[K     |████████████████████████████████| 73 kB 1.7 MB/s \n",
            "\u001b[K     |████████████████████████████████| 1.2 MB 45.8 MB/s \n",
            "\u001b[K     |████████████████████████████████| 134 kB 51.4 MB/s \n",
            "\u001b[K     |████████████████████████████████| 346 kB 50.5 MB/s \n",
            "\u001b[K     |████████████████████████████████| 462 kB 50.1 MB/s \n",
            "\u001b[K     |████████████████████████████████| 178 kB 46.7 MB/s \n",
            "\u001b[K     |████████████████████████████████| 3.6 MB 41.8 MB/s \n",
            "\u001b[K     |████████████████████████████████| 79 kB 6.6 MB/s \n",
            "\u001b[K     |████████████████████████████████| 85 kB 3.9 MB/s \n",
            "\u001b[K     |████████████████████████████████| 41 kB 520 kB/s \n",
            "\u001b[?25h  Building wheel for tf2-gnn (setup.py) ... \u001b[?25l\u001b[?25hdone\n",
            "\u001b[31mERROR: pip's dependency resolver does not currently take into account all the packages that are installed. This behaviour is the source of the following dependency conflicts.\n",
            "arviz 0.11.4 requires typing-extensions<4,>=3.7.4.3, but you have typing-extensions 4.1.1 which is incompatible.\u001b[0m\n"
          ]
        }
      ]
    },
    {
      "cell_type": "code",
      "execution_count": null,
      "metadata": {
        "id": "kH2rJWewcfbr"
      },
      "outputs": [],
      "source": [
        "import os\n",
        "from google.colab import drive\n",
        "import numpy as np\n",
        "from tqdm.notebook import tqdm\n",
        "from sklearn.model_selection import train_test_split\n",
        "import networkx as nx\n",
        "import matplotlib.pyplot as plt\n",
        "from matplotlib import cm\n",
        "from tensorflow.keras.preprocessing.text import Tokenizer\n",
        "from tensorflow.keras.preprocessing.sequence import pad_sequences\n",
        "import random\n",
        "from tf2_gnn.layers.gnn import GNN, GNNInput\n",
        "import tensorflow as tf\n",
        "from tensorflow.math import segment_mean\n",
        "from tensorflow import keras\n",
        "from tensorflow.keras import Input, Model\n",
        "from tensorflow.keras.layers import Embedding, Dense\n",
        "from tensorflow.keras.optimizers import Adam\n",
        "import math\n",
        "import pandas as pd \n",
        "from sklearn.utils import resample"
      ]
    },
    {
      "cell_type": "code",
      "execution_count": null,
      "metadata": {
        "id": "8NAQFMRUaPwt",
        "colab": {
          "base_uri": "https://localhost:8080/"
        },
        "outputId": "912f9910-d32a-4abd-b18c-c7cf3ec79464"
      },
      "outputs": [
        {
          "output_type": "stream",
          "name": "stdout",
          "text": [
            "Mounted at /content/drive\n"
          ]
        }
      ],
      "source": [
        "#connect to my drive\n",
        "from google.colab import drive\n",
        "drive.mount('/content/drive')"
      ]
    },
    {
      "cell_type": "markdown",
      "metadata": {
        "id": "2ZDj6MYdbJE8"
      },
      "source": [
        "##### Read Training and Testing data"
      ]
    },
    {
      "cell_type": "code",
      "source": [
        "import numpy as np\n",
        "from tqdm.notebook import tqdm\n",
        "\n",
        "def read_sdf(file):\n",
        "  # Open and read the file that contains the nodes and the connection between the nodes\n",
        "    with open(file, 'r') as rf:\n",
        "        content = rf.read()\n",
        "  # After each sample, there are dollar signs\n",
        "  # so it will split between samples by these dollar signs\n",
        "    samples = content.split('$$$$')\n",
        "    \n",
        "    def parse_sample(s):\n",
        "      # split to take each line separately\n",
        "        lines = s.splitlines()\n",
        "        links = []   # empty array for links\n",
        "        nodes = []    #empty array for nodes\n",
        "        label = 0\n",
        "        # this for loop will apply in each lines to extract the label of each sample\n",
        "        # if get 1 in the line will assign 1 to label variable\n",
        "        # if get -1 in the line will assign 0\n",
        "        for l in lines:\n",
        "          # strip used to remove all white space after and before the number( 1, -1)\n",
        "            if l.strip() == '1.0':\n",
        "                label = 1\n",
        "            if l.strip() == '-1.0':\n",
        "                label = 0\n",
        "            # if the line start with tab space it will split this line and put it in feature variable that contains nodes\n",
        "            if l.startswith('    '):\n",
        "                feature = l.split()\n",
        "            # From this line will get fourth col that contains the name of nodes\n",
        "                node = feature[3]\n",
        "                nodes.append(node)\n",
        "            # if the line start with 2 spaces it will split this line and put it in Ink variable that contains the links between nodes\n",
        "            elif l.startswith(' '):\n",
        "                lnk = l.split()\n",
        "                # edge: (from, to,) (1-based index)\n",
        "                if int(lnk[0]) - 1 < len(nodes):\n",
        "                  # We will take the first two numbers from each row(col)\n",
        "                    links.append((\n",
        "                        int(lnk[0])-1, \n",
        "                        int(lnk[1])-1, # zero-based index\n",
        "                        # int(lnk[2]) ignore edge weight\n",
        "                    ))\n",
        "        return nodes, np.array(links), label\n",
        "    \n",
        "    return [parse_sample(s) for s in tqdm(samples) if len(s[0]) > 0]"
      ],
      "metadata": {
        "id": "vE22rtkO9CGc"
      },
      "execution_count": null,
      "outputs": []
    },
    {
      "cell_type": "code",
      "execution_count": null,
      "metadata": {
        "id": "haSjfQKGaTAE",
        "colab": {
          "base_uri": "https://localhost:8080/",
          "height": 49,
          "referenced_widgets": [
            "dec3dcf128ac4831bbfbdfabdbdbf82c",
            "38b3aa1ec9f94641920736a5b9705f8a",
            "4d6e73efdbbd4ca18dd47ac53336422f",
            "74dce70b7c464cc3b517a2264e3b2412",
            "91d9c7820d86466babb2a1415a7a2295",
            "2f2ffa045e1743988686ab84c16eeb42",
            "f6eeda6e03c748599f357159afb7eb46",
            "93a184a4f0b24058a8492f8aa7651550",
            "696a101e41ed46c6a55c4a3f74110200",
            "22e374c20a77444381d6798f9ad09b3b",
            "04a3a03d591e4df68bf507b6f2e4e72f"
          ]
        },
        "outputId": "7f6e7677-79a4-42aa-e7ca-b0bbbe61c3a3"
      },
      "outputs": [
        {
          "output_type": "display_data",
          "data": {
            "text/plain": [
              "  0%|          | 0/25024 [00:00<?, ?it/s]"
            ],
            "application/vnd.jupyter.widget-view+json": {
              "version_major": 2,
              "version_minor": 0,
              "model_id": "dec3dcf128ac4831bbfbdfabdbdbf82c"
            }
          },
          "metadata": {}
        }
      ],
      "source": [
        "# Read all our training data by using read_csv, which takes the path of the file with the extension that I want to read.\n",
        "training_set = read_sdf('/content/drive/MyDrive/Queens_Practical/Data_Mining/compt6/train.sdf')\n"
      ]
    },
    {
      "cell_type": "markdown",
      "source": [
        "###### Imbalanced data"
      ],
      "metadata": {
        "id": "Bb_qivE95Wxv"
      }
    },
    {
      "cell_type": "code",
      "execution_count": null,
      "metadata": {
        "id": "Xl_Iq1A48o7y",
        "colab": {
          "base_uri": "https://localhost:8080/"
        },
        "outputId": "d6ee352a-a7c4-4838-d157-442aec1e9afa"
      },
      "outputs": [
        {
          "output_type": "stream",
          "name": "stderr",
          "text": [
            "/usr/local/lib/python3.7/dist-packages/ipykernel_launcher.py:2: VisibleDeprecationWarning: Creating an ndarray from ragged nested sequences (which is a list-or-tuple of lists-or-tuples-or ndarrays with different lengths or shapes) is deprecated. If you meant to do this, you must specify 'dtype=object' when creating the ndarray.\n",
            "  \n"
          ]
        },
        {
          "output_type": "execute_result",
          "data": {
            "text/plain": [
              "(array([0, 1], dtype=object), array([23806,  1218]))"
            ]
          },
          "metadata": {},
          "execution_count": 8
        }
      ],
      "source": [
        "# Display number of unique value that exist in training data to determine if there is a balance or imbalance data \n",
        "np.unique(np.array(training_set)[:,2],return_counts=True)"
      ]
    },
    {
      "cell_type": "code",
      "source": [
        "X_train = pd.DataFrame(np.array(training_set)[:,:-1])\n",
        "y_train = pd.DataFrame(np.array(training_set)[:,2])"
      ],
      "metadata": {
        "colab": {
          "base_uri": "https://localhost:8080/"
        },
        "id": "V5DyuwZVNj90",
        "outputId": "764b1d89-7171-42c2-c0e5-d1be57a8357d"
      },
      "execution_count": null,
      "outputs": [
        {
          "output_type": "stream",
          "name": "stderr",
          "text": [
            "/usr/local/lib/python3.7/dist-packages/ipykernel_launcher.py:1: VisibleDeprecationWarning: Creating an ndarray from ragged nested sequences (which is a list-or-tuple of lists-or-tuples-or ndarrays with different lengths or shapes) is deprecated. If you meant to do this, you must specify 'dtype=object' when creating the ndarray.\n",
            "  \"\"\"Entry point for launching an IPython kernel.\n",
            "/usr/local/lib/python3.7/dist-packages/ipykernel_launcher.py:2: VisibleDeprecationWarning: Creating an ndarray from ragged nested sequences (which is a list-or-tuple of lists-or-tuples-or ndarrays with different lengths or shapes) is deprecated. If you meant to do this, you must specify 'dtype=object' when creating the ndarray.\n",
            "  \n"
          ]
        }
      ]
    },
    {
      "cell_type": "code",
      "source": [
        "X_train_res= X_train.copy()\n",
        "X_train_res[2]=y_train.values\n",
        "label_1=X_train_res[X_train_res[2]==1]\n",
        "label_0=X_train_res[X_train_res[2]==0]\n",
        "label_1_res = resample(label_1,\n",
        "             replace=True,\n",
        "             n_samples=23806,\n",
        "             random_state=42)\n",
        "concatinate_data=pd.concat([label_0,label_1_res])\n",
        "print(concatinate_data.shape)"
      ],
      "metadata": {
        "colab": {
          "base_uri": "https://localhost:8080/"
        },
        "id": "u163RdueKwpu",
        "outputId": "78f6a305-b102-402f-bb81-8e630072911e"
      },
      "execution_count": null,
      "outputs": [
        {
          "output_type": "stream",
          "name": "stdout",
          "text": [
            "(47612, 3)\n"
          ]
        }
      ]
    },
    {
      "cell_type": "code",
      "source": [
        "training_set=concatinate_data.values.tolist()"
      ],
      "metadata": {
        "id": "fUchnGnsPSfR"
      },
      "execution_count": null,
      "outputs": []
    },
    {
      "cell_type": "code",
      "source": [
        "# Display number of unique value that exist in training data to determine if there is a balance or imbalance data \n",
        "np.unique(np.array(training_set)[:,2],return_counts=True)"
      ],
      "metadata": {
        "colab": {
          "base_uri": "https://localhost:8080/"
        },
        "id": "LnowqY21PjcP",
        "outputId": "0b5d39f4-acac-41b0-bf19-a1562791db19"
      },
      "execution_count": null,
      "outputs": [
        {
          "output_type": "stream",
          "name": "stderr",
          "text": [
            "/usr/local/lib/python3.7/dist-packages/ipykernel_launcher.py:2: VisibleDeprecationWarning: Creating an ndarray from ragged nested sequences (which is a list-or-tuple of lists-or-tuples-or ndarrays with different lengths or shapes) is deprecated. If you meant to do this, you must specify 'dtype=object' when creating the ndarray.\n",
            "  \n"
          ]
        },
        {
          "output_type": "execute_result",
          "data": {
            "text/plain": [
              "(array([0, 1], dtype=object), array([23806, 23806]))"
            ]
          },
          "metadata": {},
          "execution_count": 12
        }
      ]
    },
    {
      "cell_type": "code",
      "source": [
        "# split training data into training and validation data\n",
        "training_set, validation_set = train_test_split(training_set, test_size=0.15,random_state=0)"
      ],
      "metadata": {
        "id": "Akc-Q8zjPs_-"
      },
      "execution_count": null,
      "outputs": []
    },
    {
      "cell_type": "code",
      "execution_count": null,
      "metadata": {
        "id": "1uSmq39rabjY",
        "colab": {
          "base_uri": "https://localhost:8080/",
          "referenced_widgets": [
            "0b2e9c9a4e014b3cbc32892dbe58c145",
            "3621d3e098b6491eb0d87bb00c6e994d",
            "9704f013a22d443cbcb56f8809591499",
            "4632a8ba6da5468c9f27ce8f09198124",
            "054f170a98a24827949aafab07a65d50",
            "a5b30f59c5de4ee1be2d018775a5a063",
            "037853dd158b439e937b931438178337",
            "2025533d7306455bb4e00e8b5f6f16a7",
            "f34655e3b4d341aa9b435502b457451d",
            "7b54709e3e5948ef917971161c9c0dc1",
            "5aa8751c45134214bef465ce36c2b8d9"
          ]
        },
        "outputId": "0d50d1ca-d495-4b52-ab14-41ca5600329a"
      },
      "outputs": [
        {
          "output_type": "display_data",
          "data": {
            "text/plain": [
              "  0%|          | 0/12326 [00:00<?, ?it/s]"
            ],
            "application/vnd.jupyter.widget-view+json": {
              "version_major": 2,
              "version_minor": 0,
              "model_id": "0b2e9c9a4e014b3cbc32892dbe58c145"
            }
          },
          "metadata": {}
        }
      ],
      "source": [
        "# Read all our testing data by using read_csv, which takes the path of the file with the extension that I want to read.\n",
        "testing_set  = read_sdf('/content/drive/MyDrive/Queens_Practical/Data_Mining/compt6/test_x.sdf')"
      ]
    },
    {
      "cell_type": "markdown",
      "source": [
        "### Visualizing/Inspecting a Sample"
      ],
      "metadata": {
        "id": "UIHffZYY5aOD"
      }
    },
    {
      "cell_type": "code",
      "source": [
        "# rainbow function used to draw with colors\n",
        "colors = cm.rainbow(np.linspace(0, 1, 50))"
      ],
      "metadata": {
        "id": "L0Xq_wcz5laH"
      },
      "execution_count": null,
      "outputs": []
    },
    {
      "cell_type": "code",
      "source": [
        "# The visualise function is used to visualise the data\n",
        "def visualize(sample):\n",
        "  # Graph is a collection of nodes along with identified pairs of nodes (node and links)\n",
        "    G=nx.Graph()\n",
        "    nodes = sample[0] # nodes\n",
        "    edges = sample[1]  # connection between nodes(edges)\n",
        "    \n",
        "    labeldict={}  # Labels for the nodes are stored in an empty dictionary.\n",
        "    node_color=[]   # list for node's color\n",
        "    for i,n in enumerate(nodes):\n",
        "        G.add_node(i)\n",
        "        labeldict[i]=n\n",
        "        node_color.append(colors[hash(n)%len(colors)])\n",
        "\n",
        "    # a list of nodes:\n",
        "    for e in edges:\n",
        "        G.add_edge(e[0], e[1])\n",
        "    #drawing the graph with nodes and edges  \n",
        "    nx.draw(G, labels=labeldict, with_labels = True, node_color = node_color)\n",
        "    plt.show()\n",
        "    \n",
        "    return G"
      ],
      "metadata": {
        "id": "KOZVnodX5lcd"
      },
      "execution_count": null,
      "outputs": []
    },
    {
      "cell_type": "code",
      "source": [
        "# show one sample\n",
        "plt.clf()\n",
        "visualize(training_set[0])"
      ],
      "metadata": {
        "colab": {
          "base_uri": "https://localhost:8080/",
          "height": 336
        },
        "id": "ko8yY3OL5le7",
        "outputId": "2829be23-2c88-4c42-d365-081a687e2e9b"
      },
      "execution_count": null,
      "outputs": [
        {
          "output_type": "display_data",
          "data": {
            "text/plain": [
              "<Figure size 432x288 with 1 Axes>"
            ],
            "image/png": "[encoded data removed]"
          },
          "metadata": {}
        },
        {
          "output_type": "execute_result",
          "data": {
            "text/plain": [
              "<networkx.classes.graph.Graph at 0x7fcd45ee5810>"
            ]
          },
          "metadata": {},
          "execution_count": 17
        }
      ]
    },
    {
      "cell_type": "code",
      "source": [
        "print('length of training_set:', len(training_set))\n",
        "# training data have 3 values (nodes, labels, and links)\n",
        "print('length of traiing_set[0]:', len(training_set[0]))\n",
        "print('length of testing_set:', len(testing_set))\n",
        "# training data have 3 values (nodes, labels(but all labels have value equal zerooo), and links)\n",
        "print('length of testing_set[0]:', len(testing_set[0]))"
      ],
      "metadata": {
        "colab": {
          "base_uri": "https://localhost:8080/"
        },
        "id": "YQ8rbkoj5lhd",
        "outputId": "34502a79-6ef4-43b6-e45d-1b7872a3e3d8"
      },
      "execution_count": null,
      "outputs": [
        {
          "output_type": "stream",
          "name": "stdout",
          "text": [
            "length of training_set: 40470\n",
            "length of traiing_set[0]: 3\n",
            "length of testing_set: 12326\n",
            "length of testing_set[0]: 3\n"
          ]
        }
      ]
    },
    {
      "cell_type": "markdown",
      "metadata": {
        "id": "gBKM7B8LDl4R"
      },
      "source": [
        "## **Trials**"
      ]
    },
    {
      "cell_type": "markdown",
      "metadata": {
        "id": "WfzDqPRcDtty"
      },
      "source": [
        "### **Trial 0**"
      ]
    },
    {
      "cell_type": "markdown",
      "metadata": {
        "id": "3Y0oQAieGUrA"
      },
      "source": [
        "* In this trial I will use:\n",
        " * I will use **unbalanced** data\n",
        " * Preprocessing\n",
        "   * **max_vocab = 500**\n",
        "   * Prepare nodes, labels, and links\n",
        "   * Tokenize and convert data into integer numbers\n",
        "   * Padding to tokenize\n",
        "   * Generate multiple batches\n",
        "   * Embedding \n",
        "  * Model\n",
        "   * Layers\n",
        "      * I will use GNN as an input \n",
        "      * GNN layer\n",
        "          * Hyper parameters\n",
        "            * I will use default hyper parameters\n",
        "            * **hidden_dim = 32** \n",
        "      * Average layer\n",
        "      * Dense layer with sigmoid activation function\n",
        "   * Compile the model using AUC curve\n",
        "   * Fit the model using **epoch = 50** and batch_size = 16\n",
        "   * Predict the model\n",
        "\n",
        "**My thoughts and observations :** The accuracy would be between 0.70 and 0.73"
      ]
    },
    {
      "cell_type": "markdown",
      "metadata": {
        "id": "FUNKxyseA-_E"
      },
      "source": [
        "#### Preprocessing"
      ]
    },
    {
      "cell_type": "code",
      "source": [
        "max_vocab = 500\n",
        "max_len = 100\n",
        "\n",
        "# build vocabulary from training set\n",
        "all_nodes = [s[0] for s in training_set]\n",
        "# we use tokenizer as the data contain letters that need to tokenize\n",
        "tokenizer = Tokenizer(num_words=max_vocab)\n",
        "# fit_on_texts used to updates internal vocabulary based on a list of texts\n",
        "tokenizer.fit_on_texts(all_nodes)"
      ],
      "metadata": {
        "id": "xsNyKphpoGoB"
      },
      "execution_count": null,
      "outputs": []
    },
    {
      "cell_type": "code",
      "source": [
        "\n",
        "def prepare_single_batch(samples):\n",
        "  # samples return 3 values nodes, labels, and links so we will take node only\n",
        "    sample_nodes = [s[0] for s in samples]\n",
        "    # texts_to_sequences used to transforms each text in texts to a sequence of integers\n",
        "    sample_nodes = tokenizer.texts_to_sequences(sample_nodes)\n",
        "    # put padding to tokenizers\n",
        "    sample_nodes = pad_sequences(sample_nodes, padding='post')\n",
        "\n",
        "    # max_nodes_len to know the number of nodes in each sample\n",
        "    max_nodes_len = np.shape(sample_nodes)[1]                           #shape: (num of samples, number of nodes)\n",
        "    edges = [s[1]+i*max_nodes_len for i,s in enumerate(samples)]        #s[1]: links, i*max_nodes_len: to start indexing from current node not from 0 again\n",
        "    edges = [e for e in edges if len(e) > 0]                          #make sure all elements(edges) are non-zero\n",
        "    # takes order of graph and multiply by max number of nodes\n",
        "    node_to_graph = [[i]*max_nodes_len for i in range(len(samples))]\n",
        "\n",
        "    \n",
        "    # put all nodes and edges with each other in 1D array\n",
        "    all_nodes = np.reshape(sample_nodes, -1)      #concatenate nodes of all samples together\n",
        "    all_edges = np.concatenate(edges)             #concatenate edges of all samples together (because edge is tuple, doesnt hae reshape, output is 2D)\n",
        "\n",
        "    node_to_graph = np.reshape(node_to_graph, -1)\n",
        "    return {\n",
        "        'data': all_nodes,\n",
        "        'edges': all_edges,\n",
        "        'node2grah': node_to_graph,\n",
        "    }, np.array([s[2] for s in samples])\n",
        "\n",
        "\n",
        "# gen_batch this function used to generate multiple batches by calling prepare_single_batch function\n",
        "def gen_batch(dataset, batch_size=16, repeat=False, shuffle=True):\n",
        "    while True:\n",
        "        dataset = list(dataset)\n",
        "        if shuffle:\n",
        "            random.shuffle(dataset)\n",
        "        l = len(dataset)\n",
        "        for ndx in range(0, l, batch_size):\n",
        "            batch_samples = dataset[ndx:min(ndx + batch_size, l)]\n",
        "            yield prepare_single_batch(batch_samples)\n",
        "        if not repeat:\n",
        "            break\n"
      ],
      "metadata": {
        "id": "5Ofc1KZE67tv"
      },
      "execution_count": null,
      "outputs": []
    },
    {
      "cell_type": "code",
      "source": [
        "# showing one batch:\n",
        "# batch_size put on it the number of samples that i want to be in one batch\n",
        "for train_batch in gen_batch(training_set, batch_size=4):\n",
        "    for k,v in train_batch[0].items():          #k: labels, v: values\n",
        "        print(k)\n",
        "        print(v)\n",
        "        #print(len(v))\n",
        "        pass\n",
        "    print('label', train_batch[1])\n",
        "    break\n",
        "\n"
      ],
      "metadata": {
        "colab": {
          "base_uri": "https://localhost:8080/"
        },
        "id": "5fz9-ooS67wb",
        "outputId": "166358a7-a236-4051-a82b-a2666fe0d8f9"
      },
      "execution_count": null,
      "outputs": [
        {
          "output_type": "stream",
          "name": "stdout",
          "text": [
            "data\n",
            "[2 2 2 2 3 3 3 3 1 1 1 1 1 1 1 1 1 1 1 1 1 1 1 1 0 0 5 2 2 3 3 3 3 1 1 1 1\n",
            " 1 1 1 1 1 1 1 1 0 0 0 0 0 0 0 4 2 2 3 3 1 1 1 1 1 1 1 1 1 1 1 1 1 1 1 1 1\n",
            " 1 1 1 1 4 4 2 3 3 1 1 1 1 1 1 1 1 1 1 1 1 1 1 1 1 1 1 1 0 0]\n",
            "edges\n",
            "[[  0   9]\n",
            " [  1  11]\n",
            " [  2  12]\n",
            " [  3  13]\n",
            " [  4   6]\n",
            " [  4   8]\n",
            " [  4   9]\n",
            " [  5   7]\n",
            " [  5   9]\n",
            " [  5  11]\n",
            " [  6  12]\n",
            " [  6  13]\n",
            " [  7   8]\n",
            " [  8  10]\n",
            " [ 10  14]\n",
            " [ 11  17]\n",
            " [ 12  18]\n",
            " [ 13  19]\n",
            " [ 14  15]\n",
            " [ 14  16]\n",
            " [ 15  20]\n",
            " [ 16  21]\n",
            " [ 20  22]\n",
            " [ 21  22]\n",
            " [ 22  23]\n",
            " [ 26  41]\n",
            " [ 27  34]\n",
            " [ 28  37]\n",
            " [ 29  32]\n",
            " [ 29  33]\n",
            " [ 29  34]\n",
            " [ 30  31]\n",
            " [ 30  34]\n",
            " [ 30  38]\n",
            " [ 31  33]\n",
            " [ 32  37]\n",
            " [ 33  35]\n",
            " [ 35  36]\n",
            " [ 36  39]\n",
            " [ 36  40]\n",
            " [ 37  44]\n",
            " [ 39  42]\n",
            " [ 40  43]\n",
            " [ 41  42]\n",
            " [ 41  43]\n",
            " [ 52  59]\n",
            " [ 52  70]\n",
            " [ 53  62]\n",
            " [ 53  71]\n",
            " [ 54  63]\n",
            " [ 54  73]\n",
            " [ 55  58]\n",
            " [ 55  61]\n",
            " [ 56  72]\n",
            " [ 56  74]\n",
            " [ 56  75]\n",
            " [ 57  58]\n",
            " [ 57  59]\n",
            " [ 57  62]\n",
            " [ 58  63]\n",
            " [ 59  60]\n",
            " [ 60  61]\n",
            " [ 60  66]\n",
            " [ 61  67]\n",
            " [ 62  64]\n",
            " [ 63  65]\n",
            " [ 64  65]\n",
            " [ 66  68]\n",
            " [ 67  69]\n",
            " [ 68  69]\n",
            " [ 70  72]\n",
            " [ 74  76]\n",
            " [ 75  77]\n",
            " [ 78  83]\n",
            " [ 78  85]\n",
            " [ 79  88]\n",
            " [ 79 101]\n",
            " [ 80  86]\n",
            " [ 81  89]\n",
            " [ 81  92]\n",
            " [ 82  90]\n",
            " [ 82  91]\n",
            " [ 83  84]\n",
            " [ 83  88]\n",
            " [ 84  89]\n",
            " [ 84  93]\n",
            " [ 85  86]\n",
            " [ 85  91]\n",
            " [ 86  87]\n",
            " [ 87  90]\n",
            " [ 87  95]\n",
            " [ 88  92]\n",
            " [ 89  94]\n",
            " [ 90  96]\n",
            " [ 93  97]\n",
            " [ 94  98]\n",
            " [ 95  99]\n",
            " [ 96 100]\n",
            " [ 97  98]\n",
            " [ 99 100]]\n",
            "node2grah\n",
            "[0 0 0 0 0 0 0 0 0 0 0 0 0 0 0 0 0 0 0 0 0 0 0 0 0 0 1 1 1 1 1 1 1 1 1 1 1\n",
            " 1 1 1 1 1 1 1 1 1 1 1 1 1 1 1 2 2 2 2 2 2 2 2 2 2 2 2 2 2 2 2 2 2 2 2 2 2\n",
            " 2 2 2 2 3 3 3 3 3 3 3 3 3 3 3 3 3 3 3 3 3 3 3 3 3 3 3 3 3 3]\n",
            "label [0 0 0 0]\n"
          ]
        }
      ]
    },
    {
      "cell_type": "markdown",
      "metadata": {
        "id": "mw3_7Ecz5tYd"
      },
      "source": [
        "#### Model"
      ]
    },
    {
      "cell_type": "code",
      "execution_count": null,
      "metadata": {
        "id": "keAY9lmG5ux7",
        "colab": {
          "base_uri": "https://localhost:8080/"
        },
        "outputId": "9ad1b94b-f31a-4a53-a08e-144f499fbeb1"
      },
      "outputs": [
        {
          "output_type": "stream",
          "name": "stdout",
          "text": [
            "gnn_out KerasTensor(type_spec=TensorSpec(shape=(None, 32), dtype=tf.float32, name=None), name='gnn/StatefulPartitionedCall:0', description=\"created by layer 'gnn'\")\n",
            "mean: KerasTensor(type_spec=TensorSpec(shape=(None, 32), dtype=tf.float32, name=None), name='tf.math.segment_mean/SegmentMean:0', description=\"created by layer 'tf.math.segment_mean'\")\n",
            "pred: KerasTensor(type_spec=TensorSpec(shape=(None, 1), dtype=tf.float32, name=None), name='dense/Sigmoid:0', description=\"created by layer 'dense'\")\n",
            "Model: \"model\"\n",
            "__________________________________________________________________________________________________\n",
            " Layer (type)                   Output Shape         Param #     Connected to                     \n",
            "==================================================================================================\n",
            " input_3 (InputLayer)           [(None,)]            0           []                               \n",
            "                                                                                                  \n",
            " input_1 (InputLayer)           [(None,)]            0           []                               \n",
            "                                                                                                  \n",
            " tf.math.reduce_max (TFOpLambda  ()                  0           ['input_3[0][0]']                \n",
            " )                                                                                                \n",
            "                                                                                                  \n",
            " embedding (Embedding)          (None, 20)           10000       ['input_1[0][0]']                \n",
            "                                                                                                  \n",
            " input_2 (InputLayer)           [(None, 2)]          0           []                               \n",
            "                                                                                                  \n",
            " tf.__operators__.add (TFOpLamb  ()                  0           ['tf.math.reduce_max[0][0]']     \n",
            " da)                                                                                              \n",
            "                                                                                                  \n",
            " gnn (GNN)                      (None, 32)           22464       ['embedding[0][0]',              \n",
            "                                                                  'input_2[0][0]',                \n",
            "                                                                  'input_3[0][0]',                \n",
            "                                                                  'tf.__operators__.add[0][0]']   \n",
            "                                                                                                  \n",
            " tf.math.segment_mean (TFOpLamb  (None, 32)          0           ['gnn[0][0]',                    \n",
            " da)                                                              'input_3[0][0]']                \n",
            "                                                                                                  \n",
            " dense (Dense)                  (None, 1)            33          ['tf.math.segment_mean[0][0]']   \n",
            "                                                                                                  \n",
            "==================================================================================================\n",
            "Total params: 32,497\n",
            "Trainable params: 32,497\n",
            "Non-trainable params: 0\n",
            "__________________________________________________________________________________________________\n"
          ]
        }
      ],
      "source": [
        "data = keras.Input(batch_shape=(None,))\n",
        "\n",
        "# the first dim is different to the previous one. it is the total number of edges in this batch\n",
        "edge = keras.Input(batch_shape=(None, 2), dtype=tf.int32)     #edge is 2D\n",
        "node2graph = keras.Input(batch_shape=(None,), dtype=tf.int32)\n",
        "embeded = Embedding(tokenizer.num_words, 20)(data) # embedding data\n",
        "\n",
        "# number of graphs (number of samples)\n",
        "num_graph = tf.reduce_max(node2graph)+1\n",
        "\n",
        "gnn_input = GNNInput(\n",
        "    node_features=embeded, # nodes after embedding\n",
        "    adjacency_lists=(edge,),\n",
        "    node_to_graph_map=node2graph, \n",
        "    num_graphs=num_graph, # number of samples\n",
        ")\n",
        "# Tuning hyper parameters\n",
        "params = GNN.get_default_hyperparameters()\n",
        "params[\"hidden_dim\"] = 32\n",
        "gnn_layer = GNN(params)\n",
        "gnn_out = gnn_layer(gnn_input)\n",
        "\n",
        "print('gnn_out', gnn_out)\n",
        "\n",
        "avg = segment_mean(  # Average layer (segment_mea is used to get the mean of elements in segments of a tensor)\n",
        "    data=gnn_out,\n",
        "    segment_ids=node2graph\n",
        ")\n",
        "print('mean:', avg)\n",
        "\n",
        "pred = Dense(1, activation='sigmoid')(avg)        #binary classification: Dense(2), but here we only output 1 probability\n",
        "print('pred:', pred)\n",
        "\n",
        "model = Model(\n",
        "    inputs={\n",
        "        'data': data,\n",
        "        'edges': edge,\n",
        "        'node2grah': node2graph,\n",
        "    },\n",
        "    outputs=pred\n",
        ")\n",
        "model.summary()"
      ]
    },
    {
      "cell_type": "code",
      "execution_count": null,
      "metadata": {
        "id": "YjDHpkzI5u0z"
      },
      "outputs": [],
      "source": [
        "model.compile(\n",
        "    loss='BinaryCrossentropy',\n",
        "    metrics=['AUC']\n",
        ")"
      ]
    },
    {
      "cell_type": "code",
      "source": [
        "batch_size = 16\n",
        "# ceil function returns a ceiling value\n",
        "num_batchs = math.ceil(len(training_set) / batch_size)\n",
        "num_batchs_validation = math.ceil(len(validation_set) / batch_size)\n",
        "# Training the model with batch size = 16 and epochs 50\n",
        "history=model.fit(\n",
        "    gen_batch(\n",
        "        training_set, batch_size=batch_size, repeat=True\n",
        "    ),\n",
        "    steps_per_epoch=num_batchs,\n",
        "    epochs=50,\n",
        "    validation_data=gen_batch(\n",
        "        validation_set, batch_size=16, repeat=True\n",
        "    ),\n",
        "    validation_steps=num_batchs_validation,\n",
        ")"
      ],
      "metadata": {
        "id": "7nN_0YOAAQD1",
        "colab": {
          "base_uri": "https://localhost:8080/"
        },
        "outputId": "a97d61eb-fcf8-476d-dfe0-a7ed9ee1bdc2"
      },
      "execution_count": null,
      "outputs": [
        {
          "output_type": "stream",
          "name": "stdout",
          "text": [
            "Epoch 1/50\n",
            "1330/1330 [==============================] - 28s 21ms/step - loss: 0.1856 - auc: 0.6800 - val_loss: 0.1829 - val_auc: 0.7384\n",
            "Epoch 2/50\n",
            "1330/1330 [==============================] - 26s 19ms/step - loss: 0.1863 - auc: 0.6794 - val_loss: 0.1809 - val_auc: 0.7438\n",
            "Epoch 3/50\n",
            "1330/1330 [==============================] - 25s 19ms/step - loss: 0.1874 - auc: 0.6679 - val_loss: 0.1897 - val_auc: 0.7498\n",
            "Epoch 4/50\n",
            "1330/1330 [==============================] - 25s 19ms/step - loss: 0.1866 - auc: 0.6713 - val_loss: 0.1871 - val_auc: 0.7383\n",
            "Epoch 5/50\n",
            "1330/1330 [==============================] - 28s 21ms/step - loss: 0.1891 - auc: 0.6504 - val_loss: 0.1931 - val_auc: 0.6644\n",
            "Epoch 6/50\n",
            "1330/1330 [==============================] - 32s 24ms/step - loss: 0.1877 - auc: 0.6396 - val_loss: 0.2036 - val_auc: 0.5824\n",
            "Epoch 7/50\n",
            "1330/1330 [==============================] - 29s 22ms/step - loss: 0.1890 - auc: 0.6229 - val_loss: 0.1909 - val_auc: 0.7017\n",
            "Epoch 8/50\n",
            "1330/1330 [==============================] - 32s 24ms/step - loss: 0.1861 - auc: 0.6486 - val_loss: 0.1830 - val_auc: 0.7198\n",
            "Epoch 9/50\n",
            "1330/1330 [==============================] - 27s 20ms/step - loss: 0.1867 - auc: 0.6512 - val_loss: 0.2230 - val_auc: 0.4578\n",
            "Epoch 10/50\n",
            "1330/1330 [==============================] - 25s 19ms/step - loss: 0.1875 - auc: 0.6384 - val_loss: 0.1840 - val_auc: 0.7264\n",
            "Epoch 11/50\n",
            "1330/1330 [==============================] - 30s 23ms/step - loss: 0.1854 - auc: 0.6478 - val_loss: 0.1986 - val_auc: 0.6390\n",
            "Epoch 12/50\n",
            "1330/1330 [==============================] - 28s 21ms/step - loss: 0.1849 - auc: 0.6559 - val_loss: 0.1828 - val_auc: 0.7147\n",
            "Epoch 13/50\n",
            "1330/1330 [==============================] - 25s 19ms/step - loss: 0.1829 - auc: 0.6729 - val_loss: 0.1857 - val_auc: 0.6966\n",
            "Epoch 14/50\n",
            "1330/1330 [==============================] - 25s 19ms/step - loss: 0.1828 - auc: 0.6646 - val_loss: 0.1921 - val_auc: 0.7067\n",
            "Epoch 15/50\n",
            "1330/1330 [==============================] - 25s 19ms/step - loss: 0.1849 - auc: 0.6619 - val_loss: 0.2019 - val_auc: 0.6654\n",
            "Epoch 16/50\n",
            "1330/1330 [==============================] - 28s 21ms/step - loss: 0.1823 - auc: 0.6783 - val_loss: 0.1793 - val_auc: 0.7538\n",
            "Epoch 17/50\n",
            "1330/1330 [==============================] - 25s 19ms/step - loss: 0.1786 - auc: 0.6968 - val_loss: 0.1850 - val_auc: 0.7465\n",
            "Epoch 18/50\n",
            "1330/1330 [==============================] - 26s 19ms/step - loss: 0.1784 - auc: 0.7027 - val_loss: 0.1912 - val_auc: 0.6735\n",
            "Epoch 19/50\n",
            "1330/1330 [==============================] - 27s 20ms/step - loss: 0.1779 - auc: 0.6964 - val_loss: 0.1892 - val_auc: 0.7242\n",
            "Epoch 20/50\n",
            "1330/1330 [==============================] - 27s 20ms/step - loss: 0.1804 - auc: 0.6960 - val_loss: 0.1976 - val_auc: 0.6950\n",
            "Epoch 21/50\n",
            "1330/1330 [==============================] - 25s 19ms/step - loss: 0.1780 - auc: 0.7019 - val_loss: 0.1765 - val_auc: 0.7626\n",
            "Epoch 22/50\n",
            "1330/1330 [==============================] - 25s 19ms/step - loss: 0.1791 - auc: 0.6933 - val_loss: 0.1894 - val_auc: 0.7370\n",
            "Epoch 23/50\n",
            "1330/1330 [==============================] - 25s 19ms/step - loss: 0.1793 - auc: 0.6904 - val_loss: 0.1834 - val_auc: 0.7222\n",
            "Epoch 24/50\n",
            "1330/1330 [==============================] - 25s 19ms/step - loss: 0.1797 - auc: 0.6950 - val_loss: 0.1847 - val_auc: 0.6950\n",
            "Epoch 25/50\n",
            "1330/1330 [==============================] - 25s 19ms/step - loss: 0.1804 - auc: 0.6963 - val_loss: 0.2175 - val_auc: 0.6669\n",
            "Epoch 26/50\n",
            "1330/1330 [==============================] - 26s 19ms/step - loss: 0.1792 - auc: 0.6870 - val_loss: 0.1747 - val_auc: 0.7438\n",
            "Epoch 27/50\n",
            "1330/1330 [==============================] - 27s 20ms/step - loss: 0.1778 - auc: 0.7077 - val_loss: 0.1912 - val_auc: 0.7459\n",
            "Epoch 28/50\n",
            "1330/1330 [==============================] - 27s 20ms/step - loss: 0.1777 - auc: 0.7053 - val_loss: 0.1826 - val_auc: 0.7457\n",
            "Epoch 29/50\n",
            "1330/1330 [==============================] - 26s 19ms/step - loss: 0.1775 - auc: 0.7044 - val_loss: 0.1925 - val_auc: 0.7282\n",
            "Epoch 30/50\n",
            "1330/1330 [==============================] - 25s 19ms/step - loss: 0.1774 - auc: 0.7093 - val_loss: 0.1685 - val_auc: 0.7467\n",
            "Epoch 31/50\n",
            "1330/1330 [==============================] - 26s 19ms/step - loss: 0.1768 - auc: 0.7110 - val_loss: 0.1824 - val_auc: 0.7710\n",
            "Epoch 32/50\n",
            "1330/1330 [==============================] - 26s 20ms/step - loss: 0.1761 - auc: 0.7143 - val_loss: 0.1771 - val_auc: 0.7603\n",
            "Epoch 33/50\n",
            "1330/1330 [==============================] - 27s 20ms/step - loss: 0.1775 - auc: 0.7160 - val_loss: 0.1708 - val_auc: 0.7619\n",
            "Epoch 34/50\n",
            "1330/1330 [==============================] - 27s 20ms/step - loss: 0.1752 - auc: 0.7179 - val_loss: 0.1839 - val_auc: 0.7613\n",
            "Epoch 35/50\n",
            "1330/1330 [==============================] - 26s 20ms/step - loss: 0.1777 - auc: 0.7104 - val_loss: 0.1859 - val_auc: 0.7241\n",
            "Epoch 36/50\n",
            "1330/1330 [==============================] - 26s 20ms/step - loss: 0.1767 - auc: 0.7086 - val_loss: 0.1824 - val_auc: 0.7026\n",
            "Epoch 37/50\n",
            "1330/1330 [==============================] - 26s 20ms/step - loss: 0.1792 - auc: 0.6981 - val_loss: 0.1963 - val_auc: 0.7348\n",
            "Epoch 38/50\n",
            "1330/1330 [==============================] - 26s 20ms/step - loss: 0.1793 - auc: 0.6991 - val_loss: 0.1911 - val_auc: 0.6934\n",
            "Epoch 39/50\n",
            "1330/1330 [==============================] - 26s 19ms/step - loss: 0.1797 - auc: 0.6960 - val_loss: 0.1875 - val_auc: 0.7256\n",
            "Epoch 40/50\n",
            "1330/1330 [==============================] - 26s 20ms/step - loss: 0.1779 - auc: 0.7058 - val_loss: 0.1765 - val_auc: 0.7281\n",
            "Epoch 41/50\n",
            "1330/1330 [==============================] - 26s 20ms/step - loss: 0.1769 - auc: 0.7023 - val_loss: 0.1841 - val_auc: 0.7414\n",
            "Epoch 42/50\n",
            "1330/1330 [==============================] - 35s 27ms/step - loss: 0.1775 - auc: 0.7103 - val_loss: 0.1814 - val_auc: 0.7193\n",
            "Epoch 43/50\n",
            "1330/1330 [==============================] - 30s 22ms/step - loss: 0.1768 - auc: 0.7103 - val_loss: 0.1846 - val_auc: 0.7397\n",
            "Epoch 44/50\n",
            "1330/1330 [==============================] - 26s 20ms/step - loss: 0.1777 - auc: 0.7151 - val_loss: 0.1840 - val_auc: 0.7401\n",
            "Epoch 45/50\n",
            "1330/1330 [==============================] - 27s 20ms/step - loss: 0.1762 - auc: 0.7164 - val_loss: 0.1749 - val_auc: 0.7643\n",
            "Epoch 46/50\n",
            "1330/1330 [==============================] - 27s 21ms/step - loss: 0.1780 - auc: 0.7074 - val_loss: 0.1846 - val_auc: 0.7295\n",
            "Epoch 47/50\n",
            "1330/1330 [==============================] - 27s 20ms/step - loss: 0.1775 - auc: 0.7128 - val_loss: 0.1857 - val_auc: 0.7589\n",
            "Epoch 48/50\n",
            "1330/1330 [==============================] - 27s 20ms/step - loss: 0.1769 - auc: 0.7120 - val_loss: 0.1849 - val_auc: 0.7511\n",
            "Epoch 49/50\n",
            "1330/1330 [==============================] - 28s 21ms/step - loss: 0.1769 - auc: 0.7225 - val_loss: 0.1723 - val_auc: 0.7425\n",
            "Epoch 50/50\n",
            "1330/1330 [==============================] - 27s 20ms/step - loss: 0.1770 - auc: 0.7193 - val_loss: 0.1956 - val_auc: 0.7614\n"
          ]
        }
      ]
    },
    {
      "cell_type": "code",
      "source": [
        "# predict function is used to enable us to predict the labels of the data values on the basis of the trained model.\n",
        "y_pred = model.predict(\n",
        "    gen_batch(testing_set, batch_size=16, shuffle=False)\n",
        ")\n",
        "# repahe to get the first col only\n",
        "y_pred = np.reshape(y_pred, -1)\n",
        "y_pred.shape"
      ],
      "metadata": {
        "colab": {
          "base_uri": "https://localhost:8080/"
        },
        "id": "m637qiy17VHw",
        "outputId": "9a7ecca6-5891-4aaa-dc71-204b9e0946f8"
      },
      "execution_count": null,
      "outputs": [
        {
          "output_type": "execute_result",
          "data": {
            "text/plain": [
              "(12326,)"
            ]
          },
          "metadata": {},
          "execution_count": 34
        }
      ]
    },
    {
      "cell_type": "code",
      "source": [
        "y_pred"
      ],
      "metadata": {
        "colab": {
          "base_uri": "https://localhost:8080/"
        },
        "id": "v453ie1f7XTa",
        "outputId": "4945ea29-2ead-42fd-92e2-5f0e44833a72"
      },
      "execution_count": null,
      "outputs": [
        {
          "output_type": "execute_result",
          "data": {
            "text/plain": [
              "array([0.083676  , 0.03092517, 0.0200861 , ..., 0.01935035, 0.01927084,\n",
              "       0.02188413], dtype=float32)"
            ]
          },
          "metadata": {},
          "execution_count": 35
        }
      ]
    },
    {
      "cell_type": "markdown",
      "source": [
        "#### Display model"
      ],
      "metadata": {
        "id": "edV88wMVsGJ1"
      }
    },
    {
      "cell_type": "code",
      "source": [
        "# figure is used to create a new figure.\n",
        "plt.figure(figsize=(15, 8))\n",
        "plt.subplot(1, 2, 1)\n",
        "plt.plot(history.history['auc'])\n",
        "plt.plot(history.history['val_auc'])\n",
        "plt.title('model auc') # graph title\n",
        "plt.ylabel('Auc') # y axis lable\n",
        "plt.xlabel('epoch') # x axis lable\n",
        "plt.legend(['train', 'validation'], loc='upper left') # legend is an area describing the elements of the graph\n",
        "plt.show()\n",
        "plt.grid(True) # grid is the axis object's method toggles the visibility of the grid inside the figure.\n",
        "plt.subplot(1, 2, 1)\n",
        "plt.plot(history.history['loss'])\n",
        "plt.plot(history.history['val_loss'])\n",
        "plt.title('model loss')  # graph title\n",
        "plt.ylabel('loss') # y axis lable\n",
        "plt.xlabel('epoch')# x axis lable\n",
        "plt.legend(['train', 'validation'], loc='upper left')\n",
        "plt.show()"
      ],
      "metadata": {
        "id": "n11LPMqjAbGy",
        "colab": {
          "base_uri": "https://localhost:8080/"
        },
        "outputId": "3f02b423-e1b6-4498-e77d-730b7fc35873"
      },
      "execution_count": null,
      "outputs": [
        {
          "output_type": "display_data",
          "data": {
            "text/plain": [
              "<Figure size 1080x576 with 1 Axes>"
            ],
            "image/png": "[encoded data removed]"
          },
          "metadata": {
            "needs_background": "light"
          }
        },
        {
          "output_type": "display_data",
          "data": {
            "text/plain": [
              "<Figure size 432x288 with 1 Axes>"
            ],
            "image/png": "[encoded data removed]"
          },
          "metadata": {
            "needs_background": "light"
          }
        }
      ]
    },
    {
      "cell_type": "code",
      "execution_count": null,
      "metadata": {
        "id": "oWjAUlFu5u-T"
      },
      "outputs": [],
      "source": [
        "submission = pd.DataFrame({'label':y_pred})\n",
        "submission.index.name = 'id'\n",
        "submission.to_csv('/content/drive/MyDrive/Queens_Practical/Data_Mining/compt6/sample_submission.csv')"
      ]
    },
    {
      "cell_type": "markdown",
      "metadata": {
        "id": "csmlO-3Q-lX0"
      },
      "source": [
        "#### Result"
      ]
    },
    {
      "cell_type": "markdown",
      "metadata": {
        "id": "z3SW0a0W-lX1"
      },
      "source": [
        "Accuracy in **kaggle** =0.71578 \\\n",
        "From the diagram, the model can not learn very good and there is an overfitting, so I will try in the next trials to improve the accuracy"
      ]
    },
    {
      "cell_type": "markdown",
      "metadata": {
        "id": "KxIitTgcExHk"
      },
      "source": [
        "### **Trial 1**"
      ]
    },
    {
      "cell_type": "markdown",
      "metadata": {
        "id": "47uPF-QNExHk"
      },
      "source": [
        "* In this trial I will use:\n",
        " * I will use unbalanced data\n",
        " * Preprocessing\n",
        "   * **I will change max_vocab = 550 , max_len = 150**\n",
        "   * Prepare nodes, labels, and links\n",
        "   * Tokenize and convert data into integer numbers\n",
        "   * Padding to tokenize\n",
        "   * Generate multiple batches\n",
        "   * Embedding \n",
        "  * Model\n",
        "   * Layers\n",
        "      * I will use GNN as an input \n",
        "      * GNN layer\n",
        "          * Hyper parameters\n",
        "            * I will use default hyper parameters\n",
        "            * hidden_dim = 32\n",
        "      * Average layer\n",
        "      * Dense layer with sigmoid activation function\n",
        "   * Compile the model using AUC curve\n",
        "   * Fit the model using epoch = 50 and batch_size = 16\n",
        "   * Predict the model\n",
        "\n",
        "**My thoughts and observations :** The accuracy would be between 0.71 and 0.73"
      ]
    },
    {
      "cell_type": "markdown",
      "metadata": {
        "id": "oP0wLr6dExHk"
      },
      "source": [
        "#### Preprocessing"
      ]
    },
    {
      "cell_type": "code",
      "source": [
        "max_vocab = 550\n",
        "max_len = 150\n",
        "\n",
        "# build vocabulary from training set\n",
        "all_nodes = [s[0] for s in training_set]\n",
        "# we use tokenizer as the data contain letters that need to tokenize\n",
        "tokenizer = Tokenizer(num_words=max_vocab)\n",
        "# fit_on_texts used to updates internal vocabulary based on a list of texts\n",
        "tokenizer.fit_on_texts(all_nodes)"
      ],
      "metadata": {
        "id": "1tY6BYfhExHl"
      },
      "execution_count": null,
      "outputs": []
    },
    {
      "cell_type": "code",
      "source": [
        "\n",
        "def prepare_single_batch(samples):\n",
        "  # samples return 3 values nodes, labels, and links so we will take node only\n",
        "    sample_nodes = [s[0] for s in samples]\n",
        "    # texts_to_sequences used to transforms each text in texts to a sequence of integers\n",
        "    sample_nodes = tokenizer.texts_to_sequences(sample_nodes)\n",
        "    # put padding to tokenizers\n",
        "    sample_nodes = pad_sequences(sample_nodes, padding='post')\n",
        "\n",
        "    # max_nodes_len to know the number of nodes in each sample\n",
        "    max_nodes_len = np.shape(sample_nodes)[1]                           #shape: (num of samples, number of nodes)\n",
        "    edges = [s[1]+i*max_nodes_len for i,s in enumerate(samples)]        #s[1]: links, i*max_nodes_len: to start indexing from current node not from 0 again\n",
        "    edges = [e for e in edges if len(e) > 0]                          #make sure all elements(edges) are non-zero\n",
        "    # takes order of graph and multiply by max number of nodes\n",
        "    node_to_graph = [[i]*max_nodes_len for i in range(len(samples))]\n",
        "\n",
        "    \n",
        "    # put all nodes and edges with each other in 1D array\n",
        "    all_nodes = np.reshape(sample_nodes, -1)      #concatenate nodes of all samples together\n",
        "    all_edges = np.concatenate(edges)             #concatenate edges of all samples together (because edge is tuple, doesnt hae reshape, output is 2D)\n",
        "\n",
        "    node_to_graph = np.reshape(node_to_graph, -1)\n",
        "    return {\n",
        "        'data': all_nodes,\n",
        "        'edges': all_edges,\n",
        "        'node2grah': node_to_graph,\n",
        "    }, np.array([s[2] for s in samples])\n",
        "\n",
        "\n",
        "# gen_batch this function used to generate multiple batches by calling prepare_single_batch function\n",
        "def gen_batch(dataset, batch_size=16, repeat=False, shuffle=True):\n",
        "    while True:\n",
        "        dataset = list(dataset)\n",
        "        if shuffle:\n",
        "            random.shuffle(dataset)\n",
        "        l = len(dataset)\n",
        "        for ndx in range(0, l, batch_size):\n",
        "            batch_samples = dataset[ndx:min(ndx + batch_size, l)]\n",
        "            yield prepare_single_batch(batch_samples)\n",
        "        if not repeat:\n",
        "            break\n"
      ],
      "metadata": {
        "id": "ZpHcoD2sExHl"
      },
      "execution_count": null,
      "outputs": []
    },
    {
      "cell_type": "code",
      "source": [
        "# showing one batch:\n",
        "# batch_size put on it the number of samples that i want to be in one batch\n",
        "for train_batch in gen_batch(training_set, batch_size=4):\n",
        "    for k,v in train_batch[0].items():          #k: labels, v: values\n",
        "        print(k)\n",
        "        print(v)\n",
        "        #print(len(v))\n",
        "        pass\n",
        "    print('label', train_batch[1])\n",
        "    break\n",
        "\n"
      ],
      "metadata": {
        "colab": {
          "base_uri": "https://localhost:8080/"
        },
        "outputId": "00fc64d0-48e1-4a34-aef7-7d6803e65ed6",
        "id": "jWM8r-eHExHl"
      },
      "execution_count": null,
      "outputs": [
        {
          "output_type": "stream",
          "name": "stdout",
          "text": [
            "data\n",
            "[2 2 3 3 3 1 1 1 1 1 1 1 1 1 1 1 1 1 1 1 1 1 1 1 1 1 1 1 1 1 1 1 1 7 3 3 3\n",
            " 3 3 3 3 3 3 3 1 1 1 1 1 1 1 1 1 1 1 1 1 0 0 0 0 0 0 0 0 0 2 2 2 2 1 1 1 1\n",
            " 1 1 1 1 1 1 0 0 0 0 0 0 0 0 0 0 0 0 0 0 0 0 0 0 0 9 2 2 2 2 2 2 2 3 3 1 1\n",
            " 1 1 1 1 1 1 1 1 1 1 1 1 1 1 1 1 0 0 0 0 0]\n",
            "edges\n",
            "[[ 24   0]\n",
            " [  0  28]\n",
            " [  1  28]\n",
            " [  2   8]\n",
            " [  2  16]\n",
            " [  3   4]\n",
            " [  3  16]\n",
            " [  3  25]\n",
            " [  4  22]\n",
            " [  5   6]\n",
            " [  5   7]\n",
            " [  5  12]\n",
            " [  6   8]\n",
            " [  6  11]\n",
            " [  7   9]\n",
            " [  7  10]\n",
            " [  8  14]\n",
            " [  8  19]\n",
            " [  9  13]\n",
            " [  9  18]\n",
            " [  9  20]\n",
            " [ 10  14]\n",
            " [ 11  15]\n",
            " [ 12  17]\n",
            " [ 13  17]\n",
            " [ 13  21]\n",
            " [ 15  16]\n",
            " [ 15  22]\n",
            " [ 18  23]\n",
            " [ 21  24]\n",
            " [ 23  24]\n",
            " [ 25  26]\n",
            " [ 25  27]\n",
            " [ 26  29]\n",
            " [ 27  30]\n",
            " [ 28  32]\n",
            " [ 29  31]\n",
            " [ 30  31]\n",
            " [ 33  54]\n",
            " [ 34  35]\n",
            " [ 34  44]\n",
            " [ 34  45]\n",
            " [ 35  49]\n",
            " [ 36  44]\n",
            " [ 36  48]\n",
            " [ 37  38]\n",
            " [ 37  45]\n",
            " [ 38  50]\n",
            " [ 39  43]\n",
            " [ 39  47]\n",
            " [ 40  48]\n",
            " [ 41  49]\n",
            " [ 42  50]\n",
            " [ 43  51]\n",
            " [ 44  47]\n",
            " [ 45  46]\n",
            " [ 46  48]\n",
            " [ 46  50]\n",
            " [ 47  49]\n",
            " [ 51  52]\n",
            " [ 51  53]\n",
            " [ 52  55]\n",
            " [ 53  56]\n",
            " [ 54  55]\n",
            " [ 54  56]\n",
            " [ 66  70]\n",
            " [ 67  74]\n",
            " [ 67  78]\n",
            " [ 68  74]\n",
            " [ 69  75]\n",
            " [ 70  71]\n",
            " [ 70  72]\n",
            " [ 70  73]\n",
            " [ 71  74]\n",
            " [ 72  76]\n",
            " [ 73  77]\n",
            " [ 75  76]\n",
            " [ 75  77]\n",
            " [ 78  79]\n",
            " [ 99 101]\n",
            " [ 99 117]\n",
            " [ 99 121]\n",
            " [ 99 122]\n",
            " [100 109]\n",
            " [100 112]\n",
            " [101 114]\n",
            " [102 111]\n",
            " [103 113]\n",
            " [104 120]\n",
            " [104 126]\n",
            " [105 118]\n",
            " [106 120]\n",
            " [107 109]\n",
            " [107 113]\n",
            " [107 116]\n",
            " [108 113]\n",
            " [108 118]\n",
            " [109 111]\n",
            " [110 111]\n",
            " [110 112]\n",
            " [110 115]\n",
            " [112 114]\n",
            " [115 120]\n",
            " [116 119]\n",
            " [117 123]\n",
            " [117 124]\n",
            " [117 125]\n",
            " [118 119]]\n",
            "node2grah\n",
            "[0 0 0 0 0 0 0 0 0 0 0 0 0 0 0 0 0 0 0 0 0 0 0 0 0 0 0 0 0 0 0 0 0 1 1 1 1\n",
            " 1 1 1 1 1 1 1 1 1 1 1 1 1 1 1 1 1 1 1 1 1 1 1 1 1 1 1 1 1 2 2 2 2 2 2 2 2\n",
            " 2 2 2 2 2 2 2 2 2 2 2 2 2 2 2 2 2 2 2 2 2 2 2 2 2 3 3 3 3 3 3 3 3 3 3 3 3\n",
            " 3 3 3 3 3 3 3 3 3 3 3 3 3 3 3 3 3 3 3 3 3]\n",
            "label [0 0 1 0]\n"
          ]
        }
      ]
    },
    {
      "cell_type": "markdown",
      "metadata": {
        "id": "gPg5HFdaExHl"
      },
      "source": [
        "#### Model"
      ]
    },
    {
      "cell_type": "code",
      "execution_count": null,
      "metadata": {
        "colab": {
          "base_uri": "https://localhost:8080/"
        },
        "outputId": "747e82e8-6886-4547-f9a2-e43c870106b1",
        "id": "8pEfUPLsExHm"
      },
      "outputs": [
        {
          "output_type": "stream",
          "name": "stdout",
          "text": [
            "gnn_out KerasTensor(type_spec=TensorSpec(shape=(None, 32), dtype=tf.float32, name=None), name='gnn_2/StatefulPartitionedCall:0', description=\"created by layer 'gnn_2'\")\n",
            "mean: KerasTensor(type_spec=TensorSpec(shape=(None, 32), dtype=tf.float32, name=None), name='tf.math.segment_mean_2/SegmentMean:0', description=\"created by layer 'tf.math.segment_mean_2'\")\n",
            "pred: KerasTensor(type_spec=TensorSpec(shape=(None, 1), dtype=tf.float32, name=None), name='dense_2/Sigmoid:0', description=\"created by layer 'dense_2'\")\n",
            "Model: \"model_2\"\n",
            "__________________________________________________________________________________________________\n",
            " Layer (type)                   Output Shape         Param #     Connected to                     \n",
            "==================================================================================================\n",
            " input_9 (InputLayer)           [(None,)]            0           []                               \n",
            "                                                                                                  \n",
            " input_7 (InputLayer)           [(None,)]            0           []                               \n",
            "                                                                                                  \n",
            " tf.math.reduce_max_2 (TFOpLamb  ()                  0           ['input_9[0][0]']                \n",
            " da)                                                                                              \n",
            "                                                                                                  \n",
            " embedding_2 (Embedding)        (None, 20)           11000       ['input_7[0][0]']                \n",
            "                                                                                                  \n",
            " input_8 (InputLayer)           [(None, 2)]          0           []                               \n",
            "                                                                                                  \n",
            " tf.__operators__.add_2 (TFOpLa  ()                  0           ['tf.math.reduce_max_2[0][0]']   \n",
            " mbda)                                                                                            \n",
            "                                                                                                  \n",
            " gnn_2 (GNN)                    (None, 32)           22464       ['embedding_2[0][0]',            \n",
            "                                                                  'input_8[0][0]',                \n",
            "                                                                  'input_9[0][0]',                \n",
            "                                                                  'tf.__operators__.add_2[0][0]'] \n",
            "                                                                                                  \n",
            " tf.math.segment_mean_2 (TFOpLa  (None, 32)          0           ['gnn_2[0][0]',                  \n",
            " mbda)                                                            'input_9[0][0]']                \n",
            "                                                                                                  \n",
            " dense_2 (Dense)                (None, 1)            33          ['tf.math.segment_mean_2[0][0]'] \n",
            "                                                                                                  \n",
            "==================================================================================================\n",
            "Total params: 33,497\n",
            "Trainable params: 33,497\n",
            "Non-trainable params: 0\n",
            "__________________________________________________________________________________________________\n"
          ]
        }
      ],
      "source": [
        "data = keras.Input(batch_shape=(None,))\n",
        "\n",
        "# the first dim is different to the previous one. it is the total number of edges in this batch\n",
        "edge = keras.Input(batch_shape=(None, 2), dtype=tf.int32)     #edge is 2D\n",
        "node2graph = keras.Input(batch_shape=(None,), dtype=tf.int32)\n",
        "embeded = Embedding(tokenizer.num_words, 20)(data) # embedding data\n",
        "\n",
        "# number of graphs (number of samples)\n",
        "num_graph = tf.reduce_max(node2graph)+1\n",
        "\n",
        "gnn_input = GNNInput(\n",
        "    node_features=embeded, # nodes after embedding\n",
        "    adjacency_lists=(edge,),\n",
        "    node_to_graph_map=node2graph, \n",
        "    num_graphs=num_graph, # number of samples\n",
        ")\n",
        "# Tuning hyper parameters\n",
        "params = GNN.get_default_hyperparameters()\n",
        "params[\"hidden_dim\"] = 32\n",
        "gnn_layer = GNN(params)\n",
        "gnn_out = gnn_layer(gnn_input)\n",
        "\n",
        "print('gnn_out', gnn_out)\n",
        "\n",
        "avg = segment_mean(  # Average layer (segment_mea is used to get the mean of elements in segments of a tensor)\n",
        "    data=gnn_out,\n",
        "    segment_ids=node2graph\n",
        ")\n",
        "print('mean:', avg)\n",
        "\n",
        "pred = Dense(1, activation='sigmoid')(avg)        #binary classification: Dense(2), but here we only output 1 probability\n",
        "print('pred:', pred)\n",
        "\n",
        "model = Model(\n",
        "    inputs={\n",
        "        'data': data,\n",
        "        'edges': edge,\n",
        "        'node2grah': node2graph,\n",
        "    },\n",
        "    outputs=pred\n",
        ")\n",
        "model.summary()"
      ]
    },
    {
      "cell_type": "code",
      "execution_count": null,
      "metadata": {
        "id": "lhBoD9ezExHm"
      },
      "outputs": [],
      "source": [
        "model.compile(\n",
        "    loss='BinaryCrossentropy',\n",
        "    metrics=['AUC']\n",
        ")"
      ]
    },
    {
      "cell_type": "code",
      "source": [
        "batch_size = 16\n",
        "# ceil function returns a ceiling value\n",
        "num_batchs = math.ceil(len(training_set) / batch_size)\n",
        "num_batchs_validation = math.ceil(len(validation_set) / batch_size)\n",
        "\n",
        "# Training the model with batch size = 16 and epochs 50\n",
        "history=model.fit(\n",
        "    gen_batch(\n",
        "        training_set, batch_size=batch_size, repeat=True\n",
        "    ),\n",
        "    steps_per_epoch=num_batchs,\n",
        "    epochs=50,\n",
        "    validation_data=gen_batch(\n",
        "        validation_set, batch_size=16, repeat=True\n",
        "    ),\n",
        "    validation_steps=num_batchs_validation,\n",
        ")"
      ],
      "metadata": {
        "colab": {
          "base_uri": "https://localhost:8080/"
        },
        "outputId": "f3e85d84-f70e-4838-9ffe-0bf7cfbd2ca4",
        "id": "3KNrymLjExHm"
      },
      "execution_count": null,
      "outputs": [
        {
          "output_type": "stream",
          "name": "stdout",
          "text": [
            "Epoch 1/50\n"
          ]
        },
        {
          "output_type": "stream",
          "name": "stderr",
          "text": [
            "/usr/local/lib/python3.7/dist-packages/tensorflow/python/framework/indexed_slices.py:446: UserWarning: Converting sparse IndexedSlices(IndexedSlices(indices=Tensor(\"gradients/cond_3_grad/Identity_1:0\", shape=(None,), dtype=int32), values=Tensor(\"gradients/cond_3_grad/Identity:0\", shape=(None, 32), dtype=float32), dense_shape=Tensor(\"gradients/cond_3_grad/Identity_2:0\", shape=(2,), dtype=int32))) to a dense Tensor of unknown shape. This may consume a large amount of memory.\n",
            "  \"shape. This may consume a large amount of memory.\" % value)\n",
            "/usr/local/lib/python3.7/dist-packages/tensorflow/python/framework/indexed_slices.py:446: UserWarning: Converting sparse IndexedSlices(IndexedSlices(indices=Tensor(\"gradients/rgcn_2/embedding_lookup_grad/Reshape_1:0\", shape=(None,), dtype=int32), values=Tensor(\"gradients/rgcn_2/embedding_lookup_grad/Reshape:0\", shape=(None, 32), dtype=float32), dense_shape=Tensor(\"gradients/rgcn_2/embedding_lookup_grad/Cast:0\", shape=(2,), dtype=int32))) to a dense Tensor of unknown shape. This may consume a large amount of memory.\n",
            "  \"shape. This may consume a large amount of memory.\" % value)\n",
            "/usr/local/lib/python3.7/dist-packages/tensorflow/python/framework/indexed_slices.py:446: UserWarning: Converting sparse IndexedSlices(IndexedSlices(indices=Tensor(\"gradients/cond_1_grad/Identity_1:0\", shape=(None,), dtype=int32), values=Tensor(\"gradients/cond_1_grad/Identity:0\", shape=(None, 32), dtype=float32), dense_shape=Tensor(\"gradients/cond_1_grad/Identity_2:0\", shape=(2,), dtype=int32))) to a dense Tensor of unknown shape. This may consume a large amount of memory.\n",
            "  \"shape. This may consume a large amount of memory.\" % value)\n",
            "/usr/local/lib/python3.7/dist-packages/tensorflow/python/framework/indexed_slices.py:446: UserWarning: Converting sparse IndexedSlices(IndexedSlices(indices=Tensor(\"gradients/rgcn/embedding_lookup_grad/Reshape_1:0\", shape=(None,), dtype=int32), values=Tensor(\"gradients/rgcn/embedding_lookup_grad/Reshape:0\", shape=(None, 32), dtype=float32), dense_shape=Tensor(\"gradients/rgcn/embedding_lookup_grad/Cast:0\", shape=(2,), dtype=int32))) to a dense Tensor of unknown shape. This may consume a large amount of memory.\n",
            "  \"shape. This may consume a large amount of memory.\" % value)\n"
          ]
        },
        {
          "output_type": "stream",
          "name": "stdout",
          "text": [
            "1330/1330 [==============================] - 30s 20ms/step - loss: 0.2266 - auc: 0.5014 - val_loss: 0.2102 - val_auc: 0.6077\n",
            "Epoch 2/50\n",
            "1330/1330 [==============================] - 26s 20ms/step - loss: 0.1972 - auc: 0.6166 - val_loss: 0.1874 - val_auc: 0.6895\n",
            "Epoch 3/50\n",
            "1330/1330 [==============================] - 26s 20ms/step - loss: 0.1914 - auc: 0.6499 - val_loss: 0.1876 - val_auc: 0.7260\n",
            "Epoch 4/50\n",
            "1330/1330 [==============================] - 28s 21ms/step - loss: 0.1905 - auc: 0.6561 - val_loss: 0.1911 - val_auc: 0.7321\n",
            "Epoch 5/50\n",
            "1330/1330 [==============================] - 26s 20ms/step - loss: 0.1875 - auc: 0.6735 - val_loss: 0.1913 - val_auc: 0.7311\n",
            "Epoch 6/50\n",
            "1330/1330 [==============================] - 26s 20ms/step - loss: 0.1884 - auc: 0.6684 - val_loss: 0.1996 - val_auc: 0.7542\n",
            "Epoch 7/50\n",
            "1330/1330 [==============================] - 27s 20ms/step - loss: 0.1875 - auc: 0.6741 - val_loss: 0.1802 - val_auc: 0.7488\n",
            "Epoch 8/50\n",
            "1330/1330 [==============================] - 26s 20ms/step - loss: 0.1868 - auc: 0.6750 - val_loss: 0.1810 - val_auc: 0.7263\n",
            "Epoch 9/50\n",
            "1330/1330 [==============================] - 26s 19ms/step - loss: 0.1871 - auc: 0.6709 - val_loss: 0.2029 - val_auc: 0.6714\n",
            "Epoch 10/50\n",
            "1330/1330 [==============================] - 26s 19ms/step - loss: 0.1868 - auc: 0.6667 - val_loss: 0.1944 - val_auc: 0.6982\n",
            "Epoch 11/50\n",
            "1330/1330 [==============================] - 25s 19ms/step - loss: 0.1867 - auc: 0.6609 - val_loss: 0.1935 - val_auc: 0.6555\n",
            "Epoch 12/50\n",
            "1330/1330 [==============================] - 25s 19ms/step - loss: 0.1865 - auc: 0.6577 - val_loss: 0.1742 - val_auc: 0.7480\n",
            "Epoch 13/50\n",
            "1330/1330 [==============================] - 26s 20ms/step - loss: 0.1860 - auc: 0.6566 - val_loss: 0.1971 - val_auc: 0.7035\n",
            "Epoch 14/50\n",
            "1330/1330 [==============================] - 26s 19ms/step - loss: 0.1857 - auc: 0.6541 - val_loss: 0.2232 - val_auc: 0.4996\n",
            "Epoch 15/50\n",
            "1330/1330 [==============================] - 26s 19ms/step - loss: 0.1858 - auc: 0.6487 - val_loss: 0.1852 - val_auc: 0.7073\n",
            "Epoch 16/50\n",
            "1330/1330 [==============================] - 26s 20ms/step - loss: 0.1827 - auc: 0.6761 - val_loss: 0.1857 - val_auc: 0.7154\n",
            "Epoch 17/50\n",
            "1330/1330 [==============================] - 26s 20ms/step - loss: 0.1847 - auc: 0.6571 - val_loss: 0.1973 - val_auc: 0.6602\n",
            "Epoch 18/50\n",
            "1330/1330 [==============================] - 26s 20ms/step - loss: 0.1854 - auc: 0.6560 - val_loss: 0.1997 - val_auc: 0.7339\n",
            "Epoch 19/50\n",
            "1330/1330 [==============================] - 26s 20ms/step - loss: 0.1864 - auc: 0.6498 - val_loss: 0.1849 - val_auc: 0.7405\n",
            "Epoch 20/50\n",
            "1330/1330 [==============================] - 26s 20ms/step - loss: 0.1827 - auc: 0.6713 - val_loss: 0.1866 - val_auc: 0.7100\n",
            "Epoch 21/50\n",
            "1330/1330 [==============================] - 26s 20ms/step - loss: 0.1831 - auc: 0.6738 - val_loss: 0.1920 - val_auc: 0.7066\n",
            "Epoch 22/50\n",
            "1330/1330 [==============================] - 26s 19ms/step - loss: 0.1828 - auc: 0.6738 - val_loss: 0.1871 - val_auc: 0.7347\n",
            "Epoch 23/50\n",
            "1330/1330 [==============================] - 26s 19ms/step - loss: 0.1823 - auc: 0.6716 - val_loss: 0.2079 - val_auc: 0.5179\n",
            "Epoch 24/50\n",
            "1330/1330 [==============================] - 25s 19ms/step - loss: 0.1816 - auc: 0.6832 - val_loss: 0.1782 - val_auc: 0.7522\n",
            "Epoch 25/50\n",
            "1330/1330 [==============================] - 25s 19ms/step - loss: 0.1787 - auc: 0.7008 - val_loss: 0.1919 - val_auc: 0.7059\n",
            "Epoch 26/50\n",
            "1330/1330 [==============================] - 25s 19ms/step - loss: 0.1807 - auc: 0.6901 - val_loss: 0.1804 - val_auc: 0.7757\n",
            "Epoch 27/50\n",
            "1330/1330 [==============================] - 25s 19ms/step - loss: 0.1789 - auc: 0.7021 - val_loss: 0.2067 - val_auc: 0.7346\n",
            "Epoch 28/50\n",
            "1330/1330 [==============================] - 25s 19ms/step - loss: 0.1787 - auc: 0.7041 - val_loss: 0.1839 - val_auc: 0.7473\n",
            "Epoch 29/50\n",
            "1330/1330 [==============================] - 26s 19ms/step - loss: 0.1795 - auc: 0.7043 - val_loss: 0.1829 - val_auc: 0.7147\n",
            "Epoch 30/50\n",
            "1330/1330 [==============================] - 27s 20ms/step - loss: 0.1795 - auc: 0.7014 - val_loss: 0.1836 - val_auc: 0.7439\n",
            "Epoch 31/50\n",
            "1330/1330 [==============================] - 25s 19ms/step - loss: 0.1807 - auc: 0.6836 - val_loss: 0.1867 - val_auc: 0.7437\n",
            "Epoch 32/50\n",
            "1330/1330 [==============================] - 25s 19ms/step - loss: 0.1788 - auc: 0.7053 - val_loss: 0.1773 - val_auc: 0.7436\n",
            "Epoch 33/50\n",
            "1330/1330 [==============================] - 26s 19ms/step - loss: 0.1793 - auc: 0.7009 - val_loss: 0.1875 - val_auc: 0.7280\n",
            "Epoch 34/50\n",
            "1330/1330 [==============================] - 26s 19ms/step - loss: 0.1819 - auc: 0.6824 - val_loss: 0.1802 - val_auc: 0.7439\n",
            "Epoch 35/50\n",
            "1330/1330 [==============================] - 26s 20ms/step - loss: 0.1823 - auc: 0.6796 - val_loss: 0.1913 - val_auc: 0.7249\n",
            "Epoch 36/50\n",
            "1330/1330 [==============================] - 27s 20ms/step - loss: 0.1831 - auc: 0.6731 - val_loss: 0.1904 - val_auc: 0.7065\n",
            "Epoch 37/50\n",
            "1330/1330 [==============================] - 26s 20ms/step - loss: 0.1825 - auc: 0.6766 - val_loss: 0.1852 - val_auc: 0.7195\n",
            "Epoch 38/50\n",
            "1330/1330 [==============================] - 26s 19ms/step - loss: 0.1799 - auc: 0.7000 - val_loss: 0.1890 - val_auc: 0.7561\n",
            "Epoch 39/50\n",
            "1330/1330 [==============================] - 26s 19ms/step - loss: 0.1808 - auc: 0.6942 - val_loss: 0.1861 - val_auc: 0.7294\n",
            "Epoch 40/50\n",
            "1330/1330 [==============================] - 26s 19ms/step - loss: 0.1798 - auc: 0.6963 - val_loss: 0.1955 - val_auc: 0.6879\n",
            "Epoch 41/50\n",
            "1330/1330 [==============================] - 26s 20ms/step - loss: 0.1799 - auc: 0.6986 - val_loss: 0.1895 - val_auc: 0.7530\n",
            "Epoch 42/50\n",
            "1330/1330 [==============================] - 26s 19ms/step - loss: 0.1786 - auc: 0.7083 - val_loss: 0.1777 - val_auc: 0.7738\n",
            "Epoch 43/50\n",
            "1330/1330 [==============================] - 26s 20ms/step - loss: 0.1807 - auc: 0.7010 - val_loss: 0.1920 - val_auc: 0.7496\n",
            "Epoch 44/50\n",
            "1330/1330 [==============================] - 36s 27ms/step - loss: 0.1804 - auc: 0.6990 - val_loss: 0.1792 - val_auc: 0.7475\n",
            "Epoch 45/50\n",
            "1330/1330 [==============================] - 26s 20ms/step - loss: 0.1779 - auc: 0.7048 - val_loss: 0.1943 - val_auc: 0.7103\n",
            "Epoch 46/50\n",
            "1330/1330 [==============================] - 26s 19ms/step - loss: 0.1800 - auc: 0.6981 - val_loss: 0.1770 - val_auc: 0.7377\n",
            "Epoch 47/50\n",
            "1330/1330 [==============================] - 25s 19ms/step - loss: 0.1787 - auc: 0.6952 - val_loss: 0.1899 - val_auc: 0.7767\n",
            "Epoch 48/50\n",
            "1330/1330 [==============================] - 26s 20ms/step - loss: 0.1783 - auc: 0.7051 - val_loss: 0.1823 - val_auc: 0.7457\n",
            "Epoch 49/50\n",
            "1330/1330 [==============================] - 32s 24ms/step - loss: 0.1774 - auc: 0.7067 - val_loss: 0.1704 - val_auc: 0.7453\n",
            "Epoch 50/50\n",
            "1330/1330 [==============================] - 28s 21ms/step - loss: 0.1791 - auc: 0.7067 - val_loss: 0.1915 - val_auc: 0.7455\n"
          ]
        }
      ]
    },
    {
      "cell_type": "code",
      "source": [
        "# predict function is used to enable us to predict the labels of the data values on the basis of the trained model.\n",
        "y_pred = model.predict(\n",
        "    gen_batch(testing_set, batch_size=16, shuffle=False)\n",
        ")\n",
        "# repahe to get the first col only\n",
        "y_pred = np.reshape(y_pred, -1)\n",
        "y_pred.shape"
      ],
      "metadata": {
        "colab": {
          "base_uri": "https://localhost:8080/"
        },
        "outputId": "421e978f-f64a-4404-88ae-61545820896f",
        "id": "gO2yJBX_ExHm"
      },
      "execution_count": null,
      "outputs": [
        {
          "output_type": "execute_result",
          "data": {
            "text/plain": [
              "(12326,)"
            ]
          },
          "metadata": {},
          "execution_count": 50
        }
      ]
    },
    {
      "cell_type": "code",
      "source": [
        "y_pred"
      ],
      "metadata": {
        "colab": {
          "base_uri": "https://localhost:8080/"
        },
        "outputId": "983b2b79-71ea-4a2b-d679-cd4787fde044",
        "id": "wh2qy-mRExHm"
      },
      "execution_count": null,
      "outputs": [
        {
          "output_type": "execute_result",
          "data": {
            "text/plain": [
              "array([0.17143947, 0.02573386, 0.02440776, ..., 0.0203827 , 0.0337262 ,\n",
              "       0.02491939], dtype=float32)"
            ]
          },
          "metadata": {},
          "execution_count": 51
        }
      ]
    },
    {
      "cell_type": "markdown",
      "source": [
        "#### Display model"
      ],
      "metadata": {
        "id": "LnpI_qKwExHn"
      }
    },
    {
      "cell_type": "code",
      "source": [
        "# figure is used to create a new figure.\n",
        "plt.figure(figsize=(15, 8))\n",
        "plt.subplot(1, 2, 1)\n",
        "plt.plot(history.history['auc'])\n",
        "plt.plot(history.history['val_auc'])\n",
        "plt.title('model auc') # graph title\n",
        "plt.ylabel('Auc') # y axis lable\n",
        "plt.xlabel('epoch') # x axis lable\n",
        "plt.legend(['train', 'validation'], loc='upper left') # legend is an area describing the elements of the graph\n",
        "plt.show()\n",
        "plt.grid(True) # grid is the axis object's method toggles the visibility of the grid inside the figure.\n",
        "plt.subplot(1, 2, 1)\n",
        "plt.plot(history.history['loss'])\n",
        "plt.plot(history.history['val_loss'])\n",
        "plt.title('model loss')  # graph title\n",
        "plt.ylabel('loss') # y axis lable\n",
        "plt.xlabel('epoch')# x axis lable\n",
        "plt.legend(['train', 'validation'], loc='upper left')\n",
        "plt.show()"
      ],
      "metadata": {
        "colab": {
          "base_uri": "https://localhost:8080/"
        },
        "outputId": "063040f6-52a7-4ae9-ba54-e96ed3126105",
        "id": "Gpj-s7PTExHn"
      },
      "execution_count": null,
      "outputs": [
        {
          "output_type": "display_data",
          "data": {
            "text/plain": [
              "<Figure size 1080x576 with 1 Axes>"
            ],
            "image/png": "[encoded data removed]"
          },
          "metadata": {
            "needs_background": "light"
          }
        },
        {
          "output_type": "display_data",
          "data": {
            "text/plain": [
              "<Figure size 432x288 with 1 Axes>"
            ],
            "image/png": "[encoded data removed]"
          },
          "metadata": {
            "needs_background": "light"
          }
        }
      ]
    },
    {
      "cell_type": "code",
      "execution_count": null,
      "metadata": {
        "id": "Qe_TJ0LGExHn"
      },
      "outputs": [],
      "source": [
        "submission = pd.DataFrame({'label':y_pred})\n",
        "submission.index.name = 'id'\n",
        "submission.to_csv('/content/drive/MyDrive/Queens_Practical/Data_Mining/compt6/sample_submission.csv')"
      ]
    },
    {
      "cell_type": "markdown",
      "metadata": {
        "id": "rdzsciSyExHn"
      },
      "source": [
        "#### Result"
      ]
    },
    {
      "cell_type": "markdown",
      "metadata": {
        "id": "HrsjMDBLExHn"
      },
      "source": [
        "Accuracy in **kaggle** =0.73371 \\\n",
        "From the diagram, the model can not learn very good and have overfitting greater than the previos trial, the data unbalanced, so I will try in the next trials to improve the accuracy and solve unbalanced data"
      ]
    },
    {
      "cell_type": "markdown",
      "metadata": {
        "id": "HQWAhvWOGI4S"
      },
      "source": [
        "### **Trial 2**"
      ]
    },
    {
      "cell_type": "markdown",
      "metadata": {
        "id": "oZzojWirGI4S"
      },
      "source": [
        "* In this trial I will use:\n",
        " * I will use **balanced** data\n",
        " * Preprocessing\n",
        "   * max_vocab = 500 , max_len = 100\n",
        "   * Prepare nodes, labels, and links\n",
        "   * Tokenize and convert data into integer numbers\n",
        "   * Padding to tokenize\n",
        "   * Generate multiple batches\n",
        "   * Embedding \n",
        "  * Model\n",
        "   * Layers\n",
        "      * I will use GNN as an input \n",
        "      * GNN layer\n",
        "          * Hyper parameters\n",
        "            * I will use default hyper parameters\n",
        "            * hidden_dim = 32\n",
        "      * Average layer\n",
        "      * Dense layer with sigmoid activation function\n",
        "   * Compile the model using AUC curve\n",
        "   * Fit the model using epoch = 50 and batch_size = 16\n",
        "   * Predict the model\n",
        "\n",
        "**My thoughts and observations :** The accuracy would be between 0.72 and 0.75"
      ]
    },
    {
      "cell_type": "markdown",
      "metadata": {
        "id": "xJan5PE0GI4T"
      },
      "source": [
        "#### Preprocessing"
      ]
    },
    {
      "cell_type": "code",
      "source": [
        "max_vocab = 500\n",
        "max_len = 100\n",
        "\n",
        "# build vocabulary from training set\n",
        "all_nodes = [s[0] for s in training_set]\n",
        "# we use tokenizer as the data contain letters that need to tokenize\n",
        "tokenizer = Tokenizer(num_words=max_vocab)\n",
        "# fit_on_texts used to updates internal vocabulary based on a list of texts\n",
        "tokenizer.fit_on_texts(all_nodes)"
      ],
      "metadata": {
        "id": "-g_H3beqGI4T"
      },
      "execution_count": null,
      "outputs": []
    },
    {
      "cell_type": "code",
      "source": [
        "\n",
        "def prepare_single_batch(samples):\n",
        "  # samples return 3 values nodes, labels, and links so we will take node only\n",
        "    sample_nodes = [s[0] for s in samples]\n",
        "    # texts_to_sequences used to transforms each text in texts to a sequence of integers\n",
        "    sample_nodes = tokenizer.texts_to_sequences(sample_nodes)\n",
        "    # put padding to tokenizers\n",
        "    sample_nodes = pad_sequences(sample_nodes, padding='post')\n",
        "\n",
        "    # max_nodes_len to know the number of nodes in each sample\n",
        "    max_nodes_len = np.shape(sample_nodes)[1]                           #shape: (num of samples, number of nodes)\n",
        "    edges = [s[1]+i*max_nodes_len for i,s in enumerate(samples)]        #s[1]: links, i*max_nodes_len: to start indexing from current node not from 0 again\n",
        "    edges = [e for e in edges if len(e) > 0]                          #make sure all elements(edges) are non-zero\n",
        "    # takes order of graph and multiply by max number of nodes\n",
        "    node_to_graph = [[i]*max_nodes_len for i in range(len(samples))]\n",
        "\n",
        "    \n",
        "    # put all nodes and edges with each other in 1D array\n",
        "    all_nodes = np.reshape(sample_nodes, -1)      #concatenate nodes of all samples together\n",
        "    all_edges = np.concatenate(edges)             #concatenate edges of all samples together (because edge is tuple, doesnt hae reshape, output is 2D)\n",
        "\n",
        "    node_to_graph = np.reshape(node_to_graph, -1)\n",
        "    return {\n",
        "        'data': all_nodes,\n",
        "        'edges': all_edges,\n",
        "        'node2grah': node_to_graph,\n",
        "    }, np.array([s[2] for s in samples])\n",
        "\n",
        "\n",
        "# gen_batch this function used to generate multiple batches by calling prepare_single_batch function\n",
        "def gen_batch(dataset, batch_size=16, repeat=False, shuffle=True):\n",
        "    while True:\n",
        "        dataset = list(dataset)\n",
        "        if shuffle:\n",
        "            random.shuffle(dataset)\n",
        "        l = len(dataset)\n",
        "        for ndx in range(0, l, batch_size):\n",
        "            batch_samples = dataset[ndx:min(ndx + batch_size, l)]\n",
        "            yield prepare_single_batch(batch_samples)\n",
        "        if not repeat:\n",
        "            break\n"
      ],
      "metadata": {
        "id": "iPTTU3s4GI4T"
      },
      "execution_count": null,
      "outputs": []
    },
    {
      "cell_type": "code",
      "source": [
        "# showing one batch:\n",
        "# batch_size put on it the number of samples that i want to be in one batch\n",
        "for train_batch in gen_batch(training_set, batch_size=4):\n",
        "    for k,v in train_batch[0].items():          #k: labels, v: values\n",
        "        print(k)\n",
        "        print(v)\n",
        "        #print(len(v))\n",
        "        pass\n",
        "    print('label', train_batch[1])\n",
        "    break\n",
        "\n"
      ],
      "metadata": {
        "colab": {
          "base_uri": "https://localhost:8080/"
        },
        "outputId": "08fa04aa-2c14-4207-8c0f-275373001308",
        "id": "034i17GKGI4T"
      },
      "execution_count": null,
      "outputs": [
        {
          "output_type": "stream",
          "name": "stdout",
          "text": [
            "data\n",
            "[5 4 2 2 2 2 3 3 3 3 1 1 1 1 1 1 1 1 1 1 1 1 1 1 1 1 1 1 1 1 0 0 0 0 0 0 0\n",
            " 0 0 0 0 0 0 5 2 2 3 3 3 3 1 1 1 1 1 1 1 1 1 1 1 1 1 1 1 1 0 0 0 0 0 0 0 0\n",
            " 0 0 0 0 0 0 0 0 0 0 0 0 4 6 2 2 2 2 2 2 1 1 1 1 1 1 1 1 1 1 1 1 1 1 1 1 1\n",
            " 1 1 1 1 1 1 1 1 1 1 0 0 0 0 0 0 0 0 2 2 2 2 2 2 2 2 1 1 1 1 1 1 1 1 1 1 1\n",
            " 1 1 1 1 1 1 1 1 1 1 1 1 1 1 1 1 1 1 1 1 1 1 1 1]\n",
            "edges\n",
            "[[  0  13]\n",
            " [  1  18]\n",
            " [  1  19]\n",
            " [  2  11]\n",
            " [  2  17]\n",
            " [  3  17]\n",
            " [  4  22]\n",
            " [  4  28]\n",
            " [  5  23]\n",
            " [  5  29]\n",
            " [  6  10]\n",
            " [  6  17]\n",
            " [  6  20]\n",
            " [  7  15]\n",
            " [  7  19]\n",
            " [  8   9]\n",
            " [  8  19]\n",
            " [  9  25]\n",
            " [ 10  11]\n",
            " [ 10  16]\n",
            " [ 11  14]\n",
            " [ 12  13]\n",
            " [ 12  14]\n",
            " [ 12  15]\n",
            " [ 13  16]\n",
            " [ 15  18]\n",
            " [ 21  24]\n",
            " [ 21  25]\n",
            " [ 21  26]\n",
            " [ 22  23]\n",
            " [ 22  24]\n",
            " [ 23  27]\n",
            " [ 26  27]\n",
            " [ 43  58]\n",
            " [ 44  53]\n",
            " [ 45  54]\n",
            " [ 46  50]\n",
            " [ 46  54]\n",
            " [ 47  51]\n",
            " [ 48  49]\n",
            " [ 48  53]\n",
            " [ 50  51]\n",
            " [ 50  53]\n",
            " [ 51  52]\n",
            " [ 52  56]\n",
            " [ 52  57]\n",
            " [ 54  55]\n",
            " [ 55  61]\n",
            " [ 55  62]\n",
            " [ 56  59]\n",
            " [ 57  60]\n",
            " [ 58  59]\n",
            " [ 58  60]\n",
            " [ 61  63]\n",
            " [ 62  64]\n",
            " [ 63  65]\n",
            " [ 64  65]\n",
            " [ 86 108]\n",
            " [ 86 117]\n",
            " [ 87 115]\n",
            " [ 88  98]\n",
            " [ 88 111]\n",
            " [ 89 100]\n",
            " [ 89 113]\n",
            " [ 90 102]\n",
            " [ 90 114]\n",
            " [ 91 110]\n",
            " [ 91 112]\n",
            " [ 92 107]\n",
            " [ 93 110]\n",
            " [ 94  95]\n",
            " [ 94  96]\n",
            " [ 94  98]\n",
            " [ 95  97]\n",
            " [ 95 104]\n",
            " [ 96 101]\n",
            " [ 96 103]\n",
            " [ 97  99]\n",
            " [ 97 105]\n",
            " [ 98 100]\n",
            " [ 99 101]\n",
            " [ 99 106]\n",
            " [100 102]\n",
            " [102 103]\n",
            " [104 109]\n",
            " [105 107]\n",
            " [106 110]\n",
            " [107 108]\n",
            " [108 109]\n",
            " [112 115]\n",
            " [112 116]\n",
            " [115 118]\n",
            " [116 119]\n",
            " [118 120]\n",
            " [119 120]\n",
            " [129 147]\n",
            " [130 148]\n",
            " [131 149]\n",
            " [132 150]\n",
            " [133 151]\n",
            " [134 152]\n",
            " [135 153]\n",
            " [136 154]\n",
            " [137 143]\n",
            " [137 144]\n",
            " [137 153]\n",
            " [138 145]\n",
            " [138 146]\n",
            " [138 154]\n",
            " [139 143]\n",
            " [139 147]\n",
            " [139 149]\n",
            " [140 144]\n",
            " [140 147]\n",
            " [140 150]\n",
            " [141 145]\n",
            " [141 148]\n",
            " [141 151]\n",
            " [142 146]\n",
            " [142 148]\n",
            " [142 152]\n",
            " [143 155]\n",
            " [144 156]\n",
            " [145 157]\n",
            " [146 158]\n",
            " [149 159]\n",
            " [150 160]\n",
            " [151 161]\n",
            " [152 162]\n",
            " [153 167]\n",
            " [154 168]\n",
            " [155 163]\n",
            " [156 164]\n",
            " [157 165]\n",
            " [158 166]\n",
            " [159 163]\n",
            " [160 164]\n",
            " [161 165]\n",
            " [162 166]\n",
            " [167 169]\n",
            " [168 170]\n",
            " [169 171]\n",
            " [170 171]]\n",
            "node2grah\n",
            "[0 0 0 0 0 0 0 0 0 0 0 0 0 0 0 0 0 0 0 0 0 0 0 0 0 0 0 0 0 0 0 0 0 0 0 0 0\n",
            " 0 0 0 0 0 0 1 1 1 1 1 1 1 1 1 1 1 1 1 1 1 1 1 1 1 1 1 1 1 1 1 1 1 1 1 1 1\n",
            " 1 1 1 1 1 1 1 1 1 1 1 1 2 2 2 2 2 2 2 2 2 2 2 2 2 2 2 2 2 2 2 2 2 2 2 2 2\n",
            " 2 2 2 2 2 2 2 2 2 2 2 2 2 2 2 2 2 2 3 3 3 3 3 3 3 3 3 3 3 3 3 3 3 3 3 3 3\n",
            " 3 3 3 3 3 3 3 3 3 3 3 3 3 3 3 3 3 3 3 3 3 3 3 3]\n",
            "label [0 0 1 1]\n"
          ]
        }
      ]
    },
    {
      "cell_type": "markdown",
      "metadata": {
        "id": "GnoDysaMGI4U"
      },
      "source": [
        "#### Model"
      ]
    },
    {
      "cell_type": "code",
      "execution_count": null,
      "metadata": {
        "colab": {
          "base_uri": "https://localhost:8080/"
        },
        "outputId": "198246bb-28c4-4491-fe94-4f2796d7de04",
        "id": "nYk-1gntGI4U"
      },
      "outputs": [
        {
          "output_type": "stream",
          "name": "stdout",
          "text": [
            "gnn_out KerasTensor(type_spec=TensorSpec(shape=(None, 32), dtype=tf.float32, name=None), name='gnn_3/StatefulPartitionedCall:0', description=\"created by layer 'gnn_3'\")\n",
            "mean: KerasTensor(type_spec=TensorSpec(shape=(None, 32), dtype=tf.float32, name=None), name='tf.math.segment_mean_3/SegmentMean:0', description=\"created by layer 'tf.math.segment_mean_3'\")\n",
            "pred: KerasTensor(type_spec=TensorSpec(shape=(None, 1), dtype=tf.float32, name=None), name='dense_3/Sigmoid:0', description=\"created by layer 'dense_3'\")\n",
            "Model: \"model_3\"\n",
            "__________________________________________________________________________________________________\n",
            " Layer (type)                   Output Shape         Param #     Connected to                     \n",
            "==================================================================================================\n",
            " input_12 (InputLayer)          [(None,)]            0           []                               \n",
            "                                                                                                  \n",
            " input_10 (InputLayer)          [(None,)]            0           []                               \n",
            "                                                                                                  \n",
            " tf.math.reduce_max_3 (TFOpLamb  ()                  0           ['input_12[0][0]']               \n",
            " da)                                                                                              \n",
            "                                                                                                  \n",
            " embedding_3 (Embedding)        (None, 20)           10000       ['input_10[0][0]']               \n",
            "                                                                                                  \n",
            " input_11 (InputLayer)          [(None, 2)]          0           []                               \n",
            "                                                                                                  \n",
            " tf.__operators__.add_3 (TFOpLa  ()                  0           ['tf.math.reduce_max_3[0][0]']   \n",
            " mbda)                                                                                            \n",
            "                                                                                                  \n",
            " gnn_3 (GNN)                    (None, 32)           22464       ['embedding_3[0][0]',            \n",
            "                                                                  'input_11[0][0]',               \n",
            "                                                                  'input_12[0][0]',               \n",
            "                                                                  'tf.__operators__.add_3[0][0]'] \n",
            "                                                                                                  \n",
            " tf.math.segment_mean_3 (TFOpLa  (None, 32)          0           ['gnn_3[0][0]',                  \n",
            " mbda)                                                            'input_12[0][0]']               \n",
            "                                                                                                  \n",
            " dense_3 (Dense)                (None, 1)            33          ['tf.math.segment_mean_3[0][0]'] \n",
            "                                                                                                  \n",
            "==================================================================================================\n",
            "Total params: 32,497\n",
            "Trainable params: 32,497\n",
            "Non-trainable params: 0\n",
            "__________________________________________________________________________________________________\n"
          ]
        }
      ],
      "source": [
        "data = keras.Input(batch_shape=(None,))\n",
        "\n",
        "# the first dim is different to the previous one. it is the total number of edges in this batch\n",
        "edge = keras.Input(batch_shape=(None, 2), dtype=tf.int32)     #edge is 2D\n",
        "node2graph = keras.Input(batch_shape=(None,), dtype=tf.int32)\n",
        "embeded = Embedding(tokenizer.num_words, 20)(data) # embedding data\n",
        "\n",
        "# number of graphs (number of samples)\n",
        "num_graph = tf.reduce_max(node2graph)+1\n",
        "\n",
        "gnn_input = GNNInput(\n",
        "    node_features=embeded, # nodes after embedding\n",
        "    adjacency_lists=(edge,),\n",
        "    node_to_graph_map=node2graph, \n",
        "    num_graphs=num_graph, # number of samples\n",
        ")\n",
        "# Tuning hyper parameters\n",
        "params = GNN.get_default_hyperparameters()\n",
        "params[\"hidden_dim\"] = 32\n",
        "gnn_layer = GNN(params)\n",
        "gnn_out = gnn_layer(gnn_input)\n",
        "\n",
        "print('gnn_out', gnn_out)\n",
        "\n",
        "avg = segment_mean(  # Average layer (segment_mea is used to get the mean of elements in segments of a tensor)\n",
        "    data=gnn_out,\n",
        "    segment_ids=node2graph\n",
        ")\n",
        "print('mean:', avg)\n",
        "\n",
        "pred = Dense(1, activation='sigmoid')(avg)        #binary classification: Dense(2), but here we only output 1 probability\n",
        "print('pred:', pred)\n",
        "\n",
        "model = Model(\n",
        "    inputs={\n",
        "        'data': data,\n",
        "        'edges': edge,\n",
        "        'node2grah': node2graph,\n",
        "    },\n",
        "    outputs=pred\n",
        ")\n",
        "model.summary()"
      ]
    },
    {
      "cell_type": "code",
      "execution_count": null,
      "metadata": {
        "id": "AgYNXmc8GI4U"
      },
      "outputs": [],
      "source": [
        "model.compile(\n",
        "    loss='BinaryCrossentropy',\n",
        "    metrics=['AUC']\n",
        ")"
      ]
    },
    {
      "cell_type": "code",
      "source": [
        "batch_size = 16\n",
        "# ceil function returns a ceiling value\n",
        "num_batchs = math.ceil(len(training_set) / batch_size)\n",
        "num_batchs_validation = math.ceil(len(validation_set) / batch_size)\n",
        "\n",
        "# Training the model with batch size = 16 and epochs 50\n",
        "history=model.fit(\n",
        "    gen_batch(\n",
        "        training_set, batch_size=batch_size, repeat=True\n",
        "    ),\n",
        "    steps_per_epoch=num_batchs,\n",
        "    epochs=50,\n",
        "    validation_data=gen_batch(\n",
        "        validation_set, batch_size=16, repeat=True\n",
        "    ),\n",
        "    validation_steps=num_batchs_validation,\n",
        ")"
      ],
      "metadata": {
        "colab": {
          "base_uri": "https://localhost:8080/"
        },
        "outputId": "6c304063-5bf3-4b01-a18f-dade7ac29ce1",
        "id": "IgGytzM2GI4U"
      },
      "execution_count": null,
      "outputs": [
        {
          "output_type": "stream",
          "name": "stdout",
          "text": [
            "Epoch 1/50\n"
          ]
        },
        {
          "output_type": "stream",
          "name": "stderr",
          "text": [
            "/usr/local/lib/python3.7/dist-packages/tensorflow/python/framework/indexed_slices.py:446: UserWarning: Converting sparse IndexedSlices(IndexedSlices(indices=Tensor(\"gradients/cond_3_grad/Identity_1:0\", shape=(None,), dtype=int32), values=Tensor(\"gradients/cond_3_grad/Identity:0\", shape=(None, 32), dtype=float32), dense_shape=Tensor(\"gradients/cond_3_grad/Identity_2:0\", shape=(2,), dtype=int32))) to a dense Tensor of unknown shape. This may consume a large amount of memory.\n",
            "  \"shape. This may consume a large amount of memory.\" % value)\n",
            "/usr/local/lib/python3.7/dist-packages/tensorflow/python/framework/indexed_slices.py:446: UserWarning: Converting sparse IndexedSlices(IndexedSlices(indices=Tensor(\"gradients/rgcn_2/embedding_lookup_grad/Reshape_1:0\", shape=(None,), dtype=int32), values=Tensor(\"gradients/rgcn_2/embedding_lookup_grad/Reshape:0\", shape=(None, 32), dtype=float32), dense_shape=Tensor(\"gradients/rgcn_2/embedding_lookup_grad/Cast:0\", shape=(2,), dtype=int32))) to a dense Tensor of unknown shape. This may consume a large amount of memory.\n",
            "  \"shape. This may consume a large amount of memory.\" % value)\n",
            "/usr/local/lib/python3.7/dist-packages/tensorflow/python/framework/indexed_slices.py:446: UserWarning: Converting sparse IndexedSlices(IndexedSlices(indices=Tensor(\"gradients/cond_1_grad/Identity_1:0\", shape=(None,), dtype=int32), values=Tensor(\"gradients/cond_1_grad/Identity:0\", shape=(None, 32), dtype=float32), dense_shape=Tensor(\"gradients/cond_1_grad/Identity_2:0\", shape=(2,), dtype=int32))) to a dense Tensor of unknown shape. This may consume a large amount of memory.\n",
            "  \"shape. This may consume a large amount of memory.\" % value)\n",
            "/usr/local/lib/python3.7/dist-packages/tensorflow/python/framework/indexed_slices.py:446: UserWarning: Converting sparse IndexedSlices(IndexedSlices(indices=Tensor(\"gradients/rgcn/embedding_lookup_grad/Reshape_1:0\", shape=(None,), dtype=int32), values=Tensor(\"gradients/rgcn/embedding_lookup_grad/Reshape:0\", shape=(None, 32), dtype=float32), dense_shape=Tensor(\"gradients/rgcn/embedding_lookup_grad/Cast:0\", shape=(2,), dtype=int32))) to a dense Tensor of unknown shape. This may consume a large amount of memory.\n",
            "  \"shape. This may consume a large amount of memory.\" % value)\n"
          ]
        },
        {
          "output_type": "stream",
          "name": "stdout",
          "text": [
            "2530/2530 [==============================] - 58s 22ms/step - loss: 0.6278 - auc: 0.7048 - val_loss: 0.6084 - val_auc: 0.7344\n",
            "Epoch 2/50\n",
            "2530/2530 [==============================] - 53s 21ms/step - loss: 0.5906 - auc: 0.7510 - val_loss: 0.6085 - val_auc: 0.7375\n",
            "Epoch 3/50\n",
            "2530/2530 [==============================] - 52s 21ms/step - loss: 0.5690 - auc: 0.7758 - val_loss: 0.5643 - val_auc: 0.7888\n",
            "Epoch 4/50\n",
            "2530/2530 [==============================] - 51s 20ms/step - loss: 0.5584 - auc: 0.7875 - val_loss: 0.5454 - val_auc: 0.7998\n",
            "Epoch 5/50\n",
            "2530/2530 [==============================] - 53s 21ms/step - loss: 0.5513 - auc: 0.7944 - val_loss: 0.5416 - val_auc: 0.8040\n",
            "Epoch 6/50\n",
            "2530/2530 [==============================] - 51s 20ms/step - loss: 0.5431 - auc: 0.8015 - val_loss: 0.5453 - val_auc: 0.8016\n",
            "Epoch 7/50\n",
            "2530/2530 [==============================] - 51s 20ms/step - loss: 0.5366 - auc: 0.8091 - val_loss: 0.5239 - val_auc: 0.8212\n",
            "Epoch 8/50\n",
            "2530/2530 [==============================] - 51s 20ms/step - loss: 0.5238 - auc: 0.8193 - val_loss: 0.5151 - val_auc: 0.8328\n",
            "Epoch 9/50\n",
            "2530/2530 [==============================] - 51s 20ms/step - loss: 0.5152 - auc: 0.8262 - val_loss: 0.5112 - val_auc: 0.8338\n",
            "Epoch 10/50\n",
            "2530/2530 [==============================] - 51s 20ms/step - loss: 0.5066 - auc: 0.8334 - val_loss: 0.5698 - val_auc: 0.8313\n",
            "Epoch 11/50\n",
            "2530/2530 [==============================] - 52s 21ms/step - loss: 0.5002 - auc: 0.8381 - val_loss: 0.4946 - val_auc: 0.8472\n",
            "Epoch 12/50\n",
            "2530/2530 [==============================] - 53s 21ms/step - loss: 0.4957 - auc: 0.8424 - val_loss: 0.4897 - val_auc: 0.8478\n",
            "Epoch 13/50\n",
            "2530/2530 [==============================] - 51s 20ms/step - loss: 0.4896 - auc: 0.8468 - val_loss: 0.4938 - val_auc: 0.8468\n",
            "Epoch 14/50\n",
            "2530/2530 [==============================] - 51s 20ms/step - loss: 0.4836 - auc: 0.8514 - val_loss: 0.4705 - val_auc: 0.8610\n",
            "Epoch 15/50\n",
            "2530/2530 [==============================] - 51s 20ms/step - loss: 0.4793 - auc: 0.8535 - val_loss: 0.4864 - val_auc: 0.8540\n",
            "Epoch 16/50\n",
            "2530/2530 [==============================] - 52s 20ms/step - loss: 0.4736 - auc: 0.8575 - val_loss: 0.4547 - val_auc: 0.8712\n",
            "Epoch 17/50\n",
            "2530/2530 [==============================] - 51s 20ms/step - loss: 0.4702 - auc: 0.8601 - val_loss: 0.4666 - val_auc: 0.8639\n",
            "Epoch 18/50\n",
            "2530/2530 [==============================] - 51s 20ms/step - loss: 0.4661 - auc: 0.8627 - val_loss: 0.4667 - val_auc: 0.8679\n",
            "Epoch 19/50\n",
            "2530/2530 [==============================] - 51s 20ms/step - loss: 0.4681 - auc: 0.8619 - val_loss: 0.4576 - val_auc: 0.8730\n",
            "Epoch 20/50\n",
            "2530/2530 [==============================] - 51s 20ms/step - loss: 0.4670 - auc: 0.8633 - val_loss: 0.4575 - val_auc: 0.8752\n",
            "Epoch 21/50\n",
            "2530/2530 [==============================] - 51s 20ms/step - loss: 0.4659 - auc: 0.8642 - val_loss: 0.4745 - val_auc: 0.8723\n",
            "Epoch 22/50\n",
            "2530/2530 [==============================] - 51s 20ms/step - loss: 0.4653 - auc: 0.8647 - val_loss: 0.4529 - val_auc: 0.8771\n",
            "Epoch 23/50\n",
            "2530/2530 [==============================] - 53s 21ms/step - loss: 0.4596 - auc: 0.8683 - val_loss: 0.4493 - val_auc: 0.8766\n",
            "Epoch 24/50\n",
            "2530/2530 [==============================] - 52s 20ms/step - loss: 0.4591 - auc: 0.8681 - val_loss: 0.4492 - val_auc: 0.8787\n",
            "Epoch 25/50\n",
            "2530/2530 [==============================] - 52s 20ms/step - loss: 0.4587 - auc: 0.8688 - val_loss: 0.4614 - val_auc: 0.8684\n",
            "Epoch 26/50\n",
            "2530/2530 [==============================] - 51s 20ms/step - loss: 0.4555 - auc: 0.8706 - val_loss: 0.4524 - val_auc: 0.8801\n",
            "Epoch 27/50\n",
            "2530/2530 [==============================] - 51s 20ms/step - loss: 0.4520 - auc: 0.8725 - val_loss: 0.4301 - val_auc: 0.8852\n",
            "Epoch 28/50\n",
            "2530/2530 [==============================] - 61s 24ms/step - loss: 0.4525 - auc: 0.8724 - val_loss: 0.4443 - val_auc: 0.8821\n",
            "Epoch 29/50\n",
            "2530/2530 [==============================] - 51s 20ms/step - loss: 0.4473 - auc: 0.8752 - val_loss: 0.4560 - val_auc: 0.8737\n",
            "Epoch 30/50\n",
            "2530/2530 [==============================] - 51s 20ms/step - loss: 0.4460 - auc: 0.8764 - val_loss: 0.4340 - val_auc: 0.8838\n",
            "Epoch 31/50\n",
            "2530/2530 [==============================] - 51s 20ms/step - loss: 0.4446 - auc: 0.8772 - val_loss: 0.4405 - val_auc: 0.8865\n",
            "Epoch 32/50\n",
            "2530/2530 [==============================] - 51s 20ms/step - loss: 0.4431 - auc: 0.8780 - val_loss: 0.4544 - val_auc: 0.8850\n",
            "Epoch 33/50\n",
            "2530/2530 [==============================] - 51s 20ms/step - loss: 0.4451 - auc: 0.8771 - val_loss: 0.4191 - val_auc: 0.8943\n",
            "Epoch 34/50\n",
            "2530/2530 [==============================] - 50s 20ms/step - loss: 0.4396 - auc: 0.8799 - val_loss: 0.4517 - val_auc: 0.8780\n",
            "Epoch 35/50\n",
            "2530/2530 [==============================] - 51s 20ms/step - loss: 0.4344 - auc: 0.8825 - val_loss: 0.4391 - val_auc: 0.8858\n",
            "Epoch 36/50\n",
            "2530/2530 [==============================] - 55s 22ms/step - loss: 0.4355 - auc: 0.8827 - val_loss: 0.4324 - val_auc: 0.8864\n",
            "Epoch 37/50\n",
            "2530/2530 [==============================] - 51s 20ms/step - loss: 0.4282 - auc: 0.8857 - val_loss: 0.4240 - val_auc: 0.8935\n",
            "Epoch 38/50\n",
            "2530/2530 [==============================] - 51s 20ms/step - loss: 0.4314 - auc: 0.8844 - val_loss: 0.4359 - val_auc: 0.8869\n",
            "Epoch 39/50\n",
            "2530/2530 [==============================] - 51s 20ms/step - loss: 0.4398 - auc: 0.8809 - val_loss: 0.4166 - val_auc: 0.8930\n",
            "Epoch 40/50\n",
            "2530/2530 [==============================] - 51s 20ms/step - loss: 0.4295 - auc: 0.8857 - val_loss: 0.4155 - val_auc: 0.8966\n",
            "Epoch 41/50\n",
            "2530/2530 [==============================] - 57s 23ms/step - loss: 0.4263 - auc: 0.8870 - val_loss: 0.4516 - val_auc: 0.8867\n",
            "Epoch 42/50\n",
            "2530/2530 [==============================] - 55s 22ms/step - loss: 0.4279 - auc: 0.8864 - val_loss: 0.4300 - val_auc: 0.8901\n",
            "Epoch 43/50\n",
            "2530/2530 [==============================] - 52s 20ms/step - loss: 0.4254 - auc: 0.8873 - val_loss: 0.4074 - val_auc: 0.8988\n",
            "Epoch 44/50\n",
            "2530/2530 [==============================] - 57s 23ms/step - loss: 0.4277 - auc: 0.8864 - val_loss: 0.4536 - val_auc: 0.8760\n",
            "Epoch 45/50\n",
            "2530/2530 [==============================] - 52s 20ms/step - loss: 0.4261 - auc: 0.8872 - val_loss: 0.4195 - val_auc: 0.8928\n",
            "Epoch 46/50\n",
            "2530/2530 [==============================] - 61s 24ms/step - loss: 0.4271 - auc: 0.8872 - val_loss: 0.4216 - val_auc: 0.8927\n",
            "Epoch 47/50\n",
            "2530/2530 [==============================] - 61s 24ms/step - loss: 0.4282 - auc: 0.8861 - val_loss: 0.4245 - val_auc: 0.8952\n",
            "Epoch 48/50\n",
            "2530/2530 [==============================] - 67s 26ms/step - loss: 0.4260 - auc: 0.8872 - val_loss: 0.4041 - val_auc: 0.9028\n",
            "Epoch 49/50\n",
            "2530/2530 [==============================] - 52s 20ms/step - loss: 0.4252 - auc: 0.8882 - val_loss: 0.4329 - val_auc: 0.8934\n",
            "Epoch 50/50\n",
            "2530/2530 [==============================] - 52s 21ms/step - loss: 0.4271 - auc: 0.8870 - val_loss: 0.4380 - val_auc: 0.8918\n"
          ]
        }
      ]
    },
    {
      "cell_type": "code",
      "source": [
        "# predict function is used to enable us to predict the labels of the data values on the basis of the trained model.\n",
        "y_pred = model.predict(\n",
        "    gen_batch(testing_set, batch_size=16, shuffle=False)\n",
        ")\n",
        "# repahe to get the first col only\n",
        "y_pred = np.reshape(y_pred, -1)\n",
        "y_pred.shape"
      ],
      "metadata": {
        "colab": {
          "base_uri": "https://localhost:8080/"
        },
        "id": "2pMGpdCnGI4U",
        "outputId": "496eff4c-8837-451a-80fd-c1ad7909308b"
      },
      "execution_count": null,
      "outputs": [
        {
          "output_type": "execute_result",
          "data": {
            "text/plain": [
              "(12326,)"
            ]
          },
          "metadata": {},
          "execution_count": 84
        }
      ]
    },
    {
      "cell_type": "code",
      "source": [
        "y_pred"
      ],
      "metadata": {
        "colab": {
          "base_uri": "https://localhost:8080/"
        },
        "id": "gBct2WjkGI4V",
        "outputId": "546a713a-7150-4fe0-eaf8-4d0ab06be1e4"
      },
      "execution_count": null,
      "outputs": [
        {
          "output_type": "execute_result",
          "data": {
            "text/plain": [
              "array([0.830772  , 0.83625245, 0.01709474, ..., 0.21603425, 0.68570334,\n",
              "       0.92305374], dtype=float32)"
            ]
          },
          "metadata": {},
          "execution_count": 85
        }
      ]
    },
    {
      "cell_type": "markdown",
      "source": [
        "#### Display model"
      ],
      "metadata": {
        "id": "n0qrGiqAGI4V"
      }
    },
    {
      "cell_type": "code",
      "source": [
        "# figure is used to create a new figure.\n",
        "plt.figure(figsize=(15, 8))\n",
        "plt.subplot(1, 2, 1)\n",
        "plt.plot(history.history['auc'])\n",
        "plt.plot(history.history['val_auc'])\n",
        "plt.title('model auc') # graph title\n",
        "plt.ylabel('Auc') # y axis lable\n",
        "plt.xlabel('epoch') # x axis lable\n",
        "plt.legend(['train', 'validation'], loc='upper left') # legend is an area describing the elements of the graph\n",
        "plt.show()\n",
        "plt.grid(True) # grid is the axis object's method toggles the visibility of the grid inside the figure.\n",
        "plt.subplot(1, 2, 1)\n",
        "plt.plot(history.history['loss'])\n",
        "plt.plot(history.history['val_loss'])\n",
        "plt.title('model loss')  # graph title\n",
        "plt.ylabel('loss') # y axis lable\n",
        "plt.xlabel('epoch')# x axis lable\n",
        "plt.legend(['train', 'validation'], loc='upper left')\n",
        "plt.show()"
      ],
      "metadata": {
        "colab": {
          "base_uri": "https://localhost:8080/"
        },
        "id": "okjdKBmRGI4V",
        "outputId": "67863cf2-ddf1-4d0b-d911-ab5876c53371"
      },
      "execution_count": null,
      "outputs": [
        {
          "output_type": "display_data",
          "data": {
            "text/plain": [
              "<Figure size 1080x576 with 1 Axes>"
            ],
            "image/png": "[encoded data removed]"
          },
          "metadata": {
            "needs_background": "light"
          }
        },
        {
          "output_type": "display_data",
          "data": {
            "text/plain": [
              "<Figure size 432x288 with 1 Axes>"
            ],
            "image/png": "[encoded data removed]"
          },
          "metadata": {
            "needs_background": "light"
          }
        }
      ]
    },
    {
      "cell_type": "code",
      "execution_count": null,
      "metadata": {
        "id": "6-NYe1wyGI4V"
      },
      "outputs": [],
      "source": [
        "submission = pd.DataFrame({'label':y_pred})\n",
        "submission.index.name = 'id'\n",
        "submission.to_csv('/content/drive/MyDrive/Queens_Practical/Data_Mining/compt6/sample_submission.csv')"
      ]
    },
    {
      "cell_type": "markdown",
      "metadata": {
        "id": "Xk0RaOmhGI4V"
      },
      "source": [
        "#### Result"
      ]
    },
    {
      "cell_type": "markdown",
      "metadata": {
        "id": "AzFCHORUGI4V"
      },
      "source": [
        "Accuracy in **kaggle** =0.83610 \\\n",
        "From the diagram, the model learn better than last trials and the overfitting is reduce so I will try in the next trials to improve the accuracy more by using message_calculation_class and change preprocessing"
      ]
    },
    {
      "cell_type": "markdown",
      "metadata": {
        "id": "OJ7s-t3qV2Et"
      },
      "source": [
        "### **Trial 3**"
      ]
    },
    {
      "cell_type": "markdown",
      "metadata": {
        "id": "-kGWKeMFV2Eu"
      },
      "source": [
        "* In this trial I will use:\n",
        " * I will use **balanced** data\n",
        " * Preprocessing\n",
        "   * **max_vocab = 450** , max_len = 100\n",
        "   * Prepare nodes, labels, and links\n",
        "   * Tokenize and convert data into integer numbers\n",
        "   * Padding to tokenize\n",
        "   * Generate multiple batches\n",
        "   * Embedding \n",
        "  * Model\n",
        "   * Layers\n",
        "      * I will use GNN as an input \n",
        "      * GNN layer\n",
        "          * Hyper parameters\n",
        "            * I will use default hyper parameters\n",
        "            * **hidden_dim = 64**\n",
        "            * **message_calculation_class = GGNN**\n",
        "      * Average layer\n",
        "      * Dense layer with sigmoid activation function\n",
        "   * Compile the model using AUC curve\n",
        "   * Fit the model using epoch = 50 and batch_size = 16\n",
        "   * Predict the model\n",
        "\n",
        "**My thoughts and observations :** The accuracy would be between 0.83 and 0.85"
      ]
    },
    {
      "cell_type": "markdown",
      "source": [
        "**GGNN (Gated Graph Neural Networks)**\n",
        "\n",
        "It has four stages to produce the required output, and\n",
        "it is suitable for non-sequential outputs. It uses a message-passing mechanism to compute graph states.\\\n",
        "Stages:\n",
        "1. Start by examining the current neighbouring states.\n",
        "2. Prepare the message that you want to send.\n",
        "3. Summarized the message received\n",
        "4. Enter the MSG into the GRU layers to transfer the message from the current state into the next state."
      ],
      "metadata": {
        "id": "NbvvVJDtnSo5"
      }
    },
    {
      "cell_type": "markdown",
      "metadata": {
        "id": "z_QeV2Z9V2Eu"
      },
      "source": [
        "#### Preprocessing"
      ]
    },
    {
      "cell_type": "code",
      "source": [
        "max_vocab = 450\n",
        "max_len = 100\n",
        "\n",
        "# build vocabulary from training set\n",
        "all_nodes = [s[0] for s in training_set]\n",
        "# we use tokenizer as the data contain letters that need to tokenize\n",
        "tokenizer = Tokenizer(num_words=max_vocab)\n",
        "# fit_on_texts used to updates internal vocabulary based on a list of texts\n",
        "tokenizer.fit_on_texts(all_nodes)"
      ],
      "metadata": {
        "id": "r8s6e47QV2Eu"
      },
      "execution_count": null,
      "outputs": []
    },
    {
      "cell_type": "code",
      "source": [
        "\n",
        "def prepare_single_batch(samples):\n",
        "  # samples return 3 values nodes, labels, and links so we will take node only\n",
        "    sample_nodes = [s[0] for s in samples]\n",
        "    # texts_to_sequences used to transforms each text in texts to a sequence of integers\n",
        "    sample_nodes = tokenizer.texts_to_sequences(sample_nodes)\n",
        "    # put padding to tokenizers\n",
        "    sample_nodes = pad_sequences(sample_nodes, padding='post')\n",
        "\n",
        "    # max_nodes_len to know the number of nodes in each sample\n",
        "    max_nodes_len = np.shape(sample_nodes)[1]                           #shape: (num of samples, number of nodes)\n",
        "    edges = [s[1]+i*max_nodes_len for i,s in enumerate(samples)]        #s[1]: links, i*max_nodes_len: to start indexing from current node not from 0 again\n",
        "    edges = [e for e in edges if len(e) > 0]                          #make sure all elements(edges) are non-zero\n",
        "    # takes order of graph and multiply by max number of nodes\n",
        "    node_to_graph = [[i]*max_nodes_len for i in range(len(samples))]\n",
        "\n",
        "    \n",
        "    # put all nodes and edges with each other in 1D array\n",
        "    all_nodes = np.reshape(sample_nodes, -1)      #concatenate nodes of all samples together\n",
        "    all_edges = np.concatenate(edges)             #concatenate edges of all samples together (because edge is tuple, doesnt hae reshape, output is 2D)\n",
        "\n",
        "    node_to_graph = np.reshape(node_to_graph, -1)\n",
        "    return {\n",
        "        'data': all_nodes,\n",
        "        'edges': all_edges,\n",
        "        'node2grah': node_to_graph,\n",
        "    }, np.array([s[2] for s in samples])\n",
        "\n",
        "\n",
        "# gen_batch this function used to generate multiple batches by calling prepare_single_batch function\n",
        "def gen_batch(dataset, batch_size=16, repeat=False, shuffle=True):\n",
        "    while True:\n",
        "        dataset = list(dataset)\n",
        "        if shuffle:\n",
        "            random.shuffle(dataset)\n",
        "        l = len(dataset)\n",
        "        for ndx in range(0, l, batch_size):\n",
        "            batch_samples = dataset[ndx:min(ndx + batch_size, l)]\n",
        "            yield prepare_single_batch(batch_samples)\n",
        "        if not repeat:\n",
        "            break\n"
      ],
      "metadata": {
        "id": "9CQ7TyS-V2Eu"
      },
      "execution_count": null,
      "outputs": []
    },
    {
      "cell_type": "code",
      "source": [
        "# showing one batch:\n",
        "# batch_size put on it the number of samples that i want to be in one batch\n",
        "for train_batch in gen_batch(training_set, batch_size=4):\n",
        "    for k,v in train_batch[0].items():          #k: labels, v: values\n",
        "        print(k)\n",
        "        print(v)\n",
        "        #print(len(v))\n",
        "        pass\n",
        "    print('label', train_batch[1])\n",
        "    break\n",
        "\n"
      ],
      "metadata": {
        "colab": {
          "base_uri": "https://localhost:8080/"
        },
        "outputId": "14f33042-9197-44f0-baad-b802dec0e440",
        "id": "7IctUfcHV2Ev"
      },
      "execution_count": null,
      "outputs": [
        {
          "output_type": "stream",
          "name": "stdout",
          "text": [
            "data\n",
            "[2 2 2 2 3 3 1 1 1 1 1 1 1 1 1 1 1 1 0 0 0 0 0 0 0 0 0 0 0 0 0 0 0 0 0 0 0\n",
            " 0 0 0 0 0 0 0 0 0 0 0 0 0 2 2 2 2 2 2 2 2 2 2 2 2 2 2 2 2 2 1 1 1 1 1 1 1\n",
            " 1 1 1 1 1 1 1 1 1 1 1 1 1 1 1 1 1 1 1 1 1 1 1 1 1 1 5 2 2 2 3 3 3 1 1 1 1\n",
            " 1 1 1 1 1 1 1 1 1 1 1 1 1 0 0 0 0 0 0 0 0 0 0 0 0 0 0 0 0 0 0 0 0 0 0 0 0\n",
            " 0 0 3 3 3 3 3 1 1 1 1 1 1 1 1 1 1 1 1 1 1 1 1 1 1 1 1 0 0 0 0 0 0 0 0 0 0\n",
            " 0 0 0 0 0 0 0 0 0 0 0 0 0 0 0]\n",
            "edges\n",
            "[[  0   5]\n",
            " [  0  16]\n",
            " [  1   4]\n",
            " [  1  15]\n",
            " [  2  15]\n",
            " [  3  16]\n",
            " [  4   9]\n",
            " [  5   8]\n",
            " [  6   9]\n",
            " [  6  10]\n",
            " [  6  13]\n",
            " [  6  15]\n",
            " [  7   8]\n",
            " [  7  10]\n",
            " [  7  14]\n",
            " [  7  16]\n",
            " [  8  11]\n",
            " [  9  12]\n",
            " [ 11  13]\n",
            " [ 11  17]\n",
            " [ 12  14]\n",
            " [ 12  17]\n",
            " [ 50  67]\n",
            " [ 50  70]\n",
            " [ 67  51]\n",
            " [ 51  76]\n",
            " [ 68  52]\n",
            " [ 52  86]\n",
            " [ 53  71]\n",
            " [ 72  54]\n",
            " [ 55  73]\n",
            " [ 56  79]\n",
            " [ 57  80]\n",
            " [ 58  81]\n",
            " [ 59  86]\n",
            " [ 59  93]\n",
            " [ 60  88]\n",
            " [ 60  91]\n",
            " [ 61  85]\n",
            " [ 61  96]\n",
            " [ 62  88]\n",
            " [ 63  92]\n",
            " [ 63  98]\n",
            " [ 64  94]\n",
            " [ 65  95]\n",
            " [ 65  99]\n",
            " [ 66  95]\n",
            " [ 67  68]\n",
            " [ 67  72]\n",
            " [ 68  69]\n",
            " [ 69  70]\n",
            " [ 69  71]\n",
            " [ 70  73]\n",
            " [ 71  74]\n",
            " [ 72  78]\n",
            " [ 73  75]\n",
            " [ 74  75]\n",
            " [ 74  81]\n",
            " [ 75  79]\n",
            " [ 76  77]\n",
            " [ 76  80]\n",
            " [ 77  78]\n",
            " [ 77  84]\n",
            " [ 79  85]\n",
            " [ 80  82]\n",
            " [ 81  87]\n",
            " [ 82  83]\n",
            " [ 82  88]\n",
            " [ 83  84]\n",
            " [ 83  89]\n",
            " [ 85  87]\n",
            " [ 86  90]\n",
            " [ 89  91]\n",
            " [ 90  92]\n",
            " [ 91  95]\n",
            " [ 92  94]\n",
            " [ 93  94]\n",
            " [ 93  97]\n",
            " [100 109]\n",
            " [101 108]\n",
            " [102 106]\n",
            " [103 106]\n",
            " [104 107]\n",
            " [104 109]\n",
            " [104 111]\n",
            " [105 113]\n",
            " [105 114]\n",
            " [106 119]\n",
            " [107 108]\n",
            " [107 110]\n",
            " [108 109]\n",
            " [110 112]\n",
            " [110 114]\n",
            " [111 115]\n",
            " [111 116]\n",
            " [112 113]\n",
            " [112 117]\n",
            " [113 118]\n",
            " [115 120]\n",
            " [116 121]\n",
            " [117 122]\n",
            " [118 123]\n",
            " [119 120]\n",
            " [119 121]\n",
            " [122 123]\n",
            " [150 155]\n",
            " [150 157]\n",
            " [151 156]\n",
            " [151 157]\n",
            " [152 153]\n",
            " [152 157]\n",
            " [153 158]\n",
            " [154 159]\n",
            " [154 169]\n",
            " [155 156]\n",
            " [155 160]\n",
            " [156 161]\n",
            " [158 159]\n",
            " [158 162]\n",
            " [159 166]\n",
            " [160 164]\n",
            " [161 165]\n",
            " [162 163]\n",
            " [163 167]\n",
            " [163 168]\n",
            " [164 165]\n",
            " [166 170]\n",
            " [167 172]\n",
            " [168 173]\n",
            " [169 171]\n",
            " [170 171]\n",
            " [172 174]\n",
            " [173 174]]\n",
            "node2grah\n",
            "[0 0 0 0 0 0 0 0 0 0 0 0 0 0 0 0 0 0 0 0 0 0 0 0 0 0 0 0 0 0 0 0 0 0 0 0 0\n",
            " 0 0 0 0 0 0 0 0 0 0 0 0 0 1 1 1 1 1 1 1 1 1 1 1 1 1 1 1 1 1 1 1 1 1 1 1 1\n",
            " 1 1 1 1 1 1 1 1 1 1 1 1 1 1 1 1 1 1 1 1 1 1 1 1 1 1 2 2 2 2 2 2 2 2 2 2 2\n",
            " 2 2 2 2 2 2 2 2 2 2 2 2 2 2 2 2 2 2 2 2 2 2 2 2 2 2 2 2 2 2 2 2 2 2 2 2 2\n",
            " 2 2 3 3 3 3 3 3 3 3 3 3 3 3 3 3 3 3 3 3 3 3 3 3 3 3 3 3 3 3 3 3 3 3 3 3 3\n",
            " 3 3 3 3 3 3 3 3 3 3 3 3 3 3 3]\n",
            "label [0 1 0 1]\n"
          ]
        }
      ]
    },
    {
      "cell_type": "markdown",
      "metadata": {
        "id": "D7YE8lELV2Ev"
      },
      "source": [
        "#### Model"
      ]
    },
    {
      "cell_type": "code",
      "execution_count": null,
      "metadata": {
        "colab": {
          "base_uri": "https://localhost:8080/"
        },
        "outputId": "970d8760-584d-4444-9cd5-5cb80464340b",
        "id": "D8mR93ygV2Ev"
      },
      "outputs": [
        {
          "output_type": "stream",
          "name": "stdout",
          "text": [
            "gnn_out KerasTensor(type_spec=TensorSpec(shape=(None, 64), dtype=tf.float32, name=None), name='gnn_5/StatefulPartitionedCall:0', description=\"created by layer 'gnn_5'\")\n",
            "mean: KerasTensor(type_spec=TensorSpec(shape=(None, 64), dtype=tf.float32, name=None), name='tf.math.segment_mean_5/SegmentMean:0', description=\"created by layer 'tf.math.segment_mean_5'\")\n",
            "pred: KerasTensor(type_spec=TensorSpec(shape=(None, 1), dtype=tf.float32, name=None), name='dense_5/Sigmoid:0', description=\"created by layer 'dense_5'\")\n",
            "Model: \"model_5\"\n",
            "__________________________________________________________________________________________________\n",
            " Layer (type)                   Output Shape         Param #     Connected to                     \n",
            "==================================================================================================\n",
            " input_18 (InputLayer)          [(None,)]            0           []                               \n",
            "                                                                                                  \n",
            " input_16 (InputLayer)          [(None,)]            0           []                               \n",
            "                                                                                                  \n",
            " tf.math.reduce_max_5 (TFOpLamb  ()                  0           ['input_18[0][0]']               \n",
            " da)                                                                                              \n",
            "                                                                                                  \n",
            " embedding_5 (Embedding)        (None, 20)           9000        ['input_16[0][0]']               \n",
            "                                                                                                  \n",
            " input_17 (InputLayer)          [(None, 2)]          0           []                               \n",
            "                                                                                                  \n",
            " tf.__operators__.add_5 (TFOpLa  ()                  0           ['tf.math.reduce_max_5[0][0]']   \n",
            " mbda)                                                                                            \n",
            "                                                                                                  \n",
            " gnn_5 (GNN)                    (None, 64)           171392      ['embedding_5[0][0]',            \n",
            "                                                                  'input_17[0][0]',               \n",
            "                                                                  'input_18[0][0]',               \n",
            "                                                                  'tf.__operators__.add_5[0][0]'] \n",
            "                                                                                                  \n",
            " tf.math.segment_mean_5 (TFOpLa  (None, 64)          0           ['gnn_5[0][0]',                  \n",
            " mbda)                                                            'input_18[0][0]']               \n",
            "                                                                                                  \n",
            " dense_5 (Dense)                (None, 1)            65          ['tf.math.segment_mean_5[0][0]'] \n",
            "                                                                                                  \n",
            "==================================================================================================\n",
            "Total params: 180,457\n",
            "Trainable params: 180,457\n",
            "Non-trainable params: 0\n",
            "__________________________________________________________________________________________________\n"
          ]
        }
      ],
      "source": [
        "data = keras.Input(batch_shape=(None,))\n",
        "\n",
        "# the first dim is different to the previous one. it is the total number of edges in this batch\n",
        "edge = keras.Input(batch_shape=(None, 2), dtype=tf.int32)     #edge is 2D\n",
        "node2graph = keras.Input(batch_shape=(None,), dtype=tf.int32)\n",
        "embeded = Embedding(tokenizer.num_words, 20)(data) # embedding data\n",
        "\n",
        "# number of graphs (number of samples)\n",
        "num_graph = tf.reduce_max(node2graph)+1\n",
        "\n",
        "gnn_input = GNNInput(\n",
        "    node_features=embeded, # nodes after embedding\n",
        "    adjacency_lists=(edge,),\n",
        "    node_to_graph_map=node2graph, \n",
        "    num_graphs=num_graph, # number of samples\n",
        ")\n",
        "# Tuning hyperparameters\n",
        "params = GNN.get_default_hyperparameters()\n",
        "params[\"hidden_dim\"] = 64\n",
        "params['message_calculation_class'] = 'GGNN'\n",
        "gnn_layer = GNN(params)\n",
        "gnn_out = gnn_layer(gnn_input)\n",
        "\n",
        "print('gnn_out', gnn_out)\n",
        "\n",
        "avg = segment_mean(  # Average layer (segment_mea is used to get the mean of elements in segments of a tensor)\n",
        "    data=gnn_out,\n",
        "    segment_ids=node2graph\n",
        ")\n",
        "print('mean:', avg)\n",
        "\n",
        "pred = Dense(1, activation='sigmoid')(avg)        #binary classification: Dense(2), but here we only output 1 probability\n",
        "print('pred:', pred)\n",
        "\n",
        "model = Model(\n",
        "    inputs={\n",
        "        'data': data,\n",
        "        'edges': edge,\n",
        "        'node2grah': node2graph,\n",
        "    },\n",
        "    outputs=pred\n",
        ")\n",
        "model.summary()"
      ]
    },
    {
      "cell_type": "code",
      "execution_count": null,
      "metadata": {
        "id": "ww3dVsrOV2Ev"
      },
      "outputs": [],
      "source": [
        "model.compile(\n",
        "    loss='BinaryCrossentropy',\n",
        "    metrics=['AUC']\n",
        ")"
      ]
    },
    {
      "cell_type": "code",
      "source": [
        "batch_size = 16\n",
        "# ceil function returns a ceiling value\n",
        "num_batchs = math.ceil(len(training_set) / batch_size)\n",
        "num_batchs_validation = math.ceil(len(validation_set) / batch_size)\n",
        "\n",
        "# Training the model with batch size = 16 and epochs 50\n",
        "history=model.fit(\n",
        "    gen_batch(\n",
        "        training_set, batch_size=batch_size, repeat=True\n",
        "    ),\n",
        "    steps_per_epoch=num_batchs,\n",
        "    epochs=50,\n",
        "    validation_data=gen_batch(\n",
        "        validation_set, batch_size=16, repeat=True\n",
        "    ),\n",
        "    validation_steps=num_batchs_validation,\n",
        ")"
      ],
      "metadata": {
        "colab": {
          "base_uri": "https://localhost:8080/"
        },
        "outputId": "0c48894f-fd0d-405f-a138-7bc7662475a1",
        "id": "AStYY9rNV2Ev"
      },
      "execution_count": null,
      "outputs": [
        {
          "output_type": "stream",
          "name": "stdout",
          "text": [
            "Epoch 1/50\n"
          ]
        },
        {
          "output_type": "stream",
          "name": "stderr",
          "text": [
            "/usr/local/lib/python3.7/dist-packages/tensorflow/python/framework/indexed_slices.py:446: UserWarning: Converting sparse IndexedSlices(IndexedSlices(indices=Tensor(\"gradients/ggnn_3/embedding_lookup_grad/Reshape_1:0\", shape=(None,), dtype=int32), values=Tensor(\"gradients/ggnn_3/embedding_lookup_grad/Reshape:0\", shape=(None, 64), dtype=float32), dense_shape=Tensor(\"gradients/ggnn_3/embedding_lookup_grad/Cast:0\", shape=(2,), dtype=int32))) to a dense Tensor of unknown shape. This may consume a large amount of memory.\n",
            "  \"shape. This may consume a large amount of memory.\" % value)\n",
            "/usr/local/lib/python3.7/dist-packages/tensorflow/python/framework/indexed_slices.py:446: UserWarning: Converting sparse IndexedSlices(IndexedSlices(indices=Tensor(\"gradients/ggnn_2/embedding_lookup_grad/Reshape_1:0\", shape=(None,), dtype=int32), values=Tensor(\"gradients/ggnn_2/embedding_lookup_grad/Reshape:0\", shape=(None, 64), dtype=float32), dense_shape=Tensor(\"gradients/ggnn_2/embedding_lookup_grad/Cast:0\", shape=(2,), dtype=int32))) to a dense Tensor of unknown shape. This may consume a large amount of memory.\n",
            "  \"shape. This may consume a large amount of memory.\" % value)\n",
            "/usr/local/lib/python3.7/dist-packages/tensorflow/python/framework/indexed_slices.py:446: UserWarning: Converting sparse IndexedSlices(IndexedSlices(indices=Tensor(\"gradients/ggnn_1/embedding_lookup_grad/Reshape_1:0\", shape=(None,), dtype=int32), values=Tensor(\"gradients/ggnn_1/embedding_lookup_grad/Reshape:0\", shape=(None, 64), dtype=float32), dense_shape=Tensor(\"gradients/ggnn_1/embedding_lookup_grad/Cast:0\", shape=(2,), dtype=int32))) to a dense Tensor of unknown shape. This may consume a large amount of memory.\n",
            "  \"shape. This may consume a large amount of memory.\" % value)\n",
            "/usr/local/lib/python3.7/dist-packages/tensorflow/python/framework/indexed_slices.py:446: UserWarning: Converting sparse IndexedSlices(IndexedSlices(indices=Tensor(\"gradients/ggnn/embedding_lookup_grad/Reshape_1:0\", shape=(None,), dtype=int32), values=Tensor(\"gradients/ggnn/embedding_lookup_grad/Reshape:0\", shape=(None, 64), dtype=float32), dense_shape=Tensor(\"gradients/ggnn/embedding_lookup_grad/Cast:0\", shape=(2,), dtype=int32))) to a dense Tensor of unknown shape. This may consume a large amount of memory.\n",
            "  \"shape. This may consume a large amount of memory.\" % value)\n"
          ]
        },
        {
          "output_type": "stream",
          "name": "stdout",
          "text": [
            "2530/2530 [==============================] - 76s 28ms/step - loss: 0.6010 - auc: 0.7391 - val_loss: 0.5927 - val_auc: 0.7960\n",
            "Epoch 2/50\n",
            "2530/2530 [==============================] - 76s 30ms/step - loss: 0.5377 - auc: 0.8063 - val_loss: 0.5085 - val_auc: 0.8312\n",
            "Epoch 3/50\n",
            "2530/2530 [==============================] - 64s 25ms/step - loss: 0.4961 - auc: 0.8398 - val_loss: 0.4761 - val_auc: 0.8548\n",
            "Epoch 4/50\n",
            "2530/2530 [==============================] - 64s 25ms/step - loss: 0.4570 - auc: 0.8670 - val_loss: 0.4544 - val_auc: 0.8841\n",
            "Epoch 5/50\n",
            "2530/2530 [==============================] - 64s 25ms/step - loss: 0.4149 - auc: 0.8920 - val_loss: 0.4092 - val_auc: 0.8966\n",
            "Epoch 6/50\n",
            "2530/2530 [==============================] - 66s 26ms/step - loss: 0.3880 - auc: 0.9061 - val_loss: 0.3777 - val_auc: 0.9116\n",
            "Epoch 7/50\n",
            "2530/2530 [==============================] - 64s 25ms/step - loss: 0.3579 - auc: 0.9201 - val_loss: 0.3603 - val_auc: 0.9235\n",
            "Epoch 8/50\n",
            "2530/2530 [==============================] - 63s 25ms/step - loss: 0.3279 - auc: 0.9326 - val_loss: 0.3430 - val_auc: 0.9307\n",
            "Epoch 9/50\n",
            "2530/2530 [==============================] - 64s 25ms/step - loss: 0.3043 - auc: 0.9415 - val_loss: 0.2963 - val_auc: 0.9441\n",
            "Epoch 10/50\n",
            "2530/2530 [==============================] - 67s 26ms/step - loss: 0.2859 - auc: 0.9480 - val_loss: 0.2976 - val_auc: 0.9432\n",
            "Epoch 11/50\n",
            "2530/2530 [==============================] - 65s 26ms/step - loss: 0.2696 - auc: 0.9530 - val_loss: 0.2765 - val_auc: 0.9538\n",
            "Epoch 12/50\n",
            "2530/2530 [==============================] - 65s 26ms/step - loss: 0.2539 - auc: 0.9578 - val_loss: 0.2639 - val_auc: 0.9600\n",
            "Epoch 13/50\n",
            "2530/2530 [==============================] - 64s 25ms/step - loss: 0.2392 - auc: 0.9622 - val_loss: 0.2718 - val_auc: 0.9607\n",
            "Epoch 14/50\n",
            "2530/2530 [==============================] - 69s 27ms/step - loss: 0.2315 - auc: 0.9641 - val_loss: 0.2346 - val_auc: 0.9643\n",
            "Epoch 15/50\n",
            "2530/2530 [==============================] - 83s 33ms/step - loss: 0.2202 - auc: 0.9668 - val_loss: 0.2262 - val_auc: 0.9694\n",
            "Epoch 16/50\n",
            "2530/2530 [==============================] - 76s 30ms/step - loss: 0.2072 - auc: 0.9705 - val_loss: 0.2497 - val_auc: 0.9692\n",
            "Epoch 17/50\n",
            "2530/2530 [==============================] - 84s 33ms/step - loss: 0.2013 - auc: 0.9720 - val_loss: 0.2625 - val_auc: 0.9659\n",
            "Epoch 18/50\n",
            "2530/2530 [==============================] - 72s 29ms/step - loss: 0.1945 - auc: 0.9734 - val_loss: 0.2215 - val_auc: 0.9724\n",
            "Epoch 19/50\n",
            "2530/2530 [==============================] - 65s 26ms/step - loss: 0.1890 - auc: 0.9749 - val_loss: 0.2126 - val_auc: 0.9736\n",
            "Epoch 20/50\n",
            "2530/2530 [==============================] - 66s 26ms/step - loss: 0.1814 - auc: 0.9763 - val_loss: 0.2313 - val_auc: 0.9682\n",
            "Epoch 21/50\n",
            "2530/2530 [==============================] - 65s 26ms/step - loss: 0.1767 - auc: 0.9776 - val_loss: 0.2408 - val_auc: 0.9680\n",
            "Epoch 22/50\n",
            "2530/2530 [==============================] - 65s 26ms/step - loss: 0.1716 - auc: 0.9787 - val_loss: 0.2307 - val_auc: 0.9731\n",
            "Epoch 23/50\n",
            "2530/2530 [==============================] - 64s 25ms/step - loss: 0.1659 - auc: 0.9797 - val_loss: 0.2194 - val_auc: 0.9755\n",
            "Epoch 24/50\n",
            "2530/2530 [==============================] - 65s 26ms/step - loss: 0.1620 - auc: 0.9803 - val_loss: 0.2048 - val_auc: 0.9749\n",
            "Epoch 25/50\n",
            "2530/2530 [==============================] - 68s 27ms/step - loss: 0.1618 - auc: 0.9804 - val_loss: 0.2099 - val_auc: 0.9717\n",
            "Epoch 26/50\n",
            "2530/2530 [==============================] - 72s 28ms/step - loss: 0.1569 - auc: 0.9814 - val_loss: 0.2472 - val_auc: 0.9732\n",
            "Epoch 27/50\n",
            "2530/2530 [==============================] - 64s 25ms/step - loss: 0.1509 - auc: 0.9829 - val_loss: 0.2298 - val_auc: 0.9760\n",
            "Epoch 28/50\n",
            "2530/2530 [==============================] - 65s 26ms/step - loss: 0.1504 - auc: 0.9828 - val_loss: 0.1977 - val_auc: 0.9767\n",
            "Epoch 29/50\n",
            "2530/2530 [==============================] - 64s 25ms/step - loss: 0.1459 - auc: 0.9836 - val_loss: 0.2286 - val_auc: 0.9715\n",
            "Epoch 30/50\n",
            "2530/2530 [==============================] - 67s 26ms/step - loss: 0.1441 - auc: 0.9839 - val_loss: 0.2082 - val_auc: 0.9749\n",
            "Epoch 31/50\n",
            "2530/2530 [==============================] - 67s 27ms/step - loss: 0.1450 - auc: 0.9838 - val_loss: 0.2659 - val_auc: 0.9746\n",
            "Epoch 32/50\n",
            "2530/2530 [==============================] - 65s 26ms/step - loss: 0.1362 - auc: 0.9857 - val_loss: 0.2232 - val_auc: 0.9753\n",
            "Epoch 33/50\n",
            "2530/2530 [==============================] - 66s 26ms/step - loss: 0.1371 - auc: 0.9853 - val_loss: 0.2060 - val_auc: 0.9776\n",
            "Epoch 34/50\n",
            "2530/2530 [==============================] - 68s 27ms/step - loss: 0.1349 - auc: 0.9856 - val_loss: 0.2172 - val_auc: 0.9770\n",
            "Epoch 35/50\n",
            "2530/2530 [==============================] - 69s 27ms/step - loss: 0.1307 - auc: 0.9865 - val_loss: 0.2227 - val_auc: 0.9767\n",
            "Epoch 36/50\n",
            "2530/2530 [==============================] - 69s 27ms/step - loss: 0.1305 - auc: 0.9865 - val_loss: 0.2189 - val_auc: 0.9756\n",
            "Epoch 37/50\n",
            "2530/2530 [==============================] - 66s 26ms/step - loss: 0.1364 - auc: 0.9850 - val_loss: 0.2207 - val_auc: 0.9766\n",
            "Epoch 38/50\n",
            "2530/2530 [==============================] - 66s 26ms/step - loss: 0.1262 - auc: 0.9871 - val_loss: 0.2294 - val_auc: 0.9732\n",
            "Epoch 39/50\n",
            "2530/2530 [==============================] - 67s 26ms/step - loss: 0.1287 - auc: 0.9867 - val_loss: 0.2312 - val_auc: 0.9784\n",
            "Epoch 40/50\n",
            "2530/2530 [==============================] - 65s 26ms/step - loss: 0.1255 - auc: 0.9874 - val_loss: 0.2508 - val_auc: 0.9725\n",
            "Epoch 41/50\n",
            "2530/2530 [==============================] - 65s 26ms/step - loss: 0.1274 - auc: 0.9869 - val_loss: 0.1907 - val_auc: 0.9792\n",
            "Epoch 42/50\n",
            "2530/2530 [==============================] - 64s 25ms/step - loss: 0.1216 - auc: 0.9878 - val_loss: 0.1921 - val_auc: 0.9797\n",
            "Epoch 43/50\n",
            "2530/2530 [==============================] - 64s 25ms/step - loss: 0.1228 - auc: 0.9874 - val_loss: 0.2222 - val_auc: 0.9762\n",
            "Epoch 44/50\n",
            "2530/2530 [==============================] - 64s 25ms/step - loss: 0.1211 - auc: 0.9880 - val_loss: 0.2029 - val_auc: 0.9805\n",
            "Epoch 45/50\n",
            "2530/2530 [==============================] - 65s 26ms/step - loss: 0.1226 - auc: 0.9878 - val_loss: 0.2307 - val_auc: 0.9792\n",
            "Epoch 46/50\n",
            "2530/2530 [==============================] - 65s 26ms/step - loss: 0.1197 - auc: 0.9877 - val_loss: 0.1903 - val_auc: 0.9785\n",
            "Epoch 47/50\n",
            "2530/2530 [==============================] - 64s 25ms/step - loss: 0.1191 - auc: 0.9879 - val_loss: 0.2202 - val_auc: 0.9767\n",
            "Epoch 48/50\n",
            "2530/2530 [==============================] - 68s 27ms/step - loss: 0.1207 - auc: 0.9880 - val_loss: 0.2325 - val_auc: 0.9775\n",
            "Epoch 49/50\n",
            "2530/2530 [==============================] - 66s 26ms/step - loss: 0.1214 - auc: 0.9874 - val_loss: 0.2081 - val_auc: 0.9762\n",
            "Epoch 50/50\n",
            "2530/2530 [==============================] - 64s 25ms/step - loss: 0.1188 - auc: 0.9883 - val_loss: 0.2400 - val_auc: 0.9768\n"
          ]
        }
      ]
    },
    {
      "cell_type": "code",
      "source": [
        "# predict function is used to enable us to predict the labels of the data values on the basis of the trained model.\n",
        "y_pred = model.predict(\n",
        "    gen_batch(testing_set, batch_size=16, shuffle=False)\n",
        ")\n",
        "# repahe to get the first col only\n",
        "y_pred = np.reshape(y_pred, -1)\n",
        "y_pred.shape"
      ],
      "metadata": {
        "colab": {
          "base_uri": "https://localhost:8080/"
        },
        "id": "ZVrvGxFtV2Ew",
        "outputId": "c7cd1eeb-28dc-4322-8eef-a653628ab81f"
      },
      "execution_count": null,
      "outputs": [
        {
          "output_type": "execute_result",
          "data": {
            "text/plain": [
              "(12326,)"
            ]
          },
          "metadata": {},
          "execution_count": 97
        }
      ]
    },
    {
      "cell_type": "code",
      "source": [
        "y_pred"
      ],
      "metadata": {
        "colab": {
          "base_uri": "https://localhost:8080/"
        },
        "id": "kT5iRr3AV2Ew",
        "outputId": "c0fbb017-c203-4705-ef50-5628bf205748"
      },
      "execution_count": null,
      "outputs": [
        {
          "output_type": "execute_result",
          "data": {
            "text/plain": [
              "array([6.1297677e-02, 4.7582290e-03, 4.8891390e-03, ..., 1.7803769e-06,\n",
              "       2.9569215e-05, 9.9874926e-01], dtype=float32)"
            ]
          },
          "metadata": {},
          "execution_count": 98
        }
      ]
    },
    {
      "cell_type": "markdown",
      "source": [
        "#### Display model"
      ],
      "metadata": {
        "id": "hz1CL9-iV2Ew"
      }
    },
    {
      "cell_type": "code",
      "source": [
        "# figure is used to create a new figure.\n",
        "plt.figure(figsize=(15, 8))\n",
        "plt.subplot(1, 2, 1)\n",
        "plt.plot(history.history['auc'])\n",
        "plt.plot(history.history['val_auc'])\n",
        "plt.title('model auc') # graph title\n",
        "plt.ylabel('Auc') # y axis lable\n",
        "plt.xlabel('epoch') # x axis lable\n",
        "plt.legend(['train', 'validation'], loc='upper left') # legend is an area describing the elements of the graph\n",
        "plt.show()\n",
        "plt.grid(True) # grid is the axis object's method toggles the visibility of the grid inside the figure.\n",
        "plt.subplot(1, 2, 1)\n",
        "plt.plot(history.history['loss'])\n",
        "plt.plot(history.history['val_loss'])\n",
        "plt.title('model loss')  # graph title\n",
        "plt.ylabel('loss') # y axis lable\n",
        "plt.xlabel('epoch')# x axis lable\n",
        "plt.legend(['train', 'validation'], loc='upper left')\n",
        "plt.show()"
      ],
      "metadata": {
        "colab": {
          "base_uri": "https://localhost:8080/",
          "height": 791
        },
        "id": "GTaO-N2KV2Ew",
        "outputId": "da9e09ce-2533-4a1b-adb8-b0f2ca3e0227"
      },
      "execution_count": null,
      "outputs": [
        {
          "output_type": "display_data",
          "data": {
            "text/plain": [
              "<Figure size 1080x576 with 1 Axes>"
            ],
            "image/png": "[encoded data removed]"
          },
          "metadata": {
            "needs_background": "light"
          }
        },
        {
          "output_type": "display_data",
          "data": {
            "text/plain": [
              "<Figure size 432x288 with 1 Axes>"
            ],
            "image/png": "[encoded data removed]"
          },
          "metadata": {
            "needs_background": "light"
          }
        }
      ]
    },
    {
      "cell_type": "code",
      "execution_count": null,
      "metadata": {
        "id": "oOBerhzzV2Ew"
      },
      "outputs": [],
      "source": [
        "submission = pd.DataFrame({'label':y_pred})\n",
        "submission.index.name = 'id'\n",
        "submission.to_csv('/content/drive/MyDrive/Queens_Practical/Data_Mining/compt6/sample_submission.csv')"
      ]
    },
    {
      "cell_type": "markdown",
      "metadata": {
        "id": "6a555-0xV2Ew"
      },
      "source": [
        "#### Result"
      ]
    },
    {
      "cell_type": "markdown",
      "metadata": {
        "id": "rkApWg5GV2Ew"
      },
      "source": [
        "Accuracy in **kaggle** =0.8567 \\\n",
        "From the diagram, the model learn better than last trials and the overfitting is very reduce and the accuracy very improved. In the next trial I will try to add more hyper parameters to improve accuracy more"
      ]
    },
    {
      "cell_type": "markdown",
      "metadata": {
        "id": "nUrlCPxFkvP0"
      },
      "source": [
        "### **Trial 4**"
      ]
    },
    {
      "cell_type": "markdown",
      "metadata": {
        "id": "1tfxKV-gkvP0"
      },
      "source": [
        "* In this trial I will use:\n",
        " * I will use **balanced** data\n",
        " * Preprocessing\n",
        "   * **max_vocab = 450** , max_len = 100\n",
        "   * Prepare nodes, labels, and links\n",
        "   * Tokenize and convert data into integer numbers\n",
        "   * Padding to tokenize\n",
        "   * Generate multiple batches\n",
        "   * Embedding \n",
        "  * Model\n",
        "   * Layers\n",
        "      * I will use GNN as an input \n",
        "      * GNN layer\n",
        "          * Hyper parameters\n",
        "            * I will use default hyper parameters\n",
        "            * **hidden_dim = 64**\n",
        "            * **layer_input_dropout_rate = 0.2**\n",
        "            * **use_inter_layer_layernorm = False**\n",
        "            * **message_calculation_class = GGNN**\n",
        "      * Average layer\n",
        "      * Dense layer with sigmoid activation function\n",
        "   * Compile the model using AUC curve\n",
        "   * Fit the model using epoch = 50 and batch_size = 16\n",
        "   * Predict the model\n",
        "\n",
        "**My thoughts and observations :** The accuracy would be between 0.85 and 0.86"
      ]
    },
    {
      "cell_type": "markdown",
      "source": [
        "**GGNN (Gated Graph Neural Networks)**\n",
        "\n",
        "It has four stages to produce the required output, and\n",
        "it is suitable for non-sequential outputs.It uses a message-passing mechanism to compute graph states.\\\n",
        "Stages:\n",
        "1. Start by examining the current neighbouring states.\n",
        "2. Prepare the message that you want to send.\n",
        "3. Summarized the message received\n",
        "4. Enter the MSG into the GRU layers to transfer the message from the current state into the next state."
      ],
      "metadata": {
        "id": "yutXsUWOrZRZ"
      }
    },
    {
      "cell_type": "markdown",
      "metadata": {
        "id": "wJWJZSZjkvP0"
      },
      "source": [
        "#### Preprocessing"
      ]
    },
    {
      "cell_type": "code",
      "source": [
        "max_vocab = 450\n",
        "max_len = 100\n",
        "\n",
        "# build vocabulary from training set\n",
        "all_nodes = [s[0] for s in training_set]\n",
        "# we use tokenizer as the data contain letters that need to tokenize\n",
        "tokenizer = Tokenizer(num_words=max_vocab)\n",
        "# fit_on_texts used to updates internal vocabulary based on a list of texts\n",
        "tokenizer.fit_on_texts(all_nodes)"
      ],
      "metadata": {
        "id": "Kw_ggpxVkvP0"
      },
      "execution_count": null,
      "outputs": []
    },
    {
      "cell_type": "code",
      "source": [
        "\n",
        "def prepare_single_batch(samples):\n",
        "  # samples return 3 values nodes, labels, and links so we will take node only\n",
        "    sample_nodes = [s[0] for s in samples]\n",
        "    # texts_to_sequences used to transforms each text in texts to a sequence of integers\n",
        "    sample_nodes = tokenizer.texts_to_sequences(sample_nodes)\n",
        "    # put padding to tokenizers\n",
        "    sample_nodes = pad_sequences(sample_nodes, padding='post')\n",
        "\n",
        "    # max_nodes_len to know the number of nodes in each sample\n",
        "    max_nodes_len = np.shape(sample_nodes)[1]                           #shape: (num of samples, number of nodes)\n",
        "    edges = [s[1]+i*max_nodes_len for i,s in enumerate(samples)]        #s[1]: links, i*max_nodes_len: to start indexing from current node not from 0 again\n",
        "    edges = [e for e in edges if len(e) > 0]                          #make sure all elements(edges) are non-zero\n",
        "    # takes order of graph and multiply by max number of nodes\n",
        "    node_to_graph = [[i]*max_nodes_len for i in range(len(samples))]\n",
        "\n",
        "    \n",
        "    # put all nodes and edges with each other in 1D array\n",
        "    all_nodes = np.reshape(sample_nodes, -1)      #concatenate nodes of all samples together\n",
        "    all_edges = np.concatenate(edges)             #concatenate edges of all samples together (because edge is tuple, doesnt hae reshape, output is 2D)\n",
        "\n",
        "    node_to_graph = np.reshape(node_to_graph, -1)\n",
        "    return {\n",
        "        'data': all_nodes,\n",
        "        'edges': all_edges,\n",
        "        'node2grah': node_to_graph,\n",
        "    }, np.array([s[2] for s in samples])\n",
        "\n",
        "\n",
        "# gen_batch this function used to generate multiple batches by calling prepare_single_batch function\n",
        "def gen_batch(dataset, batch_size=16, repeat=False, shuffle=True):\n",
        "    while True:\n",
        "        dataset = list(dataset)\n",
        "        if shuffle:\n",
        "            random.shuffle(dataset)\n",
        "        l = len(dataset)\n",
        "        for ndx in range(0, l, batch_size):\n",
        "            batch_samples = dataset[ndx:min(ndx + batch_size, l)]\n",
        "            yield prepare_single_batch(batch_samples)\n",
        "        if not repeat:\n",
        "            break\n"
      ],
      "metadata": {
        "id": "Bgdw9lM7kvP0"
      },
      "execution_count": null,
      "outputs": []
    },
    {
      "cell_type": "code",
      "source": [
        "# showing one batch:\n",
        "# batch_size put on it the number of samples that i want to be in one batch\n",
        "for train_batch in gen_batch(training_set, batch_size=4):\n",
        "    for k,v in train_batch[0].items():          #k: labels, v: values\n",
        "        print(k)\n",
        "        print(v)\n",
        "        #print(len(v))\n",
        "        pass\n",
        "    print('label', train_batch[1])\n",
        "    break\n",
        "\n"
      ],
      "metadata": {
        "colab": {
          "base_uri": "https://localhost:8080/"
        },
        "outputId": "510373c8-ca21-4265-df37-58354b568b32",
        "id": "vcKJm-y9kvP1"
      },
      "execution_count": null,
      "outputs": [
        {
          "output_type": "stream",
          "name": "stdout",
          "text": [
            "data\n",
            "[2 2 2 2 2 2 2 1 1 1 1 1 1 1 1 1 1 1 1 1 1 1 1 1 1 1 1 1 1 1 1 1 0 0 0 0 2\n",
            " 2 2 2 2 2 2 2 1 1 1 1 1 1 1 1 1 1 1 1 1 1 1 1 1 1 1 1 1 1 1 1 1 1 1 1 2 2\n",
            " 1 1 1 1 1 1 1 1 1 1 1 1 1 1 1 1 1 1 1 0 0 0 0 0 0 0 0 0 0 0 0 0 0 0 2 2 2\n",
            " 3 3 1 1 1 1 1 1 1 1 1 1 1 1 1 1 1 1 1 1 1 1 1 1 1 1 1 1 1 1 1 1 0]\n",
            "edges\n",
            "[[  8   0]\n",
            " [ 13   1]\n",
            " [  2  22]\n",
            " [  3  28]\n",
            " [  3  29]\n",
            " [ 25   4]\n",
            " [  4  30]\n",
            " [  5  29]\n",
            " [  6  30]\n",
            " [  7   8]\n",
            " [  7   9]\n",
            " [  7  17]\n",
            " [  8  10]\n",
            " [  8  16]\n",
            " [  9  11]\n",
            " [  9  14]\n",
            " [ 10  12]\n",
            " [ 10  15]\n",
            " [ 10  23]\n",
            " [ 11  13]\n",
            " [ 11  20]\n",
            " [ 11  22]\n",
            " [ 12  18]\n",
            " [ 12  21]\n",
            " [ 13  19]\n",
            " [ 13  24]\n",
            " [ 14  15]\n",
            " [ 16  18]\n",
            " [ 17  19]\n",
            " [ 20  26]\n",
            " [ 21  27]\n",
            " [ 21  28]\n",
            " [ 24  25]\n",
            " [ 25  26]\n",
            " [ 27  29]\n",
            " [ 30  31]\n",
            " [ 44  36]\n",
            " [ 49  36]\n",
            " [ 48  37]\n",
            " [ 52  38]\n",
            " [ 53  39]\n",
            " [ 40  54]\n",
            " [ 58  41]\n",
            " [ 42  64]\n",
            " [ 42  67]\n",
            " [ 43  67]\n",
            " [ 44  45]\n",
            " [ 44  49]\n",
            " [ 44  53]\n",
            " [ 45  46]\n",
            " [ 45  54]\n",
            " [ 45  60]\n",
            " [ 46  47]\n",
            " [ 46  55]\n",
            " [ 47  48]\n",
            " [ 47  51]\n",
            " [ 48  50]\n",
            " [ 48  57]\n",
            " [ 49  51]\n",
            " [ 50  52]\n",
            " [ 50  56]\n",
            " [ 50  63]\n",
            " [ 52  58]\n",
            " [ 52  59]\n",
            " [ 53  61]\n",
            " [ 54  62]\n",
            " [ 55  56]\n",
            " [ 57  59]\n",
            " [ 64  58]\n",
            " [ 58  65]\n",
            " [ 61  62]\n",
            " [ 64  66]\n",
            " [ 66  68]\n",
            " [ 67  69]\n",
            " [ 68  69]\n",
            " [ 68  70]\n",
            " [ 69  71]\n",
            " [ 72  75]\n",
            " [ 73  76]\n",
            " [ 74  75]\n",
            " [ 74  76]\n",
            " [ 74  78]\n",
            " [ 74  81]\n",
            " [ 75  77]\n",
            " [ 76  80]\n",
            " [ 77  79]\n",
            " [ 77  84]\n",
            " [ 78  79]\n",
            " [ 79  83]\n",
            " [ 80  82]\n",
            " [ 80  85]\n",
            " [ 81  82]\n",
            " [ 82  86]\n",
            " [ 83  88]\n",
            " [ 83  91]\n",
            " [ 84  90]\n",
            " [ 85  89]\n",
            " [ 86  87]\n",
            " [ 87  89]\n",
            " [ 87  92]\n",
            " [ 88  90]\n",
            " [108 118]\n",
            " [109 120]\n",
            " [110 136]\n",
            " [110 142]\n",
            " [111 118]\n",
            " [111 120]\n",
            " [111 123]\n",
            " [112 115]\n",
            " [112 122]\n",
            " [113 114]\n",
            " [113 115]\n",
            " [113 118]\n",
            " [114 117]\n",
            " [114 120]\n",
            " [115 116]\n",
            " [116 119]\n",
            " [116 121]\n",
            " [117 119]\n",
            " [117 124]\n",
            " [119 125]\n",
            " [121 122]\n",
            " [121 126]\n",
            " [122 127]\n",
            " [123 128]\n",
            " [123 129]\n",
            " [124 132]\n",
            " [125 133]\n",
            " [126 130]\n",
            " [127 131]\n",
            " [128 134]\n",
            " [129 135]\n",
            " [130 131]\n",
            " [132 137]\n",
            " [133 138]\n",
            " [134 136]\n",
            " [135 136]\n",
            " [137 139]\n",
            " [138 140]\n",
            " [139 141]\n",
            " [140 141]]\n",
            "node2grah\n",
            "[0 0 0 0 0 0 0 0 0 0 0 0 0 0 0 0 0 0 0 0 0 0 0 0 0 0 0 0 0 0 0 0 0 0 0 0 1\n",
            " 1 1 1 1 1 1 1 1 1 1 1 1 1 1 1 1 1 1 1 1 1 1 1 1 1 1 1 1 1 1 1 1 1 1 1 2 2\n",
            " 2 2 2 2 2 2 2 2 2 2 2 2 2 2 2 2 2 2 2 2 2 2 2 2 2 2 2 2 2 2 2 2 2 2 3 3 3\n",
            " 3 3 3 3 3 3 3 3 3 3 3 3 3 3 3 3 3 3 3 3 3 3 3 3 3 3 3 3 3 3 3 3 3]\n",
            "label [1 1 0 0]\n"
          ]
        }
      ]
    },
    {
      "cell_type": "markdown",
      "metadata": {
        "id": "ffo9hsP7kvP1"
      },
      "source": [
        "#### Model"
      ]
    },
    {
      "cell_type": "code",
      "execution_count": null,
      "metadata": {
        "colab": {
          "base_uri": "https://localhost:8080/"
        },
        "outputId": "b9fdbe06-3e90-4192-c530-aa1d524fdee2",
        "id": "6BKX9ULnkvP1"
      },
      "outputs": [
        {
          "output_type": "stream",
          "name": "stdout",
          "text": [
            "gnn_out KerasTensor(type_spec=TensorSpec(shape=(None, 64), dtype=tf.float32, name=None), name='gnn_6/StatefulPartitionedCall:0', description=\"created by layer 'gnn_6'\")\n",
            "mean: KerasTensor(type_spec=TensorSpec(shape=(None, 64), dtype=tf.float32, name=None), name='tf.math.segment_mean_6/SegmentMean:0', description=\"created by layer 'tf.math.segment_mean_6'\")\n",
            "pred: KerasTensor(type_spec=TensorSpec(shape=(None, 1), dtype=tf.float32, name=None), name='dense_6/Sigmoid:0', description=\"created by layer 'dense_6'\")\n",
            "Model: \"model_6\"\n",
            "__________________________________________________________________________________________________\n",
            " Layer (type)                   Output Shape         Param #     Connected to                     \n",
            "==================================================================================================\n",
            " input_21 (InputLayer)          [(None,)]            0           []                               \n",
            "                                                                                                  \n",
            " input_19 (InputLayer)          [(None,)]            0           []                               \n",
            "                                                                                                  \n",
            " tf.math.reduce_max_6 (TFOpLamb  ()                  0           ['input_21[0][0]']               \n",
            " da)                                                                                              \n",
            "                                                                                                  \n",
            " embedding_6 (Embedding)        (None, 20)           9000        ['input_19[0][0]']               \n",
            "                                                                                                  \n",
            " input_20 (InputLayer)          [(None, 2)]          0           []                               \n",
            "                                                                                                  \n",
            " tf.__operators__.add_6 (TFOpLa  ()                  0           ['tf.math.reduce_max_6[0][0]']   \n",
            " mbda)                                                                                            \n",
            "                                                                                                  \n",
            " gnn_6 (GNN)                    (None, 64)           171392      ['embedding_6[0][0]',            \n",
            "                                                                  'input_20[0][0]',               \n",
            "                                                                  'input_21[0][0]',               \n",
            "                                                                  'tf.__operators__.add_6[0][0]'] \n",
            "                                                                                                  \n",
            " tf.math.segment_mean_6 (TFOpLa  (None, 64)          0           ['gnn_6[0][0]',                  \n",
            " mbda)                                                            'input_21[0][0]']               \n",
            "                                                                                                  \n",
            " dense_6 (Dense)                (None, 1)            65          ['tf.math.segment_mean_6[0][0]'] \n",
            "                                                                                                  \n",
            "==================================================================================================\n",
            "Total params: 180,457\n",
            "Trainable params: 180,457\n",
            "Non-trainable params: 0\n",
            "__________________________________________________________________________________________________\n"
          ]
        }
      ],
      "source": [
        "data = keras.Input(batch_shape=(None,))\n",
        "\n",
        "# the first dim is different to the previous one. it is the total number of edges in this batch\n",
        "edge = keras.Input(batch_shape=(None, 2), dtype=tf.int32)     #edge is 2D\n",
        "node2graph = keras.Input(batch_shape=(None,), dtype=tf.int32)\n",
        "embeded = Embedding(tokenizer.num_words, 20)(data) # embedding data\n",
        "\n",
        "# number of graphs (number of samples)\n",
        "num_graph = tf.reduce_max(node2graph)+1\n",
        "\n",
        "gnn_input = GNNInput(\n",
        "    node_features=embeded, # nodes after embedding\n",
        "    adjacency_lists=(edge,),\n",
        "    node_to_graph_map=node2graph, \n",
        "    num_graphs=num_graph, # number of samples\n",
        ")\n",
        "# Tuning hyperparameters\n",
        "params = GNN.get_default_hyperparameters()\n",
        "params[\"hidden_dim\"] = 64\n",
        "params[\"use_inter_layer_layernorm\"] = False\n",
        "params[\"layer_input_dropout_rate\"] = 0.2\n",
        "params['message_calculation_class'] = 'GGNN'\n",
        "gnn_layer = GNN(params)\n",
        "gnn_out = gnn_layer(gnn_input)\n",
        "\n",
        "print('gnn_out', gnn_out)\n",
        "\n",
        "avg = segment_mean(  # Average layer (segment_mea is used to get the mean of elements in segments of a tensor)\n",
        "    data=gnn_out,\n",
        "    segment_ids=node2graph\n",
        ")\n",
        "print('mean:', avg)\n",
        "\n",
        "pred = Dense(1, activation='sigmoid')(avg)        #binary classification: Dense(2), but here we only output 1 probability\n",
        "print('pred:', pred)\n",
        "\n",
        "model = Model(\n",
        "    inputs={\n",
        "        'data': data,\n",
        "        'edges': edge,\n",
        "        'node2grah': node2graph,\n",
        "    },\n",
        "    outputs=pred\n",
        ")\n",
        "model.summary()"
      ]
    },
    {
      "cell_type": "code",
      "execution_count": null,
      "metadata": {
        "id": "yDC15SwCkvP1"
      },
      "outputs": [],
      "source": [
        "model.compile(\n",
        "    loss='BinaryCrossentropy',\n",
        "    metrics=['AUC']\n",
        ")"
      ]
    },
    {
      "cell_type": "code",
      "source": [
        "batch_size = 16\n",
        "# ceil function returns a ceiling value\n",
        "num_batchs = math.ceil(len(training_set) / batch_size)\n",
        "num_batchs_validation = math.ceil(len(validation_set) / batch_size)\n",
        "\n",
        "# Training the model with batch size = 16 and epochs 50\n",
        "history=model.fit(\n",
        "    gen_batch(\n",
        "        training_set, batch_size=batch_size, repeat=True\n",
        "    ),\n",
        "    steps_per_epoch=num_batchs,\n",
        "    epochs=50,\n",
        "    validation_data=gen_batch(\n",
        "        validation_set, batch_size=16, repeat=True\n",
        "    ),\n",
        "    validation_steps=num_batchs_validation,\n",
        ")"
      ],
      "metadata": {
        "colab": {
          "base_uri": "https://localhost:8080/"
        },
        "outputId": "2082719c-78e4-441f-b419-f29a8f945894",
        "id": "DrtylRqCkvP1"
      },
      "execution_count": null,
      "outputs": [
        {
          "output_type": "stream",
          "name": "stdout",
          "text": [
            "Epoch 1/50\n"
          ]
        },
        {
          "output_type": "stream",
          "name": "stderr",
          "text": [
            "/usr/local/lib/python3.7/dist-packages/tensorflow/python/framework/indexed_slices.py:446: UserWarning: Converting sparse IndexedSlices(IndexedSlices(indices=Tensor(\"gradients/ggnn_3/embedding_lookup_grad/Reshape_1:0\", shape=(None,), dtype=int32), values=Tensor(\"gradients/ggnn_3/embedding_lookup_grad/Reshape:0\", shape=(None, 64), dtype=float32), dense_shape=Tensor(\"gradients/ggnn_3/embedding_lookup_grad/Cast:0\", shape=(2,), dtype=int32))) to a dense Tensor of unknown shape. This may consume a large amount of memory.\n",
            "  \"shape. This may consume a large amount of memory.\" % value)\n",
            "/usr/local/lib/python3.7/dist-packages/tensorflow/python/framework/indexed_slices.py:446: UserWarning: Converting sparse IndexedSlices(IndexedSlices(indices=Tensor(\"gradients/ggnn_2/embedding_lookup_grad/Reshape_1:0\", shape=(None,), dtype=int32), values=Tensor(\"gradients/ggnn_2/embedding_lookup_grad/Reshape:0\", shape=(None, 64), dtype=float32), dense_shape=Tensor(\"gradients/ggnn_2/embedding_lookup_grad/Cast:0\", shape=(2,), dtype=int32))) to a dense Tensor of unknown shape. This may consume a large amount of memory.\n",
            "  \"shape. This may consume a large amount of memory.\" % value)\n",
            "/usr/local/lib/python3.7/dist-packages/tensorflow/python/framework/indexed_slices.py:446: UserWarning: Converting sparse IndexedSlices(IndexedSlices(indices=Tensor(\"gradients/ggnn_1/embedding_lookup_grad/Reshape_1:0\", shape=(None,), dtype=int32), values=Tensor(\"gradients/ggnn_1/embedding_lookup_grad/Reshape:0\", shape=(None, 64), dtype=float32), dense_shape=Tensor(\"gradients/ggnn_1/embedding_lookup_grad/Cast:0\", shape=(2,), dtype=int32))) to a dense Tensor of unknown shape. This may consume a large amount of memory.\n",
            "  \"shape. This may consume a large amount of memory.\" % value)\n",
            "/usr/local/lib/python3.7/dist-packages/tensorflow/python/framework/indexed_slices.py:446: UserWarning: Converting sparse IndexedSlices(IndexedSlices(indices=Tensor(\"gradients/ggnn/embedding_lookup_grad/Reshape_1:0\", shape=(None,), dtype=int32), values=Tensor(\"gradients/ggnn/embedding_lookup_grad/Reshape:0\", shape=(None, 64), dtype=float32), dense_shape=Tensor(\"gradients/ggnn/embedding_lookup_grad/Cast:0\", shape=(2,), dtype=int32))) to a dense Tensor of unknown shape. This may consume a large amount of memory.\n",
            "  \"shape. This may consume a large amount of memory.\" % value)\n"
          ]
        },
        {
          "output_type": "stream",
          "name": "stdout",
          "text": [
            "2530/2530 [==============================] - 69s 26ms/step - loss: 0.6009 - auc: 0.7382 - val_loss: 0.5568 - val_auc: 0.7926\n",
            "Epoch 2/50\n",
            "2530/2530 [==============================] - 65s 26ms/step - loss: 0.5414 - auc: 0.8025 - val_loss: 0.5345 - val_auc: 0.8148\n",
            "Epoch 3/50\n",
            "2530/2530 [==============================] - 65s 26ms/step - loss: 0.5214 - auc: 0.8196 - val_loss: 0.5068 - val_auc: 0.8314\n",
            "Epoch 4/50\n",
            "2530/2530 [==============================] - 65s 26ms/step - loss: 0.4930 - auc: 0.8418 - val_loss: 0.4934 - val_auc: 0.8528\n",
            "Epoch 5/50\n",
            "2530/2530 [==============================] - 65s 26ms/step - loss: 0.4680 - auc: 0.8592 - val_loss: 0.4538 - val_auc: 0.8722\n",
            "Epoch 6/50\n",
            "2530/2530 [==============================] - 65s 26ms/step - loss: 0.4435 - auc: 0.8754 - val_loss: 0.4086 - val_auc: 0.8959\n",
            "Epoch 7/50\n",
            "2530/2530 [==============================] - 65s 26ms/step - loss: 0.4226 - auc: 0.8880 - val_loss: 0.4063 - val_auc: 0.8977\n",
            "Epoch 8/50\n",
            "2530/2530 [==============================] - 65s 26ms/step - loss: 0.4038 - auc: 0.8984 - val_loss: 0.3904 - val_auc: 0.9084\n",
            "Epoch 9/50\n",
            "2530/2530 [==============================] - 65s 26ms/step - loss: 0.3881 - auc: 0.9066 - val_loss: 0.3871 - val_auc: 0.9134\n",
            "Epoch 10/50\n",
            "2530/2530 [==============================] - 72s 28ms/step - loss: 0.3734 - auc: 0.9139 - val_loss: 0.3566 - val_auc: 0.9237\n",
            "Epoch 11/50\n",
            "2530/2530 [==============================] - 68s 27ms/step - loss: 0.3631 - auc: 0.9185 - val_loss: 0.3459 - val_auc: 0.9279\n",
            "Epoch 12/50\n",
            "2530/2530 [==============================] - 66s 26ms/step - loss: 0.3528 - auc: 0.9230 - val_loss: 0.3212 - val_auc: 0.9369\n",
            "Epoch 13/50\n",
            "2530/2530 [==============================] - 70s 28ms/step - loss: 0.3403 - auc: 0.9281 - val_loss: 0.3266 - val_auc: 0.9381\n",
            "Epoch 14/50\n",
            "2530/2530 [==============================] - 67s 27ms/step - loss: 0.3277 - auc: 0.9333 - val_loss: 0.3278 - val_auc: 0.9379\n",
            "Epoch 15/50\n",
            "2530/2530 [==============================] - 70s 28ms/step - loss: 0.3179 - auc: 0.9370 - val_loss: 0.3051 - val_auc: 0.9467\n",
            "Epoch 16/50\n",
            "2530/2530 [==============================] - 67s 26ms/step - loss: 0.3085 - auc: 0.9406 - val_loss: 0.2927 - val_auc: 0.9514\n",
            "Epoch 17/50\n",
            "2530/2530 [==============================] - 69s 27ms/step - loss: 0.2991 - auc: 0.9440 - val_loss: 0.2815 - val_auc: 0.9521\n",
            "Epoch 18/50\n",
            "2530/2530 [==============================] - 69s 27ms/step - loss: 0.2907 - auc: 0.9467 - val_loss: 0.2728 - val_auc: 0.9579\n",
            "Epoch 19/50\n",
            "2530/2530 [==============================] - 71s 28ms/step - loss: 0.2790 - auc: 0.9509 - val_loss: 0.2614 - val_auc: 0.9560\n",
            "Epoch 20/50\n",
            "2530/2530 [==============================] - 70s 28ms/step - loss: 0.2747 - auc: 0.9520 - val_loss: 0.3205 - val_auc: 0.9604\n",
            "Epoch 21/50\n",
            "2530/2530 [==============================] - 70s 28ms/step - loss: 0.2694 - auc: 0.9536 - val_loss: 0.2821 - val_auc: 0.9578\n",
            "Epoch 22/50\n",
            "2530/2530 [==============================] - 68s 27ms/step - loss: 0.2619 - auc: 0.9560 - val_loss: 0.2970 - val_auc: 0.9604\n",
            "Epoch 23/50\n",
            "2530/2530 [==============================] - 67s 26ms/step - loss: 0.2596 - auc: 0.9564 - val_loss: 0.2994 - val_auc: 0.9607\n",
            "Epoch 24/50\n",
            "2530/2530 [==============================] - 66s 26ms/step - loss: 0.2530 - auc: 0.9584 - val_loss: 0.2929 - val_auc: 0.9637\n",
            "Epoch 25/50\n",
            "2530/2530 [==============================] - 65s 26ms/step - loss: 0.2508 - auc: 0.9589 - val_loss: 0.3309 - val_auc: 0.9613\n",
            "Epoch 26/50\n",
            "2530/2530 [==============================] - 65s 26ms/step - loss: 0.2471 - auc: 0.9603 - val_loss: 0.2685 - val_auc: 0.9673\n",
            "Epoch 27/50\n",
            "2530/2530 [==============================] - 66s 26ms/step - loss: 0.2411 - auc: 0.9616 - val_loss: 0.2796 - val_auc: 0.9647\n",
            "Epoch 28/50\n",
            "2530/2530 [==============================] - 65s 26ms/step - loss: 0.2367 - auc: 0.9633 - val_loss: 0.2898 - val_auc: 0.9616\n",
            "Epoch 29/50\n",
            "2530/2530 [==============================] - 65s 26ms/step - loss: 0.2345 - auc: 0.9635 - val_loss: 0.2801 - val_auc: 0.9625\n",
            "Epoch 30/50\n",
            "2530/2530 [==============================] - 65s 26ms/step - loss: 0.2354 - auc: 0.9632 - val_loss: 0.2882 - val_auc: 0.9661\n",
            "Epoch 31/50\n",
            "2530/2530 [==============================] - 65s 26ms/step - loss: 0.2267 - auc: 0.9654 - val_loss: 0.2885 - val_auc: 0.9705\n",
            "Epoch 32/50\n",
            "2530/2530 [==============================] - 70s 28ms/step - loss: 0.2231 - auc: 0.9666 - val_loss: 0.3228 - val_auc: 0.9632\n",
            "Epoch 33/50\n",
            "2530/2530 [==============================] - 65s 26ms/step - loss: 0.2203 - auc: 0.9673 - val_loss: 0.2516 - val_auc: 0.9684\n",
            "Epoch 34/50\n",
            "2530/2530 [==============================] - 65s 26ms/step - loss: 0.2183 - auc: 0.9677 - val_loss: 0.3256 - val_auc: 0.9678\n",
            "Epoch 35/50\n",
            "2530/2530 [==============================] - 66s 26ms/step - loss: 0.2151 - auc: 0.9686 - val_loss: 0.2539 - val_auc: 0.9675\n",
            "Epoch 36/50\n",
            "2530/2530 [==============================] - 66s 26ms/step - loss: 0.2119 - auc: 0.9693 - val_loss: 0.2956 - val_auc: 0.9652\n",
            "Epoch 37/50\n",
            "2530/2530 [==============================] - 71s 28ms/step - loss: 0.2125 - auc: 0.9694 - val_loss: 0.2905 - val_auc: 0.9640\n",
            "Epoch 38/50\n",
            "2530/2530 [==============================] - 66s 26ms/step - loss: 0.2102 - auc: 0.9697 - val_loss: 0.2885 - val_auc: 0.9650\n",
            "Epoch 39/50\n",
            "2530/2530 [==============================] - 68s 27ms/step - loss: 0.2060 - auc: 0.9708 - val_loss: 0.2823 - val_auc: 0.9695\n",
            "Epoch 40/50\n",
            "2530/2530 [==============================] - 66s 26ms/step - loss: 0.2052 - auc: 0.9714 - val_loss: 0.2920 - val_auc: 0.9663\n",
            "Epoch 41/50\n",
            "2530/2530 [==============================] - 66s 26ms/step - loss: 0.2021 - auc: 0.9721 - val_loss: 0.2822 - val_auc: 0.9692\n",
            "Epoch 42/50\n",
            "2530/2530 [==============================] - 66s 26ms/step - loss: 0.2010 - auc: 0.9721 - val_loss: 0.3152 - val_auc: 0.9643\n",
            "Epoch 43/50\n",
            "2530/2530 [==============================] - 66s 26ms/step - loss: 0.2062 - auc: 0.9712 - val_loss: 0.2597 - val_auc: 0.9692\n",
            "Epoch 44/50\n",
            "2530/2530 [==============================] - 66s 26ms/step - loss: 0.2006 - auc: 0.9717 - val_loss: 0.3107 - val_auc: 0.9647\n",
            "Epoch 45/50\n",
            "2530/2530 [==============================] - 67s 27ms/step - loss: 0.1965 - auc: 0.9731 - val_loss: 0.3049 - val_auc: 0.9610\n",
            "Epoch 46/50\n",
            "2530/2530 [==============================] - 66s 26ms/step - loss: 0.1967 - auc: 0.9731 - val_loss: 0.3092 - val_auc: 0.9655\n",
            "Epoch 47/50\n",
            "2530/2530 [==============================] - 66s 26ms/step - loss: 0.1917 - auc: 0.9742 - val_loss: 0.3008 - val_auc: 0.9697\n",
            "Epoch 48/50\n",
            "2530/2530 [==============================] - 66s 26ms/step - loss: 0.1912 - auc: 0.9748 - val_loss: 0.3098 - val_auc: 0.9684\n",
            "Epoch 49/50\n",
            "2530/2530 [==============================] - 66s 26ms/step - loss: 0.1939 - auc: 0.9740 - val_loss: 0.2941 - val_auc: 0.9719\n",
            "Epoch 50/50\n",
            "2530/2530 [==============================] - 66s 26ms/step - loss: 0.1913 - auc: 0.9742 - val_loss: 0.3057 - val_auc: 0.9671\n"
          ]
        }
      ]
    },
    {
      "cell_type": "code",
      "source": [
        "# predict function is used to enable us to predict the labels of the data values on the basis of the trained model.\n",
        "y_pred = model.predict(\n",
        "    gen_batch(testing_set, batch_size=16, shuffle=False)\n",
        ")\n",
        "# repahe to get the first col only\n",
        "y_pred = np.reshape(y_pred, -1)\n",
        "y_pred.shape"
      ],
      "metadata": {
        "colab": {
          "base_uri": "https://localhost:8080/"
        },
        "id": "V1PsdQ4FkvP1",
        "outputId": "61720466-4bff-44b9-f673-f9e56d2faa7c"
      },
      "execution_count": null,
      "outputs": [
        {
          "output_type": "execute_result",
          "data": {
            "text/plain": [
              "(12326,)"
            ]
          },
          "metadata": {},
          "execution_count": 107
        }
      ]
    },
    {
      "cell_type": "code",
      "source": [
        "y_pred"
      ],
      "metadata": {
        "colab": {
          "base_uri": "https://localhost:8080/"
        },
        "id": "GnGfCR1YkvP1",
        "outputId": "9568a7af-d382-49ec-a514-f335aaf23d46"
      },
      "execution_count": null,
      "outputs": [
        {
          "output_type": "execute_result",
          "data": {
            "text/plain": [
              "array([9.6357584e-01, 1.3116634e-01, 4.8458325e-03, ..., 6.8384054e-04,\n",
              "       3.4159544e-05, 9.8763126e-01], dtype=float32)"
            ]
          },
          "metadata": {},
          "execution_count": 108
        }
      ]
    },
    {
      "cell_type": "markdown",
      "source": [
        "#### Display model"
      ],
      "metadata": {
        "id": "ywhN51JUkvP2"
      }
    },
    {
      "cell_type": "code",
      "source": [
        "# figure is used to create a new figure.\n",
        "plt.figure(figsize=(15, 8))\n",
        "plt.subplot(1, 2, 1)\n",
        "plt.plot(history.history['auc'])\n",
        "plt.plot(history.history['val_auc'])\n",
        "plt.title('model auc') # graph title\n",
        "plt.ylabel('Auc') # y axis lable\n",
        "plt.xlabel('epoch') # x axis lable\n",
        "plt.legend(['train', 'validation'], loc='upper left') # legend is an area describing the elements of the graph\n",
        "plt.show()\n",
        "plt.grid(True) # grid is the axis object's method toggles the visibility of the grid inside the figure.\n",
        "plt.subplot(1, 2, 1)\n",
        "plt.plot(history.history['loss'])\n",
        "plt.plot(history.history['val_loss'])\n",
        "plt.title('model loss')  # graph title\n",
        "plt.ylabel('loss') # y axis lable\n",
        "plt.xlabel('epoch')# x axis lable\n",
        "plt.legend(['train', 'validation'], loc='upper left')\n",
        "plt.show()"
      ],
      "metadata": {
        "colab": {
          "base_uri": "https://localhost:8080/",
          "height": 791
        },
        "id": "QmrbnNEvkvP2",
        "outputId": "e2eb4128-a958-49fb-f422-1f52508329ef"
      },
      "execution_count": null,
      "outputs": [
        {
          "output_type": "display_data",
          "data": {
            "text/plain": [
              "<Figure size 1080x576 with 1 Axes>"
            ],
            "image/png": "[encoded data removed]"
          },
          "metadata": {
            "needs_background": "light"
          }
        },
        {
          "output_type": "display_data",
          "data": {
            "text/plain": [
              "<Figure size 432x288 with 1 Axes>"
            ],
            "image/png": "[encoded data removed]"
          },
          "metadata": {
            "needs_background": "light"
          }
        }
      ]
    },
    {
      "cell_type": "code",
      "execution_count": null,
      "metadata": {
        "id": "lwnklPSkkvP2"
      },
      "outputs": [],
      "source": [
        "submission = pd.DataFrame({'label':y_pred})\n",
        "submission.index.name = 'id'\n",
        "submission.to_csv('/content/drive/MyDrive/Queens_Practical/Data_Mining/compt6/sample_submission.csv')"
      ]
    },
    {
      "cell_type": "markdown",
      "metadata": {
        "id": "2dJQqeAmkvP2"
      },
      "source": [
        "#### Result"
      ]
    },
    {
      "cell_type": "markdown",
      "metadata": {
        "id": "rHce6wI2kvP2"
      },
      "source": [
        "Accuracy in **kaggle** =0.84212 \\\n",
        "From the diagram, the model learn better in the prevois trial without adding dropout and use_inter_layer_layernorm laye."
      ]
    },
    {
      "cell_type": "markdown",
      "metadata": {
        "id": "-zUiFz3_wyQd"
      },
      "source": [
        "### **Trial 5**"
      ]
    },
    {
      "cell_type": "markdown",
      "metadata": {
        "id": "WPvelLhgwyQd"
      },
      "source": [
        "* In this trial I will use:\n",
        " * I will use **balanced** data\n",
        " * Preprocessing\n",
        "   * **max_vocab = 450** , max_len = 100\n",
        "   * Prepare nodes, labels, and links\n",
        "   * Tokenize and convert data into integer numbers\n",
        "   * Padding to tokenize\n",
        "   * Generate multiple batches\n",
        "   * Embedding \n",
        "  * Model\n",
        "   * Layers\n",
        "      * I will use GNN as an input \n",
        "      * GNN layer\n",
        "          * Hyper parameters\n",
        "            * I will use default hyper parameters\n",
        "            * **hidden_dim = 64**\n",
        "            * **num_heads = 4**\n",
        "            * **message_calculation_class = RGAT**\n",
        "      * Average layer\n",
        "      * Dense layer with sigmoid activation function\n",
        "   * Compile the model using AUC curve\n",
        "   * Fit the model using epoch = 50 and batch_size = 16\n",
        "   * Predict the model\n",
        "\n",
        "**My thoughts and observations :** The accuracy would be between 0.83 and 0.85"
      ]
    },
    {
      "cell_type": "markdown",
      "source": [
        "**RGAT (Relational Graph Attention Networks)**\n",
        "\n",
        "The primary idea is to create a hybrid network by combining graph attention networks and relational graph networks. It uses a message-passing mechanism to compute graph states."
      ],
      "metadata": {
        "id": "yyINdk_cwyQe"
      }
    },
    {
      "cell_type": "markdown",
      "metadata": {
        "id": "9z8udHYJwyQe"
      },
      "source": [
        "#### Preprocessing"
      ]
    },
    {
      "cell_type": "code",
      "source": [
        "max_vocab = 450\n",
        "max_len = 100\n",
        "\n",
        "# build vocabulary from training set\n",
        "all_nodes = [s[0] for s in training_set]\n",
        "# we use tokenizer as the data contain letters that need to tokenize\n",
        "tokenizer = Tokenizer(num_words=max_vocab)\n",
        "# fit_on_texts used to updates internal vocabulary based on a list of texts\n",
        "tokenizer.fit_on_texts(all_nodes)"
      ],
      "metadata": {
        "id": "rmGjrHc9wyQe"
      },
      "execution_count": null,
      "outputs": []
    },
    {
      "cell_type": "code",
      "source": [
        "\n",
        "def prepare_single_batch(samples):\n",
        "  # samples return 3 values nodes, labels, and links so we will take node only\n",
        "    sample_nodes = [s[0] for s in samples]\n",
        "    # texts_to_sequences used to transforms each text in texts to a sequence of integers\n",
        "    sample_nodes = tokenizer.texts_to_sequences(sample_nodes)\n",
        "    # put padding to tokenizers\n",
        "    sample_nodes = pad_sequences(sample_nodes, padding='post')\n",
        "\n",
        "    # max_nodes_len to know the number of nodes in each sample\n",
        "    max_nodes_len = np.shape(sample_nodes)[1]                           #shape: (num of samples, number of nodes)\n",
        "    edges = [s[1]+i*max_nodes_len for i,s in enumerate(samples)]        #s[1]: links, i*max_nodes_len: to start indexing from current node not from 0 again\n",
        "    edges = [e for e in edges if len(e) > 0]                          #make sure all elements(edges) are non-zero\n",
        "    # takes order of graph and multiply by max number of nodes\n",
        "    node_to_graph = [[i]*max_nodes_len for i in range(len(samples))]\n",
        "\n",
        "    \n",
        "    # put all nodes and edges with each other in 1D array\n",
        "    all_nodes = np.reshape(sample_nodes, -1)      #concatenate nodes of all samples together\n",
        "    all_edges = np.concatenate(edges)             #concatenate edges of all samples together (because edge is tuple, doesnt hae reshape, output is 2D)\n",
        "\n",
        "    node_to_graph = np.reshape(node_to_graph, -1)\n",
        "    return {\n",
        "        'data': all_nodes,\n",
        "        'edges': all_edges,\n",
        "        'node2grah': node_to_graph,\n",
        "    }, np.array([s[2] for s in samples])\n",
        "\n",
        "\n",
        "# gen_batch this function used to generate multiple batches by calling prepare_single_batch function\n",
        "def gen_batch(dataset, batch_size=16, repeat=False, shuffle=True):\n",
        "    while True:\n",
        "        dataset = list(dataset)\n",
        "        if shuffle:\n",
        "            random.shuffle(dataset)\n",
        "        l = len(dataset)\n",
        "        for ndx in range(0, l, batch_size):\n",
        "            batch_samples = dataset[ndx:min(ndx + batch_size, l)]\n",
        "            yield prepare_single_batch(batch_samples)\n",
        "        if not repeat:\n",
        "            break\n"
      ],
      "metadata": {
        "id": "X1_jXXOgwyQe"
      },
      "execution_count": null,
      "outputs": []
    },
    {
      "cell_type": "code",
      "source": [
        "# showing one batch:\n",
        "# batch_size put on it the number of samples that i want to be in one batch\n",
        "for train_batch in gen_batch(training_set, batch_size=4):\n",
        "    for k,v in train_batch[0].items():          #k: labels, v: values\n",
        "        print(k)\n",
        "        print(v)\n",
        "        #print(len(v))\n",
        "        pass\n",
        "    print('label', train_batch[1])\n",
        "    break\n",
        "\n"
      ],
      "metadata": {
        "colab": {
          "base_uri": "https://localhost:8080/"
        },
        "outputId": "9a84fd0b-82f8-40e5-ae99-144e1bb90e06",
        "id": "RLw9lKbZwyQe"
      },
      "execution_count": null,
      "outputs": [
        {
          "output_type": "stream",
          "name": "stdout",
          "text": [
            "data\n",
            "[7 4 2 3 3 3 3 3 3 1 1 1 1 1 1 1 1 1 1 1 1 1 1 1 1 1 1 1 1 1 1 1 0 0 0 0 0\n",
            " 0 0 0 0 0 0 0 0 0 0 0 0 0 0 0 0 0 0 0 0 0 4 2 2 2 2 2 2 2 3 1 1 1 1 1 1 1\n",
            " 1 1 1 1 1 1 1 1 1 1 1 1 1 1 1 1 1 1 1 0 0 0 0 0 0 0 0 0 0 0 0 0 0 0 0 0 0\n",
            " 0 0 0 0 0 2 2 2 2 2 3 3 3 3 3 3 3 3 3 1 1 1 1 1 1 1 1 1 1 1 1 1 1 1 1 1 1\n",
            " 1 1 1 1 1 1 1 1 1 1 1 1 1 1 1 1 1 1 1 1 1 1 1 1 1 1 2 2 2 2 2 2 2 2 2 3 3\n",
            " 1 1 1 1 1 1 1 1 1 1 1 1 1 1 1 1 1 1 1 1 1 1 1 1 1 1 1 1 1 1 1 1 1 1 1 1 1\n",
            " 1 1 0 0 0 0 0 0 0 0]\n",
            "edges\n",
            "[[  0  18]\n",
            " [  1  25]\n",
            " [  2  22]\n",
            " [  3  10]\n",
            " [  3  12]\n",
            " [  3  17]\n",
            " [  4   9]\n",
            " [  4  13]\n",
            " [  5  10]\n",
            " [  5  14]\n",
            " [  6   7]\n",
            " [  6  22]\n",
            " [  7  25]\n",
            " [  8  25]\n",
            " [  8  26]\n",
            " [  9  10]\n",
            " [  9  11]\n",
            " [ 11  12]\n",
            " [ 11  15]\n",
            " [ 12  16]\n",
            " [ 13  14]\n",
            " [ 13  20]\n",
            " [ 14  21]\n",
            " [ 15  18]\n",
            " [ 16  19]\n",
            " [ 17  22]\n",
            " [ 18  19]\n",
            " [ 20  23]\n",
            " [ 21  24]\n",
            " [ 23  24]\n",
            " [ 26  27]\n",
            " [ 26  28]\n",
            " [ 27  29]\n",
            " [ 28  30]\n",
            " [ 29  31]\n",
            " [ 30  31]\n",
            " [ 58  81]\n",
            " [ 58  88]\n",
            " [ 59  69]\n",
            " [ 59  85]\n",
            " [ 60  73]\n",
            " [ 60  83]\n",
            " [ 61  72]\n",
            " [ 61  86]\n",
            " [ 62  80]\n",
            " [ 63  83]\n",
            " [ 63  89]\n",
            " [ 64  83]\n",
            " [ 65  84]\n",
            " [ 66  74]\n",
            " [ 66  84]\n",
            " [ 67  68]\n",
            " [ 67  69]\n",
            " [ 67  70]\n",
            " [ 68  71]\n",
            " [ 68  77]\n",
            " [ 69  72]\n",
            " [ 70  75]\n",
            " [ 70  76]\n",
            " [ 71  74]\n",
            " [ 71  78]\n",
            " [ 72  73]\n",
            " [ 73  75]\n",
            " [ 74  79]\n",
            " [ 76  79]\n",
            " [ 77  82]\n",
            " [ 78  80]\n",
            " [ 80  81]\n",
            " [ 81  82]\n",
            " [ 84  87]\n",
            " [ 89  90]\n",
            " [ 90  91]\n",
            " [ 91  92]\n",
            " [116 134]\n",
            " [117 136]\n",
            " [118 138]\n",
            " [119 145]\n",
            " [120 154]\n",
            " [121 130]\n",
            " [121 133]\n",
            " [121 136]\n",
            " [122 136]\n",
            " [122 138]\n",
            " [122 146]\n",
            " [123 137]\n",
            " [123 156]\n",
            " [124 142]\n",
            " [124 147]\n",
            " [125 150]\n",
            " [125 163]\n",
            " [126 154]\n",
            " [126 164]\n",
            " [127 159]\n",
            " [127 168]\n",
            " [127 169]\n",
            " [128 165]\n",
            " [128 167]\n",
            " [128 171]\n",
            " [129 170]\n",
            " [129 172]\n",
            " [129 173]\n",
            " [130 131]\n",
            " [130 132]\n",
            " [131 134]\n",
            " [131 137]\n",
            " [132 138]\n",
            " [132 139]\n",
            " [133 135]\n",
            " [133 141]\n",
            " [134 135]\n",
            " [135 144]\n",
            " [137 140]\n",
            " [139 140]\n",
            " [141 151]\n",
            " [142 143]\n",
            " [142 149]\n",
            " [143 145]\n",
            " [143 150]\n",
            " [144 152]\n",
            " [145 148]\n",
            " [146 159]\n",
            " [147 148]\n",
            " [147 157]\n",
            " [148 158]\n",
            " [149 153]\n",
            " [149 154]\n",
            " [150 155]\n",
            " [151 152]\n",
            " [153 155]\n",
            " [156 162]\n",
            " [157 160]\n",
            " [158 161]\n",
            " [160 161]\n",
            " [162 165]\n",
            " [163 166]\n",
            " [164 170]\n",
            " [166 167]\n",
            " [174 192]\n",
            " [174 203]\n",
            " [175 189]\n",
            " [176 190]\n",
            " [177 200]\n",
            " [177 208]\n",
            " [178 193]\n",
            " [179 199]\n",
            " [179 210]\n",
            " [180 201]\n",
            " [181 207]\n",
            " [182 213]\n",
            " [183 202]\n",
            " [183 219]\n",
            " [183 220]\n",
            " [184 209]\n",
            " [184 221]\n",
            " [184 222]\n",
            " [185 186]\n",
            " [185 190]\n",
            " [185 191]\n",
            " [186 189]\n",
            " [186 193]\n",
            " [187 188]\n",
            " [187 189]\n",
            " [187 192]\n",
            " [188 190]\n",
            " [188 197]\n",
            " [191 196]\n",
            " [191 199]\n",
            " [192 195]\n",
            " [193 194]\n",
            " [194 196]\n",
            " [194 200]\n",
            " [195 198]\n",
            " [195 201]\n",
            " [197 198]\n",
            " [198 212]\n",
            " [199 206]\n",
            " [200 204]\n",
            " [201 205]\n",
            " [202 204]\n",
            " [202 207]\n",
            " [202 214]\n",
            " [203 205]\n",
            " [203 211]\n",
            " [206 209]\n",
            " [207 208]\n",
            " [208 216]\n",
            " [209 213]\n",
            " [210 213]\n",
            " [210 217]\n",
            " [211 215]\n",
            " [211 218]\n",
            " [215 223]]\n",
            "node2grah\n",
            "[0 0 0 0 0 0 0 0 0 0 0 0 0 0 0 0 0 0 0 0 0 0 0 0 0 0 0 0 0 0 0 0 0 0 0 0 0\n",
            " 0 0 0 0 0 0 0 0 0 0 0 0 0 0 0 0 0 0 0 0 0 1 1 1 1 1 1 1 1 1 1 1 1 1 1 1 1\n",
            " 1 1 1 1 1 1 1 1 1 1 1 1 1 1 1 1 1 1 1 1 1 1 1 1 1 1 1 1 1 1 1 1 1 1 1 1 1\n",
            " 1 1 1 1 1 2 2 2 2 2 2 2 2 2 2 2 2 2 2 2 2 2 2 2 2 2 2 2 2 2 2 2 2 2 2 2 2\n",
            " 2 2 2 2 2 2 2 2 2 2 2 2 2 2 2 2 2 2 2 2 2 2 2 2 2 2 3 3 3 3 3 3 3 3 3 3 3\n",
            " 3 3 3 3 3 3 3 3 3 3 3 3 3 3 3 3 3 3 3 3 3 3 3 3 3 3 3 3 3 3 3 3 3 3 3 3 3\n",
            " 3 3 3 3 3 3 3 3 3 3]\n",
            "label [0 1 1 1]\n"
          ]
        }
      ]
    },
    {
      "cell_type": "markdown",
      "metadata": {
        "id": "iIyXZPIewyQf"
      },
      "source": [
        "#### Model"
      ]
    },
    {
      "cell_type": "code",
      "execution_count": null,
      "metadata": {
        "colab": {
          "base_uri": "https://localhost:8080/"
        },
        "outputId": "0e2e0617-3572-46c2-c54f-ba7e13c59bf7",
        "id": "Hr9iw2zJwyQf"
      },
      "outputs": [
        {
          "output_type": "stream",
          "name": "stdout",
          "text": [
            "gnn_out KerasTensor(type_spec=TensorSpec(shape=(None, 64), dtype=tf.float32, name=None), name='gnn_7/StatefulPartitionedCall:0', description=\"created by layer 'gnn_7'\")\n",
            "mean: KerasTensor(type_spec=TensorSpec(shape=(None, 64), dtype=tf.float32, name=None), name='tf.math.segment_mean_7/SegmentMean:0', description=\"created by layer 'tf.math.segment_mean_7'\")\n",
            "pred: KerasTensor(type_spec=TensorSpec(shape=(None, 1), dtype=tf.float32, name=None), name='dense_7/Sigmoid:0', description=\"created by layer 'dense_7'\")\n",
            "Model: \"model_7\"\n",
            "__________________________________________________________________________________________________\n",
            " Layer (type)                   Output Shape         Param #     Connected to                     \n",
            "==================================================================================================\n",
            " input_24 (InputLayer)          [(None,)]            0           []                               \n",
            "                                                                                                  \n",
            " input_22 (InputLayer)          [(None,)]            0           []                               \n",
            "                                                                                                  \n",
            " tf.math.reduce_max_7 (TFOpLamb  ()                  0           ['input_24[0][0]']               \n",
            " da)                                                                                              \n",
            "                                                                                                  \n",
            " embedding_7 (Embedding)        (None, 20)           9000        ['input_22[0][0]']               \n",
            "                                                                                                  \n",
            " input_23 (InputLayer)          [(None, 2)]          0           []                               \n",
            "                                                                                                  \n",
            " tf.__operators__.add_7 (TFOpLa  ()                  0           ['tf.math.reduce_max_7[0][0]']   \n",
            " mbda)                                                                                            \n",
            "                                                                                                  \n",
            " gnn_7 (GNN)                    (None, 64)           72064       ['embedding_7[0][0]',            \n",
            "                                                                  'input_23[0][0]',               \n",
            "                                                                  'input_24[0][0]',               \n",
            "                                                                  'tf.__operators__.add_7[0][0]'] \n",
            "                                                                                                  \n",
            " tf.math.segment_mean_7 (TFOpLa  (None, 64)          0           ['gnn_7[0][0]',                  \n",
            " mbda)                                                            'input_24[0][0]']               \n",
            "                                                                                                  \n",
            " dense_7 (Dense)                (None, 1)            65          ['tf.math.segment_mean_7[0][0]'] \n",
            "                                                                                                  \n",
            "==================================================================================================\n",
            "Total params: 81,129\n",
            "Trainable params: 81,129\n",
            "Non-trainable params: 0\n",
            "__________________________________________________________________________________________________\n"
          ]
        }
      ],
      "source": [
        "data = keras.Input(batch_shape=(None,))\n",
        "\n",
        "# the first dim is different to the previous one. it is the total number of edges in this batch\n",
        "edge = keras.Input(batch_shape=(None, 2), dtype=tf.int32)     #edge is 2D\n",
        "node2graph = keras.Input(batch_shape=(None,), dtype=tf.int32)\n",
        "embeded = Embedding(tokenizer.num_words, 20)(data) # embedding data\n",
        "\n",
        "# number of graphs (number of samples)\n",
        "num_graph = tf.reduce_max(node2graph)+1\n",
        "\n",
        "gnn_input = GNNInput(\n",
        "    node_features=embeded, # nodes after embedding\n",
        "    adjacency_lists=(edge,),\n",
        "    node_to_graph_map=node2graph, \n",
        "    num_graphs=num_graph, # number of samples\n",
        ")\n",
        "# Tuning hyperparameters\n",
        "params = GNN.get_default_hyperparameters()\n",
        "params[\"hidden_dim\"] = 64\n",
        "params[\"num_heads\"] = 4\n",
        "params['message_calculation_class'] = 'RGAT'\n",
        "gnn_layer = GNN(params)\n",
        "gnn_out = gnn_layer(gnn_input)\n",
        "\n",
        "print('gnn_out', gnn_out)\n",
        "\n",
        "avg = segment_mean(  # Average layer (segment_mea is used to get the mean of elements in segments of a tensor)\n",
        "    data=gnn_out,\n",
        "    segment_ids=node2graph\n",
        ")\n",
        "print('mean:', avg)\n",
        "\n",
        "pred = Dense(1, activation='sigmoid')(avg)        #binary classification: Dense(2), but here we only output 1 probability\n",
        "print('pred:', pred)\n",
        "\n",
        "model = Model(\n",
        "    inputs={\n",
        "        'data': data,\n",
        "        'edges': edge,\n",
        "        'node2grah': node2graph,\n",
        "    },\n",
        "    outputs=pred\n",
        ")\n",
        "model.summary()"
      ]
    },
    {
      "cell_type": "code",
      "execution_count": null,
      "metadata": {
        "id": "-gndn2SawyQf"
      },
      "outputs": [],
      "source": [
        "model.compile(\n",
        "    loss='BinaryCrossentropy',\n",
        "    metrics=['AUC']\n",
        ")"
      ]
    },
    {
      "cell_type": "code",
      "source": [
        "batch_size = 16\n",
        "# ceil function returns a ceiling value\n",
        "num_batchs = math.ceil(len(training_set) / batch_size)\n",
        "num_batchs_validation = math.ceil(len(validation_set) / batch_size)\n",
        "\n",
        "# Training the model with batch size = 16 and epochs 50\n",
        "history=model.fit(\n",
        "    gen_batch(\n",
        "        training_set, batch_size=batch_size, repeat=True\n",
        "    ),\n",
        "    steps_per_epoch=num_batchs,\n",
        "    epochs=50,\n",
        "    validation_data=gen_batch(\n",
        "        validation_set, batch_size=16, repeat=True\n",
        "    ),\n",
        "    validation_steps=num_batchs_validation,\n",
        ")"
      ],
      "metadata": {
        "colab": {
          "base_uri": "https://localhost:8080/"
        },
        "outputId": "8f4d8f90-8402-464f-b774-78dab090b353",
        "id": "C3HDUKMTwyQf"
      },
      "execution_count": null,
      "outputs": [
        {
          "output_type": "stream",
          "name": "stdout",
          "text": [
            "Epoch 1/50\n"
          ]
        },
        {
          "output_type": "stream",
          "name": "stderr",
          "text": [
            "/usr/local/lib/python3.7/dist-packages/tensorflow/python/framework/indexed_slices.py:446: UserWarning: Converting sparse IndexedSlices(IndexedSlices(indices=Tensor(\"gradients/GatherV2_1_grad/Reshape_1:0\", shape=(None,), dtype=int32), values=Tensor(\"gradients/GatherV2_1_grad/Reshape:0\", shape=(None,), dtype=float32), dense_shape=Tensor(\"gradients/GatherV2_1_grad/Cast:0\", shape=(1,), dtype=int32))) to a dense Tensor of unknown shape. This may consume a large amount of memory.\n",
            "  \"shape. This may consume a large amount of memory.\" % value)\n",
            "/usr/local/lib/python3.7/dist-packages/tensorflow/python/framework/indexed_slices.py:446: UserWarning: Converting sparse IndexedSlices(IndexedSlices(indices=Tensor(\"gradients/GatherV2_grad/Reshape_1:0\", shape=(None,), dtype=int32), values=Tensor(\"gradients/GatherV2_grad/Reshape:0\", shape=(None,), dtype=float32), dense_shape=Tensor(\"gradients/GatherV2_grad/Cast:0\", shape=(1,), dtype=int32))) to a dense Tensor of unknown shape. This may consume a large amount of memory.\n",
            "  \"shape. This may consume a large amount of memory.\" % value)\n",
            "/usr/local/lib/python3.7/dist-packages/tensorflow/python/framework/indexed_slices.py:446: UserWarning: Converting sparse IndexedSlices(IndexedSlices(indices=Tensor(\"gradients/cond_3_grad/Identity_1:0\", shape=(None,), dtype=int32), values=Tensor(\"gradients/cond_3_grad/Identity:0\", shape=(None, 64), dtype=float32), dense_shape=Tensor(\"gradients/cond_3_grad/Identity_2:0\", shape=(2,), dtype=int32))) to a dense Tensor of unknown shape. This may consume a large amount of memory.\n",
            "  \"shape. This may consume a large amount of memory.\" % value)\n",
            "/usr/local/lib/python3.7/dist-packages/tensorflow/python/framework/indexed_slices.py:446: UserWarning: Converting sparse IndexedSlices(IndexedSlices(indices=Tensor(\"gradients/concat_3:0\", shape=(None,), dtype=int32), values=Tensor(\"gradients/concat_2:0\", shape=(None, 64), dtype=float32), dense_shape=Tensor(\"gradients/rgat_2/embedding_lookup_grad/Cast:0\", shape=(2,), dtype=int32))) to a dense Tensor of unknown shape. This may consume a large amount of memory.\n",
            "  \"shape. This may consume a large amount of memory.\" % value)\n",
            "/usr/local/lib/python3.7/dist-packages/tensorflow/python/framework/indexed_slices.py:446: UserWarning: Converting sparse IndexedSlices(IndexedSlices(indices=Tensor(\"gradients/cond_1_grad/Identity_1:0\", shape=(None,), dtype=int32), values=Tensor(\"gradients/cond_1_grad/Identity:0\", shape=(None, 64), dtype=float32), dense_shape=Tensor(\"gradients/cond_1_grad/Identity_2:0\", shape=(2,), dtype=int32))) to a dense Tensor of unknown shape. This may consume a large amount of memory.\n",
            "  \"shape. This may consume a large amount of memory.\" % value)\n",
            "/usr/local/lib/python3.7/dist-packages/tensorflow/python/framework/indexed_slices.py:446: UserWarning: Converting sparse IndexedSlices(IndexedSlices(indices=Tensor(\"gradients/rgat/embedding_lookup_grad/Reshape_1:0\", shape=(None,), dtype=int32), values=Tensor(\"gradients/rgat/embedding_lookup_grad/Reshape:0\", shape=(None, 64), dtype=float32), dense_shape=Tensor(\"gradients/rgat/embedding_lookup_grad/Cast:0\", shape=(2,), dtype=int32))) to a dense Tensor of unknown shape. This may consume a large amount of memory.\n",
            "  \"shape. This may consume a large amount of memory.\" % value)\n",
            "/usr/local/lib/python3.7/dist-packages/tensorflow/python/framework/indexed_slices.py:446: UserWarning: Converting sparse IndexedSlices(IndexedSlices(indices=Tensor(\"gradients/rgat/embedding_lookup_1_grad/Reshape_1:0\", shape=(None,), dtype=int32), values=Tensor(\"gradients/rgat/embedding_lookup_1_grad/Reshape:0\", shape=(None, 64), dtype=float32), dense_shape=Tensor(\"gradients/rgat/embedding_lookup_1_grad/Cast:0\", shape=(2,), dtype=int32))) to a dense Tensor of unknown shape. This may consume a large amount of memory.\n",
            "  \"shape. This may consume a large amount of memory.\" % value)\n"
          ]
        },
        {
          "output_type": "stream",
          "name": "stdout",
          "text": [
            "2530/2530 [==============================] - 100s 37ms/step - loss: 0.6156 - auc: 0.7239 - val_loss: 0.5888 - val_auc: 0.7697\n",
            "Epoch 2/50\n",
            "2530/2530 [==============================] - 98s 39ms/step - loss: 0.5751 - auc: 0.7744 - val_loss: 0.5881 - val_auc: 0.7826\n",
            "Epoch 3/50\n",
            "2530/2530 [==============================] - 101s 40ms/step - loss: 0.5542 - auc: 0.7934 - val_loss: 0.5734 - val_auc: 0.8069\n",
            "Epoch 4/50\n",
            "2530/2530 [==============================] - 98s 39ms/step - loss: 0.5334 - auc: 0.8126 - val_loss: 0.5082 - val_auc: 0.8319\n",
            "Epoch 5/50\n",
            "2530/2530 [==============================] - 96s 38ms/step - loss: 0.5064 - auc: 0.8336 - val_loss: 0.4964 - val_auc: 0.8451\n",
            "Epoch 6/50\n",
            "2530/2530 [==============================] - 96s 38ms/step - loss: 0.4936 - auc: 0.8440 - val_loss: 0.4933 - val_auc: 0.8497\n",
            "Epoch 7/50\n",
            "2530/2530 [==============================] - 97s 38ms/step - loss: 0.4834 - auc: 0.8504 - val_loss: 0.4703 - val_auc: 0.8602\n",
            "Epoch 8/50\n",
            "2530/2530 [==============================] - 100s 39ms/step - loss: 0.4780 - auc: 0.8543 - val_loss: 0.4755 - val_auc: 0.8583\n",
            "Epoch 9/50\n",
            "2530/2530 [==============================] - 100s 40ms/step - loss: 0.4707 - auc: 0.8593 - val_loss: 0.4690 - val_auc: 0.8657\n",
            "Epoch 10/50\n",
            "2530/2530 [==============================] - 100s 40ms/step - loss: 0.4645 - auc: 0.8637 - val_loss: 0.4679 - val_auc: 0.8639\n",
            "Epoch 11/50\n",
            "2530/2530 [==============================] - 98s 39ms/step - loss: 0.4606 - auc: 0.8663 - val_loss: 0.4408 - val_auc: 0.8794\n",
            "Epoch 12/50\n",
            "2530/2530 [==============================] - 97s 38ms/step - loss: 0.4620 - auc: 0.8667 - val_loss: 0.4530 - val_auc: 0.8703\n",
            "Epoch 13/50\n",
            "2530/2530 [==============================] - 98s 39ms/step - loss: 0.4603 - auc: 0.8671 - val_loss: 0.4763 - val_auc: 0.8645\n",
            "Epoch 14/50\n",
            "2530/2530 [==============================] - 98s 39ms/step - loss: 0.4676 - auc: 0.8632 - val_loss: 0.4576 - val_auc: 0.8704\n",
            "Epoch 15/50\n",
            "2530/2530 [==============================] - 104s 41ms/step - loss: 0.4618 - auc: 0.8663 - val_loss: 0.4500 - val_auc: 0.8766\n",
            "Epoch 16/50\n",
            "2530/2530 [==============================] - 109s 43ms/step - loss: 0.4557 - auc: 0.8701 - val_loss: 0.4456 - val_auc: 0.8788\n",
            "Epoch 17/50\n",
            "2530/2530 [==============================] - 100s 39ms/step - loss: 0.4602 - auc: 0.8673 - val_loss: 0.4575 - val_auc: 0.8716\n",
            "Epoch 18/50\n",
            "2530/2530 [==============================] - 97s 38ms/step - loss: 0.4650 - auc: 0.8640 - val_loss: 0.4535 - val_auc: 0.8736\n",
            "Epoch 19/50\n",
            "2530/2530 [==============================] - 97s 38ms/step - loss: 0.4598 - auc: 0.8680 - val_loss: 0.4493 - val_auc: 0.8769\n",
            "Epoch 20/50\n",
            "2530/2530 [==============================] - 99s 39ms/step - loss: 0.4696 - auc: 0.8614 - val_loss: 0.4939 - val_auc: 0.8553\n",
            "Epoch 21/50\n",
            "2530/2530 [==============================] - 99s 39ms/step - loss: 0.4791 - auc: 0.8553 - val_loss: 0.4999 - val_auc: 0.8544\n",
            "Epoch 22/50\n",
            "2530/2530 [==============================] - 100s 39ms/step - loss: 0.4810 - auc: 0.8540 - val_loss: 0.4671 - val_auc: 0.8655\n",
            "Epoch 23/50\n",
            "2530/2530 [==============================] - 100s 40ms/step - loss: 0.4705 - auc: 0.8624 - val_loss: 0.4787 - val_auc: 0.8602\n",
            "Epoch 24/50\n",
            "2530/2530 [==============================] - 100s 39ms/step - loss: 0.4699 - auc: 0.8619 - val_loss: 0.4820 - val_auc: 0.8582\n",
            "Epoch 25/50\n",
            "2530/2530 [==============================] - 101s 40ms/step - loss: 0.4672 - auc: 0.8637 - val_loss: 0.5063 - val_auc: 0.8486\n",
            "Epoch 26/50\n",
            "2530/2530 [==============================] - 100s 39ms/step - loss: 0.4710 - auc: 0.8623 - val_loss: 0.5042 - val_auc: 0.8475\n",
            "Epoch 27/50\n",
            "2530/2530 [==============================] - 99s 39ms/step - loss: 0.4879 - auc: 0.8509 - val_loss: 0.4996 - val_auc: 0.8499\n",
            "Epoch 28/50\n",
            "2530/2530 [==============================] - 97s 38ms/step - loss: 0.4943 - auc: 0.8456 - val_loss: 0.4794 - val_auc: 0.8602\n",
            "Epoch 29/50\n",
            "2530/2530 [==============================] - 98s 39ms/step - loss: 0.4859 - auc: 0.8522 - val_loss: 0.5265 - val_auc: 0.8517\n",
            "Epoch 30/50\n",
            "2530/2530 [==============================] - 100s 39ms/step - loss: 0.4940 - auc: 0.8460 - val_loss: 0.4975 - val_auc: 0.8428\n",
            "Epoch 31/50\n",
            "2530/2530 [==============================] - 97s 38ms/step - loss: 0.4849 - auc: 0.8510 - val_loss: 0.5074 - val_auc: 0.8430\n",
            "Epoch 32/50\n",
            "2530/2530 [==============================] - 97s 38ms/step - loss: 0.4886 - auc: 0.8489 - val_loss: 0.4810 - val_auc: 0.8576\n",
            "Epoch 33/50\n",
            "2530/2530 [==============================] - 98s 39ms/step - loss: 0.5190 - auc: 0.8254 - val_loss: 0.5215 - val_auc: 0.8292\n",
            "Epoch 34/50\n",
            "2530/2530 [==============================] - 99s 39ms/step - loss: 0.5235 - auc: 0.8236 - val_loss: 0.5506 - val_auc: 0.8128\n",
            "Epoch 35/50\n",
            "2530/2530 [==============================] - 97s 38ms/step - loss: 0.5230 - auc: 0.8257 - val_loss: 0.5073 - val_auc: 0.8379\n",
            "Epoch 36/50\n",
            "2530/2530 [==============================] - 98s 39ms/step - loss: 0.5076 - auc: 0.8361 - val_loss: 0.5026 - val_auc: 0.8457\n",
            "Epoch 37/50\n",
            "2530/2530 [==============================] - 99s 39ms/step - loss: 0.5114 - auc: 0.8328 - val_loss: 0.5223 - val_auc: 0.8262\n",
            "Epoch 38/50\n",
            "2530/2530 [==============================] - 97s 38ms/step - loss: 0.5215 - auc: 0.8251 - val_loss: 0.5335 - val_auc: 0.8308\n",
            "Epoch 39/50\n",
            "2530/2530 [==============================] - 96s 38ms/step - loss: 0.5108 - auc: 0.8349 - val_loss: 0.5096 - val_auc: 0.8388\n",
            "Epoch 40/50\n",
            "2530/2530 [==============================] - 99s 39ms/step - loss: 0.5052 - auc: 0.8393 - val_loss: 0.5250 - val_auc: 0.8347\n",
            "Epoch 41/50\n",
            "2530/2530 [==============================] - 98s 39ms/step - loss: 0.5022 - auc: 0.8401 - val_loss: 0.5012 - val_auc: 0.8388\n",
            "Epoch 42/50\n",
            "2530/2530 [==============================] - 99s 39ms/step - loss: 0.4934 - auc: 0.8468 - val_loss: 0.5201 - val_auc: 0.8354\n",
            "Epoch 43/50\n",
            "2530/2530 [==============================] - 95s 38ms/step - loss: 0.4971 - auc: 0.8447 - val_loss: 0.5119 - val_auc: 0.8404\n",
            "Epoch 44/50\n",
            "2530/2530 [==============================] - 98s 39ms/step - loss: 0.4953 - auc: 0.8473 - val_loss: 0.4923 - val_auc: 0.8540\n",
            "Epoch 45/50\n",
            "2530/2530 [==============================] - 99s 39ms/step - loss: 0.4906 - auc: 0.8492 - val_loss: 0.5099 - val_auc: 0.8434\n",
            "Epoch 46/50\n",
            "2530/2530 [==============================] - 97s 38ms/step - loss: 0.4946 - auc: 0.8462 - val_loss: 0.5103 - val_auc: 0.8368\n",
            "Epoch 47/50\n",
            "2530/2530 [==============================] - 97s 39ms/step - loss: 0.4968 - auc: 0.8456 - val_loss: 0.5061 - val_auc: 0.8459\n",
            "Epoch 48/50\n",
            "2530/2530 [==============================] - 99s 39ms/step - loss: 0.5035 - auc: 0.8403 - val_loss: 0.5331 - val_auc: 0.8258\n",
            "Epoch 49/50\n",
            "2530/2530 [==============================] - 99s 39ms/step - loss: 0.5155 - auc: 0.8308 - val_loss: 0.5528 - val_auc: 0.8079\n",
            "Epoch 50/50\n",
            "2530/2530 [==============================] - 99s 39ms/step - loss: 0.5231 - auc: 0.8250 - val_loss: 0.5250 - val_auc: 0.8278\n"
          ]
        }
      ]
    },
    {
      "cell_type": "code",
      "source": [
        "# predict function is used to enable us to predict the labels of the data values on the basis of the trained model.\n",
        "y_pred = model.predict(\n",
        "    gen_batch(testing_set, batch_size=16, shuffle=False)\n",
        ")\n",
        "# repahe to get the first col only\n",
        "y_pred = np.reshape(y_pred, -1)\n",
        "y_pred.shape"
      ],
      "metadata": {
        "colab": {
          "base_uri": "https://localhost:8080/"
        },
        "outputId": "77097846-f876-4d86-f2bd-7c3c672b0c02",
        "id": "p8JUnBS1wyQf"
      },
      "execution_count": null,
      "outputs": [
        {
          "output_type": "execute_result",
          "data": {
            "text/plain": [
              "(12326,)"
            ]
          },
          "metadata": {},
          "execution_count": 117
        }
      ]
    },
    {
      "cell_type": "code",
      "source": [
        "y_pred"
      ],
      "metadata": {
        "colab": {
          "base_uri": "https://localhost:8080/"
        },
        "outputId": "a8099f1d-a1e1-43bd-ec72-3c31ab17cfb9",
        "id": "sR294IeywyQg"
      },
      "execution_count": null,
      "outputs": [
        {
          "output_type": "execute_result",
          "data": {
            "text/plain": [
              "array([0.921483  , 0.28057757, 0.03785754, ..., 0.08879419, 0.6029948 ,\n",
              "       0.47279462], dtype=float32)"
            ]
          },
          "metadata": {},
          "execution_count": 118
        }
      ]
    },
    {
      "cell_type": "markdown",
      "source": [
        "#### Display model"
      ],
      "metadata": {
        "id": "xWBzRWyzwyQg"
      }
    },
    {
      "cell_type": "code",
      "source": [
        "# figure is used to create a new figure.\n",
        "plt.figure(figsize=(15, 8))\n",
        "plt.subplot(1, 2, 1)\n",
        "plt.plot(history.history['auc'])\n",
        "plt.plot(history.history['val_auc'])\n",
        "plt.title('model auc') # graph title\n",
        "plt.ylabel('Auc') # y axis lable\n",
        "plt.xlabel('epoch') # x axis lable\n",
        "plt.legend(['train', 'validation'], loc='upper left') # legend is an area describing the elements of the graph\n",
        "plt.show()\n",
        "plt.grid(True) # grid is the axis object's method toggles the visibility of the grid inside the figure.\n",
        "plt.subplot(1, 2, 1)\n",
        "plt.plot(history.history['loss'])\n",
        "plt.plot(history.history['val_loss'])\n",
        "plt.title('model loss')  # graph title\n",
        "plt.ylabel('loss') # y axis lable\n",
        "plt.xlabel('epoch')# x axis lable\n",
        "plt.legend(['train', 'validation'], loc='upper left')\n",
        "plt.show()"
      ],
      "metadata": {
        "colab": {
          "base_uri": "https://localhost:8080/",
          "height": 791
        },
        "outputId": "5f27e995-46fa-4966-eb98-d63dbef14193",
        "id": "3Ni6ONBowyQg"
      },
      "execution_count": null,
      "outputs": [
        {
          "output_type": "display_data",
          "data": {
            "text/plain": [
              "<Figure size 1080x576 with 1 Axes>"
            ],
            "image/png": "[encoded data removed]"
          },
          "metadata": {
            "needs_background": "light"
          }
        },
        {
          "output_type": "display_data",
          "data": {
            "text/plain": [
              "<Figure size 432x288 with 1 Axes>"
            ],
            "image/png": "[encoded data removed]"
          },
          "metadata": {
            "needs_background": "light"
          }
        }
      ]
    },
    {
      "cell_type": "code",
      "execution_count": null,
      "metadata": {
        "id": "6G09WFauwyQg"
      },
      "outputs": [],
      "source": [
        "submission = pd.DataFrame({'label':y_pred})\n",
        "submission.index.name = 'id'\n",
        "submission.to_csv('/content/drive/MyDrive/Queens_Practical/Data_Mining/compt6/sample_submission.csv')"
      ]
    },
    {
      "cell_type": "markdown",
      "metadata": {
        "id": "EcnJ7altwyQg"
      },
      "source": [
        "#### Result"
      ]
    },
    {
      "cell_type": "markdown",
      "metadata": {
        "id": "syMcsuzRwyQg"
      },
      "source": [
        "Accuracy in **kaggle** =0.81428 \\\n",
        "From the diagram, RGAT may not be appropriate for this problem as the model begins to learn the data poorly, so in the next trial I will try to change preprocessing to improve the accuracy."
      ]
    },
    {
      "cell_type": "markdown",
      "metadata": {
        "id": "xmlhYR5M_jkH"
      },
      "source": [
        "### **Trial 6**"
      ]
    },
    {
      "cell_type": "markdown",
      "metadata": {
        "id": "2aSNn7oL_jkH"
      },
      "source": [
        "* In this trial I will use:\n",
        " * I will use **balanced** data\n",
        " * Preprocessing\n",
        "   * **max_vocab = 500** , max_len = 100\n",
        "   * Prepare nodes, labels, and links\n",
        "   * Tokenize and convert data into integer numbers\n",
        "   * Padding to tokenize\n",
        "   * Generate multiple batches\n",
        "   * Embedding \n",
        "  * Model\n",
        "   * Layers\n",
        "      * I will use GNN as an input \n",
        "      * GNN layer\n",
        "          * Hyper parameters\n",
        "            * I will use default hyper parameters\n",
        "            * hidden_dim = 64\n",
        "            * num_heads = 4\n",
        "            * message_calculation_class = RGAT\n",
        "      * Average layer\n",
        "      * Dense layer with sigmoid activation function\n",
        "   * Compile the model using AUC curve\n",
        "   * Fit the model using epoch = 50 and batch_size = 16\n",
        "   * Predict the model\n",
        "\n",
        "**My thoughts and observations :** The accuracy would be between 0.81 and 0.82"
      ]
    },
    {
      "cell_type": "markdown",
      "source": [
        "**RGAT (Relational Graph Attention Networks)**\n",
        "\n",
        "The primary idea is to create a hybrid network by combining graph attention networks and relational graph networks.It uses a message-passing mechanism to compute graph states."
      ],
      "metadata": {
        "id": "lwbafQCd_jkI"
      }
    },
    {
      "cell_type": "markdown",
      "metadata": {
        "id": "8GSJ6EXm_jkI"
      },
      "source": [
        "#### Preprocessing"
      ]
    },
    {
      "cell_type": "code",
      "source": [
        "max_vocab = 500\n",
        "max_len = 100\n",
        "\n",
        "# build vocabulary from training set\n",
        "all_nodes = [s[0] for s in training_set]\n",
        "# we use tokenizer as the data contain letters that need to tokenize\n",
        "tokenizer = Tokenizer(num_words=max_vocab)\n",
        "# fit_on_texts used to updates internal vocabulary based on a list of texts\n",
        "tokenizer.fit_on_texts(all_nodes)"
      ],
      "metadata": {
        "id": "HXb3Jwg0_jkI"
      },
      "execution_count": null,
      "outputs": []
    },
    {
      "cell_type": "code",
      "source": [
        "\n",
        "def prepare_single_batch(samples):\n",
        "  # samples return 3 values nodes, labels, and links so we will take node only\n",
        "    sample_nodes = [s[0] for s in samples]\n",
        "    # texts_to_sequences used to transforms each text in texts to a sequence of integers\n",
        "    sample_nodes = tokenizer.texts_to_sequences(sample_nodes)\n",
        "    # put padding to tokenizers\n",
        "    sample_nodes = pad_sequences(sample_nodes, padding='post')\n",
        "\n",
        "    # max_nodes_len to know the number of nodes in each sample\n",
        "    max_nodes_len = np.shape(sample_nodes)[1]                           #shape: (num of samples, number of nodes)\n",
        "    edges = [s[1]+i*max_nodes_len for i,s in enumerate(samples)]        #s[1]: links, i*max_nodes_len: to start indexing from current node not from 0 again\n",
        "    edges = [e for e in edges if len(e) > 0]                          #make sure all elements(edges) are non-zero\n",
        "    # takes order of graph and multiply by max number of nodes\n",
        "    node_to_graph = [[i]*max_nodes_len for i in range(len(samples))]\n",
        "\n",
        "    \n",
        "    # put all nodes and edges with each other in 1D array\n",
        "    all_nodes = np.reshape(sample_nodes, -1)      #concatenate nodes of all samples together\n",
        "    all_edges = np.concatenate(edges)             #concatenate edges of all samples together (because edge is tuple, doesnt hae reshape, output is 2D)\n",
        "\n",
        "    node_to_graph = np.reshape(node_to_graph, -1)\n",
        "    return {\n",
        "        'data': all_nodes,\n",
        "        'edges': all_edges,\n",
        "        'node2grah': node_to_graph,\n",
        "    }, np.array([s[2] for s in samples])\n",
        "\n",
        "\n",
        "# gen_batch this function used to generate multiple batches by calling prepare_single_batch function\n",
        "def gen_batch(dataset, batch_size=16, repeat=False, shuffle=True):\n",
        "    while True:\n",
        "        dataset = list(dataset)\n",
        "        if shuffle:\n",
        "            random.shuffle(dataset)\n",
        "        l = len(dataset)\n",
        "        for ndx in range(0, l, batch_size):\n",
        "            batch_samples = dataset[ndx:min(ndx + batch_size, l)]\n",
        "            yield prepare_single_batch(batch_samples)\n",
        "        if not repeat:\n",
        "            break\n"
      ],
      "metadata": {
        "id": "8iQO0hL6_jkI"
      },
      "execution_count": null,
      "outputs": []
    },
    {
      "cell_type": "code",
      "source": [
        "# showing one batch:\n",
        "# batch_size put on it the number of samples that i want to be in one batch\n",
        "for train_batch in gen_batch(training_set, batch_size=4):\n",
        "    for k,v in train_batch[0].items():          #k: labels, v: values\n",
        "        print(k)\n",
        "        print(v)\n",
        "        #print(len(v))\n",
        "        pass\n",
        "    print('label', train_batch[1])\n",
        "    break\n",
        "\n"
      ],
      "metadata": {
        "colab": {
          "base_uri": "https://localhost:8080/"
        },
        "outputId": "3db40c19-a111-4533-e0f3-b85855194683",
        "id": "80zZncb8_jkI"
      },
      "execution_count": null,
      "outputs": [
        {
          "output_type": "stream",
          "name": "stdout",
          "text": [
            "data\n",
            "[2 2 2 2 2 2 2 2 2 3 1 1 1 1 1 1 1 1 1 1 1 1 1 1 1 1 1 1 1 1 1 1 1 1 1 0 0\n",
            " 0 0 0 0 0 2 2 2 2 3 1 1 1 1 1 1 1 1 1 1 1 1 1 1 1 1 1 1 1 1 1 1 1 1 1 1 0\n",
            " 0 0 0 0 0 0 0 0 0 0 2 2 2 2 2 2 2 2 2 1 1 1 1 1 1 1 1 1 1 1 1 1 1 1 1 1 1\n",
            " 1 1 1 1 1 1 1 1 1 1 1 0 0 0 0 2 2 2 2 2 2 3 3 3 1 1 1 1 1 1 1 1 1 1 1 1 1\n",
            " 1 1 1 1 1 1 1 1 1 1 1 1 1 1 1 1 1 1 1 1]\n",
            "edges\n",
            "[[  0  16]\n",
            " [  0  17]\n",
            " [  1  16]\n",
            " [  2  21]\n",
            " [  2  29]\n",
            " [  3  22]\n",
            " [  3  29]\n",
            " [  4  25]\n",
            " [  4  32]\n",
            " [  5  26]\n",
            " [  5  33]\n",
            " [  6  27]\n",
            " [  6  34]\n",
            " [  7  30]\n",
            " [  8  31]\n",
            " [  9  13]\n",
            " [  9  28]\n",
            " [ 10  11]\n",
            " [ 10  12]\n",
            " [ 10  16]\n",
            " [ 11  13]\n",
            " [ 11  17]\n",
            " [ 12  14]\n",
            " [ 18  12]\n",
            " [ 13  15]\n",
            " [ 14  15]\n",
            " [ 14  19]\n",
            " [ 15  20]\n",
            " [ 18  23]\n",
            " [ 18  24]\n",
            " [ 19  21]\n",
            " [ 20  22]\n",
            " [ 21  22]\n",
            " [ 23  25]\n",
            " [ 24  26]\n",
            " [ 25  27]\n",
            " [ 26  27]\n",
            " [ 28  30]\n",
            " [ 30  31]\n",
            " [ 42  52]\n",
            " [ 43  57]\n",
            " [ 44  59]\n",
            " [ 44  69]\n",
            " [ 45  59]\n",
            " [ 46  49]\n",
            " [ 46  50]\n",
            " [ 46  58]\n",
            " [ 47  48]\n",
            " [ 47  49]\n",
            " [ 47  51]\n",
            " [ 48  50]\n",
            " [ 48  53]\n",
            " [ 49  52]\n",
            " [ 50  56]\n",
            " [ 51  54]\n",
            " [ 51  63]\n",
            " [ 52  55]\n",
            " [ 53  57]\n",
            " [ 53  59]\n",
            " [ 54  55]\n",
            " [ 54  61]\n",
            " [ 55  62]\n",
            " [ 56  60]\n",
            " [ 57  60]\n",
            " [ 58  64]\n",
            " [ 61  65]\n",
            " [ 62  66]\n",
            " [ 64  67]\n",
            " [ 64  68]\n",
            " [ 65  66]\n",
            " [ 67  70]\n",
            " [ 68  71]\n",
            " [ 70  72]\n",
            " [ 71  72]\n",
            " [ 84  96]\n",
            " [ 84 103]\n",
            " [ 85  97]\n",
            " [ 85 104]\n",
            " [ 86 104]\n",
            " [ 86 116]\n",
            " [ 99  87]\n",
            " [103  88]\n",
            " [ 89 108]\n",
            " [112  90]\n",
            " [ 91 119]\n",
            " [ 91 120]\n",
            " [ 92 120]\n",
            " [ 93  94]\n",
            " [ 93  95]\n",
            " [ 93 100]\n",
            " [ 93 108]\n",
            " [ 94  98]\n",
            " [ 94 105]\n",
            " [ 95 102]\n",
            " [ 95 106]\n",
            " [ 96  97]\n",
            " [ 96 100]\n",
            " [ 97 102]\n",
            " [ 98  99]\n",
            " [ 98 107]\n",
            " [ 99 101]\n",
            " [ 99 111]\n",
            " [101 109]\n",
            " [101 110]\n",
            " [101 114]\n",
            " [103 104]\n",
            " [103 112]\n",
            " [105 110]\n",
            " [106 107]\n",
            " [109 113]\n",
            " [109 115]\n",
            " [111 113]\n",
            " [112 117]\n",
            " [115 118]\n",
            " [115 119]\n",
            " [116 117]\n",
            " [116 121]\n",
            " [118 120]\n",
            " [126 144]\n",
            " [126 150]\n",
            " [127 145]\n",
            " [127 151]\n",
            " [128 146]\n",
            " [128 152]\n",
            " [129 140]\n",
            " [130 139]\n",
            " [131 138]\n",
            " [132 135]\n",
            " [132 139]\n",
            " [133 136]\n",
            " [133 140]\n",
            " [134 137]\n",
            " [134 138]\n",
            " [135 141]\n",
            " [135 146]\n",
            " [136 142]\n",
            " [136 145]\n",
            " [137 143]\n",
            " [137 144]\n",
            " [138 141]\n",
            " [139 142]\n",
            " [140 143]\n",
            " [147 150]\n",
            " [147 153]\n",
            " [147 156]\n",
            " [148 151]\n",
            " [148 154]\n",
            " [148 157]\n",
            " [149 152]\n",
            " [149 155]\n",
            " [149 158]\n",
            " [153 159]\n",
            " [154 160]\n",
            " [155 161]\n",
            " [156 162]\n",
            " [157 163]\n",
            " [158 164]\n",
            " [159 165]\n",
            " [160 166]\n",
            " [161 167]\n",
            " [162 165]\n",
            " [163 166]\n",
            " [164 167]]\n",
            "node2grah\n",
            "[0 0 0 0 0 0 0 0 0 0 0 0 0 0 0 0 0 0 0 0 0 0 0 0 0 0 0 0 0 0 0 0 0 0 0 0 0\n",
            " 0 0 0 0 0 1 1 1 1 1 1 1 1 1 1 1 1 1 1 1 1 1 1 1 1 1 1 1 1 1 1 1 1 1 1 1 1\n",
            " 1 1 1 1 1 1 1 1 1 1 2 2 2 2 2 2 2 2 2 2 2 2 2 2 2 2 2 2 2 2 2 2 2 2 2 2 2\n",
            " 2 2 2 2 2 2 2 2 2 2 2 2 2 2 2 3 3 3 3 3 3 3 3 3 3 3 3 3 3 3 3 3 3 3 3 3 3\n",
            " 3 3 3 3 3 3 3 3 3 3 3 3 3 3 3 3 3 3 3 3]\n",
            "label [1 1 1 0]\n"
          ]
        }
      ]
    },
    {
      "cell_type": "markdown",
      "metadata": {
        "id": "p88zAWB__jkJ"
      },
      "source": [
        "#### Model"
      ]
    },
    {
      "cell_type": "code",
      "execution_count": null,
      "metadata": {
        "colab": {
          "base_uri": "https://localhost:8080/"
        },
        "outputId": "6ef00986-afe3-4433-b51f-1d166d9e547b",
        "id": "z1mhp4mf_jkJ"
      },
      "outputs": [
        {
          "output_type": "stream",
          "name": "stdout",
          "text": [
            "gnn_out KerasTensor(type_spec=TensorSpec(shape=(None, 64), dtype=tf.float32, name=None), name='gnn/StatefulPartitionedCall:0', description=\"created by layer 'gnn'\")\n",
            "mean: KerasTensor(type_spec=TensorSpec(shape=(None, 64), dtype=tf.float32, name=None), name='tf.math.segment_mean/SegmentMean:0', description=\"created by layer 'tf.math.segment_mean'\")\n",
            "pred: KerasTensor(type_spec=TensorSpec(shape=(None, 1), dtype=tf.float32, name=None), name='dense/Sigmoid:0', description=\"created by layer 'dense'\")\n",
            "Model: \"model\"\n",
            "__________________________________________________________________________________________________\n",
            " Layer (type)                   Output Shape         Param #     Connected to                     \n",
            "==================================================================================================\n",
            " input_3 (InputLayer)           [(None,)]            0           []                               \n",
            "                                                                                                  \n",
            " input_1 (InputLayer)           [(None,)]            0           []                               \n",
            "                                                                                                  \n",
            " tf.math.reduce_max (TFOpLambda  ()                  0           ['input_3[0][0]']                \n",
            " )                                                                                                \n",
            "                                                                                                  \n",
            " embedding (Embedding)          (None, 20)           10000       ['input_1[0][0]']                \n",
            "                                                                                                  \n",
            " input_2 (InputLayer)           [(None, 2)]          0           []                               \n",
            "                                                                                                  \n",
            " tf.__operators__.add (TFOpLamb  ()                  0           ['tf.math.reduce_max[0][0]']     \n",
            " da)                                                                                              \n",
            "                                                                                                  \n",
            " gnn (GNN)                      (None, 64)           72064       ['embedding[0][0]',              \n",
            "                                                                  'input_2[0][0]',                \n",
            "                                                                  'input_3[0][0]',                \n",
            "                                                                  'tf.__operators__.add[0][0]']   \n",
            "                                                                                                  \n",
            " tf.math.segment_mean (TFOpLamb  (None, 64)          0           ['gnn[0][0]',                    \n",
            " da)                                                              'input_3[0][0]']                \n",
            "                                                                                                  \n",
            " dense (Dense)                  (None, 1)            65          ['tf.math.segment_mean[0][0]']   \n",
            "                                                                                                  \n",
            "==================================================================================================\n",
            "Total params: 82,129\n",
            "Trainable params: 82,129\n",
            "Non-trainable params: 0\n",
            "__________________________________________________________________________________________________\n"
          ]
        }
      ],
      "source": [
        "data = keras.Input(batch_shape=(None,))\n",
        "\n",
        "# the first dim is different to the previous one. it is the total number of edges in this batch\n",
        "edge = keras.Input(batch_shape=(None, 2), dtype=tf.int32)     #edge is 2D\n",
        "node2graph = keras.Input(batch_shape=(None,), dtype=tf.int32)\n",
        "embeded = Embedding(tokenizer.num_words, 20)(data) # embedding data\n",
        "\n",
        "# number of graphs (number of samples)\n",
        "num_graph = tf.reduce_max(node2graph)+1\n",
        "\n",
        "gnn_input = GNNInput(\n",
        "    node_features=embeded, # nodes after embedding\n",
        "    adjacency_lists=(edge,),\n",
        "    node_to_graph_map=node2graph, \n",
        "    num_graphs=num_graph, # number of samples\n",
        ")\n",
        "# Tuning hyperparameters\n",
        "params = GNN.get_default_hyperparameters()\n",
        "params[\"hidden_dim\"] = 64\n",
        "params[\"num_heads\"] = 4\n",
        "params['message_calculation_class'] = 'RGAT'\n",
        "gnn_layer = GNN(params)\n",
        "gnn_out = gnn_layer(gnn_input)\n",
        "\n",
        "print('gnn_out', gnn_out)\n",
        "\n",
        "avg = segment_mean(  # Average layer (segment_mea is used to get the mean of elements in segments of a tensor)\n",
        "    data=gnn_out,\n",
        "    segment_ids=node2graph\n",
        ")\n",
        "print('mean:', avg)\n",
        "\n",
        "pred = Dense(1, activation='sigmoid')(avg)        #binary classification: Dense(2), but here we only output 1 probability\n",
        "print('pred:', pred)\n",
        "\n",
        "model = Model(\n",
        "    inputs={\n",
        "        'data': data,\n",
        "        'edges': edge,\n",
        "        'node2grah': node2graph,\n",
        "    },\n",
        "    outputs=pred\n",
        ")\n",
        "model.summary()"
      ]
    },
    {
      "cell_type": "code",
      "execution_count": null,
      "metadata": {
        "id": "ZPa8e1gc_jkJ"
      },
      "outputs": [],
      "source": [
        "model.compile(\n",
        "    loss='BinaryCrossentropy',\n",
        "    metrics=['AUC']\n",
        ")"
      ]
    },
    {
      "cell_type": "code",
      "source": [
        "batch_size = 16\n",
        "# ceil function returns a ceiling value\n",
        "num_batchs = math.ceil(len(training_set) / batch_size)\n",
        "num_batchs_validation = math.ceil(len(validation_set) / batch_size)\n",
        "\n",
        "# Training the model with batch size = 16 and epochs 50\n",
        "history=model.fit(\n",
        "    gen_batch(\n",
        "        training_set, batch_size=batch_size, repeat=True\n",
        "    ),\n",
        "    steps_per_epoch=num_batchs,\n",
        "    epochs=50,\n",
        "    validation_data=gen_batch(\n",
        "        validation_set, batch_size=16, repeat=True\n",
        "    ),\n",
        "    validation_steps=num_batchs_validation,\n",
        ")"
      ],
      "metadata": {
        "colab": {
          "base_uri": "https://localhost:8080/"
        },
        "outputId": "51eb89f3-6ebd-4233-9f53-2866466ee722",
        "id": "Wo8ln1gn_jkJ"
      },
      "execution_count": null,
      "outputs": [
        {
          "metadata": {
            "tags": null
          },
          "name": "stdout",
          "output_type": "stream",
          "text": [
            "Epoch 1/50\n"
          ]
        },
        {
          "metadata": {
            "tags": null
          },
          "name": "stderr",
          "output_type": "stream",
          "text": [
            "/usr/local/lib/python3.7/dist-packages/tensorflow/python/framework/indexed_slices.py:446: UserWarning: Converting sparse IndexedSlices(IndexedSlices(indices=Tensor(\"gradients/GatherV2_1_grad/Reshape_1:0\", shape=(None,), dtype=int32), values=Tensor(\"gradients/GatherV2_1_grad/Reshape:0\", shape=(None,), dtype=float32), dense_shape=Tensor(\"gradients/GatherV2_1_grad/Cast:0\", shape=(1,), dtype=int32))) to a dense Tensor of unknown shape. This may consume a large amount of memory.\n",
            "  \"shape. This may consume a large amount of memory.\" % value)\n",
            "/usr/local/lib/python3.7/dist-packages/tensorflow/python/framework/indexed_slices.py:446: UserWarning: Converting sparse IndexedSlices(IndexedSlices(indices=Tensor(\"gradients/GatherV2_grad/Reshape_1:0\", shape=(None,), dtype=int32), values=Tensor(\"gradients/GatherV2_grad/Reshape:0\", shape=(None,), dtype=float32), dense_shape=Tensor(\"gradients/GatherV2_grad/Cast:0\", shape=(1,), dtype=int32))) to a dense Tensor of unknown shape. This may consume a large amount of memory.\n",
            "  \"shape. This may consume a large amount of memory.\" % value)\n",
            "/usr/local/lib/python3.7/dist-packages/tensorflow/python/framework/indexed_slices.py:446: UserWarning: Converting sparse IndexedSlices(IndexedSlices(indices=Tensor(\"gradients/cond_3_grad/Identity_1:0\", shape=(None,), dtype=int32), values=Tensor(\"gradients/cond_3_grad/Identity:0\", shape=(None, 64), dtype=float32), dense_shape=Tensor(\"gradients/cond_3_grad/Identity_2:0\", shape=(2,), dtype=int32))) to a dense Tensor of unknown shape. This may consume a large amount of memory.\n",
            "  \"shape. This may consume a large amount of memory.\" % value)\n",
            "/usr/local/lib/python3.7/dist-packages/tensorflow/python/framework/indexed_slices.py:446: UserWarning: Converting sparse IndexedSlices(IndexedSlices(indices=Tensor(\"gradients/concat_3:0\", shape=(None,), dtype=int32), values=Tensor(\"gradients/concat_2:0\", shape=(None, 64), dtype=float32), dense_shape=Tensor(\"gradients/rgat_2/embedding_lookup_grad/Cast:0\", shape=(2,), dtype=int32))) to a dense Tensor of unknown shape. This may consume a large amount of memory.\n",
            "  \"shape. This may consume a large amount of memory.\" % value)\n",
            "/usr/local/lib/python3.7/dist-packages/tensorflow/python/framework/indexed_slices.py:446: UserWarning: Converting sparse IndexedSlices(IndexedSlices(indices=Tensor(\"gradients/cond_1_grad/Identity_1:0\", shape=(None,), dtype=int32), values=Tensor(\"gradients/cond_1_grad/Identity:0\", shape=(None, 64), dtype=float32), dense_shape=Tensor(\"gradients/cond_1_grad/Identity_2:0\", shape=(2,), dtype=int32))) to a dense Tensor of unknown shape. This may consume a large amount of memory.\n",
            "  \"shape. This may consume a large amount of memory.\" % value)\n",
            "/usr/local/lib/python3.7/dist-packages/tensorflow/python/framework/indexed_slices.py:446: UserWarning: Converting sparse IndexedSlices(IndexedSlices(indices=Tensor(\"gradients/rgat/embedding_lookup_grad/Reshape_1:0\", shape=(None,), dtype=int32), values=Tensor(\"gradients/rgat/embedding_lookup_grad/Reshape:0\", shape=(None, 64), dtype=float32), dense_shape=Tensor(\"gradients/rgat/embedding_lookup_grad/Cast:0\", shape=(2,), dtype=int32))) to a dense Tensor of unknown shape. This may consume a large amount of memory.\n",
            "  \"shape. This may consume a large amount of memory.\" % value)\n",
            "/usr/local/lib/python3.7/dist-packages/tensorflow/python/framework/indexed_slices.py:446: UserWarning: Converting sparse IndexedSlices(IndexedSlices(indices=Tensor(\"gradients/rgat/embedding_lookup_1_grad/Reshape_1:0\", shape=(None,), dtype=int32), values=Tensor(\"gradients/rgat/embedding_lookup_1_grad/Reshape:0\", shape=(None, 64), dtype=float32), dense_shape=Tensor(\"gradients/rgat/embedding_lookup_1_grad/Cast:0\", shape=(2,), dtype=int32))) to a dense Tensor of unknown shape. This may consume a large amount of memory.\n",
            "  \"shape. This may consume a large amount of memory.\" % value)\n"
          ]
        },
        {
          "output_type": "stream",
          "name": "stdout",
          "text": [
            "2530/2530 [==============================] - 98s 35ms/step - loss: 0.6183 - auc: 0.7193 - val_loss: 0.5932 - val_auc: 0.7518\n",
            "Epoch 2/50\n",
            "2530/2530 [==============================] - 88s 35ms/step - loss: 0.5731 - auc: 0.7734 - val_loss: 0.5487 - val_auc: 0.8091\n",
            "Epoch 3/50\n",
            "2530/2530 [==============================] - 89s 35ms/step - loss: 0.5379 - auc: 0.8082 - val_loss: 0.5331 - val_auc: 0.8239\n",
            "Epoch 4/50\n",
            "2530/2530 [==============================] - 88s 35ms/step - loss: 0.5105 - auc: 0.8317 - val_loss: 0.5314 - val_auc: 0.8274\n",
            "Epoch 5/50\n",
            "2530/2530 [==============================] - 87s 35ms/step - loss: 0.4913 - auc: 0.8460 - val_loss: 0.4893 - val_auc: 0.8563\n",
            "Epoch 6/50\n",
            "2530/2530 [==============================] - 87s 34ms/step - loss: 0.4750 - auc: 0.8571 - val_loss: 0.4799 - val_auc: 0.8607\n",
            "Epoch 7/50\n",
            "2530/2530 [==============================] - 86s 34ms/step - loss: 0.4685 - auc: 0.8611 - val_loss: 0.4739 - val_auc: 0.8631\n",
            "Epoch 8/50\n",
            "2530/2530 [==============================] - 88s 35ms/step - loss: 0.4633 - auc: 0.8650 - val_loss: 0.4567 - val_auc: 0.8678\n",
            "Epoch 9/50\n",
            "2530/2530 [==============================] - 87s 35ms/step - loss: 0.4591 - auc: 0.8675 - val_loss: 0.4561 - val_auc: 0.8709\n",
            "Epoch 10/50\n",
            "2530/2530 [==============================] - 88s 35ms/step - loss: 0.4551 - auc: 0.8699 - val_loss: 0.4549 - val_auc: 0.8703\n",
            "Epoch 11/50\n",
            "2530/2530 [==============================] - 87s 34ms/step - loss: 0.4594 - auc: 0.8673 - val_loss: 0.4690 - val_auc: 0.8731\n",
            "Epoch 12/50\n",
            "2530/2530 [==============================] - 85s 34ms/step - loss: 0.4615 - auc: 0.8665 - val_loss: 0.4796 - val_auc: 0.8537\n",
            "Epoch 13/50\n",
            "2530/2530 [==============================] - 86s 34ms/step - loss: 0.4647 - auc: 0.8641 - val_loss: 0.4764 - val_auc: 0.8571\n",
            "Epoch 14/50\n",
            "2530/2530 [==============================] - 86s 34ms/step - loss: 0.4742 - auc: 0.8587 - val_loss: 0.4950 - val_auc: 0.8578\n",
            "Epoch 15/50\n",
            "2530/2530 [==============================] - 85s 34ms/step - loss: 0.4716 - auc: 0.8602 - val_loss: 0.4675 - val_auc: 0.8688\n",
            "Epoch 16/50\n",
            "2530/2530 [==============================] - 85s 34ms/step - loss: 0.4781 - auc: 0.8550 - val_loss: 0.4853 - val_auc: 0.8594\n",
            "Epoch 17/50\n",
            "2530/2530 [==============================] - 87s 35ms/step - loss: 0.4874 - auc: 0.8490 - val_loss: 0.5146 - val_auc: 0.8424\n",
            "Epoch 18/50\n",
            "2530/2530 [==============================] - 85s 34ms/step - loss: 0.4910 - auc: 0.8476 - val_loss: 0.5366 - val_auc: 0.8253\n",
            "Epoch 19/50\n",
            "2530/2530 [==============================] - 86s 34ms/step - loss: 0.4956 - auc: 0.8432 - val_loss: 0.5122 - val_auc: 0.8525\n",
            "Epoch 20/50\n",
            "2530/2530 [==============================] - 87s 34ms/step - loss: 0.4980 - auc: 0.8417 - val_loss: 0.5199 - val_auc: 0.8415\n",
            "Epoch 21/50\n",
            "2530/2530 [==============================] - 85s 34ms/step - loss: 0.5031 - auc: 0.8366 - val_loss: 0.5246 - val_auc: 0.8230\n",
            "Epoch 22/50\n",
            "2530/2530 [==============================] - 88s 35ms/step - loss: 0.5007 - auc: 0.8394 - val_loss: 0.5282 - val_auc: 0.8303\n",
            "Epoch 23/50\n",
            "2530/2530 [==============================] - 85s 34ms/step - loss: 0.5056 - auc: 0.8376 - val_loss: 0.5052 - val_auc: 0.8408\n",
            "Epoch 24/50\n",
            "2530/2530 [==============================] - 85s 34ms/step - loss: 0.5054 - auc: 0.8375 - val_loss: 0.5315 - val_auc: 0.8283\n",
            "Epoch 25/50\n",
            "2530/2530 [==============================] - 86s 34ms/step - loss: 0.5119 - auc: 0.8319 - val_loss: 0.5367 - val_auc: 0.8168\n",
            "Epoch 26/50\n",
            "2530/2530 [==============================] - 86s 34ms/step - loss: 0.5437 - auc: 0.8029 - val_loss: 0.5420 - val_auc: 0.8111\n",
            "Epoch 27/50\n",
            "2530/2530 [==============================] - 86s 34ms/step - loss: 0.5291 - auc: 0.8178 - val_loss: 0.5586 - val_auc: 0.8179\n",
            "Epoch 28/50\n",
            "2530/2530 [==============================] - 85s 33ms/step - loss: 0.5260 - auc: 0.8207 - val_loss: 0.5619 - val_auc: 0.8145\n",
            "Epoch 29/50\n",
            "2530/2530 [==============================] - 84s 33ms/step - loss: 0.5370 - auc: 0.8112 - val_loss: 0.5314 - val_auc: 0.8250\n",
            "Epoch 30/50\n",
            "2530/2530 [==============================] - 85s 34ms/step - loss: 0.5259 - auc: 0.8199 - val_loss: 0.5153 - val_auc: 0.8298\n",
            "Epoch 31/50\n",
            "2530/2530 [==============================] - 86s 34ms/step - loss: 0.5179 - auc: 0.8272 - val_loss: 0.5173 - val_auc: 0.8329\n",
            "Epoch 32/50\n",
            "2530/2530 [==============================] - 89s 35ms/step - loss: 0.5220 - auc: 0.8260 - val_loss: 0.5193 - val_auc: 0.8294\n",
            "Epoch 33/50\n",
            "2530/2530 [==============================] - 92s 37ms/step - loss: 0.5229 - auc: 0.8248 - val_loss: 0.5208 - val_auc: 0.8327\n",
            "Epoch 34/50\n",
            "2530/2530 [==============================] - 92s 36ms/step - loss: 0.5133 - auc: 0.8335 - val_loss: 0.5230 - val_auc: 0.8301\n",
            "Epoch 35/50\n",
            "2530/2530 [==============================] - 91s 36ms/step - loss: 0.5163 - auc: 0.8302 - val_loss: 0.5017 - val_auc: 0.8435\n",
            "Epoch 36/50\n",
            "2530/2530 [==============================] - 88s 35ms/step - loss: 0.5006 - auc: 0.8418 - val_loss: 0.5076 - val_auc: 0.8499\n",
            "Epoch 37/50\n",
            "2530/2530 [==============================] - 87s 34ms/step - loss: 0.5099 - auc: 0.8352 - val_loss: 0.5428 - val_auc: 0.8095\n",
            "Epoch 38/50\n",
            "2530/2530 [==============================] - 87s 34ms/step - loss: 0.5246 - auc: 0.8229 - val_loss: 0.5222 - val_auc: 0.8279\n",
            "Epoch 39/50\n",
            "2530/2530 [==============================] - 87s 34ms/step - loss: 0.5112 - auc: 0.8336 - val_loss: 0.5187 - val_auc: 0.8356\n",
            "Epoch 40/50\n",
            "2530/2530 [==============================] - 86s 34ms/step - loss: 0.5123 - auc: 0.8326 - val_loss: 0.5153 - val_auc: 0.8327\n",
            "Epoch 41/50\n",
            "2530/2530 [==============================] - 86s 34ms/step - loss: 0.5123 - auc: 0.8327 - val_loss: 0.5439 - val_auc: 0.8145\n",
            "Epoch 42/50\n",
            "2530/2530 [==============================] - 86s 34ms/step - loss: 0.5173 - auc: 0.8287 - val_loss: 0.5301 - val_auc: 0.8263\n",
            "Epoch 43/50\n",
            "2530/2530 [==============================] - 88s 35ms/step - loss: 0.5277 - auc: 0.8199 - val_loss: 0.5171 - val_auc: 0.8301\n",
            "Epoch 44/50\n",
            "2530/2530 [==============================] - 89s 35ms/step - loss: 0.5190 - auc: 0.8268 - val_loss: 0.5233 - val_auc: 0.8263\n",
            "Epoch 45/50\n",
            "2530/2530 [==============================] - 89s 35ms/step - loss: 0.5150 - auc: 0.8307 - val_loss: 0.5383 - val_auc: 0.8218\n",
            "Epoch 46/50\n",
            "2530/2530 [==============================] - 87s 34ms/step - loss: 0.5090 - auc: 0.8354 - val_loss: 0.5390 - val_auc: 0.8318\n",
            "Epoch 47/50\n",
            "2530/2530 [==============================] - 87s 34ms/step - loss: 0.5113 - auc: 0.8342 - val_loss: 0.5336 - val_auc: 0.8230\n",
            "Epoch 48/50\n",
            "2530/2530 [==============================] - 89s 35ms/step - loss: 0.5106 - auc: 0.8354 - val_loss: 0.5244 - val_auc: 0.8333\n",
            "Epoch 49/50\n",
            "2530/2530 [==============================] - 89s 35ms/step - loss: 0.5078 - auc: 0.8367 - val_loss: 0.5155 - val_auc: 0.8305\n",
            "Epoch 50/50\n",
            "2530/2530 [==============================] - 88s 35ms/step - loss: 0.5037 - auc: 0.8406 - val_loss: 0.5133 - val_auc: 0.8426\n"
          ]
        }
      ]
    },
    {
      "cell_type": "code",
      "source": [
        "# predict function is used to enable us to predict the labels of the data values on the basis of the trained model.\n",
        "y_pred = model.predict(\n",
        "    gen_batch(testing_set, batch_size=16, shuffle=False)\n",
        ")\n",
        "# repahe to get the first col only\n",
        "y_pred = np.reshape(y_pred, -1)\n",
        "y_pred.shape"
      ],
      "metadata": {
        "id": "uhOrJ5dN_jkJ",
        "colab": {
          "base_uri": "https://localhost:8080/"
        },
        "outputId": "18739b17-ed90-48ef-acf7-3a6630d95eae"
      },
      "execution_count": null,
      "outputs": [
        {
          "output_type": "execute_result",
          "data": {
            "text/plain": [
              "(12326,)"
            ]
          },
          "metadata": {},
          "execution_count": 25
        }
      ]
    },
    {
      "cell_type": "code",
      "source": [
        "y_pred"
      ],
      "metadata": {
        "id": "IAV6Hhr2_jkK",
        "colab": {
          "base_uri": "https://localhost:8080/"
        },
        "outputId": "fd4b6d72-3724-49f8-99e3-5dcdec3991ce"
      },
      "execution_count": null,
      "outputs": [
        {
          "output_type": "execute_result",
          "data": {
            "text/plain": [
              "array([0.9713262 , 0.4989058 , 0.05719748, ..., 0.1403809 , 0.03529859,\n",
              "       0.8718442 ], dtype=float32)"
            ]
          },
          "metadata": {},
          "execution_count": 26
        }
      ]
    },
    {
      "cell_type": "markdown",
      "source": [
        "#### Display model"
      ],
      "metadata": {
        "id": "sH_Db6f__jkK"
      }
    },
    {
      "cell_type": "code",
      "source": [
        "# figure is used to create a new figure.\n",
        "plt.figure(figsize=(15, 8))\n",
        "plt.subplot(1, 2, 1)\n",
        "plt.plot(history.history['auc'])\n",
        "plt.plot(history.history['val_auc'])\n",
        "plt.title('model auc') # graph title\n",
        "plt.ylabel('Auc') # y axis lable\n",
        "plt.xlabel('epoch') # x axis lable\n",
        "plt.legend(['train', 'validation'], loc='upper left') # legend is an area describing the elements of the graph\n",
        "plt.show()\n",
        "plt.grid(True) # grid is the axis object's method toggles the visibility of the grid inside the figure.\n",
        "plt.subplot(1, 2, 1)\n",
        "plt.plot(history.history['loss'])\n",
        "plt.plot(history.history['val_loss'])\n",
        "plt.title('model loss')  # graph title\n",
        "plt.ylabel('loss') # y axis lable\n",
        "plt.xlabel('epoch')# x axis lable\n",
        "plt.legend(['train', 'validation'], loc='upper left')\n",
        "plt.show()"
      ],
      "metadata": {
        "id": "W_GHpLR9_jkK",
        "colab": {
          "base_uri": "https://localhost:8080/",
          "height": 791
        },
        "outputId": "38c2a96b-4e58-485b-e396-a9b11cca4160"
      },
      "execution_count": null,
      "outputs": [
        {
          "output_type": "display_data",
          "data": {
            "text/plain": [
              "<Figure size 1080x576 with 1 Axes>"
            ],
            "image/png": "[encoded data removed]"
          },
          "metadata": {
            "needs_background": "light"
          }
        },
        {
          "output_type": "display_data",
          "data": {
            "text/plain": [
              "<Figure size 432x288 with 1 Axes>"
            ],
            "image/png": "[encoded data removed]"
          },
          "metadata": {
            "needs_background": "light"
          }
        }
      ]
    },
    {
      "cell_type": "code",
      "execution_count": null,
      "metadata": {
        "id": "tPAz4_iw_jkK"
      },
      "outputs": [],
      "source": [
        "submission = pd.DataFrame({'label':y_pred})\n",
        "submission.index.name = 'id'\n",
        "submission.to_csv('/content/drive/MyDrive/Queens_Practical/Data_Mining/compt6/sample_submission.csv')"
      ]
    },
    {
      "cell_type": "markdown",
      "metadata": {
        "id": "mysYm2fu_jkK"
      },
      "source": [
        "#### Result"
      ]
    },
    {
      "cell_type": "markdown",
      "metadata": {
        "id": "1YdwccD1_jkK"
      },
      "source": [
        "Accuracy in **kaggle** =0.84084 \\\n",
        "\n",
        "From the diagram, the accuracy improve but I think the RGAT may not be appropriate for this problem as the model begins to learn the data poorly, so in the next trial I will try to add more layers to solve this problem and improve the accuracy."
      ]
    },
    {
      "cell_type": "markdown",
      "metadata": {
        "id": "4d69DiFVYnXH"
      },
      "source": [
        "### **Trial 7**"
      ]
    },
    {
      "cell_type": "markdown",
      "metadata": {
        "id": "H-QmLuzoYnXI"
      },
      "source": [
        "* In this trial I will use:\n",
        " * I will use **balanced** data\n",
        " * Preprocessing\n",
        "   * **max_vocab = 500** , max_len = 100\n",
        "   * Prepare nodes, labels, and links\n",
        "   * Tokenize and convert data into integer numbers\n",
        "   * Padding to tokenize\n",
        "   * Generate multiple batches\n",
        "   * Embedding \n",
        "  * Model\n",
        "   * Layers\n",
        "      * I will use GNN as an input \n",
        "      * GNN layer\n",
        "          * Hyper parameters\n",
        "            * I will use default hyper parameters\n",
        "            * hidden_dim = 64\n",
        "            * num_heads = 4\n",
        "            * **use_inter_layer_layernorm=False**\n",
        "            * **layer_input_dropout_rate=0.3**\n",
        "            * message_calculation_class = RGAT\n",
        "      * Average layer\n",
        "      * Dense layer with sigmoid activation function\n",
        "   * Compile the model using AUC curve\n",
        "   * Fit the model using epoch = 50 and batch_size = 16\n",
        "   * Predict the model\n",
        "\n",
        "**My thoughts and observations :** The accuracy would be between 0.84 and 0.85"
      ]
    },
    {
      "cell_type": "markdown",
      "source": [
        "**RGAT (Relational Graph Attention Networks)**\n",
        "\n",
        "The primary idea is to create a hybrid network by combining graph attention networks and relational graph networks. It uses a message-passing mechanism to compute graph states."
      ],
      "metadata": {
        "id": "XUwRzo2UYnXI"
      }
    },
    {
      "cell_type": "markdown",
      "metadata": {
        "id": "G-yzef2TYnXI"
      },
      "source": [
        "#### Preprocessing"
      ]
    },
    {
      "cell_type": "code",
      "source": [
        "max_vocab = 500\n",
        "max_len = 100\n",
        "\n",
        "# build vocabulary from training set\n",
        "all_nodes = [s[0] for s in training_set]\n",
        "# we use tokenizer as the data contain letters that need to tokenize\n",
        "tokenizer = Tokenizer(num_words=max_vocab)\n",
        "# fit_on_texts used to updates internal vocabulary based on a list of texts\n",
        "tokenizer.fit_on_texts(all_nodes)"
      ],
      "metadata": {
        "id": "6QtsMAT2YnXI"
      },
      "execution_count": null,
      "outputs": []
    },
    {
      "cell_type": "code",
      "source": [
        "\n",
        "def prepare_single_batch(samples):\n",
        "  # samples return 3 values nodes, labels, and links so we will take node only\n",
        "    sample_nodes = [s[0] for s in samples]\n",
        "    # texts_to_sequences used to transforms each text in texts to a sequence of integers\n",
        "    sample_nodes = tokenizer.texts_to_sequences(sample_nodes)\n",
        "    # put padding to tokenizers\n",
        "    sample_nodes = pad_sequences(sample_nodes, padding='post')\n",
        "\n",
        "    # max_nodes_len to know the number of nodes in each sample\n",
        "    max_nodes_len = np.shape(sample_nodes)[1]                           #shape: (num of samples, number of nodes)\n",
        "    edges = [s[1]+i*max_nodes_len for i,s in enumerate(samples)]        #s[1]: links, i*max_nodes_len: to start indexing from current node not from 0 again\n",
        "    edges = [e for e in edges if len(e) > 0]                          #make sure all elements(edges) are non-zero\n",
        "    # takes order of graph and multiply by max number of nodes\n",
        "    node_to_graph = [[i]*max_nodes_len for i in range(len(samples))]\n",
        "\n",
        "    \n",
        "    # put all nodes and edges with each other in 1D array\n",
        "    all_nodes = np.reshape(sample_nodes, -1)      #concatenate nodes of all samples together\n",
        "    all_edges = np.concatenate(edges)             #concatenate edges of all samples together (because edge is tuple, doesnt hae reshape, output is 2D)\n",
        "\n",
        "    node_to_graph = np.reshape(node_to_graph, -1)\n",
        "    return {\n",
        "        'data': all_nodes,\n",
        "        'edges': all_edges,\n",
        "        'node2grah': node_to_graph,\n",
        "    }, np.array([s[2] for s in samples])\n",
        "\n",
        "\n",
        "# gen_batch this function used to generate multiple batches by calling prepare_single_batch function\n",
        "def gen_batch(dataset, batch_size=16, repeat=False, shuffle=True):\n",
        "    while True:\n",
        "        dataset = list(dataset)\n",
        "        if shuffle:\n",
        "            random.shuffle(dataset)\n",
        "        l = len(dataset)\n",
        "        for ndx in range(0, l, batch_size):\n",
        "            batch_samples = dataset[ndx:min(ndx + batch_size, l)]\n",
        "            yield prepare_single_batch(batch_samples)\n",
        "        if not repeat:\n",
        "            break\n"
      ],
      "metadata": {
        "id": "PicVxygrYnXJ"
      },
      "execution_count": null,
      "outputs": []
    },
    {
      "cell_type": "code",
      "source": [
        "# showing one batch:\n",
        "# batch_size put on it the number of samples that i want to be in one batch\n",
        "for train_batch in gen_batch(training_set, batch_size=4):\n",
        "    for k,v in train_batch[0].items():          #k: labels, v: values\n",
        "        print(k)\n",
        "        print(v)\n",
        "        #print(len(v))\n",
        "        pass\n",
        "    print('label', train_batch[1])\n",
        "    break\n",
        "\n"
      ],
      "metadata": {
        "colab": {
          "base_uri": "https://localhost:8080/"
        },
        "outputId": "d21f06f0-6575-4e07-bb50-99f12d9a489b",
        "id": "_R51n-NCYnXJ"
      },
      "execution_count": null,
      "outputs": [
        {
          "output_type": "stream",
          "name": "stdout",
          "text": [
            "data\n",
            "[2 2 2 2 3 3 1 1 1 1 1 1 1 1 1 1 1 1 1 1 1 1 1 1 1 1 1 1 1 1 1 1 1 1 4 4 3\n",
            " 3 1 1 1 1 1 1 1 1 1 0 0 0 0 0 0 0 0 0 0 0 0 0 0 0 0 0 0 0 0 0 2 1 1 1 1 1\n",
            " 1 1 1 1 1 1 1 1 0 0 0 0 0 0 0 0 0 0 0 0 0 0 0 0 0 0 0 0 4 3 3 3 3 1 1 1 1\n",
            " 1 1 1 1 1 1 1 0 0 0 0 0 0 0 0 0 0 0 0 0 0 0 0 0 0]\n",
            "edges\n",
            "[[  0   6]\n",
            " [  0  11]\n",
            " [  1  11]\n",
            " [  2  21]\n",
            " [  3  22]\n",
            " [  4  16]\n",
            " [  4  30]\n",
            " [  5  17]\n",
            " [  5  31]\n",
            " [  6   7]\n",
            " [  6   8]\n",
            " [  6   9]\n",
            " [  7  10]\n",
            " [  7  18]\n",
            " [  8  12]\n",
            " [  8  14]\n",
            " [  9  13]\n",
            " [  9  15]\n",
            " [ 10  11]\n",
            " [ 10  23]\n",
            " [ 12  16]\n",
            " [ 12  24]\n",
            " [ 13  17]\n",
            " [ 13  25]\n",
            " [ 14  19]\n",
            " [ 15  20]\n",
            " [ 16  21]\n",
            " [ 17  22]\n",
            " [ 18  26]\n",
            " [ 19  21]\n",
            " [ 19  32]\n",
            " [ 20  22]\n",
            " [ 20  33]\n",
            " [ 23  27]\n",
            " [ 24  28]\n",
            " [ 25  29]\n",
            " [ 26  27]\n",
            " [ 28  30]\n",
            " [ 29  31]\n",
            " [ 34  40]\n",
            " [ 34  46]\n",
            " [ 35  40]\n",
            " [ 36  37]\n",
            " [ 36  40]\n",
            " [ 37  39]\n",
            " [ 38  39]\n",
            " [ 38  41]\n",
            " [ 38  42]\n",
            " [ 41  43]\n",
            " [ 42  44]\n",
            " [ 43  45]\n",
            " [ 44  45]\n",
            " [ 68  76]\n",
            " [ 69  70]\n",
            " [ 69  73]\n",
            " [ 69  74]\n",
            " [ 70  71]\n",
            " [ 70  75]\n",
            " [ 71  72]\n",
            " [ 71  78]\n",
            " [ 72  73]\n",
            " [ 72  79]\n",
            " [ 74  77]\n",
            " [ 75  76]\n",
            " [ 76  77]\n",
            " [ 78  80]\n",
            " [ 80  81]\n",
            " [102 107]\n",
            " [103 107]\n",
            " [103 110]\n",
            " [103 111]\n",
            " [104 105]\n",
            " [104 107]\n",
            " [105 109]\n",
            " [106 108]\n",
            " [106 113]\n",
            " [108 109]\n",
            " [108 112]\n",
            " [110 116]\n",
            " [111 117]\n",
            " [112 114]\n",
            " [113 115]\n",
            " [114 115]]\n",
            "node2grah\n",
            "[0 0 0 0 0 0 0 0 0 0 0 0 0 0 0 0 0 0 0 0 0 0 0 0 0 0 0 0 0 0 0 0 0 0 1 1 1\n",
            " 1 1 1 1 1 1 1 1 1 1 1 1 1 1 1 1 1 1 1 1 1 1 1 1 1 1 1 1 1 1 1 2 2 2 2 2 2\n",
            " 2 2 2 2 2 2 2 2 2 2 2 2 2 2 2 2 2 2 2 2 2 2 2 2 2 2 2 2 3 3 3 3 3 3 3 3 3\n",
            " 3 3 3 3 3 3 3 3 3 3 3 3 3 3 3 3 3 3 3 3 3 3 3 3 3]\n",
            "label [1 0 0 1]\n"
          ]
        }
      ]
    },
    {
      "cell_type": "markdown",
      "metadata": {
        "id": "l0R0aTR4YnXJ"
      },
      "source": [
        "#### Model"
      ]
    },
    {
      "cell_type": "code",
      "execution_count": null,
      "metadata": {
        "colab": {
          "base_uri": "https://localhost:8080/"
        },
        "outputId": "3bb15a86-0c18-4610-d012-1e8e15146093",
        "id": "qNOpkLWOYnXK"
      },
      "outputs": [
        {
          "output_type": "stream",
          "name": "stdout",
          "text": [
            "gnn_out KerasTensor(type_spec=TensorSpec(shape=(None, 64), dtype=tf.float32, name=None), name='gnn_1/StatefulPartitionedCall:0', description=\"created by layer 'gnn_1'\")\n",
            "mean: KerasTensor(type_spec=TensorSpec(shape=(None, 64), dtype=tf.float32, name=None), name='tf.math.segment_mean_1/SegmentMean:0', description=\"created by layer 'tf.math.segment_mean_1'\")\n",
            "pred: KerasTensor(type_spec=TensorSpec(shape=(None, 1), dtype=tf.float32, name=None), name='dense_1/Sigmoid:0', description=\"created by layer 'dense_1'\")\n",
            "Model: \"model_1\"\n",
            "__________________________________________________________________________________________________\n",
            " Layer (type)                   Output Shape         Param #     Connected to                     \n",
            "==================================================================================================\n",
            " input_6 (InputLayer)           [(None,)]            0           []                               \n",
            "                                                                                                  \n",
            " input_4 (InputLayer)           [(None,)]            0           []                               \n",
            "                                                                                                  \n",
            " tf.math.reduce_max_1 (TFOpLamb  ()                  0           ['input_6[0][0]']                \n",
            " da)                                                                                              \n",
            "                                                                                                  \n",
            " embedding_1 (Embedding)        (None, 20)           10000       ['input_4[0][0]']                \n",
            "                                                                                                  \n",
            " input_5 (InputLayer)           [(None, 2)]          0           []                               \n",
            "                                                                                                  \n",
            " tf.__operators__.add_1 (TFOpLa  ()                  0           ['tf.math.reduce_max_1[0][0]']   \n",
            " mbda)                                                                                            \n",
            "                                                                                                  \n",
            " gnn_1 (GNN)                    (None, 64)           72064       ['embedding_1[0][0]',            \n",
            "                                                                  'input_5[0][0]',                \n",
            "                                                                  'input_6[0][0]',                \n",
            "                                                                  'tf.__operators__.add_1[0][0]'] \n",
            "                                                                                                  \n",
            " tf.math.segment_mean_1 (TFOpLa  (None, 64)          0           ['gnn_1[0][0]',                  \n",
            " mbda)                                                            'input_6[0][0]']                \n",
            "                                                                                                  \n",
            " dense_1 (Dense)                (None, 1)            65          ['tf.math.segment_mean_1[0][0]'] \n",
            "                                                                                                  \n",
            "==================================================================================================\n",
            "Total params: 82,129\n",
            "Trainable params: 82,129\n",
            "Non-trainable params: 0\n",
            "__________________________________________________________________________________________________\n"
          ]
        }
      ],
      "source": [
        "data = keras.Input(batch_shape=(None,))\n",
        "\n",
        "# the first dim is different to the previous one. it is the total number of edges in this batch\n",
        "edge = keras.Input(batch_shape=(None, 2), dtype=tf.int32)     #edge is 2D\n",
        "node2graph = keras.Input(batch_shape=(None,), dtype=tf.int32)\n",
        "embeded = Embedding(tokenizer.num_words, 20)(data) # embedding data\n",
        "\n",
        "# number of graphs (number of samples)\n",
        "num_graph = tf.reduce_max(node2graph)+1\n",
        "\n",
        "gnn_input = GNNInput(\n",
        "    node_features=embeded, # nodes after embedding\n",
        "    adjacency_lists=(edge,),\n",
        "    node_to_graph_map=node2graph, \n",
        "    num_graphs=num_graph, # number of samples\n",
        ")\n",
        "# Tuning hyperparameters\n",
        "params = GNN.get_default_hyperparameters()\n",
        "params[\"hidden_dim\"] = 64\n",
        "params[\"num_heads\"] = 4\n",
        "params[\"use_inter_layer_layernorm\"] = False\n",
        "params[\"layer_input_dropout_rate\"] = 0.3\n",
        "params['message_calculation_class'] = 'RGAT'\n",
        "gnn_layer = GNN(params)\n",
        "gnn_out = gnn_layer(gnn_input)\n",
        "\n",
        "print('gnn_out', gnn_out)\n",
        "\n",
        "avg = segment_mean(  # Average layer (segment_mea is used to get the mean of elements in segments of a tensor)\n",
        "    data=gnn_out,\n",
        "    segment_ids=node2graph\n",
        ")\n",
        "print('mean:', avg)\n",
        "\n",
        "pred = Dense(1, activation='sigmoid')(avg)        #binary classification: Dense(2), but here we only output 1 probability\n",
        "print('pred:', pred)\n",
        "\n",
        "model = Model(\n",
        "    inputs={\n",
        "        'data': data,\n",
        "        'edges': edge,\n",
        "        'node2grah': node2graph,\n",
        "    },\n",
        "    outputs=pred\n",
        ")\n",
        "model.summary()"
      ]
    },
    {
      "cell_type": "code",
      "execution_count": null,
      "metadata": {
        "id": "5mqxM1DfYnXK"
      },
      "outputs": [],
      "source": [
        "model.compile(\n",
        "    loss='BinaryCrossentropy',\n",
        "    metrics=['AUC']\n",
        ")"
      ]
    },
    {
      "cell_type": "code",
      "source": [
        "batch_size = 16\n",
        "# ceil function returns a ceiling value\n",
        "num_batchs = math.ceil(len(training_set) / batch_size)\n",
        "num_batchs_validation = math.ceil(len(validation_set) / batch_size)\n",
        "\n",
        "# Training the model with batch size = 16 and epochs 50\n",
        "history=model.fit(\n",
        "    gen_batch(\n",
        "        training_set, batch_size=batch_size, repeat=True\n",
        "    ),\n",
        "    steps_per_epoch=num_batchs,\n",
        "    epochs=50,\n",
        "    validation_data=gen_batch(\n",
        "        validation_set, batch_size=16, repeat=True\n",
        "    ),\n",
        "    validation_steps=num_batchs_validation,\n",
        ")"
      ],
      "metadata": {
        "colab": {
          "base_uri": "https://localhost:8080/"
        },
        "outputId": "8d638ccf-8475-4ae5-d198-d3ed2d0ee3aa",
        "id": "Cpn2uKDuYnXK"
      },
      "execution_count": null,
      "outputs": [
        {
          "metadata": {
            "tags": null
          },
          "name": "stdout",
          "output_type": "stream",
          "text": [
            "Epoch 1/50\n"
          ]
        },
        {
          "metadata": {
            "tags": null
          },
          "name": "stderr",
          "output_type": "stream",
          "text": [
            "/usr/local/lib/python3.7/dist-packages/tensorflow/python/framework/indexed_slices.py:446: UserWarning: Converting sparse IndexedSlices(IndexedSlices(indices=Tensor(\"gradients/cond_3_grad/gradients/grad_ys_0_indices:0\", shape=(None,), dtype=int32), values=Tensor(\"gradients/cond_3_grad/gradients/grad_ys_0_values:0\", shape=(None, 64), dtype=float32), dense_shape=Tensor(\"gradients/cond_3_grad/gradients/grad_ys_0_shape:0\", shape=(2,), dtype=int32))) to a dense Tensor of unknown shape. This may consume a large amount of memory.\n",
            "  \"shape. This may consume a large amount of memory.\" % value)\n",
            "/usr/local/lib/python3.7/dist-packages/tensorflow/python/framework/indexed_slices.py:446: UserWarning: Converting sparse IndexedSlices(IndexedSlices(indices=Tensor(\"gradients/cond_3_grad/Identity_1:0\", shape=(None,), dtype=int32), values=Tensor(\"gradients/cond_3_grad/Identity:0\", shape=(None, 64), dtype=float32), dense_shape=Tensor(\"gradients/cond_3_grad/Identity_2:0\", shape=(2,), dtype=int32))) to a dense Tensor of unknown shape. This may consume a large amount of memory.\n",
            "  \"shape. This may consume a large amount of memory.\" % value)\n",
            "/usr/local/lib/python3.7/dist-packages/tensorflow/python/framework/indexed_slices.py:446: UserWarning: Converting sparse IndexedSlices(IndexedSlices(indices=Tensor(\"gradients/concat_3:0\", shape=(None,), dtype=int32), values=Tensor(\"gradients/concat_2:0\", shape=(None, 64), dtype=float32), dense_shape=Tensor(\"gradients/rgat_2/embedding_lookup_grad/Cast:0\", shape=(2,), dtype=int32))) to a dense Tensor of unknown shape. This may consume a large amount of memory.\n",
            "  \"shape. This may consume a large amount of memory.\" % value)\n",
            "/usr/local/lib/python3.7/dist-packages/tensorflow/python/framework/indexed_slices.py:446: UserWarning: Converting sparse IndexedSlices(IndexedSlices(indices=Tensor(\"gradients/cond_1_grad/gradients/grad_ys_0_indices:0\", shape=(None,), dtype=int32), values=Tensor(\"gradients/cond_1_grad/gradients/grad_ys_0_values:0\", shape=(None, 64), dtype=float32), dense_shape=Tensor(\"gradients/cond_1_grad/gradients/grad_ys_0_shape:0\", shape=(2,), dtype=int32))) to a dense Tensor of unknown shape. This may consume a large amount of memory.\n",
            "  \"shape. This may consume a large amount of memory.\" % value)\n",
            "/usr/local/lib/python3.7/dist-packages/tensorflow/python/framework/indexed_slices.py:446: UserWarning: Converting sparse IndexedSlices(IndexedSlices(indices=Tensor(\"gradients/cond_1_grad/Identity_1:0\", shape=(None,), dtype=int32), values=Tensor(\"gradients/cond_1_grad/Identity:0\", shape=(None, 64), dtype=float32), dense_shape=Tensor(\"gradients/cond_1_grad/Identity_2:0\", shape=(2,), dtype=int32))) to a dense Tensor of unknown shape. This may consume a large amount of memory.\n",
            "  \"shape. This may consume a large amount of memory.\" % value)\n",
            "/usr/local/lib/python3.7/dist-packages/tensorflow/python/framework/indexed_slices.py:446: UserWarning: Converting sparse IndexedSlices(IndexedSlices(indices=Tensor(\"gradients/rgat/embedding_lookup_grad/Reshape_1:0\", shape=(None,), dtype=int32), values=Tensor(\"gradients/rgat/embedding_lookup_grad/Reshape:0\", shape=(None, 64), dtype=float32), dense_shape=Tensor(\"gradients/rgat/embedding_lookup_grad/Cast:0\", shape=(2,), dtype=int32))) to a dense Tensor of unknown shape. This may consume a large amount of memory.\n",
            "  \"shape. This may consume a large amount of memory.\" % value)\n",
            "/usr/local/lib/python3.7/dist-packages/tensorflow/python/framework/indexed_slices.py:446: UserWarning: Converting sparse IndexedSlices(IndexedSlices(indices=Tensor(\"gradients/rgat/embedding_lookup_1_grad/Reshape_1:0\", shape=(None,), dtype=int32), values=Tensor(\"gradients/rgat/embedding_lookup_1_grad/Reshape:0\", shape=(None, 64), dtype=float32), dense_shape=Tensor(\"gradients/rgat/embedding_lookup_1_grad/Cast:0\", shape=(2,), dtype=int32))) to a dense Tensor of unknown shape. This may consume a large amount of memory.\n",
            "  \"shape. This may consume a large amount of memory.\" % value)\n"
          ]
        },
        {
          "output_type": "stream",
          "name": "stdout",
          "text": [
            "2530/2530 [==============================] - 101s 38ms/step - loss: 0.6215 - auc: 0.7148 - val_loss: 0.5960 - val_auc: 0.7489\n",
            "Epoch 2/50\n",
            "2530/2530 [==============================] - 94s 37ms/step - loss: 0.5877 - auc: 0.7580 - val_loss: 0.5749 - val_auc: 0.7797\n",
            "Epoch 3/50\n",
            "2530/2530 [==============================] - 95s 37ms/step - loss: 0.5668 - auc: 0.7816 - val_loss: 0.5490 - val_auc: 0.7971\n",
            "Epoch 4/50\n",
            "2530/2530 [==============================] - 94s 37ms/step - loss: 0.5501 - auc: 0.7971 - val_loss: 0.5360 - val_auc: 0.8126\n",
            "Epoch 5/50\n",
            "2530/2530 [==============================] - 96s 38ms/step - loss: 0.5358 - auc: 0.8101 - val_loss: 0.5346 - val_auc: 0.8157\n",
            "Epoch 6/50\n",
            "2530/2530 [==============================] - 97s 38ms/step - loss: 0.5219 - auc: 0.8217 - val_loss: 0.5040 - val_auc: 0.8394\n",
            "Epoch 7/50\n",
            "2530/2530 [==============================] - 95s 37ms/step - loss: 0.5093 - auc: 0.8321 - val_loss: 0.4890 - val_auc: 0.8493\n",
            "Epoch 8/50\n",
            "2530/2530 [==============================] - 94s 37ms/step - loss: 0.5009 - auc: 0.8381 - val_loss: 0.5017 - val_auc: 0.8512\n",
            "Epoch 9/50\n",
            "2530/2530 [==============================] - 94s 37ms/step - loss: 0.4949 - auc: 0.8430 - val_loss: 0.5120 - val_auc: 0.8524\n",
            "Epoch 10/50\n",
            "2530/2530 [==============================] - 94s 37ms/step - loss: 0.4883 - auc: 0.8482 - val_loss: 0.4845 - val_auc: 0.8559\n",
            "Epoch 11/50\n",
            "2530/2530 [==============================] - 95s 37ms/step - loss: 0.4814 - auc: 0.8525 - val_loss: 0.4845 - val_auc: 0.8582\n",
            "Epoch 12/50\n",
            "2530/2530 [==============================] - 94s 37ms/step - loss: 0.4776 - auc: 0.8553 - val_loss: 0.4692 - val_auc: 0.8638\n",
            "Epoch 13/50\n",
            "2530/2530 [==============================] - 94s 37ms/step - loss: 0.4747 - auc: 0.8576 - val_loss: 0.4585 - val_auc: 0.8749\n",
            "Epoch 14/50\n",
            "2530/2530 [==============================] - 94s 37ms/step - loss: 0.4704 - auc: 0.8602 - val_loss: 0.4797 - val_auc: 0.8612\n",
            "Epoch 15/50\n",
            "2530/2530 [==============================] - 94s 37ms/step - loss: 0.4661 - auc: 0.8627 - val_loss: 0.4586 - val_auc: 0.8707\n",
            "Epoch 16/50\n",
            "2530/2530 [==============================] - 95s 38ms/step - loss: 0.4663 - auc: 0.8631 - val_loss: 0.4459 - val_auc: 0.8763\n",
            "Epoch 17/50\n",
            "2530/2530 [==============================] - 93s 37ms/step - loss: 0.4591 - auc: 0.8676 - val_loss: 0.4647 - val_auc: 0.8761\n",
            "Epoch 18/50\n",
            "2530/2530 [==============================] - 95s 37ms/step - loss: 0.4533 - auc: 0.8716 - val_loss: 0.4539 - val_auc: 0.8722\n",
            "Epoch 19/50\n",
            "2530/2530 [==============================] - 95s 38ms/step - loss: 0.4537 - auc: 0.8714 - val_loss: 0.4435 - val_auc: 0.8781\n",
            "Epoch 20/50\n",
            "2530/2530 [==============================] - 95s 38ms/step - loss: 0.4535 - auc: 0.8716 - val_loss: 0.4634 - val_auc: 0.8778\n",
            "Epoch 21/50\n",
            "2530/2530 [==============================] - 94s 37ms/step - loss: 0.4641 - auc: 0.8645 - val_loss: 0.4570 - val_auc: 0.8802\n",
            "Epoch 22/50\n",
            "2530/2530 [==============================] - 94s 37ms/step - loss: 0.4505 - auc: 0.8736 - val_loss: 0.4334 - val_auc: 0.8874\n",
            "Epoch 23/50\n",
            "2530/2530 [==============================] - 96s 38ms/step - loss: 0.4453 - auc: 0.8766 - val_loss: 0.4341 - val_auc: 0.8895\n",
            "Epoch 24/50\n",
            "2530/2530 [==============================] - 96s 38ms/step - loss: 0.4466 - auc: 0.8755 - val_loss: 0.4249 - val_auc: 0.8908\n",
            "Epoch 25/50\n",
            "2530/2530 [==============================] - 94s 37ms/step - loss: 0.4444 - auc: 0.8767 - val_loss: 0.4277 - val_auc: 0.8913\n",
            "Epoch 26/50\n",
            "2530/2530 [==============================] - 95s 38ms/step - loss: 0.4439 - auc: 0.8770 - val_loss: 0.4200 - val_auc: 0.8936\n",
            "Epoch 27/50\n",
            "2530/2530 [==============================] - 94s 37ms/step - loss: 0.4343 - auc: 0.8828 - val_loss: 0.4555 - val_auc: 0.8820\n",
            "Epoch 28/50\n",
            "2530/2530 [==============================] - 95s 38ms/step - loss: 0.4359 - auc: 0.8819 - val_loss: 0.4173 - val_auc: 0.8949\n",
            "Epoch 29/50\n",
            "2530/2530 [==============================] - 94s 37ms/step - loss: 0.4324 - auc: 0.8838 - val_loss: 0.4387 - val_auc: 0.8890\n",
            "Epoch 30/50\n",
            "2530/2530 [==============================] - 93s 37ms/step - loss: 0.4303 - auc: 0.8851 - val_loss: 0.4233 - val_auc: 0.8931\n",
            "Epoch 31/50\n",
            "2530/2530 [==============================] - 95s 38ms/step - loss: 0.4288 - auc: 0.8857 - val_loss: 0.4415 - val_auc: 0.8906\n",
            "Epoch 32/50\n",
            "2530/2530 [==============================] - 93s 37ms/step - loss: 0.4282 - auc: 0.8862 - val_loss: 0.3960 - val_auc: 0.9051\n",
            "Epoch 33/50\n",
            "2530/2530 [==============================] - 94s 37ms/step - loss: 0.4208 - auc: 0.8906 - val_loss: 0.4136 - val_auc: 0.8970\n",
            "Epoch 34/50\n",
            "2530/2530 [==============================] - 94s 37ms/step - loss: 0.4265 - auc: 0.8874 - val_loss: 0.4030 - val_auc: 0.9018\n",
            "Epoch 35/50\n",
            "2530/2530 [==============================] - 93s 37ms/step - loss: 0.4242 - auc: 0.8883 - val_loss: 0.3942 - val_auc: 0.9046\n",
            "Epoch 36/50\n",
            "2530/2530 [==============================] - 93s 37ms/step - loss: 0.4216 - auc: 0.8898 - val_loss: 0.4424 - val_auc: 0.8910\n",
            "Epoch 37/50\n",
            "2530/2530 [==============================] - 94s 37ms/step - loss: 0.4212 - auc: 0.8899 - val_loss: 0.4210 - val_auc: 0.8985\n",
            "Epoch 38/50\n",
            "2530/2530 [==============================] - 93s 37ms/step - loss: 0.4164 - auc: 0.8924 - val_loss: 0.4112 - val_auc: 0.8994\n",
            "Epoch 39/50\n",
            "2530/2530 [==============================] - 93s 37ms/step - loss: 0.4141 - auc: 0.8940 - val_loss: 0.3876 - val_auc: 0.9074\n",
            "Epoch 40/50\n",
            "2530/2530 [==============================] - 94s 37ms/step - loss: 0.4175 - auc: 0.8921 - val_loss: 0.4223 - val_auc: 0.9010\n",
            "Epoch 41/50\n",
            "2530/2530 [==============================] - 93s 37ms/step - loss: 0.4129 - auc: 0.8952 - val_loss: 0.3992 - val_auc: 0.9074\n",
            "Epoch 42/50\n",
            "2530/2530 [==============================] - 93s 37ms/step - loss: 0.4152 - auc: 0.8937 - val_loss: 0.4080 - val_auc: 0.9014\n",
            "Epoch 43/50\n",
            "2530/2530 [==============================] - 94s 37ms/step - loss: 0.4114 - auc: 0.8958 - val_loss: 0.3996 - val_auc: 0.9107\n",
            "Epoch 44/50\n",
            "2530/2530 [==============================] - 94s 37ms/step - loss: 0.4079 - auc: 0.8977 - val_loss: 0.3951 - val_auc: 0.9058\n",
            "Epoch 45/50\n",
            "2530/2530 [==============================] - 95s 37ms/step - loss: 0.4101 - auc: 0.8966 - val_loss: 0.4040 - val_auc: 0.9079\n",
            "Epoch 46/50\n",
            "2530/2530 [==============================] - 93s 37ms/step - loss: 0.4019 - auc: 0.9002 - val_loss: 0.4175 - val_auc: 0.9066\n",
            "Epoch 47/50\n",
            "2530/2530 [==============================] - 94s 37ms/step - loss: 0.4039 - auc: 0.8995 - val_loss: 0.3598 - val_auc: 0.9207\n",
            "Epoch 48/50\n",
            "2530/2530 [==============================] - 93s 37ms/step - loss: 0.4020 - auc: 0.9005 - val_loss: 0.4003 - val_auc: 0.9107\n",
            "Epoch 49/50\n",
            "2530/2530 [==============================] - 94s 37ms/step - loss: 0.3972 - auc: 0.9031 - val_loss: 0.3910 - val_auc: 0.9147\n",
            "Epoch 50/50\n",
            "2530/2530 [==============================] - 95s 37ms/step - loss: 0.3941 - auc: 0.9045 - val_loss: 0.3995 - val_auc: 0.9146\n"
          ]
        }
      ]
    },
    {
      "cell_type": "code",
      "source": [
        "# predict function is used to enable us to predict the labels of the data values on the basis of the trained model.\n",
        "y_pred = model.predict(\n",
        "    gen_batch(testing_set, batch_size=16, shuffle=False)\n",
        ")\n",
        "# repahe to get the first col only\n",
        "y_pred = np.reshape(y_pred, -1)\n",
        "y_pred.shape"
      ],
      "metadata": {
        "colab": {
          "base_uri": "https://localhost:8080/"
        },
        "id": "ZJLLjDj9YnXK",
        "outputId": "eb01616e-2547-4e9d-ebbe-9c1c4074fd57"
      },
      "execution_count": null,
      "outputs": [
        {
          "output_type": "execute_result",
          "data": {
            "text/plain": [
              "(12326,)"
            ]
          },
          "metadata": {},
          "execution_count": 35
        }
      ]
    },
    {
      "cell_type": "code",
      "source": [
        "y_pred"
      ],
      "metadata": {
        "colab": {
          "base_uri": "https://localhost:8080/"
        },
        "id": "4_oCxuJIYnXL",
        "outputId": "00d611b6-fd42-4b74-8590-830683cf93bc"
      },
      "execution_count": null,
      "outputs": [
        {
          "output_type": "execute_result",
          "data": {
            "text/plain": [
              "array([9.8080945e-01, 9.0762305e-01, 7.6276110e-04, ..., 4.8839222e-03,\n",
              "       3.7714195e-01, 9.0093231e-01], dtype=float32)"
            ]
          },
          "metadata": {},
          "execution_count": 36
        }
      ]
    },
    {
      "cell_type": "markdown",
      "source": [
        "#### Display model"
      ],
      "metadata": {
        "id": "T1mujlg5YnXL"
      }
    },
    {
      "cell_type": "code",
      "source": [
        "# figure is used to create a new figure.\n",
        "plt.figure(figsize=(15, 8))\n",
        "plt.subplot(1, 2, 1)\n",
        "plt.plot(history.history['auc'])\n",
        "plt.plot(history.history['val_auc'])\n",
        "plt.title('model auc') # graph title\n",
        "plt.ylabel('Auc') # y axis lable\n",
        "plt.xlabel('epoch') # x axis lable\n",
        "plt.legend(['train', 'validation'], loc='upper left') # legend is an area describing the elements of the graph\n",
        "plt.show()\n",
        "plt.grid(True) # grid is the axis object's method toggles the visibility of the grid inside the figure.\n",
        "plt.subplot(1, 2, 1)\n",
        "plt.plot(history.history['loss'])\n",
        "plt.plot(history.history['val_loss'])\n",
        "plt.title('model loss')  # graph title\n",
        "plt.ylabel('loss') # y axis lable\n",
        "plt.xlabel('epoch')# x axis lable\n",
        "plt.legend(['train', 'validation'], loc='upper left')\n",
        "plt.show()"
      ],
      "metadata": {
        "colab": {
          "base_uri": "https://localhost:8080/",
          "height": 791
        },
        "id": "pFU5cJ5SYnXM",
        "outputId": "75910749-8a6d-48a2-e073-c591b3a22c6c"
      },
      "execution_count": null,
      "outputs": [
        {
          "output_type": "display_data",
          "data": {
            "text/plain": [
              "<Figure size 1080x576 with 1 Axes>"
            ],
            "image/png": "[encoded data removed]"
          },
          "metadata": {
            "needs_background": "light"
          }
        },
        {
          "output_type": "display_data",
          "data": {
            "text/plain": [
              "<Figure size 432x288 with 1 Axes>"
            ],
            "image/png": "[encoded data removed]"
          },
          "metadata": {
            "needs_background": "light"
          }
        }
      ]
    },
    {
      "cell_type": "code",
      "execution_count": null,
      "metadata": {
        "id": "KvFsOCsRYnXM"
      },
      "outputs": [],
      "source": [
        "submission = pd.DataFrame({'label':y_pred})\n",
        "submission.index.name = 'id'\n",
        "submission.to_csv('/content/drive/MyDrive/Queens_Practical/Data_Mining/compt6/sample_submission.csv')"
      ]
    },
    {
      "cell_type": "markdown",
      "metadata": {
        "id": "as711xJLYnXN"
      },
      "source": [
        "#### Result"
      ]
    },
    {
      "cell_type": "markdown",
      "metadata": {
        "id": "_-CutzJ7YnXN"
      },
      "source": [
        "Accuracy in **kaggle** =0.8567 \\\n",
        "From the diagram, the model learn better than last trials and the overfitting is very reduce and the accuracy very improved. In the next trial I will try different model."
      ]
    },
    {
      "cell_type": "markdown",
      "metadata": {
        "id": "7ilTylzkqfBq"
      },
      "source": [
        "### **Trial 8**"
      ]
    },
    {
      "cell_type": "markdown",
      "metadata": {
        "id": "V8M-5cAIqfBr"
      },
      "source": [
        "* In this trial I will use:\n",
        " * I will use **balanced** data\n",
        " * Preprocessing\n",
        "   * **max_vocab = 500** , max_len = 100\n",
        "   * Prepare nodes, labels, and links\n",
        "   * Tokenize and convert data into integer numbers\n",
        "   * Padding to tokenize\n",
        "   * Generate multiple batches\n",
        "   * Embedding \n",
        "  * Model\n",
        "   * Layers\n",
        "      * I will use GNN as an input \n",
        "      * GNN layer\n",
        "          * Hyper parameters\n",
        "            * I will use default hyper parameters\n",
        "            * **hidden_dim = 64**\n",
        "            * **num_heads = 4**\n",
        "            * **num_aggr_MLP_hidden_layers = 4**\n",
        "            * **message_calculation_class = RGCN**\n",
        "      * Average layer\n",
        "      * Dense layer with sigmoid activation function\n",
        "   * Compile the model using AUC curve\n",
        "   * Fit the model using epoch = 50 and batch_size = 16\n",
        "   * Predict the model\n",
        "\n",
        "**My thoughts and observations :** The accuracy would be between 0.85 and 0.86"
      ]
    },
    {
      "cell_type": "markdown",
      "source": [
        "**RGCN (Relational Graph convolution layers)**\n",
        "Used to semi-supervised node classification on (directed) relational graphs.\n",
        "It's used to model relational data, particularly for tasks like link prediction and entity classification.It is use message passing mechanism to compute graph states "
      ],
      "metadata": {
        "id": "Ka5yznJzqfBr"
      }
    },
    {
      "cell_type": "markdown",
      "metadata": {
        "id": "mf18IoiFqfBr"
      },
      "source": [
        "#### Preprocessing"
      ]
    },
    {
      "cell_type": "code",
      "source": [
        "max_vocab = 500\n",
        "max_len = 100\n",
        "\n",
        "# build vocabulary from training set\n",
        "all_nodes = [s[0] for s in training_set]\n",
        "# we use tokenizer as the data contain letters that need to tokenize\n",
        "tokenizer = Tokenizer(num_words=max_vocab)\n",
        "# fit_on_texts used to updates internal vocabulary based on a list of texts\n",
        "tokenizer.fit_on_texts(all_nodes)"
      ],
      "metadata": {
        "id": "08AcKlONqfBr"
      },
      "execution_count": null,
      "outputs": []
    },
    {
      "cell_type": "code",
      "source": [
        "\n",
        "def prepare_single_batch(samples):\n",
        "  # samples return 3 values nodes, labels, and links so we will take node only\n",
        "    sample_nodes = [s[0] for s in samples]\n",
        "    # texts_to_sequences used to transforms each text in texts to a sequence of integers\n",
        "    sample_nodes = tokenizer.texts_to_sequences(sample_nodes)\n",
        "    # put padding to tokenizers\n",
        "    sample_nodes = pad_sequences(sample_nodes, padding='post')\n",
        "\n",
        "    # max_nodes_len to know the number of nodes in each sample\n",
        "    max_nodes_len = np.shape(sample_nodes)[1]                           #shape: (num of samples, number of nodes)\n",
        "    edges = [s[1]+i*max_nodes_len for i,s in enumerate(samples)]        #s[1]: links, i*max_nodes_len: to start indexing from current node not from 0 again\n",
        "    edges = [e for e in edges if len(e) > 0]                          #make sure all elements(edges) are non-zero\n",
        "    # takes order of graph and multiply by max number of nodes\n",
        "    node_to_graph = [[i]*max_nodes_len for i in range(len(samples))]\n",
        "\n",
        "    \n",
        "    # put all nodes and edges with each other in 1D array\n",
        "    all_nodes = np.reshape(sample_nodes, -1)      #concatenate nodes of all samples together\n",
        "    all_edges = np.concatenate(edges)             #concatenate edges of all samples together (because edge is tuple, doesnt hae reshape, output is 2D)\n",
        "\n",
        "    node_to_graph = np.reshape(node_to_graph, -1)\n",
        "    return {\n",
        "        'data': all_nodes,\n",
        "        'edges': all_edges,\n",
        "        'node2grah': node_to_graph,\n",
        "    }, np.array([s[2] for s in samples])\n",
        "\n",
        "\n",
        "# gen_batch this function used to generate multiple batches by calling prepare_single_batch function\n",
        "def gen_batch(dataset, batch_size=16, repeat=False, shuffle=True):\n",
        "    while True:\n",
        "        dataset = list(dataset)\n",
        "        if shuffle:\n",
        "            random.shuffle(dataset)\n",
        "        l = len(dataset)\n",
        "        for ndx in range(0, l, batch_size):\n",
        "            batch_samples = dataset[ndx:min(ndx + batch_size, l)]\n",
        "            yield prepare_single_batch(batch_samples)\n",
        "        if not repeat:\n",
        "            break\n"
      ],
      "metadata": {
        "id": "SrTeYiEfqfBs"
      },
      "execution_count": null,
      "outputs": []
    },
    {
      "cell_type": "code",
      "source": [
        "# showing one batch:\n",
        "# batch_size put on it the number of samples that i want to be in one batch\n",
        "for train_batch in gen_batch(training_set, batch_size=4):\n",
        "    for k,v in train_batch[0].items():          #k: labels, v: values\n",
        "        print(k)\n",
        "        print(v)\n",
        "        #print(len(v))\n",
        "        pass\n",
        "    print('label', train_batch[1])\n",
        "    break\n",
        "\n"
      ],
      "metadata": {
        "colab": {
          "base_uri": "https://localhost:8080/"
        },
        "outputId": "297d4a9c-0d87-4c27-8095-64baa806e0d8",
        "id": "LI3oKa3xqfBs"
      },
      "execution_count": null,
      "outputs": [
        {
          "output_type": "stream",
          "name": "stdout",
          "text": [
            "data\n",
            "[5 2 2 2 2 3 3 3 1 1 1 1 1 1 1 1 1 1 1 1 1 1 1 1 1 1 1 1 1 1 1 0 0 0 0 0 0\n",
            " 0 0 0 0 2 2 2 2 2 2 2 2 2 1 1 1 1 1 1 1 1 1 1 1 1 1 1 1 1 1 1 1 1 1 1 1 1\n",
            " 1 1 1 1 1 1 1 1 5 5 2 2 3 3 1 1 1 1 1 1 1 1 1 1 1 1 1 1 1 1 0 0 0 0 0 0 0\n",
            " 0 0 0 0 0 0 0 0 0 0 0 0 4 2 2 2 1 1 1 1 1 1 1 1 1 1 1 1 1 1 0 0 0 0 0 0 0\n",
            " 0 0 0 0 0 0 0 0 0 0 0 0 0 0 0 0]\n",
            "edges\n",
            "[[  0  25]\n",
            " [  1  13]\n",
            " [  1  26]\n",
            " [  2  12]\n",
            " [  3  16]\n",
            " [  3  27]\n",
            " [  4  19]\n",
            " [  4  28]\n",
            " [  5  11]\n",
            " [  5  12]\n",
            " [  5  18]\n",
            " [  6   8]\n",
            " [  6   9]\n",
            " [  7  23]\n",
            " [  7  29]\n",
            " [  7  30]\n",
            " [  8  10]\n",
            " [  8  13]\n",
            " [  9  12]\n",
            " [  9  15]\n",
            " [ 10  15]\n",
            " [ 10  20]\n",
            " [ 11  14]\n",
            " [ 11  21]\n",
            " [ 13  16]\n",
            " [ 14  17]\n",
            " [ 14  22]\n",
            " [ 16  19]\n",
            " [ 17  18]\n",
            " [ 17  25]\n",
            " [ 19  20]\n",
            " [ 21  23]\n",
            " [ 22  24]\n",
            " [ 23  24]\n",
            " [ 41  52]\n",
            " [ 41  59]\n",
            " [ 42  54]\n",
            " [ 43  56]\n",
            " [ 44  58]\n",
            " [ 45  64]\n",
            " [ 45  76]\n",
            " [ 46  60]\n",
            " [ 47  65]\n",
            " [ 48  66]\n",
            " [ 49  68]\n",
            " [ 50  53]\n",
            " [ 50  54]\n",
            " [ 50  56]\n",
            " [ 51  52]\n",
            " [ 51  54]\n",
            " [ 51  61]\n",
            " [ 52  55]\n",
            " [ 53  57]\n",
            " [ 53  67]\n",
            " [ 55  56]\n",
            " [ 55  65]\n",
            " [ 57  58]\n",
            " [ 57  60]\n",
            " [ 58  62]\n",
            " [ 59  61]\n",
            " [ 59  66]\n",
            " [ 60  63]\n",
            " [ 62  64]\n",
            " [ 62  68]\n",
            " [ 63  64]\n",
            " [ 63  69]\n",
            " [ 65  71]\n",
            " [ 66  72]\n",
            " [ 66  73]\n",
            " [ 67  70]\n",
            " [ 68  75]\n",
            " [ 69  74]\n",
            " [ 70  77]\n",
            " [ 70  78]\n",
            " [ 74  79]\n",
            " [ 79  80]\n",
            " [ 79  81]\n",
            " [ 82 100]\n",
            " [ 83 101]\n",
            " [ 84  92]\n",
            " [ 84  93]\n",
            " [ 85  92]\n",
            " [ 86  90]\n",
            " [ 86  94]\n",
            " [ 86  96]\n",
            " [ 87  89]\n",
            " [ 87  90]\n",
            " [ 88  89]\n",
            " [ 88  92]\n",
            " [ 88  95]\n",
            " [ 89  94]\n",
            " [ 90  97]\n",
            " [ 91  93]\n",
            " [ 91  95]\n",
            " [ 91  98]\n",
            " [ 93  99]\n",
            " [ 96 100]\n",
            " [ 97 102]\n",
            " [ 98 101]\n",
            " [ 99 103]\n",
            " [100 102]\n",
            " [101 103]\n",
            " [123 127]\n",
            " [123 130]\n",
            " [124 129]\n",
            " [124 130]\n",
            " [125 131]\n",
            " [125 136]\n",
            " [126 133]\n",
            " [127 128]\n",
            " [127 129]\n",
            " [128 131]\n",
            " [128 133]\n",
            " [129 132]\n",
            " [130 137]\n",
            " [130 138]\n",
            " [131 134]\n",
            " [132 134]\n",
            " [132 139]\n",
            " [133 135]\n",
            " [135 136]\n",
            " [135 140]]\n",
            "node2grah\n",
            "[0 0 0 0 0 0 0 0 0 0 0 0 0 0 0 0 0 0 0 0 0 0 0 0 0 0 0 0 0 0 0 0 0 0 0 0 0\n",
            " 0 0 0 0 1 1 1 1 1 1 1 1 1 1 1 1 1 1 1 1 1 1 1 1 1 1 1 1 1 1 1 1 1 1 1 1 1\n",
            " 1 1 1 1 1 1 1 1 2 2 2 2 2 2 2 2 2 2 2 2 2 2 2 2 2 2 2 2 2 2 2 2 2 2 2 2 2\n",
            " 2 2 2 2 2 2 2 2 2 2 2 2 3 3 3 3 3 3 3 3 3 3 3 3 3 3 3 3 3 3 3 3 3 3 3 3 3\n",
            " 3 3 3 3 3 3 3 3 3 3 3 3 3 3 3 3]\n",
            "label [1 0 0 0]\n"
          ]
        }
      ]
    },
    {
      "cell_type": "markdown",
      "metadata": {
        "id": "qcbymJByqfBs"
      },
      "source": [
        "#### Model"
      ]
    },
    {
      "cell_type": "code",
      "execution_count": null,
      "metadata": {
        "colab": {
          "base_uri": "https://localhost:8080/"
        },
        "outputId": "4cfcae0a-11da-4029-d11e-54ea8b2da698",
        "id": "_hVl2r9OqfBt"
      },
      "outputs": [
        {
          "output_type": "stream",
          "name": "stdout",
          "text": [
            "gnn_out KerasTensor(type_spec=TensorSpec(shape=(None, 64), dtype=tf.float32, name=None), name='gnn_3/StatefulPartitionedCall:0', description=\"created by layer 'gnn_3'\")\n",
            "mean: KerasTensor(type_spec=TensorSpec(shape=(None, 64), dtype=tf.float32, name=None), name='tf.math.segment_mean_2/SegmentMean:0', description=\"created by layer 'tf.math.segment_mean_2'\")\n",
            "pred: KerasTensor(type_spec=TensorSpec(shape=(None, 1), dtype=tf.float32, name=None), name='dense_2/Sigmoid:0', description=\"created by layer 'dense_2'\")\n",
            "Model: \"model_2\"\n",
            "__________________________________________________________________________________________________\n",
            " Layer (type)                   Output Shape         Param #     Connected to                     \n",
            "==================================================================================================\n",
            " input_12 (InputLayer)          [(None,)]            0           []                               \n",
            "                                                                                                  \n",
            " input_10 (InputLayer)          [(None,)]            0           []                               \n",
            "                                                                                                  \n",
            " tf.math.reduce_max_3 (TFOpLamb  ()                  0           ['input_12[0][0]']               \n",
            " da)                                                                                              \n",
            "                                                                                                  \n",
            " embedding_3 (Embedding)        (None, 20)           10000       ['input_10[0][0]']               \n",
            "                                                                                                  \n",
            " input_11 (InputLayer)          [(None, 2)]          0           []                               \n",
            "                                                                                                  \n",
            " tf.__operators__.add_3 (TFOpLa  ()                  0           ['tf.math.reduce_max_3[0][0]']   \n",
            " mbda)                                                                                            \n",
            "                                                                                                  \n",
            " gnn_3 (GNN)                    (None, 64)           72064       ['embedding_3[0][0]',            \n",
            "                                                                  'input_11[0][0]',               \n",
            "                                                                  'input_12[0][0]',               \n",
            "                                                                  'tf.__operators__.add_3[0][0]'] \n",
            "                                                                                                  \n",
            " tf.math.segment_mean_2 (TFOpLa  (None, 64)          0           ['gnn_3[0][0]',                  \n",
            " mbda)                                                            'input_12[0][0]']               \n",
            "                                                                                                  \n",
            " dense_2 (Dense)                (None, 1)            65          ['tf.math.segment_mean_2[0][0]'] \n",
            "                                                                                                  \n",
            "==================================================================================================\n",
            "Total params: 82,129\n",
            "Trainable params: 82,129\n",
            "Non-trainable params: 0\n",
            "__________________________________________________________________________________________________\n"
          ]
        }
      ],
      "source": [
        "data = keras.Input(batch_shape=(None,))\n",
        "\n",
        "# the first dim is different to the previous one. it is the total number of edges in this batch\n",
        "edge = keras.Input(batch_shape=(None, 2), dtype=tf.int32)     #edge is 2D\n",
        "node2graph = keras.Input(batch_shape=(None,), dtype=tf.int32)\n",
        "embeded = Embedding(tokenizer.num_words, 20)(data) # embedding data\n",
        "\n",
        "# number of graphs (number of samples)\n",
        "num_graph = tf.reduce_max(node2graph)+1\n",
        "\n",
        "gnn_input = GNNInput(\n",
        "    node_features=embeded, # nodes after embedding\n",
        "    adjacency_lists=(edge,),\n",
        "    node_to_graph_map=node2graph, \n",
        "    num_graphs=num_graph, # number of samples\n",
        ")\n",
        "# Tuning hyperparameters\n",
        "params = GNN.get_default_hyperparameters()\n",
        "params[\"hidden_dim\"] = 64\n",
        "params[\"num_heads\"] = 4\n",
        "params[\"num_aggr_MLP_hidden_layers\"] = 4\n",
        "params['message_calculation_class'] = 'RGAT'\n",
        "gnn_layer = GNN(params)\n",
        "gnn_out = gnn_layer(gnn_input)\n",
        "\n",
        "print('gnn_out', gnn_out)\n",
        "\n",
        "avg = segment_mean(  # Average layer (segment_mea is used to get the mean of elements in segments of a tensor)\n",
        "    data=gnn_out,\n",
        "    segment_ids=node2graph\n",
        ")\n",
        "print('mean:', avg)\n",
        "\n",
        "pred = Dense(1, activation='sigmoid')(avg)        #binary classification: Dense(2), but here we only output 1 probability\n",
        "print('pred:', pred)\n",
        "\n",
        "model = Model(\n",
        "    inputs={\n",
        "        'data': data,\n",
        "        'edges': edge,\n",
        "        'node2grah': node2graph,\n",
        "    },\n",
        "    outputs=pred\n",
        ")\n",
        "model.summary()"
      ]
    },
    {
      "cell_type": "code",
      "execution_count": null,
      "metadata": {
        "id": "_KORfxYbqfBt"
      },
      "outputs": [],
      "source": [
        "model.compile(\n",
        "    loss='BinaryCrossentropy',\n",
        "    metrics=['AUC']\n",
        ")"
      ]
    },
    {
      "cell_type": "code",
      "source": [
        "batch_size = 16\n",
        "# ceil function returns a ceiling value\n",
        "num_batchs = math.ceil(len(training_set) / batch_size)\n",
        "num_batchs_validation = math.ceil(len(validation_set) / batch_size)\n",
        "\n",
        "# Training the model with batch size = 16 and epochs 50\n",
        "history=model.fit(\n",
        "    gen_batch(\n",
        "        training_set, batch_size=batch_size, repeat=True\n",
        "    ),\n",
        "    steps_per_epoch=num_batchs,\n",
        "    epochs=50,\n",
        "    validation_data=gen_batch(\n",
        "        validation_set, batch_size=16, repeat=True\n",
        "    ),\n",
        "    validation_steps=num_batchs_validation,\n",
        ")"
      ],
      "metadata": {
        "colab": {
          "base_uri": "https://localhost:8080/"
        },
        "outputId": "5381857e-ef01-45ac-dc4e-2d9d5576ef45",
        "id": "gN5zu7_yqfBt"
      },
      "execution_count": null,
      "outputs": [
        {
          "metadata": {
            "tags": null
          },
          "name": "stdout",
          "output_type": "stream",
          "text": [
            "Epoch 1/50\n"
          ]
        },
        {
          "metadata": {
            "tags": null
          },
          "name": "stderr",
          "output_type": "stream",
          "text": [
            "/usr/local/lib/python3.7/dist-packages/tensorflow/python/framework/indexed_slices.py:446: UserWarning: Converting sparse IndexedSlices(IndexedSlices(indices=Tensor(\"gradients/cond_3_grad/Identity_1:0\", shape=(None,), dtype=int32), values=Tensor(\"gradients/cond_3_grad/Identity:0\", shape=(None, 64), dtype=float32), dense_shape=Tensor(\"gradients/cond_3_grad/Identity_2:0\", shape=(2,), dtype=int32))) to a dense Tensor of unknown shape. This may consume a large amount of memory.\n",
            "  \"shape. This may consume a large amount of memory.\" % value)\n",
            "/usr/local/lib/python3.7/dist-packages/tensorflow/python/framework/indexed_slices.py:446: UserWarning: Converting sparse IndexedSlices(IndexedSlices(indices=Tensor(\"gradients/concat_3:0\", shape=(None,), dtype=int32), values=Tensor(\"gradients/concat_2:0\", shape=(None, 64), dtype=float32), dense_shape=Tensor(\"gradients/rgat_2/embedding_lookup_grad/Cast:0\", shape=(2,), dtype=int32))) to a dense Tensor of unknown shape. This may consume a large amount of memory.\n",
            "  \"shape. This may consume a large amount of memory.\" % value)\n",
            "/usr/local/lib/python3.7/dist-packages/tensorflow/python/framework/indexed_slices.py:446: UserWarning: Converting sparse IndexedSlices(IndexedSlices(indices=Tensor(\"gradients/cond_1_grad/Identity_1:0\", shape=(None,), dtype=int32), values=Tensor(\"gradients/cond_1_grad/Identity:0\", shape=(None, 64), dtype=float32), dense_shape=Tensor(\"gradients/cond_1_grad/Identity_2:0\", shape=(2,), dtype=int32))) to a dense Tensor of unknown shape. This may consume a large amount of memory.\n",
            "  \"shape. This may consume a large amount of memory.\" % value)\n",
            "/usr/local/lib/python3.7/dist-packages/tensorflow/python/framework/indexed_slices.py:446: UserWarning: Converting sparse IndexedSlices(IndexedSlices(indices=Tensor(\"gradients/rgat/embedding_lookup_grad/Reshape_1:0\", shape=(None,), dtype=int32), values=Tensor(\"gradients/rgat/embedding_lookup_grad/Reshape:0\", shape=(None, 64), dtype=float32), dense_shape=Tensor(\"gradients/rgat/embedding_lookup_grad/Cast:0\", shape=(2,), dtype=int32))) to a dense Tensor of unknown shape. This may consume a large amount of memory.\n",
            "  \"shape. This may consume a large amount of memory.\" % value)\n",
            "/usr/local/lib/python3.7/dist-packages/tensorflow/python/framework/indexed_slices.py:446: UserWarning: Converting sparse IndexedSlices(IndexedSlices(indices=Tensor(\"gradients/rgat/embedding_lookup_1_grad/Reshape_1:0\", shape=(None,), dtype=int32), values=Tensor(\"gradients/rgat/embedding_lookup_1_grad/Reshape:0\", shape=(None, 64), dtype=float32), dense_shape=Tensor(\"gradients/rgat/embedding_lookup_1_grad/Cast:0\", shape=(2,), dtype=int32))) to a dense Tensor of unknown shape. This may consume a large amount of memory.\n",
            "  \"shape. This may consume a large amount of memory.\" % value)\n"
          ]
        },
        {
          "output_type": "stream",
          "name": "stdout",
          "text": [
            "2530/2530 [==============================] - 97s 36ms/step - loss: 0.6181 - auc: 0.7186 - val_loss: 0.5973 - val_auc: 0.7502\n",
            "Epoch 2/50\n",
            "2530/2530 [==============================] - 98s 39ms/step - loss: 0.5776 - auc: 0.7695 - val_loss: 0.5578 - val_auc: 0.7985\n",
            "Epoch 3/50\n",
            "2530/2530 [==============================] - 88s 35ms/step - loss: 0.5387 - auc: 0.8085 - val_loss: 0.5163 - val_auc: 0.8272\n",
            "Epoch 4/50\n",
            "2530/2530 [==============================] - 88s 35ms/step - loss: 0.5146 - auc: 0.8284 - val_loss: 0.5224 - val_auc: 0.8235\n",
            "Epoch 5/50\n",
            "2530/2530 [==============================] - 87s 35ms/step - loss: 0.5033 - auc: 0.8366 - val_loss: 0.5072 - val_auc: 0.8394\n",
            "Epoch 6/50\n",
            "2530/2530 [==============================] - 88s 35ms/step - loss: 0.4880 - auc: 0.8478 - val_loss: 0.4820 - val_auc: 0.8551\n",
            "Epoch 7/50\n",
            "2530/2530 [==============================] - 89s 35ms/step - loss: 0.4812 - auc: 0.8526 - val_loss: 0.4821 - val_auc: 0.8564\n",
            "Epoch 8/50\n",
            "2530/2530 [==============================] - 88s 35ms/step - loss: 0.4766 - auc: 0.8560 - val_loss: 0.4765 - val_auc: 0.8584\n",
            "Epoch 9/50\n",
            "2530/2530 [==============================] - 87s 34ms/step - loss: 0.4677 - auc: 0.8614 - val_loss: 0.4553 - val_auc: 0.8707\n",
            "Epoch 10/50\n",
            "2530/2530 [==============================] - 88s 35ms/step - loss: 0.4611 - auc: 0.8660 - val_loss: 0.4611 - val_auc: 0.8726\n",
            "Epoch 11/50\n",
            "2530/2530 [==============================] - 87s 34ms/step - loss: 0.4624 - auc: 0.8657 - val_loss: 0.4531 - val_auc: 0.8726\n",
            "Epoch 12/50\n",
            "2530/2530 [==============================] - 88s 35ms/step - loss: 0.4608 - auc: 0.8670 - val_loss: 0.4570 - val_auc: 0.8723\n",
            "Epoch 13/50\n",
            "2530/2530 [==============================] - 87s 34ms/step - loss: 0.4699 - auc: 0.8607 - val_loss: 0.4888 - val_auc: 0.8500\n",
            "Epoch 14/50\n",
            "2530/2530 [==============================] - 87s 35ms/step - loss: 0.4634 - auc: 0.8652 - val_loss: 0.4872 - val_auc: 0.8641\n",
            "Epoch 15/50\n",
            "2530/2530 [==============================] - 90s 35ms/step - loss: 0.4695 - auc: 0.8626 - val_loss: 0.4566 - val_auc: 0.8726\n",
            "Epoch 16/50\n",
            "2530/2530 [==============================] - 89s 35ms/step - loss: 0.4789 - auc: 0.8563 - val_loss: 0.4881 - val_auc: 0.8569\n",
            "Epoch 17/50\n",
            "2530/2530 [==============================] - 90s 35ms/step - loss: 0.4838 - auc: 0.8529 - val_loss: 0.4962 - val_auc: 0.8439\n",
            "Epoch 18/50\n",
            "2530/2530 [==============================] - 88s 35ms/step - loss: 0.4838 - auc: 0.8523 - val_loss: 0.4851 - val_auc: 0.8567\n",
            "Epoch 19/50\n",
            "2530/2530 [==============================] - 86s 34ms/step - loss: 0.4924 - auc: 0.8469 - val_loss: 0.5269 - val_auc: 0.8337\n",
            "Epoch 20/50\n",
            "2530/2530 [==============================] - 86s 34ms/step - loss: 0.4932 - auc: 0.8462 - val_loss: 0.5203 - val_auc: 0.8276\n",
            "Epoch 21/50\n",
            "2530/2530 [==============================] - 86s 34ms/step - loss: 0.5118 - auc: 0.8316 - val_loss: 0.5114 - val_auc: 0.8384\n",
            "Epoch 22/50\n",
            "2530/2530 [==============================] - 89s 35ms/step - loss: 0.4962 - auc: 0.8445 - val_loss: 0.5342 - val_auc: 0.8304\n",
            "Epoch 23/50\n",
            "2530/2530 [==============================] - 87s 35ms/step - loss: 0.4952 - auc: 0.8442 - val_loss: 0.5208 - val_auc: 0.8355\n",
            "Epoch 24/50\n",
            "2530/2530 [==============================] - 87s 34ms/step - loss: 0.4988 - auc: 0.8430 - val_loss: 0.5069 - val_auc: 0.8371\n",
            "Epoch 25/50\n",
            "2530/2530 [==============================] - 87s 34ms/step - loss: 0.5058 - auc: 0.8361 - val_loss: 0.5189 - val_auc: 0.8333\n",
            "Epoch 26/50\n",
            "2530/2530 [==============================] - 89s 35ms/step - loss: 0.5072 - auc: 0.8377 - val_loss: 0.5347 - val_auc: 0.8299\n",
            "Epoch 27/50\n",
            "2530/2530 [==============================] - 88s 35ms/step - loss: 0.5125 - auc: 0.8330 - val_loss: 0.5186 - val_auc: 0.8299\n",
            "Epoch 28/50\n",
            "2530/2530 [==============================] - 88s 35ms/step - loss: 0.5061 - auc: 0.8379 - val_loss: 0.5346 - val_auc: 0.8338\n",
            "Epoch 29/50\n",
            "2530/2530 [==============================] - 88s 35ms/step - loss: 0.5060 - auc: 0.8382 - val_loss: 0.5329 - val_auc: 0.8222\n",
            "Epoch 30/50\n",
            "2530/2530 [==============================] - 88s 35ms/step - loss: 0.5095 - auc: 0.8360 - val_loss: 0.5085 - val_auc: 0.8416\n",
            "Epoch 31/50\n",
            "2530/2530 [==============================] - 87s 34ms/step - loss: 0.5223 - auc: 0.8233 - val_loss: 0.5385 - val_auc: 0.8234\n",
            "Epoch 32/50\n",
            "2530/2530 [==============================] - 86s 34ms/step - loss: 0.5218 - auc: 0.8254 - val_loss: 0.5147 - val_auc: 0.8347\n",
            "Epoch 33/50\n",
            "2530/2530 [==============================] - 86s 34ms/step - loss: 0.5321 - auc: 0.8173 - val_loss: 0.5709 - val_auc: 0.7876\n",
            "Epoch 34/50\n",
            "2530/2530 [==============================] - 86s 34ms/step - loss: 0.5367 - auc: 0.8135 - val_loss: 0.5263 - val_auc: 0.8261\n",
            "Epoch 35/50\n",
            "2530/2530 [==============================] - 86s 34ms/step - loss: 0.5208 - auc: 0.8270 - val_loss: 0.5306 - val_auc: 0.8267\n",
            "Epoch 36/50\n",
            "2530/2530 [==============================] - 86s 34ms/step - loss: 0.5210 - auc: 0.8257 - val_loss: 0.5185 - val_auc: 0.8337\n",
            "Epoch 37/50\n",
            "2530/2530 [==============================] - 86s 34ms/step - loss: 0.5142 - auc: 0.8314 - val_loss: 0.5280 - val_auc: 0.8319\n",
            "Epoch 38/50\n",
            "2530/2530 [==============================] - 87s 34ms/step - loss: 0.5029 - auc: 0.8395 - val_loss: 0.5104 - val_auc: 0.8382\n",
            "Epoch 39/50\n",
            "2530/2530 [==============================] - 90s 35ms/step - loss: 0.5035 - auc: 0.8389 - val_loss: 0.5314 - val_auc: 0.8261\n",
            "Epoch 40/50\n",
            "2530/2530 [==============================] - 89s 35ms/step - loss: 0.5065 - auc: 0.8379 - val_loss: 0.5193 - val_auc: 0.8342\n",
            "Epoch 41/50\n",
            "2530/2530 [==============================] - 89s 35ms/step - loss: 0.4998 - auc: 0.8427 - val_loss: 0.5115 - val_auc: 0.8370\n",
            "Epoch 42/50\n",
            "2530/2530 [==============================] - 89s 35ms/step - loss: 0.5028 - auc: 0.8409 - val_loss: 0.5131 - val_auc: 0.8341\n",
            "Epoch 43/50\n",
            "2530/2530 [==============================] - 88s 35ms/step - loss: 0.4968 - auc: 0.8446 - val_loss: 0.4960 - val_auc: 0.8488\n",
            "Epoch 44/50\n",
            "2530/2530 [==============================] - 89s 35ms/step - loss: 0.4924 - auc: 0.8481 - val_loss: 0.5198 - val_auc: 0.8448\n",
            "Epoch 45/50\n",
            "2530/2530 [==============================] - 89s 35ms/step - loss: 0.4937 - auc: 0.8472 - val_loss: 0.5281 - val_auc: 0.8373\n",
            "Epoch 46/50\n",
            "2530/2530 [==============================] - 87s 35ms/step - loss: 0.4999 - auc: 0.8424 - val_loss: 0.5094 - val_auc: 0.8421\n",
            "Epoch 47/50\n",
            "2530/2530 [==============================] - 88s 35ms/step - loss: 0.4990 - auc: 0.8437 - val_loss: 0.5073 - val_auc: 0.8394\n",
            "Epoch 48/50\n",
            "2530/2530 [==============================] - 89s 35ms/step - loss: 0.4937 - auc: 0.8472 - val_loss: 0.5400 - val_auc: 0.8416\n",
            "Epoch 49/50\n",
            "2530/2530 [==============================] - 88s 35ms/step - loss: 0.4937 - auc: 0.8469 - val_loss: 0.4888 - val_auc: 0.8534\n",
            "Epoch 50/50\n",
            "2530/2530 [==============================] - 89s 35ms/step - loss: 0.4956 - auc: 0.8458 - val_loss: 0.5106 - val_auc: 0.8467\n"
          ]
        }
      ]
    },
    {
      "cell_type": "code",
      "source": [
        "# predict function is used to enable us to predict the labels of the data values on the basis of the trained model.\n",
        "y_pred = model.predict(\n",
        "    gen_batch(testing_set, batch_size=16, shuffle=False)\n",
        ")\n",
        "# repahe to get the first col only\n",
        "y_pred = np.reshape(y_pred, -1)\n",
        "y_pred.shape"
      ],
      "metadata": {
        "colab": {
          "base_uri": "https://localhost:8080/"
        },
        "outputId": "bc188d59-c854-4ffc-d9f9-a0ff2fbdfeff",
        "id": "YxaaL-NZqfBu"
      },
      "execution_count": null,
      "outputs": [
        {
          "output_type": "execute_result",
          "data": {
            "text/plain": [
              "(12326,)"
            ]
          },
          "metadata": {},
          "execution_count": 46
        }
      ]
    },
    {
      "cell_type": "code",
      "source": [
        "y_pred"
      ],
      "metadata": {
        "colab": {
          "base_uri": "https://localhost:8080/"
        },
        "outputId": "e88676a9-389f-442a-b564-e9e2d3f5683f",
        "id": "3RZSg_a-qfBu"
      },
      "execution_count": null,
      "outputs": [
        {
          "output_type": "execute_result",
          "data": {
            "text/plain": [
              "array([0.9548855 , 0.42775914, 0.06814345, ..., 0.08562993, 0.06014061,\n",
              "       0.66272175], dtype=float32)"
            ]
          },
          "metadata": {},
          "execution_count": 47
        }
      ]
    },
    {
      "cell_type": "markdown",
      "source": [
        "#### Display model"
      ],
      "metadata": {
        "id": "H7oIudF9qfBu"
      }
    },
    {
      "cell_type": "code",
      "source": [
        "# figure is used to create a new figure.\n",
        "plt.figure(figsize=(15, 8))\n",
        "plt.subplot(1, 2, 1)\n",
        "plt.plot(history.history['auc'])\n",
        "plt.plot(history.history['val_auc'])\n",
        "plt.title('model auc') # graph title\n",
        "plt.ylabel('Auc') # y axis lable\n",
        "plt.xlabel('epoch') # x axis lable\n",
        "plt.legend(['train', 'validation'], loc='upper left') # legend is an area describing the elements of the graph\n",
        "plt.show()\n",
        "plt.grid(True) # grid is the axis object's method toggles the visibility of the grid inside the figure.\n",
        "plt.subplot(1, 2, 1)\n",
        "plt.plot(history.history['loss'])\n",
        "plt.plot(history.history['val_loss'])\n",
        "plt.title('model loss')  # graph title\n",
        "plt.ylabel('loss') # y axis lable\n",
        "plt.xlabel('epoch')# x axis lable\n",
        "plt.legend(['train', 'validation'], loc='upper left')\n",
        "plt.show()"
      ],
      "metadata": {
        "colab": {
          "base_uri": "https://localhost:8080/",
          "height": 791
        },
        "outputId": "5a63b00b-7d66-4ba5-96c6-8f77ff0a199c",
        "id": "0QIN8in4qfBu"
      },
      "execution_count": null,
      "outputs": [
        {
          "output_type": "display_data",
          "data": {
            "text/plain": [
              "<Figure size 1080x576 with 1 Axes>"
            ],
            "image/png": "[encoded data removed]"
          },
          "metadata": {
            "needs_background": "light"
          }
        },
        {
          "output_type": "display_data",
          "data": {
            "text/plain": [
              "<Figure size 432x288 with 1 Axes>"
            ],
            "image/png": "[encoded data removed]"
          },
          "metadata": {
            "needs_background": "light"
          }
        }
      ]
    },
    {
      "cell_type": "code",
      "execution_count": null,
      "metadata": {
        "id": "XmJ6FOXCqfBv"
      },
      "outputs": [],
      "source": [
        "submission = pd.DataFrame({'label':y_pred})\n",
        "submission.index.name = 'id'\n",
        "submission.to_csv('/content/drive/MyDrive/Queens_Practical/Data_Mining/compt6/sample_submission.csv')"
      ]
    },
    {
      "cell_type": "markdown",
      "metadata": {
        "id": "XEVLOFrwqfBv"
      },
      "source": [
        "#### Result"
      ]
    },
    {
      "cell_type": "markdown",
      "metadata": {
        "id": "ypR_z7OuqfBv"
      },
      "source": [
        "Accuracy in **kaggle** =0.83131 \\\n",
        "From the diagram, the accuracy reduced and the model begins to learn the data poorly, so in the next trial I will try to add more layers to solve this problem and improve the accuracy."
      ]
    },
    {
      "cell_type": "markdown",
      "metadata": {
        "id": "CWhSiyDs3dS0"
      },
      "source": [
        "### **Trial 9**"
      ]
    },
    {
      "cell_type": "markdown",
      "metadata": {
        "id": "v0icEt0G3dS0"
      },
      "source": [
        "* In this trial I will use:\n",
        " * I will use **balanced** data\n",
        " * Preprocessing\n",
        "   * **max_vocab = 500** , max_len = 100\n",
        "   * Prepare nodes, labels, and links\n",
        "   * Tokenize and convert data into integer numbers\n",
        "   * Padding to tokenize\n",
        "   * Generate multiple batches\n",
        "   * Embedding \n",
        "  * Model\n",
        "   * Layers\n",
        "      * I will use GNN as an input \n",
        "      * GNN layer\n",
        "          * Hyper parameters\n",
        "            * I will use default hyper parameters\n",
        "            * **hidden_dim = 64**\n",
        "            * **num_heads = 4**\n",
        "            * **num_aggr_MLP_hidden_layers = 4**\n",
        "            * **use_inter_layer_layernorm = False**\n",
        "            * **layer_input_dropout_rate = 0.3**\n",
        "            * **message_calculation_class = RGCN**\n",
        "      * Average layer\n",
        "      * Dense layer with sigmoid activation function\n",
        "   * Compile the model using AUC curve\n",
        "   * Fit the model using epoch = 50 and batch_size = 16\n",
        "   * Predict the model\n",
        "\n",
        "**My thoughts and observations :** The accuracy would be between 0.83 and 0.85"
      ]
    },
    {
      "cell_type": "markdown",
      "source": [
        "**RGCN (Relational Graph convolution layers)**\n",
        "Used to semi-supervised node classification on (directed) relational graphs.\n",
        "It's used to model relational data, particularly for tasks like link prediction and entity classification.It is use message passing mechanism to compute graph states "
      ],
      "metadata": {
        "id": "MBQ3ayo93dS0"
      }
    },
    {
      "cell_type": "markdown",
      "metadata": {
        "id": "zvtV-MeD3dS1"
      },
      "source": [
        "#### Preprocessing"
      ]
    },
    {
      "cell_type": "code",
      "source": [
        "max_vocab = 500\n",
        "max_len = 100\n",
        "\n",
        "# build vocabulary from training set\n",
        "all_nodes = [s[0] for s in training_set]\n",
        "# we use tokenizer as the data contain letters that need to tokenize\n",
        "tokenizer = Tokenizer(num_words=max_vocab)\n",
        "# fit_on_texts used to updates internal vocabulary based on a list of texts\n",
        "tokenizer.fit_on_texts(all_nodes)"
      ],
      "metadata": {
        "id": "g7hBatXH3dS1"
      },
      "execution_count": null,
      "outputs": []
    },
    {
      "cell_type": "code",
      "source": [
        "\n",
        "def prepare_single_batch(samples):\n",
        "  # samples return 3 values nodes, labels, and links so we will take node only\n",
        "    sample_nodes = [s[0] for s in samples]\n",
        "    # texts_to_sequences used to transforms each text in texts to a sequence of integers\n",
        "    sample_nodes = tokenizer.texts_to_sequences(sample_nodes)\n",
        "    # put padding to tokenizers\n",
        "    sample_nodes = pad_sequences(sample_nodes, padding='post')\n",
        "\n",
        "    # max_nodes_len to know the number of nodes in each sample\n",
        "    max_nodes_len = np.shape(sample_nodes)[1]                           #shape: (num of samples, number of nodes)\n",
        "    edges = [s[1]+i*max_nodes_len for i,s in enumerate(samples)]        #s[1]: links, i*max_nodes_len: to start indexing from current node not from 0 again\n",
        "    edges = [e for e in edges if len(e) > 0]                          #make sure all elements(edges) are non-zero\n",
        "    # takes order of graph and multiply by max number of nodes\n",
        "    node_to_graph = [[i]*max_nodes_len for i in range(len(samples))]\n",
        "\n",
        "    \n",
        "    # put all nodes and edges with each other in 1D array\n",
        "    all_nodes = np.reshape(sample_nodes, -1)      #concatenate nodes of all samples together\n",
        "    all_edges = np.concatenate(edges)             #concatenate edges of all samples together (because edge is tuple, doesnt hae reshape, output is 2D)\n",
        "\n",
        "    node_to_graph = np.reshape(node_to_graph, -1)\n",
        "    return {\n",
        "        'data': all_nodes,\n",
        "        'edges': all_edges,\n",
        "        'node2grah': node_to_graph,\n",
        "    }, np.array([s[2] for s in samples])\n",
        "\n",
        "\n",
        "# gen_batch this function used to generate multiple batches by calling prepare_single_batch function\n",
        "def gen_batch(dataset, batch_size=16, repeat=False, shuffle=True):\n",
        "    while True:\n",
        "        dataset = list(dataset)\n",
        "        if shuffle:\n",
        "            random.shuffle(dataset)\n",
        "        l = len(dataset)\n",
        "        for ndx in range(0, l, batch_size):\n",
        "            batch_samples = dataset[ndx:min(ndx + batch_size, l)]\n",
        "            yield prepare_single_batch(batch_samples)\n",
        "        if not repeat:\n",
        "            break\n"
      ],
      "metadata": {
        "id": "DffWMpM03dS1"
      },
      "execution_count": null,
      "outputs": []
    },
    {
      "cell_type": "code",
      "source": [
        "# showing one batch:\n",
        "# batch_size put on it the number of samples that i want to be in one batch\n",
        "for train_batch in gen_batch(training_set, batch_size=4):\n",
        "    for k,v in train_batch[0].items():          #k: labels, v: values\n",
        "        print(k)\n",
        "        print(v)\n",
        "        #print(len(v))\n",
        "        pass\n",
        "    print('label', train_batch[1])\n",
        "    break\n",
        "\n"
      ],
      "metadata": {
        "colab": {
          "base_uri": "https://localhost:8080/"
        },
        "id": "PWF0wyEm3dS1",
        "outputId": "63ab0cda-1de7-4b4f-8fc8-50baff64456a"
      },
      "execution_count": null,
      "outputs": [
        {
          "output_type": "stream",
          "name": "stdout",
          "text": [
            "data\n",
            "[2 3 3 1 1 1 1 1 1 1 1 1 1 1 1 1 1 0 0 0 0 0 0 0 0 0 0 0 0 0 0 0 0 5 5 4 2\n",
            " 2 2 3 3 3 1 1 1 1 1 1 1 1 1 1 1 1 1 1 1 1 1 1 1 0 0 0 0 0 2 2 2 2 2 2 2 3\n",
            " 1 1 1 1 1 1 1 1 1 1 1 1 1 1 1 1 1 1 1 1 1 0 0 0 0 2 2 3 3 3 3 3 1 1 1 1 1\n",
            " 1 1 1 1 1 1 1 1 1 1 1 1 1 1 1 1 1 1 1 1 1]\n",
            "edges\n",
            "[[  0   8]\n",
            " [  1   2]\n",
            " [  1   7]\n",
            " [  3   4]\n",
            " [  3   5]\n",
            " [  3   9]\n",
            " [  4   6]\n",
            " [  4  10]\n",
            " [  5   7]\n",
            " [  5  11]\n",
            " [  6   8]\n",
            " [  6  12]\n",
            " [  7   8]\n",
            " [  9  13]\n",
            " [ 10  15]\n",
            " [ 11  14]\n",
            " [ 12  16]\n",
            " [ 13  14]\n",
            " [ 15  16]\n",
            " [ 33  49]\n",
            " [ 34  52]\n",
            " [ 35  42]\n",
            " [ 35  43]\n",
            " [ 36  44]\n",
            " [ 37  47]\n",
            " [ 38  56]\n",
            " [ 38  59]\n",
            " [ 39  43]\n",
            " [ 39  44]\n",
            " [ 40  43]\n",
            " [ 40  48]\n",
            " [ 41  46]\n",
            " [ 41  47]\n",
            " [ 42  44]\n",
            " [ 42  45]\n",
            " [ 45  47]\n",
            " [ 46  49]\n",
            " [ 46  50]\n",
            " [ 48  53]\n",
            " [ 48  54]\n",
            " [ 49  51]\n",
            " [ 50  55]\n",
            " [ 51  52]\n",
            " [ 52  55]\n",
            " [ 53  57]\n",
            " [ 54  58]\n",
            " [ 56  57]\n",
            " [ 56  58]\n",
            " [ 59  60]\n",
            " [ 66  80]\n",
            " [ 66  82]\n",
            " [ 67  80]\n",
            " [ 68  85]\n",
            " [ 68  92]\n",
            " [ 69  86]\n",
            " [ 69  92]\n",
            " [ 70  89]\n",
            " [ 70  93]\n",
            " [ 71  90]\n",
            " [ 71  94]\n",
            " [ 72  91]\n",
            " [ 73  81]\n",
            " [ 74  75]\n",
            " [ 74  76]\n",
            " [ 74  79]\n",
            " [ 75  77]\n",
            " [ 75  80]\n",
            " [ 76  78]\n",
            " [ 76  83]\n",
            " [ 77  81]\n",
            " [ 77  82]\n",
            " [ 78  81]\n",
            " [ 78  84]\n",
            " [ 79  87]\n",
            " [ 79  88]\n",
            " [ 83  85]\n",
            " [ 84  86]\n",
            " [ 85  86]\n",
            " [ 87  89]\n",
            " [ 88  90]\n",
            " [ 89  91]\n",
            " [ 90  91]\n",
            " [ 99 108]\n",
            " [100 112]\n",
            " [101 102]\n",
            " [101 106]\n",
            " [101 108]\n",
            " [102 107]\n",
            " [103 106]\n",
            " [103 109]\n",
            " [104 111]\n",
            " [104 112]\n",
            " [105 126]\n",
            " [105 130]\n",
            " [105 131]\n",
            " [106 113]\n",
            " [107 110]\n",
            " [107 112]\n",
            " [108 109]\n",
            " [109 114]\n",
            " [110 111]\n",
            " [110 115]\n",
            " [111 116]\n",
            " [113 118]\n",
            " [113 119]\n",
            " [114 117]\n",
            " [115 120]\n",
            " [116 121]\n",
            " [117 122]\n",
            " [117 123]\n",
            " [118 124]\n",
            " [119 125]\n",
            " [120 121]\n",
            " [122 128]\n",
            " [123 129]\n",
            " [124 127]\n",
            " [125 127]\n",
            " [126 128]\n",
            " [126 129]]\n",
            "node2grah\n",
            "[0 0 0 0 0 0 0 0 0 0 0 0 0 0 0 0 0 0 0 0 0 0 0 0 0 0 0 0 0 0 0 0 0 1 1 1 1\n",
            " 1 1 1 1 1 1 1 1 1 1 1 1 1 1 1 1 1 1 1 1 1 1 1 1 1 1 1 1 1 2 2 2 2 2 2 2 2\n",
            " 2 2 2 2 2 2 2 2 2 2 2 2 2 2 2 2 2 2 2 2 2 2 2 2 2 3 3 3 3 3 3 3 3 3 3 3 3\n",
            " 3 3 3 3 3 3 3 3 3 3 3 3 3 3 3 3 3 3 3 3 3]\n",
            "label [0 0 1 0]\n"
          ]
        }
      ]
    },
    {
      "cell_type": "markdown",
      "metadata": {
        "id": "vhHs5TR23dS1"
      },
      "source": [
        "#### Model"
      ]
    },
    {
      "cell_type": "code",
      "execution_count": null,
      "metadata": {
        "colab": {
          "base_uri": "https://localhost:8080/"
        },
        "id": "QeTdBHBS3dS1",
        "outputId": "e641c1cb-7ba4-4637-f0c8-e1f0cfcf5fbf"
      },
      "outputs": [
        {
          "output_type": "stream",
          "name": "stdout",
          "text": [
            "gnn_out KerasTensor(type_spec=TensorSpec(shape=(None, 64), dtype=tf.float32, name=None), name='gnn_4/StatefulPartitionedCall:0', description=\"created by layer 'gnn_4'\")\n",
            "mean: KerasTensor(type_spec=TensorSpec(shape=(None, 64), dtype=tf.float32, name=None), name='tf.math.segment_mean_3/SegmentMean:0', description=\"created by layer 'tf.math.segment_mean_3'\")\n",
            "pred: KerasTensor(type_spec=TensorSpec(shape=(None, 1), dtype=tf.float32, name=None), name='dense_3/Sigmoid:0', description=\"created by layer 'dense_3'\")\n",
            "Model: \"model_3\"\n",
            "__________________________________________________________________________________________________\n",
            " Layer (type)                   Output Shape         Param #     Connected to                     \n",
            "==================================================================================================\n",
            " input_15 (InputLayer)          [(None,)]            0           []                               \n",
            "                                                                                                  \n",
            " input_13 (InputLayer)          [(None,)]            0           []                               \n",
            "                                                                                                  \n",
            " tf.math.reduce_max_4 (TFOpLamb  ()                  0           ['input_15[0][0]']               \n",
            " da)                                                                                              \n",
            "                                                                                                  \n",
            " embedding_4 (Embedding)        (None, 20)           10000       ['input_13[0][0]']               \n",
            "                                                                                                  \n",
            " input_14 (InputLayer)          [(None, 2)]          0           []                               \n",
            "                                                                                                  \n",
            " tf.__operators__.add_4 (TFOpLa  ()                  0           ['tf.math.reduce_max_4[0][0]']   \n",
            " mbda)                                                                                            \n",
            "                                                                                                  \n",
            " gnn_4 (GNN)                    (None, 64)           72064       ['embedding_4[0][0]',            \n",
            "                                                                  'input_14[0][0]',               \n",
            "                                                                  'input_15[0][0]',               \n",
            "                                                                  'tf.__operators__.add_4[0][0]'] \n",
            "                                                                                                  \n",
            " tf.math.segment_mean_3 (TFOpLa  (None, 64)          0           ['gnn_4[0][0]',                  \n",
            " mbda)                                                            'input_15[0][0]']               \n",
            "                                                                                                  \n",
            " dense_3 (Dense)                (None, 1)            65          ['tf.math.segment_mean_3[0][0]'] \n",
            "                                                                                                  \n",
            "==================================================================================================\n",
            "Total params: 82,129\n",
            "Trainable params: 82,129\n",
            "Non-trainable params: 0\n",
            "__________________________________________________________________________________________________\n"
          ]
        }
      ],
      "source": [
        "data = keras.Input(batch_shape=(None,))\n",
        "\n",
        "# the first dim is different to the previous one. it is the total number of edges in this batch\n",
        "edge = keras.Input(batch_shape=(None, 2), dtype=tf.int32)     #edge is 2D\n",
        "node2graph = keras.Input(batch_shape=(None,), dtype=tf.int32)\n",
        "embeded = Embedding(tokenizer.num_words, 20)(data) # embedding data\n",
        "\n",
        "# number of graphs (number of samples)\n",
        "num_graph = tf.reduce_max(node2graph)+1\n",
        "\n",
        "gnn_input = GNNInput(\n",
        "    node_features=embeded, # nodes after embedding\n",
        "    adjacency_lists=(edge,),\n",
        "    node_to_graph_map=node2graph, \n",
        "    num_graphs=num_graph, # number of samples\n",
        ")\n",
        "# Tuning hyperparameters\n",
        "params = GNN.get_default_hyperparameters()\n",
        "params[\"hidden_dim\"] = 64\n",
        "params[\"num_heads\"] = 4\n",
        "params[\"num_aggr_MLP_hidden_layers\"] = 4\n",
        "params[\"use_inter_layer_layernorm\"] = False\n",
        "params[\"layer_input_dropout_rate\"] = 0.3\n",
        "params['message_calculation_class'] = 'RGAT'\n",
        "gnn_layer = GNN(params)\n",
        "gnn_out = gnn_layer(gnn_input)\n",
        "\n",
        "print('gnn_out', gnn_out)\n",
        "\n",
        "avg = segment_mean(  # Average layer (segment_mea is used to get the mean of elements in segments of a tensor)\n",
        "    data=gnn_out,\n",
        "    segment_ids=node2graph\n",
        ")\n",
        "print('mean:', avg)\n",
        "\n",
        "pred = Dense(1, activation='sigmoid')(avg)        #binary classification: Dense(2), but here we only output 1 probability\n",
        "print('pred:', pred)\n",
        "\n",
        "model = Model(\n",
        "    inputs={\n",
        "        'data': data,\n",
        "        'edges': edge,\n",
        "        'node2grah': node2graph,\n",
        "    },\n",
        "    outputs=pred\n",
        ")\n",
        "model.summary()"
      ]
    },
    {
      "cell_type": "code",
      "execution_count": null,
      "metadata": {
        "id": "czjfzfkr3dS2"
      },
      "outputs": [],
      "source": [
        "model.compile(\n",
        "    loss='BinaryCrossentropy',\n",
        "    metrics=['AUC']\n",
        ")"
      ]
    },
    {
      "cell_type": "code",
      "source": [
        "batch_size = 16\n",
        "# ceil function returns a ceiling value\n",
        "num_batchs = math.ceil(len(training_set) / batch_size)\n",
        "num_batchs_validation = math.ceil(len(validation_set) / batch_size)\n",
        "\n",
        "# Training the model with batch size = 16 and epochs 50\n",
        "history=model.fit(\n",
        "    gen_batch(\n",
        "        training_set, batch_size=batch_size, repeat=True\n",
        "    ),\n",
        "    steps_per_epoch=num_batchs,\n",
        "    epochs=50,\n",
        "    validation_data=gen_batch(\n",
        "        validation_set, batch_size=16, repeat=True\n",
        "    ),\n",
        "    validation_steps=num_batchs_validation,\n",
        ")"
      ],
      "metadata": {
        "colab": {
          "base_uri": "https://localhost:8080/"
        },
        "id": "4mW-tI243dS2",
        "outputId": "40814aa5-a183-4968-c3b0-e665bef790c4"
      },
      "execution_count": null,
      "outputs": [
        {
          "output_type": "stream",
          "name": "stdout",
          "text": [
            "Epoch 1/50\n"
          ]
        },
        {
          "output_type": "stream",
          "name": "stderr",
          "text": [
            "/usr/local/lib/python3.7/dist-packages/tensorflow/python/framework/indexed_slices.py:446: UserWarning: Converting sparse IndexedSlices(IndexedSlices(indices=Tensor(\"gradients/cond_3_grad/gradients/grad_ys_0_indices:0\", shape=(None,), dtype=int32), values=Tensor(\"gradients/cond_3_grad/gradients/grad_ys_0_values:0\", shape=(None, 64), dtype=float32), dense_shape=Tensor(\"gradients/cond_3_grad/gradients/grad_ys_0_shape:0\", shape=(2,), dtype=int32))) to a dense Tensor of unknown shape. This may consume a large amount of memory.\n",
            "  \"shape. This may consume a large amount of memory.\" % value)\n",
            "/usr/local/lib/python3.7/dist-packages/tensorflow/python/framework/indexed_slices.py:446: UserWarning: Converting sparse IndexedSlices(IndexedSlices(indices=Tensor(\"gradients/cond_3_grad/Identity_1:0\", shape=(None,), dtype=int32), values=Tensor(\"gradients/cond_3_grad/Identity:0\", shape=(None, 64), dtype=float32), dense_shape=Tensor(\"gradients/cond_3_grad/Identity_2:0\", shape=(2,), dtype=int32))) to a dense Tensor of unknown shape. This may consume a large amount of memory.\n",
            "  \"shape. This may consume a large amount of memory.\" % value)\n",
            "/usr/local/lib/python3.7/dist-packages/tensorflow/python/framework/indexed_slices.py:446: UserWarning: Converting sparse IndexedSlices(IndexedSlices(indices=Tensor(\"gradients/concat_3:0\", shape=(None,), dtype=int32), values=Tensor(\"gradients/concat_2:0\", shape=(None, 64), dtype=float32), dense_shape=Tensor(\"gradients/rgat_2/embedding_lookup_grad/Cast:0\", shape=(2,), dtype=int32))) to a dense Tensor of unknown shape. This may consume a large amount of memory.\n",
            "  \"shape. This may consume a large amount of memory.\" % value)\n",
            "/usr/local/lib/python3.7/dist-packages/tensorflow/python/framework/indexed_slices.py:446: UserWarning: Converting sparse IndexedSlices(IndexedSlices(indices=Tensor(\"gradients/cond_1_grad/gradients/grad_ys_0_indices:0\", shape=(None,), dtype=int32), values=Tensor(\"gradients/cond_1_grad/gradients/grad_ys_0_values:0\", shape=(None, 64), dtype=float32), dense_shape=Tensor(\"gradients/cond_1_grad/gradients/grad_ys_0_shape:0\", shape=(2,), dtype=int32))) to a dense Tensor of unknown shape. This may consume a large amount of memory.\n",
            "  \"shape. This may consume a large amount of memory.\" % value)\n",
            "/usr/local/lib/python3.7/dist-packages/tensorflow/python/framework/indexed_slices.py:446: UserWarning: Converting sparse IndexedSlices(IndexedSlices(indices=Tensor(\"gradients/cond_1_grad/Identity_1:0\", shape=(None,), dtype=int32), values=Tensor(\"gradients/cond_1_grad/Identity:0\", shape=(None, 64), dtype=float32), dense_shape=Tensor(\"gradients/cond_1_grad/Identity_2:0\", shape=(2,), dtype=int32))) to a dense Tensor of unknown shape. This may consume a large amount of memory.\n",
            "  \"shape. This may consume a large amount of memory.\" % value)\n",
            "/usr/local/lib/python3.7/dist-packages/tensorflow/python/framework/indexed_slices.py:446: UserWarning: Converting sparse IndexedSlices(IndexedSlices(indices=Tensor(\"gradients/rgat/embedding_lookup_grad/Reshape_1:0\", shape=(None,), dtype=int32), values=Tensor(\"gradients/rgat/embedding_lookup_grad/Reshape:0\", shape=(None, 64), dtype=float32), dense_shape=Tensor(\"gradients/rgat/embedding_lookup_grad/Cast:0\", shape=(2,), dtype=int32))) to a dense Tensor of unknown shape. This may consume a large amount of memory.\n",
            "  \"shape. This may consume a large amount of memory.\" % value)\n",
            "/usr/local/lib/python3.7/dist-packages/tensorflow/python/framework/indexed_slices.py:446: UserWarning: Converting sparse IndexedSlices(IndexedSlices(indices=Tensor(\"gradients/rgat/embedding_lookup_1_grad/Reshape_1:0\", shape=(None,), dtype=int32), values=Tensor(\"gradients/rgat/embedding_lookup_1_grad/Reshape:0\", shape=(None, 64), dtype=float32), dense_shape=Tensor(\"gradients/rgat/embedding_lookup_1_grad/Cast:0\", shape=(2,), dtype=int32))) to a dense Tensor of unknown shape. This may consume a large amount of memory.\n",
            "  \"shape. This may consume a large amount of memory.\" % value)\n"
          ]
        },
        {
          "output_type": "stream",
          "name": "stdout",
          "text": [
            "2530/2530 [==============================] - 101s 38ms/step - loss: 0.6234 - auc: 0.7132 - val_loss: 0.6165 - val_auc: 0.7382\n",
            "Epoch 2/50\n",
            "2530/2530 [==============================] - 93s 37ms/step - loss: 0.5936 - auc: 0.7526 - val_loss: 0.5698 - val_auc: 0.7822\n",
            "Epoch 3/50\n",
            "2530/2530 [==============================] - 95s 38ms/step - loss: 0.5672 - auc: 0.7813 - val_loss: 0.5586 - val_auc: 0.8036\n",
            "Epoch 4/50\n",
            "2530/2530 [==============================] - 94s 37ms/step - loss: 0.5460 - auc: 0.8016 - val_loss: 0.6143 - val_auc: 0.8054\n",
            "Epoch 5/50\n",
            "2530/2530 [==============================] - 95s 38ms/step - loss: 0.5308 - auc: 0.8146 - val_loss: 0.5178 - val_auc: 0.8303\n",
            "Epoch 6/50\n",
            "2530/2530 [==============================] - 95s 37ms/step - loss: 0.5165 - auc: 0.8262 - val_loss: 0.4914 - val_auc: 0.8476\n",
            "Epoch 7/50\n",
            "2530/2530 [==============================] - 94s 37ms/step - loss: 0.5071 - auc: 0.8341 - val_loss: 0.4933 - val_auc: 0.8454\n",
            "Epoch 8/50\n",
            "2530/2530 [==============================] - 96s 38ms/step - loss: 0.4986 - auc: 0.8402 - val_loss: 0.4864 - val_auc: 0.8546\n",
            "Epoch 9/50\n",
            "2530/2530 [==============================] - 96s 38ms/step - loss: 0.4971 - auc: 0.8415 - val_loss: 0.4716 - val_auc: 0.8590\n",
            "Epoch 10/50\n",
            "2530/2530 [==============================] - 96s 38ms/step - loss: 0.4948 - auc: 0.8432 - val_loss: 0.4808 - val_auc: 0.8565\n",
            "Epoch 11/50\n",
            "2530/2530 [==============================] - 97s 38ms/step - loss: 0.4893 - auc: 0.8472 - val_loss: 0.4823 - val_auc: 0.8574\n",
            "Epoch 12/50\n",
            "2530/2530 [==============================] - 94s 37ms/step - loss: 0.4894 - auc: 0.8468 - val_loss: 0.4733 - val_auc: 0.8614\n",
            "Epoch 13/50\n",
            "2530/2530 [==============================] - 95s 38ms/step - loss: 0.4870 - auc: 0.8489 - val_loss: 0.4961 - val_auc: 0.8488\n",
            "Epoch 14/50\n",
            "2530/2530 [==============================] - 97s 38ms/step - loss: 0.4908 - auc: 0.8457 - val_loss: 0.5004 - val_auc: 0.8489\n",
            "Epoch 15/50\n",
            "2530/2530 [==============================] - 96s 38ms/step - loss: 0.4936 - auc: 0.8439 - val_loss: 0.4867 - val_auc: 0.8513\n",
            "Epoch 16/50\n",
            "2530/2530 [==============================] - 94s 37ms/step - loss: 0.4954 - auc: 0.8418 - val_loss: 0.4910 - val_auc: 0.8487\n",
            "Epoch 17/50\n",
            "2530/2530 [==============================] - 97s 38ms/step - loss: 0.4976 - auc: 0.8413 - val_loss: 0.4994 - val_auc: 0.8452\n",
            "Epoch 18/50\n",
            "2530/2530 [==============================] - 95s 38ms/step - loss: 0.5103 - auc: 0.8321 - val_loss: 0.5035 - val_auc: 0.8404\n",
            "Epoch 19/50\n",
            "2530/2530 [==============================] - 94s 37ms/step - loss: 0.5073 - auc: 0.8329 - val_loss: 0.4863 - val_auc: 0.8547\n",
            "Epoch 20/50\n",
            "2530/2530 [==============================] - 96s 38ms/step - loss: 0.5154 - auc: 0.8281 - val_loss: 0.5032 - val_auc: 0.8387\n",
            "Epoch 21/50\n",
            "2530/2530 [==============================] - 95s 38ms/step - loss: 0.5282 - auc: 0.8176 - val_loss: 0.5449 - val_auc: 0.8133\n",
            "Epoch 22/50\n",
            "2530/2530 [==============================] - 95s 38ms/step - loss: 0.5382 - auc: 0.8094 - val_loss: 0.5477 - val_auc: 0.8152\n",
            "Epoch 23/50\n",
            "2530/2530 [==============================] - 94s 37ms/step - loss: 0.5349 - auc: 0.8120 - val_loss: 0.5183 - val_auc: 0.8341\n",
            "Epoch 24/50\n",
            "2530/2530 [==============================] - 94s 37ms/step - loss: 0.5261 - auc: 0.8197 - val_loss: 0.5209 - val_auc: 0.8275\n",
            "Epoch 25/50\n",
            "2530/2530 [==============================] - 94s 37ms/step - loss: 0.5324 - auc: 0.8133 - val_loss: 0.5351 - val_auc: 0.8181\n",
            "Epoch 26/50\n",
            "2530/2530 [==============================] - 95s 38ms/step - loss: 0.5310 - auc: 0.8140 - val_loss: 0.5353 - val_auc: 0.8174\n",
            "Epoch 27/50\n",
            "2530/2530 [==============================] - 95s 38ms/step - loss: 0.5389 - auc: 0.8080 - val_loss: 0.5535 - val_auc: 0.8023\n",
            "Epoch 28/50\n",
            "2530/2530 [==============================] - 94s 37ms/step - loss: 0.5322 - auc: 0.8144 - val_loss: 0.5249 - val_auc: 0.8227\n",
            "Epoch 29/50\n",
            "2530/2530 [==============================] - 95s 37ms/step - loss: 0.5459 - auc: 0.8030 - val_loss: 0.5252 - val_auc: 0.8255\n",
            "Epoch 30/50\n",
            "2530/2530 [==============================] - 95s 37ms/step - loss: 0.5400 - auc: 0.8094 - val_loss: 0.5331 - val_auc: 0.8204\n",
            "Epoch 31/50\n",
            "2530/2530 [==============================] - 96s 38ms/step - loss: 0.5331 - auc: 0.8156 - val_loss: 0.5282 - val_auc: 0.8274\n",
            "Epoch 32/50\n",
            "2530/2530 [==============================] - 95s 37ms/step - loss: 0.5290 - auc: 0.8178 - val_loss: 0.5244 - val_auc: 0.8251\n",
            "Epoch 33/50\n",
            "2530/2530 [==============================] - 96s 38ms/step - loss: 0.5343 - auc: 0.8140 - val_loss: 0.5254 - val_auc: 0.8238\n",
            "Epoch 34/50\n",
            "2530/2530 [==============================] - 95s 38ms/step - loss: 0.5377 - auc: 0.8112 - val_loss: 0.5318 - val_auc: 0.8209\n",
            "Epoch 35/50\n",
            "2530/2530 [==============================] - 95s 37ms/step - loss: 0.5320 - auc: 0.8152 - val_loss: 0.5230 - val_auc: 0.8293\n",
            "Epoch 36/50\n",
            "2530/2530 [==============================] - 96s 38ms/step - loss: 0.5369 - auc: 0.8130 - val_loss: 0.5239 - val_auc: 0.8250\n",
            "Epoch 37/50\n",
            "2530/2530 [==============================] - 95s 37ms/step - loss: 0.5363 - auc: 0.8133 - val_loss: 0.5284 - val_auc: 0.8281\n",
            "Epoch 38/50\n",
            "2530/2530 [==============================] - 95s 38ms/step - loss: 0.5250 - auc: 0.8220 - val_loss: 0.5255 - val_auc: 0.8342\n",
            "Epoch 39/50\n",
            "2530/2530 [==============================] - 96s 38ms/step - loss: 0.5264 - auc: 0.8210 - val_loss: 0.5206 - val_auc: 0.8284\n",
            "Epoch 40/50\n",
            "2530/2530 [==============================] - 96s 38ms/step - loss: 0.5298 - auc: 0.8186 - val_loss: 0.5291 - val_auc: 0.8293\n",
            "Epoch 41/50\n",
            "2530/2530 [==============================] - 95s 38ms/step - loss: 0.5353 - auc: 0.8135 - val_loss: 0.5381 - val_auc: 0.8163\n",
            "Epoch 42/50\n",
            "2530/2530 [==============================] - 95s 38ms/step - loss: 0.5335 - auc: 0.8161 - val_loss: 0.5223 - val_auc: 0.8240\n",
            "Epoch 43/50\n",
            "2530/2530 [==============================] - 96s 38ms/step - loss: 0.5317 - auc: 0.8176 - val_loss: 0.5455 - val_auc: 0.8186\n",
            "Epoch 44/50\n",
            "2530/2530 [==============================] - 95s 38ms/step - loss: 0.5319 - auc: 0.8182 - val_loss: 0.5191 - val_auc: 0.8300\n",
            "Epoch 45/50\n",
            "2530/2530 [==============================] - 96s 38ms/step - loss: 0.5303 - auc: 0.8190 - val_loss: 0.5276 - val_auc: 0.8291\n",
            "Epoch 46/50\n",
            "2530/2530 [==============================] - 96s 38ms/step - loss: 0.5318 - auc: 0.8182 - val_loss: 0.5284 - val_auc: 0.8246\n",
            "Epoch 47/50\n",
            "2530/2530 [==============================] - 95s 38ms/step - loss: 0.5367 - auc: 0.8142 - val_loss: 0.5436 - val_auc: 0.8123\n",
            "Epoch 48/50\n",
            "2530/2530 [==============================] - 95s 37ms/step - loss: 0.5342 - auc: 0.8164 - val_loss: 0.5352 - val_auc: 0.8209\n",
            "Epoch 49/50\n",
            "2530/2530 [==============================] - 96s 38ms/step - loss: 0.5305 - auc: 0.8197 - val_loss: 0.5222 - val_auc: 0.8277\n",
            "Epoch 50/50\n",
            "2530/2530 [==============================] - 95s 38ms/step - loss: 0.5278 - auc: 0.8214 - val_loss: 0.5455 - val_auc: 0.8230\n"
          ]
        }
      ]
    },
    {
      "cell_type": "code",
      "source": [
        "# predict function is used to enable us to predict the labels of the data values on the basis of the trained model.\n",
        "y_pred = model.predict(\n",
        "    gen_batch(testing_set, batch_size=16, shuffle=False)\n",
        ")\n",
        "# repahe to get the first col only\n",
        "y_pred = np.reshape(y_pred, -1)\n",
        "y_pred.shape"
      ],
      "metadata": {
        "colab": {
          "base_uri": "https://localhost:8080/"
        },
        "id": "1HlYEw4d3dS2",
        "outputId": "a194bd89-b69d-4d97-8555-db8e0a90bd79"
      },
      "execution_count": null,
      "outputs": [
        {
          "output_type": "execute_result",
          "data": {
            "text/plain": [
              "(12326,)"
            ]
          },
          "metadata": {},
          "execution_count": 61
        }
      ]
    },
    {
      "cell_type": "code",
      "source": [
        "y_pred"
      ],
      "metadata": {
        "colab": {
          "base_uri": "https://localhost:8080/"
        },
        "id": "YDQAqEOV3dS2",
        "outputId": "37f35469-2360-4fa4-d05e-6ed808322ed4"
      },
      "execution_count": null,
      "outputs": [
        {
          "output_type": "execute_result",
          "data": {
            "text/plain": [
              "array([0.9923234 , 0.76686823, 0.01889504, ..., 0.06489009, 0.4795255 ,\n",
              "       0.4683265 ], dtype=float32)"
            ]
          },
          "metadata": {},
          "execution_count": 62
        }
      ]
    },
    {
      "cell_type": "markdown",
      "source": [
        "#### Display model"
      ],
      "metadata": {
        "id": "gJ4w7keG3dS2"
      }
    },
    {
      "cell_type": "code",
      "source": [
        "# figure is used to create a new figure.\n",
        "plt.figure(figsize=(15, 8))\n",
        "plt.subplot(1, 2, 1)\n",
        "plt.plot(history.history['auc'])\n",
        "plt.plot(history.history['val_auc'])\n",
        "plt.title('model auc') # graph title\n",
        "plt.ylabel('Auc') # y axis lable\n",
        "plt.xlabel('epoch') # x axis lable\n",
        "plt.legend(['train', 'validation'], loc='upper left') # legend is an area describing the elements of the graph\n",
        "plt.show()\n",
        "plt.grid(True) # grid is the axis object's method toggles the visibility of the grid inside the figure.\n",
        "plt.subplot(1, 2, 1)\n",
        "plt.plot(history.history['loss'])\n",
        "plt.plot(history.history['val_loss'])\n",
        "plt.title('model loss')  # graph title\n",
        "plt.ylabel('loss') # y axis lable\n",
        "plt.xlabel('epoch')# x axis lable\n",
        "plt.legend(['train', 'validation'], loc='upper left')\n",
        "plt.show()"
      ],
      "metadata": {
        "colab": {
          "base_uri": "https://localhost:8080/",
          "height": 791
        },
        "id": "Yu-4gi733dS2",
        "outputId": "910b5df9-735c-454e-8cc0-2f0831f62a16"
      },
      "execution_count": null,
      "outputs": [
        {
          "output_type": "display_data",
          "data": {
            "text/plain": [
              "<Figure size 1080x576 with 1 Axes>"
            ],
            "image/png": "[encoded data removed]"
          },
          "metadata": {
            "needs_background": "light"
          }
        },
        {
          "output_type": "display_data",
          "data": {
            "text/plain": [
              "<Figure size 432x288 with 1 Axes>"
            ],
            "image/png": "[encoded data removed]"
          },
          "metadata": {
            "needs_background": "light"
          }
        }
      ]
    },
    {
      "cell_type": "code",
      "execution_count": null,
      "metadata": {
        "id": "EaRQudWj3dS3"
      },
      "outputs": [],
      "source": [
        "submission = pd.DataFrame({'label':y_pred})\n",
        "submission.index.name = 'id'\n",
        "submission.to_csv('/content/drive/MyDrive/Queens_Practical/Data_Mining/compt6/sample_submission.csv')"
      ]
    },
    {
      "cell_type": "markdown",
      "metadata": {
        "id": "Ctgzyyw83dS3"
      },
      "source": [
        "#### Result"
      ]
    },
    {
      "cell_type": "markdown",
      "metadata": {
        "id": "jOT2wSIF3dS3"
      },
      "source": [
        "Accuracy in **kaggle** =0.82560 \\\n",
        "From the diagram, overfitting is increased, so the accuracy is reduced. The previous trial was better than this trial."
      ]
    },
    {
      "cell_type": "markdown",
      "metadata": {
        "id": "tx1nhMOT0lDP"
      },
      "source": [
        "# **Questions**"
      ]
    },
    {
      "cell_type": "markdown",
      "metadata": {
        "id": "r06ocOEWwbD0"
      },
      "source": [
        "**Based on the provided template, describe the format of the input file (sdf file).** \\\n",
        "* SDF files contain the molecular structures in plain text that associate data with one or more chemical structures. It is used to chemically compose a molecule. It contains nodes and their positions, and edges that connect them, as well as samples separated by the specific number of dolar signs.\n",
        "\n",
        "* SDF consists of:-\n",
        "    1. Data Header\n",
        "     * Starts with the greater than character (>)\n",
        "     * contains title or number of sample\n",
        "    2. Data Value\n",
        "     * composed of zero or more lines terminated by a blank line\n",
        "    3. Grid Not Guaranteed\n",
        "    4. Character Encoding\n",
        "\n",
        "**What are the input tensors to the neural network model (their meaning, not just symbol)? What is each of their dims and their meaning (e.g. batch_size)?**\n",
        "* Nodes are a chemical compound that extracted and become as tokenize form by usong tokenizer then add padding to make all inputs have the same shape this by using pad_sequence function.\n",
        "* The dims of each batch equal batch_size*max_len (batch_size is the number of samples in each batch , max_len is the size of tokenized nodes after padding)\n",
        "\n",
        "**For each dim of gnn_out, what does it symbolize? For each dim of avg, what does it symbolize?**\n",
        "* gnn_out contains the size of the input data(nodes after embeding, edges, node2graph, and number of samples) and the aggregation mechanisms of the model.\n",
        "* AVG is an average layer that uses the segmented_mean function to get the mean of elements in segments of a tensor to represent one sample with one number for each hidden layer. It's a method of gathering information for each sample and presenting it as mean data.\n",
        "\n",
        "**What is the difference between segment_mean and tf.reduce_mean? For each dim of pred, what does it symbolize?**\n",
        "* **segment_mean** computes the mean along sparse segments of a tensor that have the same segment\n",
        "* **reduce_mean** computes the mean of elements across dimensions of a tensor.\n",
        "* **pred** is an output that contains whether or not a chemical compound is active against cancer cells \n",
        "\n",
        "**What is the motivation/theory/idea to use multiple gcn layers comparing to just one? How many layers were used in the template?**\n",
        "* When I use multiple gcn layers, the complexity of the model will increase, so the model will learn more from the input data to predict an output close to the right (percentage) output but When I use one layer,this means the model may not be learning well, so the model will predict wrong most of the time.\n",
        "* The number of layers that are used is 4.\n"
      ]
    }
  ],
  "metadata": {
    "accelerator": "GPU",
    "colab": {
      "collapsed_sections": [
        "xtuxWrmAvyuK",
        "7opYAnLnap5E",
        "inwm5qPoGMGh",
        "2ZDj6MYdbJE8",
        "Bb_qivE95Wxv",
        "UIHffZYY5aOD",
        "gBKM7B8LDl4R",
        "WfzDqPRcDtty",
        "FUNKxyseA-_E",
        "mw3_7Ecz5tYd",
        "edV88wMVsGJ1",
        "csmlO-3Q-lX0",
        "KxIitTgcExHk",
        "oP0wLr6dExHk",
        "gPg5HFdaExHl",
        "LnpI_qKwExHn",
        "rdzsciSyExHn",
        "HQWAhvWOGI4S",
        "xJan5PE0GI4T",
        "GnoDysaMGI4U",
        "n0qrGiqAGI4V",
        "Xk0RaOmhGI4V",
        "OJ7s-t3qV2Et",
        "z_QeV2Z9V2Eu",
        "D7YE8lELV2Ev",
        "hz1CL9-iV2Ew",
        "6a555-0xV2Ew",
        "nUrlCPxFkvP0",
        "wJWJZSZjkvP0",
        "ffo9hsP7kvP1",
        "ywhN51JUkvP2",
        "2dJQqeAmkvP2",
        "-zUiFz3_wyQd",
        "9z8udHYJwyQe",
        "iIyXZPIewyQf",
        "xWBzRWyzwyQg",
        "EcnJ7altwyQg",
        "xmlhYR5M_jkH",
        "8GSJ6EXm_jkI",
        "p88zAWB__jkJ",
        "sH_Db6f__jkK",
        "mysYm2fu_jkK",
        "4d69DiFVYnXH",
        "G-yzef2TYnXI",
        "l0R0aTR4YnXJ",
        "T1mujlg5YnXL",
        "as711xJLYnXN",
        "7ilTylzkqfBq",
        "mf18IoiFqfBr",
        "qcbymJByqfBs",
        "H7oIudF9qfBu",
        "XEVLOFrwqfBv",
        "CWhSiyDs3dS0",
        "zvtV-MeD3dS1",
        "vhHs5TR23dS1",
        "gJ4w7keG3dS2",
        "Ctgzyyw83dS3",
        "tx1nhMOT0lDP"
      ],
      "provenance": []
    },
    "kernelspec": {
      "display_name": "Python 3",
      "name": "python3"
    },
    "language_info": {
      "name": "python"
    },
    "widgets": {
      "application/vnd.jupyter.widget-state+json": {
        "dec3dcf128ac4831bbfbdfabdbdbf82c": {
          "model_module": "@jupyter-widgets/controls",
          "model_name": "HBoxModel",
          "model_module_version": "1.5.0",
          "state": {
            "_dom_classes": [],
            "_model_module": "@jupyter-widgets/controls",
            "_model_module_version": "1.5.0",
            "_model_name": "HBoxModel",
            "_view_count": null,
            "_view_module": "@jupyter-widgets/controls",
            "_view_module_version": "1.5.0",
            "_view_name": "HBoxView",
            "box_style": "",
            "children": [
              "IPY_MODEL_38b3aa1ec9f94641920736a5b9705f8a",
              "IPY_MODEL_4d6e73efdbbd4ca18dd47ac53336422f",
              "IPY_MODEL_74dce70b7c464cc3b517a2264e3b2412"
            ],
            "layout": "IPY_MODEL_91d9c7820d86466babb2a1415a7a2295"
          }
        },
        "38b3aa1ec9f94641920736a5b9705f8a": {
          "model_module": "@jupyter-widgets/controls",
          "model_name": "HTMLModel",
          "model_module_version": "1.5.0",
          "state": {
            "_dom_classes": [],
            "_model_module": "@jupyter-widgets/controls",
            "_model_module_version": "1.5.0",
            "_model_name": "HTMLModel",
            "_view_count": null,
            "_view_module": "@jupyter-widgets/controls",
            "_view_module_version": "1.5.0",
            "_view_name": "HTMLView",
            "description": "",
            "description_tooltip": null,
            "layout": "IPY_MODEL_2f2ffa045e1743988686ab84c16eeb42",
            "placeholder": "​",
            "style": "IPY_MODEL_f6eeda6e03c748599f357159afb7eb46",
            "value": "100%"
          }
        },
        "4d6e73efdbbd4ca18dd47ac53336422f": {
          "model_module": "@jupyter-widgets/controls",
          "model_name": "FloatProgressModel",
          "model_module_version": "1.5.0",
          "state": {
            "_dom_classes": [],
            "_model_module": "@jupyter-widgets/controls",
            "_model_module_version": "1.5.0",
            "_model_name": "FloatProgressModel",
            "_view_count": null,
            "_view_module": "@jupyter-widgets/controls",
            "_view_module_version": "1.5.0",
            "_view_name": "ProgressView",
            "bar_style": "success",
            "description": "",
            "description_tooltip": null,
            "layout": "IPY_MODEL_93a184a4f0b24058a8492f8aa7651550",
            "max": 25024,
            "min": 0,
            "orientation": "horizontal",
            "style": "IPY_MODEL_696a101e41ed46c6a55c4a3f74110200",
            "value": 25024
          }
        },
        "74dce70b7c464cc3b517a2264e3b2412": {
          "model_module": "@jupyter-widgets/controls",
          "model_name": "HTMLModel",
          "model_module_version": "1.5.0",
          "state": {
            "_dom_classes": [],
            "_model_module": "@jupyter-widgets/controls",
            "_model_module_version": "1.5.0",
            "_model_name": "HTMLModel",
            "_view_count": null,
            "_view_module": "@jupyter-widgets/controls",
            "_view_module_version": "1.5.0",
            "_view_name": "HTMLView",
            "description": "",
            "description_tooltip": null,
            "layout": "IPY_MODEL_22e374c20a77444381d6798f9ad09b3b",
            "placeholder": "​",
            "style": "IPY_MODEL_04a3a03d591e4df68bf507b6f2e4e72f",
            "value": " 25024/25024 [00:03&lt;00:00, 8415.55it/s]"
          }
        },
        "91d9c7820d86466babb2a1415a7a2295": {
          "model_module": "@jupyter-widgets/base",
          "model_name": "LayoutModel",
          "model_module_version": "1.2.0",
          "state": {
            "_model_module": "@jupyter-widgets/base",
            "_model_module_version": "1.2.0",
            "_model_name": "LayoutModel",
            "_view_count": null,
            "_view_module": "@jupyter-widgets/base",
            "_view_module_version": "1.2.0",
            "_view_name": "LayoutView",
            "align_content": null,
            "align_items": null,
            "align_self": null,
            "border": null,
            "bottom": null,
            "display": null,
            "flex": null,
            "flex_flow": null,
            "grid_area": null,
            "grid_auto_columns": null,
            "grid_auto_flow": null,
            "grid_auto_rows": null,
            "grid_column": null,
            "grid_gap": null,
            "grid_row": null,
            "grid_template_areas": null,
            "grid_template_columns": null,
            "grid_template_rows": null,
            "height": null,
            "justify_content": null,
            "justify_items": null,
            "left": null,
            "margin": null,
            "max_height": null,
            "max_width": null,
            "min_height": null,
            "min_width": null,
            "object_fit": null,
            "object_position": null,
            "order": null,
            "overflow": null,
            "overflow_x": null,
            "overflow_y": null,
            "padding": null,
            "right": null,
            "top": null,
            "visibility": null,
            "width": null
          }
        },
        "2f2ffa045e1743988686ab84c16eeb42": {
          "model_module": "@jupyter-widgets/base",
          "model_name": "LayoutModel",
          "model_module_version": "1.2.0",
          "state": {
            "_model_module": "@jupyter-widgets/base",
            "_model_module_version": "1.2.0",
            "_model_name": "LayoutModel",
            "_view_count": null,
            "_view_module": "@jupyter-widgets/base",
            "_view_module_version": "1.2.0",
            "_view_name": "LayoutView",
            "align_content": null,
            "align_items": null,
            "align_self": null,
            "border": null,
            "bottom": null,
            "display": null,
            "flex": null,
            "flex_flow": null,
            "grid_area": null,
            "grid_auto_columns": null,
            "grid_auto_flow": null,
            "grid_auto_rows": null,
            "grid_column": null,
            "grid_gap": null,
            "grid_row": null,
            "grid_template_areas": null,
            "grid_template_columns": null,
            "grid_template_rows": null,
            "height": null,
            "justify_content": null,
            "justify_items": null,
            "left": null,
            "margin": null,
            "max_height": null,
            "max_width": null,
            "min_height": null,
            "min_width": null,
            "object_fit": null,
            "object_position": null,
            "order": null,
            "overflow": null,
            "overflow_x": null,
            "overflow_y": null,
            "padding": null,
            "right": null,
            "top": null,
            "visibility": null,
            "width": null
          }
        },
        "f6eeda6e03c748599f357159afb7eb46": {
          "model_module": "@jupyter-widgets/controls",
          "model_name": "DescriptionStyleModel",
          "model_module_version": "1.5.0",
          "state": {
            "_model_module": "@jupyter-widgets/controls",
            "_model_module_version": "1.5.0",
            "_model_name": "DescriptionStyleModel",
            "_view_count": null,
            "_view_module": "@jupyter-widgets/base",
            "_view_module_version": "1.2.0",
            "_view_name": "StyleView",
            "description_width": ""
          }
        },
        "93a184a4f0b24058a8492f8aa7651550": {
          "model_module": "@jupyter-widgets/base",
          "model_name": "LayoutModel",
          "model_module_version": "1.2.0",
          "state": {
            "_model_module": "@jupyter-widgets/base",
            "_model_module_version": "1.2.0",
            "_model_name": "LayoutModel",
            "_view_count": null,
            "_view_module": "@jupyter-widgets/base",
            "_view_module_version": "1.2.0",
            "_view_name": "LayoutView",
            "align_content": null,
            "align_items": null,
            "align_self": null,
            "border": null,
            "bottom": null,
            "display": null,
            "flex": null,
            "flex_flow": null,
            "grid_area": null,
            "grid_auto_columns": null,
            "grid_auto_flow": null,
            "grid_auto_rows": null,
            "grid_column": null,
            "grid_gap": null,
            "grid_row": null,
            "grid_template_areas": null,
            "grid_template_columns": null,
            "grid_template_rows": null,
            "height": null,
            "justify_content": null,
            "justify_items": null,
            "left": null,
            "margin": null,
            "max_height": null,
            "max_width": null,
            "min_height": null,
            "min_width": null,
            "object_fit": null,
            "object_position": null,
            "order": null,
            "overflow": null,
            "overflow_x": null,
            "overflow_y": null,
            "padding": null,
            "right": null,
            "top": null,
            "visibility": null,
            "width": null
          }
        },
        "696a101e41ed46c6a55c4a3f74110200": {
          "model_module": "@jupyter-widgets/controls",
          "model_name": "ProgressStyleModel",
          "model_module_version": "1.5.0",
          "state": {
            "_model_module": "@jupyter-widgets/controls",
            "_model_module_version": "1.5.0",
            "_model_name": "ProgressStyleModel",
            "_view_count": null,
            "_view_module": "@jupyter-widgets/base",
            "_view_module_version": "1.2.0",
            "_view_name": "StyleView",
            "bar_color": null,
            "description_width": ""
          }
        },
        "22e374c20a77444381d6798f9ad09b3b": {
          "model_module": "@jupyter-widgets/base",
          "model_name": "LayoutModel",
          "model_module_version": "1.2.0",
          "state": {
            "_model_module": "@jupyter-widgets/base",
            "_model_module_version": "1.2.0",
            "_model_name": "LayoutModel",
            "_view_count": null,
            "_view_module": "@jupyter-widgets/base",
            "_view_module_version": "1.2.0",
            "_view_name": "LayoutView",
            "align_content": null,
            "align_items": null,
            "align_self": null,
            "border": null,
            "bottom": null,
            "display": null,
            "flex": null,
            "flex_flow": null,
            "grid_area": null,
            "grid_auto_columns": null,
            "grid_auto_flow": null,
            "grid_auto_rows": null,
            "grid_column": null,
            "grid_gap": null,
            "grid_row": null,
            "grid_template_areas": null,
            "grid_template_columns": null,
            "grid_template_rows": null,
            "height": null,
            "justify_content": null,
            "justify_items": null,
            "left": null,
            "margin": null,
            "max_height": null,
            "max_width": null,
            "min_height": null,
            "min_width": null,
            "object_fit": null,
            "object_position": null,
            "order": null,
            "overflow": null,
            "overflow_x": null,
            "overflow_y": null,
            "padding": null,
            "right": null,
            "top": null,
            "visibility": null,
            "width": null
          }
        },
        "04a3a03d591e4df68bf507b6f2e4e72f": {
          "model_module": "@jupyter-widgets/controls",
          "model_name": "DescriptionStyleModel",
          "model_module_version": "1.5.0",
          "state": {
            "_model_module": "@jupyter-widgets/controls",
            "_model_module_version": "1.5.0",
            "_model_name": "DescriptionStyleModel",
            "_view_count": null,
            "_view_module": "@jupyter-widgets/base",
            "_view_module_version": "1.2.0",
            "_view_name": "StyleView",
            "description_width": ""
          }
        },
        "0b2e9c9a4e014b3cbc32892dbe58c145": {
          "model_module": "@jupyter-widgets/controls",
          "model_name": "HBoxModel",
          "model_module_version": "1.5.0",
          "state": {
            "_dom_classes": [],
            "_model_module": "@jupyter-widgets/controls",
            "_model_module_version": "1.5.0",
            "_model_name": "HBoxModel",
            "_view_count": null,
            "_view_module": "@jupyter-widgets/controls",
            "_view_module_version": "1.5.0",
            "_view_name": "HBoxView",
            "box_style": "",
            "children": [
              "IPY_MODEL_3621d3e098b6491eb0d87bb00c6e994d",
              "IPY_MODEL_9704f013a22d443cbcb56f8809591499",
              "IPY_MODEL_4632a8ba6da5468c9f27ce8f09198124"
            ],
            "layout": "IPY_MODEL_054f170a98a24827949aafab07a65d50"
          }
        },
        "3621d3e098b6491eb0d87bb00c6e994d": {
          "model_module": "@jupyter-widgets/controls",
          "model_name": "HTMLModel",
          "model_module_version": "1.5.0",
          "state": {
            "_dom_classes": [],
            "_model_module": "@jupyter-widgets/controls",
            "_model_module_version": "1.5.0",
            "_model_name": "HTMLModel",
            "_view_count": null,
            "_view_module": "@jupyter-widgets/controls",
            "_view_module_version": "1.5.0",
            "_view_name": "HTMLView",
            "description": "",
            "description_tooltip": null,
            "layout": "IPY_MODEL_a5b30f59c5de4ee1be2d018775a5a063",
            "placeholder": "​",
            "style": "IPY_MODEL_037853dd158b439e937b931438178337",
            "value": "100%"
          }
        },
        "9704f013a22d443cbcb56f8809591499": {
          "model_module": "@jupyter-widgets/controls",
          "model_name": "FloatProgressModel",
          "model_module_version": "1.5.0",
          "state": {
            "_dom_classes": [],
            "_model_module": "@jupyter-widgets/controls",
            "_model_module_version": "1.5.0",
            "_model_name": "FloatProgressModel",
            "_view_count": null,
            "_view_module": "@jupyter-widgets/controls",
            "_view_module_version": "1.5.0",
            "_view_name": "ProgressView",
            "bar_style": "success",
            "description": "",
            "description_tooltip": null,
            "layout": "IPY_MODEL_2025533d7306455bb4e00e8b5f6f16a7",
            "max": 12326,
            "min": 0,
            "orientation": "horizontal",
            "style": "IPY_MODEL_f34655e3b4d341aa9b435502b457451d",
            "value": 12326
          }
        },
        "4632a8ba6da5468c9f27ce8f09198124": {
          "model_module": "@jupyter-widgets/controls",
          "model_name": "HTMLModel",
          "model_module_version": "1.5.0",
          "state": {
            "_dom_classes": [],
            "_model_module": "@jupyter-widgets/controls",
            "_model_module_version": "1.5.0",
            "_model_name": "HTMLModel",
            "_view_count": null,
            "_view_module": "@jupyter-widgets/controls",
            "_view_module_version": "1.5.0",
            "_view_name": "HTMLView",
            "description": "",
            "description_tooltip": null,
            "layout": "IPY_MODEL_7b54709e3e5948ef917971161c9c0dc1",
            "placeholder": "​",
            "style": "IPY_MODEL_5aa8751c45134214bef465ce36c2b8d9",
            "value": " 12326/12326 [00:01&lt;00:00, 8311.35it/s]"
          }
        },
        "054f170a98a24827949aafab07a65d50": {
          "model_module": "@jupyter-widgets/base",
          "model_name": "LayoutModel",
          "model_module_version": "1.2.0",
          "state": {
            "_model_module": "@jupyter-widgets/base",
            "_model_module_version": "1.2.0",
            "_model_name": "LayoutModel",
            "_view_count": null,
            "_view_module": "@jupyter-widgets/base",
            "_view_module_version": "1.2.0",
            "_view_name": "LayoutView",
            "align_content": null,
            "align_items": null,
            "align_self": null,
            "border": null,
            "bottom": null,
            "display": null,
            "flex": null,
            "flex_flow": null,
            "grid_area": null,
            "grid_auto_columns": null,
            "grid_auto_flow": null,
            "grid_auto_rows": null,
            "grid_column": null,
            "grid_gap": null,
            "grid_row": null,
            "grid_template_areas": null,
            "grid_template_columns": null,
            "grid_template_rows": null,
            "height": null,
            "justify_content": null,
            "justify_items": null,
            "left": null,
            "margin": null,
            "max_height": null,
            "max_width": null,
            "min_height": null,
            "min_width": null,
            "object_fit": null,
            "object_position": null,
            "order": null,
            "overflow": null,
            "overflow_x": null,
            "overflow_y": null,
            "padding": null,
            "right": null,
            "top": null,
            "visibility": null,
            "width": null
          }
        },
        "a5b30f59c5de4ee1be2d018775a5a063": {
          "model_module": "@jupyter-widgets/base",
          "model_name": "LayoutModel",
          "model_module_version": "1.2.0",
          "state": {
            "_model_module": "@jupyter-widgets/base",
            "_model_module_version": "1.2.0",
            "_model_name": "LayoutModel",
            "_view_count": null,
            "_view_module": "@jupyter-widgets/base",
            "_view_module_version": "1.2.0",
            "_view_name": "LayoutView",
            "align_content": null,
            "align_items": null,
            "align_self": null,
            "border": null,
            "bottom": null,
            "display": null,
            "flex": null,
            "flex_flow": null,
            "grid_area": null,
            "grid_auto_columns": null,
            "grid_auto_flow": null,
            "grid_auto_rows": null,
            "grid_column": null,
            "grid_gap": null,
            "grid_row": null,
            "grid_template_areas": null,
            "grid_template_columns": null,
            "grid_template_rows": null,
            "height": null,
            "justify_content": null,
            "justify_items": null,
            "left": null,
            "margin": null,
            "max_height": null,
            "max_width": null,
            "min_height": null,
            "min_width": null,
            "object_fit": null,
            "object_position": null,
            "order": null,
            "overflow": null,
            "overflow_x": null,
            "overflow_y": null,
            "padding": null,
            "right": null,
            "top": null,
            "visibility": null,
            "width": null
          }
        },
        "037853dd158b439e937b931438178337": {
          "model_module": "@jupyter-widgets/controls",
          "model_name": "DescriptionStyleModel",
          "model_module_version": "1.5.0",
          "state": {
            "_model_module": "@jupyter-widgets/controls",
            "_model_module_version": "1.5.0",
            "_model_name": "DescriptionStyleModel",
            "_view_count": null,
            "_view_module": "@jupyter-widgets/base",
            "_view_module_version": "1.2.0",
            "_view_name": "StyleView",
            "description_width": ""
          }
        },
        "2025533d7306455bb4e00e8b5f6f16a7": {
          "model_module": "@jupyter-widgets/base",
          "model_name": "LayoutModel",
          "model_module_version": "1.2.0",
          "state": {
            "_model_module": "@jupyter-widgets/base",
            "_model_module_version": "1.2.0",
            "_model_name": "LayoutModel",
            "_view_count": null,
            "_view_module": "@jupyter-widgets/base",
            "_view_module_version": "1.2.0",
            "_view_name": "LayoutView",
            "align_content": null,
            "align_items": null,
            "align_self": null,
            "border": null,
            "bottom": null,
            "display": null,
            "flex": null,
            "flex_flow": null,
            "grid_area": null,
            "grid_auto_columns": null,
            "grid_auto_flow": null,
            "grid_auto_rows": null,
            "grid_column": null,
            "grid_gap": null,
            "grid_row": null,
            "grid_template_areas": null,
            "grid_template_columns": null,
            "grid_template_rows": null,
            "height": null,
            "justify_content": null,
            "justify_items": null,
            "left": null,
            "margin": null,
            "max_height": null,
            "max_width": null,
            "min_height": null,
            "min_width": null,
            "object_fit": null,
            "object_position": null,
            "order": null,
            "overflow": null,
            "overflow_x": null,
            "overflow_y": null,
            "padding": null,
            "right": null,
            "top": null,
            "visibility": null,
            "width": null
          }
        },
        "f34655e3b4d341aa9b435502b457451d": {
          "model_module": "@jupyter-widgets/controls",
          "model_name": "ProgressStyleModel",
          "model_module_version": "1.5.0",
          "state": {
            "_model_module": "@jupyter-widgets/controls",
            "_model_module_version": "1.5.0",
            "_model_name": "ProgressStyleModel",
            "_view_count": null,
            "_view_module": "@jupyter-widgets/base",
            "_view_module_version": "1.2.0",
            "_view_name": "StyleView",
            "bar_color": null,
            "description_width": ""
          }
        },
        "7b54709e3e5948ef917971161c9c0dc1": {
          "model_module": "@jupyter-widgets/base",
          "model_name": "LayoutModel",
          "model_module_version": "1.2.0",
          "state": {
            "_model_module": "@jupyter-widgets/base",
            "_model_module_version": "1.2.0",
            "_model_name": "LayoutModel",
            "_view_count": null,
            "_view_module": "@jupyter-widgets/base",
            "_view_module_version": "1.2.0",
            "_view_name": "LayoutView",
            "align_content": null,
            "align_items": null,
            "align_self": null,
            "border": null,
            "bottom": null,
            "display": null,
            "flex": null,
            "flex_flow": null,
            "grid_area": null,
            "grid_auto_columns": null,
            "grid_auto_flow": null,
            "grid_auto_rows": null,
            "grid_column": null,
            "grid_gap": null,
            "grid_row": null,
            "grid_template_areas": null,
            "grid_template_columns": null,
            "grid_template_rows": null,
            "height": null,
            "justify_content": null,
            "justify_items": null,
            "left": null,
            "margin": null,
            "max_height": null,
            "max_width": null,
            "min_height": null,
            "min_width": null,
            "object_fit": null,
            "object_position": null,
            "order": null,
            "overflow": null,
            "overflow_x": null,
            "overflow_y": null,
            "padding": null,
            "right": null,
            "top": null,
            "visibility": null,
            "width": null
          }
        },
        "5aa8751c45134214bef465ce36c2b8d9": {
          "model_module": "@jupyter-widgets/controls",
          "model_name": "DescriptionStyleModel",
          "model_module_version": "1.5.0",
          "state": {
            "_model_module": "@jupyter-widgets/controls",
            "_model_module_version": "1.5.0",
            "_model_name": "DescriptionStyleModel",
            "_view_count": null,
            "_view_module": "@jupyter-widgets/base",
            "_view_module_version": "1.2.0",
            "_view_name": "StyleView",
            "description_width": ""
          }
        }
      }
    }
  },
  "nbformat": 4,
  "nbformat_minor": 0
}